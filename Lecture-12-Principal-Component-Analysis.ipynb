{
 "metadata": {
  "name": ""
 },
 "nbformat": 3,
 "nbformat_minor": 0,
 "worksheets": [
  {
   "cells": [
    {
     "cell_type": "code",
     "collapsed": false,
     "input": [
      "import numpy as np\n",
      "import matplotlib.pyplot as plt\n",
      "import pandas as pd\n",
      "import matplotlib\n",
      "%matplotlib inline\n",
      "matplotlib.rcParams['figure.figsize'] = (8, 6) # set default figure size, 8in by 6in"
     ],
     "language": "python",
     "metadata": {},
     "outputs": [],
     "prompt_number": 1
    },
    {
     "cell_type": "markdown",
     "metadata": {},
     "source": [
      "In this module, we introduce Principal Components Analysis, and show how it can be used for data compression to speed up learning algorithms as well as for visualizations of complex datasets."
     ]
    },
    {
     "cell_type": "markdown",
     "metadata": {},
     "source": [
      "# Video W8 06: Motivation I Data Compression\n",
      "\n",
      "[YouTube Video Link](https://www.youtube.com/watch?v=h8ri2gbBjIc&index=82&list=PLZ9qNFMHZ-A4rycgrgOYma6zxF4BZGGPW)\n"
     ]
    },
    {
     "cell_type": "markdown",
     "metadata": {},
     "source": [
      "# Video W8 07: Motivation II Data Visualization\n",
      "\n",
      "[YouTube Video Link](https://www.youtube.com/watch?v=18xeFJZAdMw&index=83&list=PLZ9qNFMHZ-A4rycgrgOYma6zxF4BZGGPW)\n"
     ]
    },
    {
     "cell_type": "markdown",
     "metadata": {},
     "source": [
      "# Video W8 08: Principal Component Analysis\n",
      "\n",
      "[YouTube Video Link](https://www.youtube.com/watch?v=aSl7tPE1Pyo&list=PLZ9qNFMHZ-A4rycgrgOYma6zxF4BZGGPW&index=84)\n"
     ]
    },
    {
     "cell_type": "markdown",
     "metadata": {},
     "source": [
      "# Video W8 09: Principal Component Analysis Algorithm\n",
      "\n",
      "[YouTube Video Link](https://www.youtube.com/watch?v=G7HJWzjQNSQ&list=PLZ9qNFMHZ-A4rycgrgOYma6zxF4BZGGPW&index=85)\n"
     ]
    },
    {
     "cell_type": "markdown",
     "metadata": {},
     "source": [
      "# Video W8 10: Choosing the Number of Principal Components\n",
      "\n",
      "[YouTube Video Link](https://www.youtube.com/watch?v=qqK-8HZjwTo&index=86&list=PLZ9qNFMHZ-A4rycgrgOYma6zxF4BZGGPW)\n"
     ]
    },
    {
     "cell_type": "markdown",
     "metadata": {},
     "source": [
      "# Video W8 11: Reconstruction from Compressed Representation\n",
      "\n",
      "[YouTube Video Link](https://www.youtube.com/watch?v=ATeoRX1GKVE&list=PLZ9qNFMHZ-A4rycgrgOYma6zxF4BZGGPW&index=87)\n"
     ]
    },
    {
     "cell_type": "markdown",
     "metadata": {},
     "source": [
      "# Video W8 12: Advice for Applying PCA\n",
      "\n",
      "[YouTube Video Link](https://www.youtube.com/watch?v=QitS8I_Thd8&index=88&list=PLZ9qNFMHZ-A4rycgrgOYma6zxF4BZGGPW)\n"
     ]
    }
   ],
   "metadata": {}
  }
 ]
}