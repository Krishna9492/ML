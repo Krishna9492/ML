{
 "metadata": {
  "name": ""
 },
 "nbformat": 3,
 "nbformat_minor": 0,
 "worksheets": [
  {
   "cells": [
    {
     "cell_type": "markdown",
     "metadata": {},
     "source": [
      "**Please fill these in before submitting, just in case I accidentally mix up file names while grading**:\n",
      "\n",
      "Name: Joe Student\n",
      "\n",
      "CWID-5: (Last 5 digits of cwid)"
     ]
    },
    {
     "cell_type": "code",
     "collapsed": false,
     "input": [
      "import numpy as np\n",
      "import matplotlib.pyplot as plt\n",
      "import pandas as pd"
     ],
     "language": "python",
     "metadata": {},
     "outputs": [],
     "prompt_number": 4
    },
    {
     "cell_type": "markdown",
     "metadata": {},
     "source": [
      "Assignment 02 - Regression and Classification\n",
      "----------------------------\n",
      "\n",
      "**Due: Wednesday 10/03/2014**\n",
      "\n",
      "I have given 2 practice problems.  The first is a data set that you are to perform a linear regression on, and give me your analysis.  The second asks you to perform a classification on a data set with labeled classes.  As with previous assignment, where required make sure you use function names exactly as the assignment specifies, that take the indicated input parameters and calculate given results.  Also, please fill in your work in the indicated cells, and return this notebook file as your submission for the assignment."
     ]
    },
    {
     "cell_type": "markdown",
     "metadata": {},
     "source": [
      "**Exercise 1: Linear Regression**\n",
      "\n",
      "The following are a set of results from a simulation I just performed.  The p parameter varies from 0.0 to 1.0, and measures the amount of noise (the probability of randomness p) in the experiments.  This is the input paramater, or the independent variable.  The S parameter measures the amount of synchronization recorded."
     ]
    },
    {
     "cell_type": "code",
     "collapsed": false,
     "input": [
      "!head data/assg02-data.csv"
     ],
     "language": "python",
     "metadata": {},
     "outputs": [
      {
       "output_type": "stream",
       "stream": "stdout",
       "text": [
        "p,S\r\n",
        "0.000000000000000000e+00,4.143073301375311823e-01\r\n",
        "2.040816326530614511e-02,7.709533094523900454e-01\r\n",
        "4.081632653061229021e-02,1.951173202088236358e-01\r\n",
        "6.122448979591832430e-02,4.848798199726077618e-01\r\n",
        "8.163265306122446940e-02,8.061921841170295311e-01\r\n",
        "1.020408163265306145e-01,4.355556089934315978e-01\r\n",
        "1.224489795918367596e-01,1.055082786467892442e+00\r\n",
        "1.428571428571429047e-01,4.473409903161644774e-01\r\n",
        "1.632653061224490498e-01,1.930689983382695818e+00\r\n"
       ]
      }
     ],
     "prompt_number": 5
    },
    {
     "cell_type": "code",
     "collapsed": false,
     "input": [
      "data = pd.read_csv('data/assg02-data.csv')\n",
      "data.describe()"
     ],
     "language": "python",
     "metadata": {},
     "outputs": [
      {
       "html": [
        "<div style=\"max-height:1000px;max-width:1500px;overflow:auto;\">\n",
        "<table border=\"1\" class=\"dataframe\">\n",
        "  <thead>\n",
        "    <tr style=\"text-align: right;\">\n",
        "      <th></th>\n",
        "      <th>p</th>\n",
        "      <th>S</th>\n",
        "    </tr>\n",
        "  </thead>\n",
        "  <tbody>\n",
        "    <tr>\n",
        "      <th>count</th>\n",
        "      <td> 50.000000</td>\n",
        "      <td> 50.000000</td>\n",
        "    </tr>\n",
        "    <tr>\n",
        "      <th>mean</th>\n",
        "      <td>  0.500000</td>\n",
        "      <td> 13.984020</td>\n",
        "    </tr>\n",
        "    <tr>\n",
        "      <th>std</th>\n",
        "      <td>  0.297498</td>\n",
        "      <td> 12.259455</td>\n",
        "    </tr>\n",
        "    <tr>\n",
        "      <th>min</th>\n",
        "      <td>  0.000000</td>\n",
        "      <td>  0.195117</td>\n",
        "    </tr>\n",
        "    <tr>\n",
        "      <th>25%</th>\n",
        "      <td>  0.250000</td>\n",
        "      <td>  1.056516</td>\n",
        "    </tr>\n",
        "    <tr>\n",
        "      <th>50%</th>\n",
        "      <td>  0.500000</td>\n",
        "      <td> 13.399237</td>\n",
        "    </tr>\n",
        "    <tr>\n",
        "      <th>75%</th>\n",
        "      <td>  0.750000</td>\n",
        "      <td> 24.655096</td>\n",
        "    </tr>\n",
        "    <tr>\n",
        "      <th>max</th>\n",
        "      <td>  1.000000</td>\n",
        "      <td> 42.000000</td>\n",
        "    </tr>\n",
        "  </tbody>\n",
        "</table>\n",
        "</div>"
       ],
       "metadata": {},
       "output_type": "pyout",
       "prompt_number": 6,
       "text": [
        "               p          S\n",
        "count  50.000000  50.000000\n",
        "mean    0.500000  13.984020\n",
        "std     0.297498  12.259455\n",
        "min     0.000000   0.195117\n",
        "25%     0.250000   1.056516\n",
        "50%     0.500000  13.399237\n",
        "75%     0.750000  24.655096\n",
        "max     1.000000  42.000000"
       ]
      }
     ],
     "prompt_number": 6
    },
    {
     "cell_type": "markdown",
     "metadata": {},
     "source": [
      "Task 1: Plot the data with S as a function of p (p is the x axis, normally where the independent variable is plotted, and S is the y axis value, the dependent measure).  Please label the x and y axis appropriately.  Please use markers rather than a line to plot the data points, as a line will be messy and obscure the noise in the data.  Do you think this data looks linear?\n",
      "\n",
      "Please place your code in the following cell:"
     ]
    },
    {
     "cell_type": "code",
     "collapsed": false,
     "input": [],
     "language": "python",
     "metadata": {},
     "outputs": [],
     "prompt_number": 6
    },
    {
     "cell_type": "markdown",
     "metadata": {},
     "source": [
      "Fit a linear regression model to the data using the sklearn library.  Print out the slope, intercept and $R^2$ value of your fitted model.\n",
      "\n",
      "HINT: since I loaded this as a pandas data frame, you can get the p and S columns as vectors, e.g. data.p and data.S, but sklearn will require that the independent measure be passed as an Nx1 column array, so you will need to reshape p appropriately to satisfy the sklearn fit function.  See our lecture notebook for an example.\n",
      "\n",
      "Place your code in the following cell, don't forget to explicitly print out the slope, intercept and $R^2$ score:"
     ]
    },
    {
     "cell_type": "code",
     "collapsed": false,
     "input": [],
     "language": "python",
     "metadata": {},
     "outputs": [],
     "prompt_number": 6
    },
    {
     "cell_type": "markdown",
     "metadata": {},
     "source": [
      "Now redraw your plot of the data points as previously, but add the regression line to the plot.  Please don't use the polyfit method, as I did in my Lecture 3 notebook.  I forgot to show an example of using the sklearn regression model to plot a line to the data.  But the method is the same as plotting the hyperplane, only easier.  You need an array of example p values, from the minimum p (which was 0.0) to the maximum p (which was  0.1), or you can simply reuse the actual p values from the data.  Then use the regression model you created to predict the output for your sample p inputs, as shown in the lecture notebook for the hyperplane case.  The result should be the fitted line for this data.  Plot the prediction as a line on the graph.\n",
      "\n",
      "Place your code in the following cell:"
     ]
    },
    {
     "cell_type": "code",
     "collapsed": false,
     "input": [],
     "language": "python",
     "metadata": {},
     "outputs": [],
     "prompt_number": 6
    },
    {
     "cell_type": "markdown",
     "metadata": {},
     "source": [
      "As a final task for this dataset, plot the error residuals of the linear fit as was shown in the lecture notebook.  Do you think that the linear model is a particularly fit here, given the error residuals?\n",
      "\n",
      "Place your work and plot of the residuals in the next cell:"
     ]
    },
    {
     "cell_type": "code",
     "collapsed": false,
     "input": [],
     "language": "python",
     "metadata": {},
     "outputs": [],
     "prompt_number": 6
    },
    {
     "cell_type": "markdown",
     "metadata": {},
     "source": [
      "**Exercise 2: Classification using Nearest Neighbors**\n",
      "\n",
      "The Scikit-learn machine learning library contains many algorithms that can be used for classification, as shown in the 4th lecture notebook.  Recall that we used an example dataset from the sklearn library, the iris data set:"
     ]
    },
    {
     "cell_type": "code",
     "collapsed": false,
     "input": [
      "from sklearn import datasets\n",
      "iris = datasets.load_iris()\n",
      "print iris.DESCR"
     ],
     "language": "python",
     "metadata": {},
     "outputs": [
      {
       "output_type": "stream",
       "stream": "stdout",
       "text": [
        "Iris Plants Database\n",
        "\n",
        "Notes\n",
        "-----\n",
        "Data Set Characteristics:\n",
        "    :Number of Instances: 150 (50 in each of three classes)\n",
        "    :Number of Attributes: 4 numeric, predictive attributes and the class\n",
        "    :Attribute Information:\n",
        "        - sepal length in cm\n",
        "        - sepal width in cm\n",
        "        - petal length in cm\n",
        "        - petal width in cm\n",
        "        - class:\n",
        "                - Iris-Setosa\n",
        "                - Iris-Versicolour\n",
        "                - Iris-Virginica\n",
        "    :Summary Statistics:\n",
        "    ============== ==== ==== ======= ===== ====================\n",
        "                    Min  Max   Mean    SD   Class Correlation\n",
        "    ============== ==== ==== ======= ===== ====================\n",
        "    sepal length:   4.3  7.9   5.84   0.83    0.7826\n",
        "    sepal width:    2.0  4.4   3.05   0.43   -0.4194\n",
        "    petal length:   1.0  6.9   3.76   1.76    0.9490  (high!)\n",
        "    petal width:    0.1  2.5   1.20  0.76     0.9565  (high!)\n",
        "    ============== ==== ==== ======= ===== ====================\n",
        "    :Missing Attribute Values: None\n",
        "    :Class Distribution: 33.3% for each of 3 classes.\n",
        "    :Creator: R.A. Fisher\n",
        "    :Donor: Michael Marshall (MARSHALL%PLU@io.arc.nasa.gov)\n",
        "    :Date: July, 1988\n",
        "\n",
        "This is a copy of UCI ML iris datasets.\n",
        "http://archive.ics.uci.edu/ml/datasets/Iris\n",
        "\n",
        "The famous Iris database, first used by Sir R.A Fisher\n",
        "\n",
        "This is perhaps the best known database to be found in the\n",
        "pattern recognition literature.  Fisher's paper is a classic in the field and\n",
        "is referenced frequently to this day.  (See Duda & Hart, for example.)  The\n",
        "data set contains 3 classes of 50 instances each, where each class refers to a\n",
        "type of iris plant.  One class is linearly separable from the other 2; the\n",
        "latter are NOT linearly separable from each other.\n",
        "\n",
        "References\n",
        "----------\n",
        "   - Fisher,R.A. \"The use of multiple measurements in taxonomic problems\"\n",
        "     Annual Eugenics, 7, Part II, 179-188 (1936); also in \"Contributions to\n",
        "     Mathematical Statistics\" (John Wiley, NY, 1950).\n",
        "   - Duda,R.O., & Hart,P.E. (1973) Pattern Classification and Scene Analysis.\n",
        "     (Q327.D83) John Wiley & Sons.  ISBN 0-471-22361-1.  See page 218.\n",
        "   - Dasarathy, B.V. (1980) \"Nosing Around the Neighborhood: A New System\n",
        "     Structure and Classification Rule for Recognition in Partially Exposed\n",
        "     Environments\".  IEEE Transactions on Pattern Analysis and Machine\n",
        "     Intelligence, Vol. PAMI-2, No. 1, 67-71.\n",
        "   - Gates, G.W. (1972) \"The Reduced Nearest Neighbor Rule\".  IEEE Transactions\n",
        "     on Information Theory, May 1972, 431-433.\n",
        "   - See also: 1988 MLC Proceedings, 54-64.  Cheeseman et al\"s AUTOCLASS II\n",
        "     conceptual clustering system finds 3 classes in the data.\n",
        "   - Many, many more ...\n",
        "\n"
       ]
      }
     ],
     "prompt_number": 7
    },
    {
     "cell_type": "markdown",
     "metadata": {},
     "source": [
      "We will probably cover K-nearest neighbor methods later for doing clustering.  sklearn includes a neighbors model for doing classification with K-nearest neighbors.  Using klearn to perform classification with KNN follows exactly the same pattern as was demonstrated for doing classification with the naive bayesian classifier: create a classifier object from the library, fit the model input parameters to the outputs, then use the predict method to measure predicted performance on the actual labels.  Please perform the classification on the Iris data set using the sklearn.neighbors.KNeighborsClassifer object.\n",
      "\n",
      "NOTE: I get warnings from sklearn about k and k+1 neighbor having same distance.  You can ignore these warnings (for now).\n",
      "\n",
      "Please do your work in the following cell:"
     ]
    },
    {
     "cell_type": "code",
     "collapsed": false,
     "input": [],
     "language": "python",
     "metadata": {},
     "outputs": [],
     "prompt_number": 7
    },
    {
     "cell_type": "markdown",
     "metadata": {},
     "source": [
      "Did it perform better or worse than the naive bayesian classifier?  \n",
      "\n",
      "The KNeighborsClassifier object uses 5 neighbors by default, if you don't specify the number of groups for it to find.  Try again using 3 neighbors, does this do better or worse?  Try again with 9 neighbor, how about now:\n",
      "\n",
      "Please do your work in the following cells."
     ]
    },
    {
     "cell_type": "code",
     "collapsed": false,
     "input": [],
     "language": "python",
     "metadata": {},
     "outputs": [],
     "prompt_number": 7
    },
    {
     "cell_type": "code",
     "collapsed": false,
     "input": [],
     "language": "python",
     "metadata": {},
     "outputs": [],
     "prompt_number": 7
    },
    {
     "cell_type": "markdown",
     "metadata": {},
     "source": [
      "By default, the KNeighborsClassifier uses a uniform function in calculating its predictions.  You can instead use a 'distance' function to change how predictions are done.  Using the best number of neighbors you found in previous fits, try again but use the distance weighting measure.  Did performance improve or not?\n",
      "\n",
      "Place your work in the following cell:"
     ]
    },
    {
     "cell_type": "code",
     "collapsed": false,
     "input": [],
     "language": "python",
     "metadata": {},
     "outputs": [],
     "prompt_number": 7
    }
   ],
   "metadata": {}
  }
 ]
}