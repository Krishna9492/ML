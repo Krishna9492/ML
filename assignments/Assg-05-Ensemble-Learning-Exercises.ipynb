{
 "cells": [
  {
   "cell_type": "code",
   "execution_count": 1,
   "id": "2dfa9cfb-3396-4fb1-a27c-eb10458ef972",
   "metadata": {},
   "outputs": [],
   "source": [
    "import numpy as np\n",
    "import matplotlib.pyplot as plt\n",
    "import pandas as pd\n",
    "import matplotlib\n",
    "\n",
    "%matplotlib inline\n",
    "matplotlib.rcParams['figure.figsize'] = (10, 8) # set default figure size, 8in by 6in"
   ]
  },
  {
   "cell_type": "markdown",
   "id": "71405b36-3043-446a-80b5-e0091d2185a1",
   "metadata": {},
   "source": [
    "# Assignment 05: Ensemble Learning and Random Forests\n",
    "\n",
    "**Due Date:** Friday 11/25/2022 (by midnight)\n",
    "\n",
    "\n",
    "## Introduction \n",
    "\n",
    "In this assignment you will use the MNIST data set to create some ensemble classifiers.  This assignment\n",
    "is a bit more open ended than some of the previous ones.  So try and create classifiers for submission\n",
    "that do the tasks as described and are performing relatively well to classify the MNIST digits dataset."
   ]
  },
  {
   "cell_type": "markdown",
   "id": "02428ce9-07b7-4555-938f-3c019312045d",
   "metadata": {},
   "source": [
    "## Part 1: Load and Setup MNIST data\n",
    "\n",
    "Load the MNIST data set that we have used before, and split it into a training set,\n",
    "a validation set, and a test set.  Use 50,000 instances for training, 10,000 for validation\n",
    "and 10,000 for testing.  Be careful that the data is shuffled, e.g. that you have all 10 \n",
    "digits in about equal proportions in the training, validation and test data sets."
   ]
  },
  {
   "cell_type": "code",
   "execution_count": null,
   "id": "fa4f203e-378e-4706-ac66-1db16200e641",
   "metadata": {},
   "outputs": [],
   "source": []
  },
  {
   "cell_type": "markdown",
   "id": "b91cb942-0a2a-4602-b3a8-b44a0de35060",
   "metadata": {},
   "source": [
    "## Part 2: Train Classifiers on MNIST training data\n",
    "\n",
    "Train the following 3 types of classifiers on this MNIST training dataset:\n",
    "\n",
    "1. Random Forest classifier\n",
    "2. Extra-Trees classifier\n",
    "3. SVM classifier.\n",
    "\n",
    "Try and tune these so they each work individuall well.  Show performance of each of the 3 on the validation set, e.g. report a confusion matrix and raw accuracy for each of the 3 classifiers on validation data."
   ]
  },
  {
   "cell_type": "markdown",
   "id": "80f39666-4427-4983-b5b2-469377e481a3",
   "metadata": {},
   "source": [
    "## Part 3: Create an Ensemble\n",
    "\n",
    "Next combine your 3 classifiers into an ensemble (using scikit-learn enesmble methods\n",
    "as shown in our textbook).  See if you can create an ensemble that outperforms each\n",
    "individual classifier on the validation set, using soft or hard voting.  \n",
    "\n",
    "Once you have found an ensemble that performs better than the individual classifiers (or at least\n",
    "no worse), evaluate it on the test set.  Give raw accuracy and a confusion matrix of the results on\n",
    "validation and test data.  How much better does it perform compared to individual classifiers?"
   ]
  },
  {
   "cell_type": "code",
   "execution_count": null,
   "id": "a8574277-afca-44d7-9e0f-5224eab9ace6",
   "metadata": {},
   "outputs": [],
   "source": []
  },
  {
   "cell_type": "markdown",
   "id": "61b0cebc-b68d-4178-93c6-3264256428c2",
   "metadata": {},
   "source": [
    "## Part 4: Create a Blender Stacking Ensemble\n",
    "\n",
    "Run the individual classifiers from the previous exercise to make predictions\n",
    "on the validation set, and create a new training set with the resulting\n",
    "predictions: each training instance is a vector containing the set of predictions\n",
    "from all your classifiers for an image, and the target is the image’s class. Train\n",
    "a classifier on this new training set. Congratulations, you have just trained a\n",
    "blender, and together with the classifiers it forms a stacking ensemble! Now\n",
    "evaluate the ensemble on the test set. For each image in the test set, make\n",
    "predictions with all your classifiers, then feed the predictions to the blender to\n",
    "get the ensemble’s predictions. How does it compare to the voting classifier\n",
    "you trained earlier?"
   ]
  },
  {
   "cell_type": "code",
   "execution_count": null,
   "id": "07404915-82eb-40ed-8fee-65eb4c0c81ed",
   "metadata": {},
   "outputs": [],
   "source": []
  }
 ],
 "metadata": {
  "kernelspec": {
   "display_name": "Python 3 (ipykernel)",
   "language": "python",
   "name": "python3"
  },
  "language_info": {
   "codemirror_mode": {
    "name": "ipython",
    "version": 3
   },
   "file_extension": ".py",
   "mimetype": "text/x-python",
   "name": "python",
   "nbconvert_exporter": "python",
   "pygments_lexer": "ipython3",
   "version": "3.10.4"
  }
 },
 "nbformat": 4,
 "nbformat_minor": 5
}
