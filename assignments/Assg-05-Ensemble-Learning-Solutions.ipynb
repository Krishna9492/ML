{
 "cells": [
  {
   "cell_type": "code",
   "execution_count": 1,
   "id": "2dfa9cfb-3396-4fb1-a27c-eb10458ef972",
   "metadata": {},
   "outputs": [],
   "source": [
    "# general imports usually needed\n",
    "import numpy as np\n",
    "import matplotlib.pyplot as plt\n",
    "import pandas as pd\n",
    "import matplotlib\n",
    "\n",
    "%matplotlib inline\n",
    "matplotlib.rcParams['figure.figsize'] = (10, 8) # set default figure size, 8in by 6in"
   ]
  },
  {
   "cell_type": "code",
   "execution_count": 2,
   "id": "24130d3c-ac58-4c82-828c-0328e17784e0",
   "metadata": {},
   "outputs": [
    {
     "name": "stderr",
     "output_type": "stream",
     "text": [
      "Intel(R) Extension for Scikit-learn* enabled (https://github.com/intel/scikit-learn-intelex)\n"
     ]
    }
   ],
   "source": [
    "# the following is supposed to improve performance for sklearn SVC classifiers\n",
    "# significantly if done before we import sklearn objects\n",
    "# Discussion/description here: https://medium.com/intel-analytics-software/from-hours-to-minutes-600x-faster-svm-647f904c31ae\n",
    "from sklearnex import patch_sklearn \n",
    "patch_sklearn()"
   ]
  },
  {
   "cell_type": "code",
   "execution_count": 3,
   "id": "ebc49542-e2c4-48ff-8dfc-163d6a4fabab",
   "metadata": {},
   "outputs": [],
   "source": [
    "# libraries/classes more specific to this assignment gathered in\n",
    "# one place so that we are sure all needed imports are done before\n",
    "# needed\n",
    "from sklearn.datasets import fetch_openml\n",
    "from sklearn.model_selection import train_test_split\n",
    "from sklearn.ensemble import RandomForestClassifier, ExtraTreesClassifier\n",
    "from sklearn.svm import LinearSVC\n",
    "from sklearn.svm import SVC\n",
    "from sklearn.ensemble import VotingClassifier\n",
    "from sklearn.metrics import confusion_matrix\n",
    "from sklearn.metrics import accuracy_score"
   ]
  },
  {
   "cell_type": "code",
   "execution_count": 4,
   "id": "8b88c2a6-6a7e-44ee-9531-f049585ecfde",
   "metadata": {},
   "outputs": [],
   "source": [
    "# notebook wide settings to make plots and numpy output more readable and visually easier to understand\n",
    "np.set_printoptions(suppress=True)\n",
    "\n",
    "#%matplotlib widget\n",
    "#%matplotlib inline\n",
    "\n",
    "plt.rc('axes', labelsize=14)\n",
    "plt.rc('xtick', labelsize=12)\n",
    "plt.rc('ytick', labelsize=12)\n",
    "plt.rc('figure', titlesize=18)\n",
    "plt.rc('legend', fontsize=14)\n",
    "plt.rcParams['figure.figsize'] = (12.0, 8.0) # default figure size if not specified in plot\n",
    "plt.style.use('seaborn-darkgrid')"
   ]
  },
  {
   "cell_type": "markdown",
   "id": "71405b36-3043-446a-80b5-e0091d2185a1",
   "metadata": {},
   "source": [
    "# Assignment 05: Ensemble Learning and Random Forests\n",
    "\n",
    "**Due Date:** Friday 11/25/2022 (by midnight)\n",
    "\n",
    "\n",
    "## Introduction \n",
    "\n",
    "In this assignment you will use the MNIST data set to create some ensemble classifiers.  This assignment\n",
    "is a bit more open ended than some of the previous ones.  So try and create classifiers for submission\n",
    "that do the tasks as described and are performing relatively well to classify the MNIST digits dataset."
   ]
  },
  {
   "cell_type": "markdown",
   "id": "02428ce9-07b7-4555-938f-3c019312045d",
   "metadata": {},
   "source": [
    "## Part 1: Load and Setup MNIST data\n",
    "\n",
    "Load the MNIST data set that we have used before, and split it into a training set,\n",
    "a validation set, and a test set.  Use 50,000 instances for training, 10,000 for validation\n",
    "and 10,000 for testing.  Be careful that the data is shuffled, e.g. that you have all 10 \n",
    "digits in about equal proportions in the training, validation and test data sets.\n",
    "\n",
    "We have sometimes had issues with the `fetch_openml()` method from `sklearn` we use below.  As a reminder, if\n",
    "needed, you can download the csv file we use here by hand ald us pandas to load it in:\n",
    "\n",
    "https://datahub.io/machine-learning/mnist_784"
   ]
  },
  {
   "cell_type": "code",
   "execution_count": 5,
   "id": "48531bc0-e32e-4e97-9546-1d7524950a5a",
   "metadata": {},
   "outputs": [],
   "source": [
    "# download the csv file from the web and read it in as shown below if needed, if the fetch_openml() is not\n",
    "# working in current version of sklearn\n",
    "#mnist = pd.read_csv('../../data/mnist_784.csv')\n",
    "#X, y = mnist['data'], mnist['target']\n",
    "#y = y.astype(np.uint8) # convertes to an integer using 8 bits, but we only need 4 bits here"
   ]
  },
  {
   "cell_type": "code",
   "execution_count": 6,
   "id": "7f030f52-c955-40e5-8fe6-664445be9155",
   "metadata": {},
   "outputs": [],
   "source": [
    "# there is a bug in fetch_openml where it does not cache the data it downloads.  This is better than before, at least it works,\n",
    "# but we can force downloaded data to be cached to tmp directory so that at least if rerunning notebooks the next doesn't take too long\n",
    "import joblib\n",
    "from sklearn.datasets import fetch_openml\n",
    "from joblib import memory\n",
    "memory = joblib.Memory('../data/tmp')\n",
    "fetch_openml_cached = memory.cache(fetch_openml)"
   ]
  },
  {
   "cell_type": "code",
   "execution_count": 7,
   "id": "599aeb77-6e6e-4ce1-8969-a0fe3ff64d0b",
   "metadata": {},
   "outputs": [],
   "source": [
    "mnist = fetch_openml_cached('mnist_784', version=1, cache=True, as_frame=False)\n",
    "mnist.target = mnist.target.astype(np.uint8)"
   ]
  },
  {
   "cell_type": "markdown",
   "id": "42d4ac2c-f366-4f45-bddc-a319e51a4cb1",
   "metadata": {},
   "source": [
    "The data is shuffled if you use `fetch_opemnl()`, though that might not always\n",
    "be the case.  For example, looking at the target labels of the first 10 items we\n",
    "see:"
   ]
  },
  {
   "cell_type": "code",
   "execution_count": 8,
   "id": "01af0e1b-bc0f-4dfe-be79-6c163137d831",
   "metadata": {},
   "outputs": [
    {
     "name": "stdout",
     "output_type": "stream",
     "text": [
      "[5 0 4 1 9 2 1 3 1 4]\n"
     ]
    }
   ],
   "source": [
    "print(mnist.target[:10])"
   ]
  },
  {
   "cell_type": "markdown",
   "id": "d420b6a4-fd0c-486d-a325-87cdf89a258b",
   "metadata": {},
   "source": [
    "So we could simply split up the data and targets by hand as asked for\n",
    "here.  But instead we show using `train_test_split()` in 2 steps.\n",
    "We first split out 10,000 items for the ultimate test set.\n",
    "\n",
    "We are using the `random_state` parameter for most of the functions in\n",
    "this example solution to make the results more reproducable.  Using\n",
    "a `random_state` of 42 here insures that all 3 of our train, validation\n",
    "and test sets are always split the same way when this notebook is run."
   ]
  },
  {
   "cell_type": "code",
   "execution_count": 9,
   "id": "3a9e473a-0f23-4bc3-b9cf-79429eb5fe61",
   "metadata": {},
   "outputs": [],
   "source": [
    "# we end up with 10,000 in the test set and rest in train_val\n",
    "X_train_val, X_test, y_train_val, y_test = train_test_split(\n",
    "    mnist.data, mnist.target, test_size=10000, random_state=42)"
   ]
  },
  {
   "cell_type": "markdown",
   "id": "312fceab-9039-40e1-9801-7eba7666a9de",
   "metadata": {},
   "source": [
    "We then perform anohter split on the remaining 60,000\n",
    "values, so that we end up with 50,000 items for basic training,\n",
    "and a 10,000 sized validation set."
   ]
  },
  {
   "cell_type": "code",
   "execution_count": 10,
   "id": "12943442-fc79-4136-9a62-abff0178431c",
   "metadata": {},
   "outputs": [],
   "source": [
    "# now split remaining to get 10,000 for validation and remaining 50,000 for training\n",
    "X_train, X_val, y_train, y_val = train_test_split(\n",
    "    X_train_val, y_train_val, test_size=10000, random_state=42)"
   ]
  },
  {
   "cell_type": "code",
   "execution_count": 11,
   "id": "cdfdcaa9-b92c-468f-a2de-84d7f9527358",
   "metadata": {},
   "outputs": [
    {
     "name": "stdout",
     "output_type": "stream",
     "text": [
      "(10000, 784)\n",
      "(10000,)\n",
      "(10000, 784)\n",
      "(10000,)\n",
      "(50000, 784)\n",
      "(50000,)\n"
     ]
    }
   ],
   "source": [
    "# demonstrate we got expected sizes from the splits\n",
    "print(X_test.shape)\n",
    "print(y_test.shape)\n",
    "\n",
    "print(X_val.shape)\n",
    "print(y_val.shape)\n",
    "\n",
    "print(X_train.shape)\n",
    "print(y_train.shape)"
   ]
  },
  {
   "cell_type": "markdown",
   "id": "327ac705-668c-4f83-8ec4-6983fa7fc46d",
   "metadata": {},
   "source": [
    "As a reminder, here are the first 100 digits in our\n",
    "training data set, their labels and corresponding digit images."
   ]
  },
  {
   "cell_type": "code",
   "execution_count": 12,
   "id": "4c0c8d30-43cc-42c8-b39a-1e46ecabea96",
   "metadata": {},
   "outputs": [],
   "source": [
    "def plot_digits(samples, images_per_row=10, **options):\n",
    "    \"\"\"Plot a set of MNIST samples.  \n",
    "    \"\"\"\n",
    "    size = 28\n",
    "    images_per_row = min(len(samples), images_per_row)\n",
    "    images = [instance.reshape(size,size) for instance in samples]\n",
    "    n_rows = (len(samples) - 1) // images_per_row + 1\n",
    "    row_images = []\n",
    "    n_empty = n_rows * images_per_row - len(samples)\n",
    "    images.append(np.zeros((size, size * n_empty)))\n",
    "    for row in range(n_rows):\n",
    "        rimages = images[row * images_per_row : (row + 1) * images_per_row]\n",
    "        row_images.append(np.concatenate(rimages, axis=1))\n",
    "    image = np.concatenate(row_images, axis=0)\n",
    "    plt.imshow(image, cmap = matplotlib.cm.binary, **options)\n",
    "    plt.axis(\"off\")"
   ]
  },
  {
   "cell_type": "code",
   "execution_count": 13,
   "id": "d625e697-4e02-4af6-9997-d3740db0c796",
   "metadata": {},
   "outputs": [
    {
     "name": "stdout",
     "output_type": "stream",
     "text": [
      "[[4 4 7 0 8 4 8 0 7 9]\n",
      " [3 9 4 5 4 2 7 1 4 3]\n",
      " [0 5 7 6 1 2 3 9 0 8]\n",
      " [3 9 6 3 3 3 7 6 9 1]\n",
      " [0 3 5 9 0 1 8 9 0 3]\n",
      " [4 6 6 5 3 0 7 1 7 8]\n",
      " [8 4 1 2 6 7 6 6 7 5]\n",
      " [6 3 3 4 3 0 0 1 9 7]\n",
      " [8 2 5 9 1 3 8 1 9 1]\n",
      " [9 7 9 4 3 5 9 3 2 5]]\n"
     ]
    },
    {
     "data": {
      "image/png": "[encoded data removed]",
      "text/plain": [
       "<Figure size 648x648 with 1 Axes>"
      ]
     },
     "metadata": {},
     "output_type": "display_data"
    }
   ],
   "source": [
    "plt.figure(figsize=(9,9))\n",
    "\n",
    "# display the first 100 MNIST digits\n",
    "example_images = X_train[:100]\n",
    "plot_digits(example_images, images_per_row=10)\n",
    "\n",
    "# display the labels of these digits\n",
    "print(y_train[:100].reshape((10,10)))"
   ]
  },
  {
   "cell_type": "markdown",
   "id": "b91cb942-0a2a-4602-b3a8-b44a0de35060",
   "metadata": {},
   "source": [
    "## Part 2: Train Classifiers on MNIST training data\n",
    "\n",
    "**Instructions**:\n",
    "\n",
    "Train the following 3 types of classifiers on this MNIST training dataset:\n",
    "\n",
    "1. Random Forest classifier\n",
    "2. Extra-Trees classifier\n",
    "3. SVM classifier.\n",
    "\n",
    "Try and tune these so they each work well individually well.  Show performance of each of the 3 on the validation set, e.g. report a confusion matrix and raw accuracy for each of the 3 classifiers on validation data.\n",
    "\n",
    "First lets just do as asked for here.  It is easy to find random forest and extra tree classifiers that give greater than 95% accuracy on \n",
    "validation data when trained with the 50,000 sized training set.\n",
    "\n",
    "We first shows training these two classifiers using 1000 decision tree estimators for each.  We again specify the `random_state` here for all\n",
    "of our classifiers to enhance reproducability of this example solution."
   ]
  },
  {
   "cell_type": "code",
   "execution_count": 14,
   "id": "11005135-8c9b-4788-8611-7c9a21332a92",
   "metadata": {},
   "outputs": [
    {
     "data": {
      "text/plain": [
       "RandomForestClassifier(n_jobs=-1, random_state=42)"
      ]
     },
     "execution_count": 14,
     "metadata": {},
     "output_type": "execute_result"
    }
   ],
   "source": [
    "# random forest classifier using all defaults, this causes a tree with 100\n",
    "# estimators of unlimited depth\n",
    "random_forest_clf = RandomForestClassifier(random_state=42, n_jobs=-1)\n",
    "\n",
    "# fit the classifier on the training data\n",
    "random_forest_clf.fit(X_train, y_train)"
   ]
  },
  {
   "cell_type": "markdown",
   "id": "e6ca4fd9-59fe-45f8-96fa-db7a9a49d6b7",
   "metadata": {},
   "source": [
    "Since we allow unlimited depth, this random forest should give a perfect\n",
    "accuracy score on the data we trained with."
   ]
  },
  {
   "cell_type": "code",
   "execution_count": 15,
   "id": "51bb7f1d-56a8-41b1-8439-85cb231339ec",
   "metadata": {},
   "outputs": [
    {
     "data": {
      "text/plain": [
       "1.0"
      ]
     },
     "execution_count": 15,
     "metadata": {},
     "output_type": "execute_result"
    }
   ],
   "source": [
    "random_forest_clf.score(X_train, y_train)"
   ]
  },
  {
   "cell_type": "markdown",
   "id": "39297485-61db-4e4a-a9d3-bc712ca679a0",
   "metadata": {},
   "source": [
    "However hopefully students realize that we want a report of the performance on\n",
    "the held back validation data.  The raw accuracy and confusion matrix for this\n",
    "classifier on unseen validation data gives us:"
   ]
  },
  {
   "cell_type": "code",
   "execution_count": 16,
   "id": "c5cbcbd3-031c-4064-81d8-308522704928",
   "metadata": {},
   "outputs": [
    {
     "data": {
      "text/plain": [
       "0.9713"
      ]
     },
     "execution_count": 16,
     "metadata": {},
     "output_type": "execute_result"
    }
   ],
   "source": [
    "random_forest_clf.score(X_val, y_val)"
   ]
  },
  {
   "cell_type": "code",
   "execution_count": 17,
   "id": "fa75784e-c3ca-41f5-82c2-a34eb0851cf7",
   "metadata": {},
   "outputs": [
    {
     "data": {
      "text/plain": [
       "array([[ 988,    0,    0,    0,    0,    1,    1,    0,    6,    1],\n",
       "       [   0, 1136,    6,    1,    1,    2,    3,    4,    3,    2],\n",
       "       [   5,    3,  981,    3,    2,    0,    2,    4,    6,    1],\n",
       "       [   2,    0,    8,  981,    0,   12,    2,   11,    8,    4],\n",
       "       [   2,    1,    2,    0,  941,    0,    3,    1,    3,   13],\n",
       "       [   5,    0,    0,    8,    4,  852,    6,    2,    3,    5],\n",
       "       [   1,    4,    1,    0,    0,    7,  931,    0,    1,    0],\n",
       "       [   0,    2,   11,    1,    7,    0,    0, 1036,    2,   11],\n",
       "       [   3,    2,    4,    5,    6,    9,    4,    0,  947,    8],\n",
       "       [   1,    1,    3,    8,    9,    3,    0,    6,    5,  920]])"
      ]
     },
     "execution_count": 17,
     "metadata": {},
     "output_type": "execute_result"
    }
   ],
   "source": [
    "y_pred = random_forest_clf.predict(X_val)\n",
    "confusion_matrix(y_val, y_pred)"
   ]
  },
  {
   "cell_type": "markdown",
   "id": "6165ea3f-082d-46cf-b324-f093e694f436",
   "metadata": {},
   "source": [
    "We will get above 96% accuracy on the validation data with the default\n",
    "parameters for the random forest.\n",
    "\n",
    "Here then is the same but for an Extra (Extremely Random) Trees classifier.\n",
    "You will get about the same results using the default parameters for an\n",
    "Extra Trees classifier:"
   ]
  },
  {
   "cell_type": "code",
   "execution_count": 18,
   "id": "6e81d534-48a5-4de3-a075-d862e5a30704",
   "metadata": {},
   "outputs": [
    {
     "data": {
      "text/plain": [
       "ExtraTreesClassifier(n_jobs=-1, random_state=42)"
      ]
     },
     "execution_count": 18,
     "metadata": {},
     "output_type": "execute_result"
    }
   ],
   "source": [
    "# random forest classifier using all defaults, this causes a tree with 100\n",
    "# estimators of unlimited depth\n",
    "extra_trees_clf = ExtraTreesClassifier(random_state=42, n_jobs=-1)\n",
    "\n",
    "# fit the classifier on the training data\n",
    "extra_trees_clf.fit(X_train, y_train)"
   ]
  },
  {
   "cell_type": "code",
   "execution_count": 19,
   "id": "7a0fcddc-ec32-4020-942e-09f57a7e3cad",
   "metadata": {},
   "outputs": [
    {
     "data": {
      "text/plain": [
       "1.0"
      ]
     },
     "execution_count": 19,
     "metadata": {},
     "output_type": "execute_result"
    }
   ],
   "source": [
    "# performance on training data should be perfect for a forest/extra tree if\n",
    "# we don't regularize it in anyway\n",
    "extra_trees_clf.score(X_train, y_train)"
   ]
  },
  {
   "cell_type": "code",
   "execution_count": 20,
   "id": "bdabed84-87ca-4329-8b97-c953ab6d894c",
   "metadata": {},
   "outputs": [
    {
     "data": {
      "text/plain": [
       "0.9715"
      ]
     },
     "execution_count": 20,
     "metadata": {},
     "output_type": "execute_result"
    }
   ],
   "source": [
    "# performance on unseen validation data should be about the same as\n",
    "# we saw for the random forest\n",
    "extra_trees_clf.score(X_val, y_val)"
   ]
  },
  {
   "cell_type": "code",
   "execution_count": 21,
   "id": "19927762-a6f8-4f83-9dea-de04fa6d4abd",
   "metadata": {},
   "outputs": [
    {
     "data": {
      "text/plain": [
       "array([[ 987,    0,    1,    1,    0,    2,    4,    0,    2,    0],\n",
       "       [   0, 1137,    8,    1,    1,    2,    1,    3,    4,    1],\n",
       "       [   6,    1,  977,    3,    3,    2,    2,    5,    7,    1],\n",
       "       [   1,    0,   10,  982,    0,   16,    0,   11,    4,    4],\n",
       "       [   1,    1,    1,    0,  938,    1,    4,    1,    4,   15],\n",
       "       [   4,    0,    0,    9,    3,  855,    6,    2,    2,    4],\n",
       "       [   1,    3,    1,    0,    1,    4,  935,    0,    0,    0],\n",
       "       [   0,    3,   13,    1,    6,    0,    0, 1035,    0,   12],\n",
       "       [   1,    1,    3,    8,    6,   10,    3,    0,  949,    7],\n",
       "       [   2,    1,    3,    8,   10,    3,    0,    6,    3,  920]])"
      ]
     },
     "execution_count": 21,
     "metadata": {},
     "output_type": "execute_result"
    }
   ],
   "source": [
    "y_pred = extra_trees_clf.predict(X_val)\n",
    "confusion_matrix(y_val, y_pred)"
   ]
  },
  {
   "cell_type": "markdown",
   "id": "b3eec8b5-ee38-452e-bde3-b7a322ad69ab",
   "metadata": {},
   "source": [
    "I get an above 97% accuracy for the Extra Trees classifier, so slightly\n",
    "better.  But it is hard to say if actually better, may be simply a product\n",
    "of the train/validation data split, e.g. the random forest might do better on\n",
    "unseen data sometimes if it were split differently.\n",
    "\n",
    "Training a support vector machine is more difficult.\n",
    "**WARNING**: The following may take quite a bit of time to train/converge\n",
    "depending on your system.  Later we will limit the maximum number of\n",
    "iterations and/or convergence tolerance of the SVM classifier when we build\n",
    "an ensemble.\n",
    "\n",
    "You should find that, unlike before, the SVM classifier won't give perfect\n",
    "accuracy on the training data.  This is expected, the SVM classifier works\n",
    "differently than the tree ensembles.  It is fitting a nonlinear decision\n",
    "boundary(ies) to the data, so it is difficult to get a perfect fit.\n",
    "\n",
    "But you will probably find that the raw SVM classifier performs the best of the\n",
    "3 classifiers demonstrated here on the validation data (though it is unclear\n",
    "if it is actually better or just slightly better on this particular\n",
    "train/validation split)."
   ]
  },
  {
   "cell_type": "code",
   "execution_count": 22,
   "id": "bb68d1e0-460b-48c1-a0be-06f47ae2793b",
   "metadata": {},
   "outputs": [
    {
     "data": {
      "text/plain": [
       "SVC(random_state=42)"
      ]
     },
     "execution_count": 22,
     "metadata": {},
     "output_type": "execute_result"
    }
   ],
   "source": [
    "# create a support vector machine classifier using default radial basis\n",
    "# kernel.  We limit max iterations\n",
    "svm_clf = SVC(random_state=42)\n",
    "\n",
    "# fit the classifier on the training data\n",
    "svm_clf.fit(X_train, y_train)"
   ]
  },
  {
   "cell_type": "code",
   "execution_count": 23,
   "id": "5980bdb5-e4dd-46b0-adee-b6d11ceb4c2a",
   "metadata": {},
   "outputs": [
    {
     "data": {
      "text/plain": [
       "0.98938"
      ]
     },
     "execution_count": 23,
     "metadata": {},
     "output_type": "execute_result"
    }
   ],
   "source": [
    "svm_clf.score(X_train, y_train)"
   ]
  },
  {
   "cell_type": "code",
   "execution_count": 24,
   "id": "c8e72bd5-dd68-41aa-affa-63402278dae8",
   "metadata": {},
   "outputs": [
    {
     "data": {
      "text/plain": [
       "0.9788"
      ]
     },
     "execution_count": 24,
     "metadata": {},
     "output_type": "execute_result"
    }
   ],
   "source": [
    "# performance on unseen validation data should be about the same as\n",
    "# we saw for the random forest\n",
    "svm_clf.score(X_val, y_val)"
   ]
  },
  {
   "cell_type": "code",
   "execution_count": 25,
   "id": "af2170af-ee2c-45ea-9318-7926ec375805",
   "metadata": {},
   "outputs": [
    {
     "data": {
      "text/plain": [
       "array([[ 988,    0,    2,    0,    0,    2,    2,    0,    2,    1],\n",
       "       [   0, 1143,    7,    0,    1,    0,    0,    2,    4,    1],\n",
       "       [   0,    2,  988,    1,    1,    1,    3,    4,    6,    1],\n",
       "       [   2,    2,    6,  990,    0,   14,    0,    5,    7,    2],\n",
       "       [   0,    1,    2,    0,  948,    0,    5,    1,    0,    9],\n",
       "       [   2,    0,    0,    5,    5,  867,    2,    1,    0,    3],\n",
       "       [   2,    2,    2,    0,    1,    4,  934,    0,    0,    0],\n",
       "       [   0,    3,    7,    1,    6,    0,    0, 1044,    1,    8],\n",
       "       [   1,    3,    3,    7,    4,    4,    3,    1,  959,    3],\n",
       "       [   1,    1,    0,    4,   11,    1,    0,    9,    2,  927]])"
      ]
     },
     "execution_count": 25,
     "metadata": {},
     "output_type": "execute_result"
    }
   ],
   "source": [
    "y_pred = svm_clf.predict(X_val)\n",
    "confusion_matrix(y_val, y_pred)"
   ]
  },
  {
   "cell_type": "markdown",
   "id": "80f39666-4427-4983-b5b2-469377e481a3",
   "metadata": {},
   "source": [
    "## Part 3: Create an Ensemble\n",
    "\n",
    "Next combine your 3 classifiers into an ensemble (using scikit-learn enesmble methods\n",
    "as shown in our textbook).  See if you can create an ensemble that outperforms each\n",
    "individual classifier on the validation set, using soft or hard voting.  \n",
    "\n",
    "Once you have found an ensemble that performs better than the individual classifiers (or at least\n",
    "no worse), evaluate it on the test set.  Give raw accuracy and a confusion matrix of the results on\n",
    "validation and test data.  How much better does it perform compared to individual classifiers?\n",
    "\n",
    "### Hard Voting Ensemble\n",
    "\n",
    "In the following we will demonstrate creating an ensemble on a slightly\n",
    "different set of classifiers.  It is ok if you just used the classifiers\n",
    "you had before.  But most likely you will find that you don't really getting any\n",
    "performance from ensembling the 3 asked for classifiers if they have performance\n",
    "about 96% to 97%.  It would probably be difficult to get much of a significant\n",
    "improvement unless we had many more classifiers in the ensemble and they were\n",
    "quite a bit different.\n",
    "\n",
    "Instead lets retrain the classifiers, but I am going to use some regularization,\n",
    "especially on the tree classifiers.  The tree classifiers especially shown in\n",
    "part 2 are probably overfit on the data.  Some regularization might actually help\n",
    "improve performance on validation/test data.\n",
    "\n",
    "Here we again create a random forest, extra tree and SVM classifier.\n",
    "However, we are going to limit all 3 of them and add in some regularization.\n",
    "We are doing this more for the purpose of showing that it is possible to\n",
    "use ensemble voting to improve performance a significant amount over\n",
    "the individual members of the ensemble.\n",
    "\n",
    "Also since you were asked to create a voting ensemble, we demonstrate declaring\n",
    "and fitting all of the individual estimators at once in the voting ensemble."
   ]
  },
  {
   "cell_type": "code",
   "execution_count": 26,
   "id": "7bd28243-f2b2-4b3c-b53a-051fa2e71f92",
   "metadata": {},
   "outputs": [],
   "source": [
    "# retrain the classifiers.  Use max_depth to regularize the trees\n",
    "# quite a bit.  We also increase C and use max_iterations to speed up the\n",
    "# training time of the svm classifier, and regularize it more as well.\n",
    "random_forest_clf = RandomForestClassifier(max_depth=5, random_state=42, n_jobs=-1)\n",
    "extra_trees_clf = ExtraTreesClassifier(max_depth=5, random_state=42, n_jobs=-1)\n",
    "svm_clf = SVC(C=0.5, max_iter=100, random_state=42)"
   ]
  },
  {
   "cell_type": "code",
   "execution_count": 27,
   "id": "f09bbc1d-96bb-4d5c-a80a-916afedc8358",
   "metadata": {},
   "outputs": [
    {
     "data": {
      "text/plain": [
       "VotingClassifier(estimators=[('random_forest_clf',\n",
       "                              RandomForestClassifier(max_depth=5, n_jobs=-1,\n",
       "                                                     random_state=42)),\n",
       "                             ('extra_trees_clf',\n",
       "                              ExtraTreesClassifier(max_depth=5, n_jobs=-1,\n",
       "                                                   random_state=42)),\n",
       "                             ('svm_clf',\n",
       "                              SVC(C=0.5, max_iter=100, random_state=42))])"
      ]
     },
     "execution_count": 27,
     "metadata": {},
     "output_type": "execute_result"
    }
   ],
   "source": [
    "# instead of fitting indiviually, add estimators into a\n",
    "# voting classifier, and fit all together\n",
    "named_estimators = [\n",
    "    (\"random_forest_clf\", random_forest_clf),\n",
    "    (\"extra_trees_clf\", extra_trees_clf),\n",
    "    (\"svm_clf\", svm_clf),\n",
    "]\n",
    "\n",
    "voting_clf = VotingClassifier(named_estimators)\n",
    "voting_clf.fit(X_train, y_train)"
   ]
  },
  {
   "cell_type": "markdown",
   "id": "5e2a98a2-0298-45bf-917d-9def575132c1",
   "metadata": {},
   "source": [
    "First here is the raw performance (accuracy) now of the individual trained\n",
    "estimators on the training data they were trained with."
   ]
  },
  {
   "cell_type": "code",
   "execution_count": 28,
   "id": "8692b763-fbbb-44ad-b653-4f7c6f39d268",
   "metadata": {},
   "outputs": [
    {
     "data": {
      "text/plain": [
       "[0.86452, 0.8346, 0.98156]"
      ]
     },
     "execution_count": 28,
     "metadata": {},
     "output_type": "execute_result"
    }
   ],
   "source": [
    "[estimator.score(X_train, y_train) for estimator in voting_clf.estimators_]"
   ]
  },
  {
   "cell_type": "markdown",
   "id": "1d6b43ae-7eeb-4152-86f0-fc564f859ef0",
   "metadata": {},
   "source": [
    "The result here will be that all 3 classifiers performance has decreased.  The tree\n",
    "classifiers especially no longer will get perfect accuracy, since we regularize them\n",
    "to stop at a depth of 5.  The SVM classifier is significanly better on the test\n",
    "data now, even though we limited convergence and added in a smaller `C` to get\n",
    "more regularization.\n",
    "\n",
    "As asked for, lets check the individual performance on the validation data,\n",
    "and then the ensemble performance on the validation data.  We are using hard\n",
    "voting here when we check the ensemble performance, since we didn't specify to use\n",
    "soft voting when creating the voting classifier."
   ]
  },
  {
   "cell_type": "code",
   "execution_count": 29,
   "id": "ae9dc678-0070-4daf-a1b2-f67ff543a241",
   "metadata": {},
   "outputs": [
    {
     "data": {
      "text/plain": [
       "[0.863, 0.8322, 0.974]"
      ]
     },
     "execution_count": 29,
     "metadata": {},
     "output_type": "execute_result"
    }
   ],
   "source": [
    "# individal estimator performance on the unseen validation data\n",
    "[estimator.score(X_val, y_val) for estimator in voting_clf.estimators_]"
   ]
  },
  {
   "cell_type": "code",
   "execution_count": 30,
   "id": "692c9e6b-e63c-4060-a85d-ec33bc1e61f5",
   "metadata": {},
   "outputs": [
    {
     "data": {
      "text/plain": [
       "0.8871"
      ]
     },
     "execution_count": 30,
     "metadata": {},
     "output_type": "execute_result"
    }
   ],
   "source": [
    "# ensemble performance on unseen validation data using hard voting\n",
    "voting_clf.score(X_val, y_val)"
   ]
  },
  {
   "cell_type": "code",
   "execution_count": 31,
   "id": "662331af-24ec-41a8-a804-7c9c9b594213",
   "metadata": {},
   "outputs": [
    {
     "data": {
      "text/plain": [
       "array([[ 979,    0,    2,    1,    0,    0,    7,    2,    6,    0],\n",
       "       [   0, 1138,    4,    1,    1,    2,    4,    2,    5,    1],\n",
       "       [  21,   29,  899,    9,    6,    0,   14,   21,    6,    2],\n",
       "       [  14,   30,   25,  883,    0,   17,    3,   24,   11,   21],\n",
       "       [   7,    8,    8,    1,  871,    0,    9,    7,    8,   47],\n",
       "       [  33,   37,    3,  126,   34,  587,   17,    5,    7,   36],\n",
       "       [  10,   15,    8,    2,    6,    5,  894,    3,    2,    0],\n",
       "       [   1,   31,   20,    3,   11,    0,    0,  984,    5,   15],\n",
       "       [   4,   55,   15,   40,   12,    7,   12,    6,  810,   27],\n",
       "       [  10,   12,    9,   16,   31,    1,    3,   38,   10,  826]])"
      ]
     },
     "execution_count": 31,
     "metadata": {},
     "output_type": "execute_result"
    }
   ],
   "source": [
    "# confusion matrix performance on unseen validation data of the ensemble\n",
    "y_pred = voting_clf.predict(X_val)\n",
    "confusion_matrix(y_val, y_pred)"
   ]
  },
  {
   "cell_type": "markdown",
   "id": "0dbb706d-64a4-4a7d-80f6-13dc191aaa1d",
   "metadata": {},
   "source": [
    "You will see we still haven't quite illustrated what we would like to yet.\n",
    "The overall ensemble performance is probably not as good as that achieved by\n",
    "the SVM classifier by itself on the validation data.\n"
   ]
  },
  {
   "cell_type": "markdown",
   "id": "341d97ba-98f2-45be-b81f-b473066c46ae",
   "metadata": {},
   "source": [
    "### Soft Voting Ensemble\n",
    "\n",
    "As a final example, lets try again but use soft voting to see if that helps.\n",
    "To perform soft voting we will need to enable the calculation of\n",
    "target probabilities for the SVM classifier when we (re)train it.\n",
    "This will cause additional slow down of the training, as some students found out.\n",
    "We will need to limit `max_iterations` and maybe also specify a more tolerant\n",
    "`tolerance` for the SVM classifier to get it to finish training in a reasonable\n",
    "amount of time.\n"
   ]
  },
  {
   "cell_type": "code",
   "execution_count": 32,
   "id": "54395d4b-c2d2-4a85-ad68-7ae4c3e4ee08",
   "metadata": {},
   "outputs": [],
   "source": [
    "# retrain the classifiers. Same as before, adding in regularization.\n",
    "# but also enable calculation of target probabilities for the SVM\n",
    "# classifier to allow for soft voting\n",
    "random_forest_clf = RandomForestClassifier(max_depth=5, random_state=42, n_jobs=-1)\n",
    "extra_trees_clf = ExtraTreesClassifier(max_depth=5, random_state=42, n_jobs=-1)\n",
    "svm_clf = SVC(C=0.5, max_iter=100, probability=True, random_state=42)"
   ]
  },
  {
   "cell_type": "code",
   "execution_count": 33,
   "id": "bdff7c12-e875-4409-857b-afe02713bd10",
   "metadata": {},
   "outputs": [
    {
     "data": {
      "text/plain": [
       "VotingClassifier(estimators=[('random_forest_clf',\n",
       "                              RandomForestClassifier(max_depth=5, n_jobs=-1,\n",
       "                                                     random_state=42)),\n",
       "                             ('extra_trees_clf',\n",
       "                              ExtraTreesClassifier(max_depth=5, n_jobs=-1,\n",
       "                                                   random_state=42)),\n",
       "                             ('svm_clf',\n",
       "                              SVC(C=0.5, max_iter=100, probability=True,\n",
       "                                  random_state=42))],\n",
       "                 voting='soft')"
      ]
     },
     "execution_count": 33,
     "metadata": {},
     "output_type": "execute_result"
    }
   ],
   "source": [
    "# instead of fitting indiviually, add estimators into a\n",
    "# voting classifier, and fit all together\n",
    "named_estimators = [\n",
    "    (\"random_forest_clf\", random_forest_clf),\n",
    "    (\"extra_trees_clf\", extra_trees_clf),\n",
    "    (\"svm_clf\", svm_clf),\n",
    "]\n",
    "\n",
    "# use soft voting this time since svm classifier supports target probabilities\n",
    "voting_clf = VotingClassifier(named_estimators, voting='soft')\n",
    "voting_clf.fit(X_train, y_train)"
   ]
  },
  {
   "cell_type": "code",
   "execution_count": 34,
   "id": "66baf704-3131-4891-9d70-abc731a60497",
   "metadata": {},
   "outputs": [
    {
     "data": {
      "text/plain": [
       "[0.86452, 0.8346, 0.98156]"
      ]
     },
     "execution_count": 34,
     "metadata": {},
     "output_type": "execute_result"
    }
   ],
   "source": [
    "# performance of estimators on the data trained with\n",
    "[estimator.score(X_train, y_train) for estimator in voting_clf.estimators_]"
   ]
  },
  {
   "cell_type": "code",
   "execution_count": 35,
   "id": "a1f18112-5e11-4be9-a72d-7ad106e2827e",
   "metadata": {},
   "outputs": [
    {
     "data": {
      "text/plain": [
       "[0.863, 0.8322, 0.974]"
      ]
     },
     "execution_count": 35,
     "metadata": {},
     "output_type": "execute_result"
    }
   ],
   "source": [
    "# individal estimator performance on the unseen validation data\n",
    "[estimator.score(X_val, y_val) for estimator in voting_clf.estimators_]"
   ]
  },
  {
   "cell_type": "code",
   "execution_count": 36,
   "id": "053f94b8-d173-46df-9425-0fa954933651",
   "metadata": {},
   "outputs": [
    {
     "data": {
      "text/plain": [
       "0.9716"
      ]
     },
     "execution_count": 36,
     "metadata": {},
     "output_type": "execute_result"
    }
   ],
   "source": [
    "# ensemble performance on unseen validation data using hard voting\n",
    "voting_clf.score(X_val, y_val)"
   ]
  },
  {
   "cell_type": "code",
   "execution_count": 37,
   "id": "a1bae980-0e80-4703-ace0-f8a04306cbba",
   "metadata": {},
   "outputs": [
    {
     "data": {
      "text/plain": [
       "array([[ 986,    0,    2,    0,    0,    3,    3,    0,    2,    1],\n",
       "       [   0, 1141,    7,    1,    1,    0,    0,    1,    5,    2],\n",
       "       [   3,    5,  978,    2,    2,    1,    3,    5,    7,    1],\n",
       "       [   3,    2,   11,  977,    1,   14,    1,    7,    8,    4],\n",
       "       [   1,    1,    2,    0,  945,    0,    6,    2,    0,    9],\n",
       "       [   3,    5,    0,    6,    6,  856,    5,    1,    0,    3],\n",
       "       [   2,    4,    3,    0,    1,    4,  930,    0,    1,    0],\n",
       "       [   0,    5,    9,    3,    6,    0,    0, 1036,    2,    9],\n",
       "       [   1,   11,    4,    6,    6,    4,    3,    1,  948,    4],\n",
       "       [   2,    1,    1,    5,   12,    1,    0,   12,    3,  919]])"
      ]
     },
     "execution_count": 37,
     "metadata": {},
     "output_type": "execute_result"
    }
   ],
   "source": [
    "# confusion matrix performance on unseen validation data of the ensemble\n",
    "y_pred = voting_clf.predict(X_val)\n",
    "confusion_matrix(y_val, y_pred)"
   ]
  },
  {
   "cell_type": "markdown",
   "id": "6e3fa625-1bf5-43ee-8705-3ef26baf5591",
   "metadata": {},
   "source": [
    "We should get the same individual performance as before. However,\n",
    "previously, the performance on the validation data of the voting ensemble\n",
    "using hard voting was an accuracy of 0.877.  There may be a slight improvement\n",
    "with soft voting, but again I wouldn't want to state this definitively as it may\n",
    "be an artifact of the train/validation split.\n",
    "\n",
    "One interesting thing to note in the confusion matrix.  Some classes look pretty\n",
    "close to perfect for the soft voting (e.g. first two columns.  while other\n",
    "digits seem to have lots of problems (last column).  It seems to me that\n",
    "some digits have improved at the cost of others getting worse here."
   ]
  },
  {
   "cell_type": "markdown",
   "id": "61b0cebc-b68d-4178-93c6-3264256428c2",
   "metadata": {},
   "source": [
    "## Part 4: Create a Blender Stacking Ensemble\n",
    "\n",
    "Run the individual classifiers from the previous exercise to make predictions\n",
    "on the validation set, and create a new training set with the resulting\n",
    "predictions: each training instance is a vector containing the set of predictions\n",
    "from all your classifiers for an image, and the target is the image’s class. Train\n",
    "a classifier on this new training set. Congratulations, you have just trained a\n",
    "blender, and together with the classifiers it forms a stacking ensemble! Now\n",
    "evaluate the ensemble on the test set. For each image in the test set, make\n",
    "predictions with all your classifiers, then feed the predictions to the blender to\n",
    "get the ensemble’s predictions. How does it compare to the voting classifier\n",
    "you trained earlier?\n",
    "\n",
    "### Hard Prediction Blender\n",
    "\n",
    "We will first use the 3 regularized classifiers and do a blender using the\n",
    "predicted target class.\n",
    "\n",
    "I won't retrain again the ensemble estimators.  We can use the previously 3\n",
    "trained estimators from the ensemble. \n",
    "\n",
    "First of all we need to create a new set of training data by hand.  We want to get the\n",
    "predictions for each of the 3 trained previous estimators on the validation data.\n",
    "Note we create a new set of `X` inputs with 3 columns here, where each column\n",
    "holds the prediction for a sample from each of the 3 estimators."
   ]
  },
  {
   "cell_type": "code",
   "execution_count": 38,
   "id": "f305eb6c-b456-4b28-a6d3-f0aa55a662ab",
   "metadata": {},
   "outputs": [],
   "source": [
    "estimators = voting_clf.estimators_"
   ]
  },
  {
   "cell_type": "code",
   "execution_count": 39,
   "id": "e724b727-e538-409a-8cdf-542811f9de62",
   "metadata": {},
   "outputs": [],
   "source": [
    "# now create a new set of inputs using the prediction outputs from all 3 of these estimators\n",
    "# We have an empty array for the X inputs of shape (10,000, 3) where we will gather and hold the\n",
    "# predictions of the estimators we are going to blend\n",
    "X_val_predictions = np.empty((len(X_val), len(estimators)), dtype=np.float32)\n",
    "\n",
    "# fill in the empty array\n",
    "for index, estimator in enumerate(estimators):\n",
    "    X_val_predictions[:, index] = estimator.predict(X_val)"
   ]
  },
  {
   "cell_type": "markdown",
   "id": "25b37cfb-c262-4804-a20e-ea6451b126ea",
   "metadata": {},
   "source": [
    "Here is the resulting new inputs we will use as the input for a new blender/estimator.  Notice that each of the 3\n",
    "columns contains the predicted target from each of our 3 trained estimators respectively."
   ]
  },
  {
   "cell_type": "code",
   "execution_count": 40,
   "id": "e3adcaf3-f62d-44ef-b0d7-d52a29b183e7",
   "metadata": {},
   "outputs": [
    {
     "name": "stdout",
     "output_type": "stream",
     "text": [
      "(10000, 3)\n",
      "[[9. 9. 5.]\n",
      " [8. 8. 8.]\n",
      " [1. 1. 2.]\n",
      " [4. 4. 4.]\n",
      " [4. 4. 4.]\n",
      " [2. 2. 2.]\n",
      " [5. 5. 5.]\n",
      " [9. 9. 9.]\n",
      " [4. 9. 4.]\n",
      " [4. 4. 4.]]\n"
     ]
    }
   ],
   "source": [
    "# basically each column is the prediction from each of the 3 classifiers we have trained so far, on each of the 10,000 validation digits\n",
    "print(X_val_predictions.shape)\n",
    "\n",
    "print(X_val_predictions[:10,:])"
   ]
  },
  {
   "cell_type": "markdown",
   "id": "51051aba-fa22-4519-864c-252eb7790199",
   "metadata": {},
   "source": [
    "As an example, we will use a Random Forest classifier again to be the blender/estimator here.  We could use any type of classifier we have\n",
    "talked about before to train as the blender/estimator.  It may increase performance significantly using some other classifier method here\n",
    "(I did not try out any others, so there may be room for improvements here).\n",
    "\n",
    "We will create a random forest with twice as many estimators as before.  We again don't limit the\n",
    "depth or do regularization here, so this estimator may tend to get overfit.\n",
    "\n",
    "Notice that we ask for the `oob_score` to be calculated here. We\n",
    "discussed this briefly in class, this uses out-of-bag samples to\n",
    "estimate the generalization score.  So while we will test\n",
    "with the test data next, this is also an indication of how well\n",
    "this blender might perform on unseen data, e.g. how well it\n",
    "can generalize.\n",
    "\n",
    "Notice that we simply use the original `y_val` target labels here,\n",
    "which is what we want.  We created a new set of input for this\n",
    "blender, using the predictions from the first stage classifiers.\n",
    "But the targets are the same as we originally need the blender\n",
    "to learn to predict."
   ]
  },
  {
   "cell_type": "code",
   "execution_count": 41,
   "id": "a82f0419-5859-498b-8d71-cb02157f7d70",
   "metadata": {},
   "outputs": [
    {
     "data": {
      "text/plain": [
       "RandomForestClassifier(n_estimators=200, n_jobs=-1, oob_score=True,\n",
       "                       random_state=42)"
      ]
     },
     "execution_count": 41,
     "metadata": {},
     "output_type": "execute_result"
    }
   ],
   "source": [
    "rnd_forest_blender = RandomForestClassifier(n_estimators=200, oob_score=True, random_state=42, n_jobs=-1)\n",
    "rnd_forest_blender.fit(X_val_predictions, y_val)"
   ]
  },
  {
   "cell_type": "markdown",
   "id": "73450a29-6b48-4ebd-8546-27bf3c203f8f",
   "metadata": {},
   "source": [
    "Since we asked for `oob_score` to be calculated, we can get this.\n",
    "This should be a good proxity of the accuracy we will see on unseen\n",
    "test data."
   ]
  },
  {
   "cell_type": "code",
   "execution_count": 42,
   "id": "eea046c3-5edf-4a86-b54c-3c41e1ce0e4d",
   "metadata": {},
   "outputs": [
    {
     "data": {
      "text/plain": [
       "0.9707"
      ]
     },
     "execution_count": 42,
     "metadata": {},
     "output_type": "execute_result"
    }
   ],
   "source": [
    "rnd_forest_blender.oob_score_"
   ]
  },
  {
   "cell_type": "markdown",
   "id": "724f75ed-f81f-4b60-a663-9c821d8171dc",
   "metadata": {},
   "source": [
    "We only got 87 or 88% accuracy with the hard/soft voting classifier previously.  This is probably a\n",
    "significant improvement in performance here, we have a 4% jump over best we saw with simple voting\n",
    "ensembles.\n",
    "\n",
    "But lets check the results with completely unseen test data to be sure.  Up to this point we have\n",
    "never used the `X_test` data in any evaluation.\n",
    "\n",
    "But the `X_test` data has `28x28` inputs, where the blender expects 3 inputs.  So we first again\n",
    "have to create the actual test data using predictions from the state 1 classifiers, before we\n",
    "can feed that to our trained blender/estimator.\n",
    "\n",
    "The procedure is the same as before.  Create an array to hold the predictions from our 3\n",
    "stage 1 estimators, but from making predictions on the `X_test` data this time."
   ]
  },
  {
   "cell_type": "code",
   "execution_count": 43,
   "id": "246a2bcb-ef2d-4de5-8705-349a48602f1c",
   "metadata": {},
   "outputs": [],
   "source": [
    "# generate input data for the blender, but this time on the X_test data that neither the stage 1\n",
    "# estimators, nor the stage 2 blender/estimator have never seen\n",
    "X_test_predictions = np.empty((len(X_test), len(estimators)), dtype=np.float32)\n",
    "\n",
    "# get predictions from all estimators gathered into this new set of X inputs\n",
    "for index, estimator in enumerate(estimators):\n",
    "    X_test_predictions[:, index] = estimator.predict(X_test)"
   ]
  },
  {
   "cell_type": "code",
   "execution_count": 44,
   "id": "efae5cdf-cf9a-4681-8352-f31d11c44dcf",
   "metadata": {},
   "outputs": [],
   "source": [
    "# generate predictions on this set of test prediction inputs\n",
    "y_pred = rnd_forest_blender.predict(X_test_predictions)"
   ]
  },
  {
   "cell_type": "code",
   "execution_count": 45,
   "id": "9469936e-1b81-4a7c-bb5a-41e003ac3929",
   "metadata": {},
   "outputs": [
    {
     "data": {
      "text/plain": [
       "0.9679"
      ]
     },
     "execution_count": 45,
     "metadata": {},
     "output_type": "execute_result"
    }
   ],
   "source": [
    "# raw accuracy on unseen test data\n",
    "accuracy_score(y_test, y_pred)"
   ]
  },
  {
   "cell_type": "code",
   "execution_count": 46,
   "id": "7771e947-3943-444b-97dd-0a051dd99e6e",
   "metadata": {},
   "outputs": [
    {
     "data": {
      "text/plain": [
       "array([[ 969,    1,    3,    0,    1,    1,    2,    1,    5,    0],\n",
       "       [   0, 1137,    5,    4,    0,    0,    0,    3,    2,    1],\n",
       "       [   0,    4,  940,    3,    2,    0,    5,    3,   10,    0],\n",
       "       [   0,    2,   21,  976,    1,   13,    1,    6,   10,    4],\n",
       "       [   1,    1,    2,    0,  878,    0,    4,    6,    2,   12],\n",
       "       [   1,    1,    2,   15,    3,  904,    8,    1,    2,    0],\n",
       "       [   1,    1,    0,    0,    5,    4,  945,    2,    3,    0],\n",
       "       [   0,    6,   10,    0,    4,    0,    0, 1023,    2,   10],\n",
       "       [   1,    4,   10,   10,    5,    7,    5,    5,  918,    4],\n",
       "       [   6,    6,    1,    8,   11,    2,    1,    7,    5,  989]])"
      ]
     },
     "execution_count": 46,
     "metadata": {},
     "output_type": "execute_result"
    }
   ],
   "source": [
    "# confusion matrix of this blender/estimator on the unseen test data\n",
    "confusion_matrix(y_test, y_pred)"
   ]
  },
  {
   "cell_type": "markdown",
   "id": "1953c6df-1a0f-4a91-a78e-ad904a3d4127",
   "metadata": {},
   "source": [
    "The result here mostly verifies that the `oob_score` is basically accurate in this case.  We still get 92%+ accuracy on\n",
    "data that was never seen before by the stage 1 estimators nor the stage 2 blender/estimator."
   ]
  },
  {
   "cell_type": "markdown",
   "id": "aad57e56-b71b-44fc-b08f-d97e10dd3014",
   "metadata": {},
   "source": [
    "### Soft Prediction Blender\n",
    "\n",
    "As a final example, lets see if using the target probability estimates can improve performance of the stacking blender\n",
    "approach here.\n",
    "\n",
    "Again we have already trained our 3 stage 1 estimators, and we trained the SVM classifier to be able to estimate the\n",
    "target probabilities.  So we simply need to do the same as we just did, but we want to use as inputs the target probabilities\n",
    "instead of the simple predicted target class.  Thus since there are 10 target classes in this problem, we will end up with a\n",
    "create input matrix with 30 columns, containing the 10 predicted probabilities from each of the 3 classes.\n",
    "\n",
    "In the following cell we create the new set of inputs from our stage 1 estimators, but using the predicted probabilities\n",
    "instead of the final predicted target class."
   ]
  },
  {
   "cell_type": "code",
   "execution_count": 47,
   "id": "8875825f-a9b3-42aa-a925-f4f0deb5bc6c",
   "metadata": {},
   "outputs": [],
   "source": [
    "# now create a new set of inputs using the prediction outputs from all 3 of these estimators using the validation data\n",
    "# notice that we have 3 * 10 columns now\n",
    "X_val_predictions = np.empty((len(X_val), len(estimators) * 10), dtype=np.float32)\n",
    "\n",
    "# fill in the predictions.  We do some calculations to determine the indexes to fill in.  Notice we\n",
    "# are using the `predict_proba()` here now to get the target class probabilities.\n",
    "for index, estimator in enumerate(estimators):\n",
    "    X_val_predictions[:, index * 10:(index+1)*10] = estimator.predict_proba(X_val)"
   ]
  },
  {
   "cell_type": "markdown",
   "id": "61b0cc81-1879-4b44-8341-fdcb2dc38ccc",
   "metadata": {},
   "source": [
    "Again just to be sure you understand what we have done, lets look at this alternative set of newly generated inputs.\n",
    "These inputs have a shape of (10,000, 30).  We have 30 columns because we have predicted probabilities for each of the\n",
    "10 output target classes from each of the 3 stage 1 estimators."
   ]
  },
  {
   "cell_type": "code",
   "execution_count": 48,
   "id": "a96ec72d-1150-4b55-ad2b-2ac355bfc369",
   "metadata": {},
   "outputs": [
    {
     "name": "stdout",
     "output_type": "stream",
     "text": [
      "(10000, 30)\n",
      "[[0.02       0.02       0.01       0.04       0.15       0.27\n",
      "  0.04       0.07       0.02       0.36       0.05583551 0.06214771\n",
      "  0.03912957 0.08606807 0.11840504 0.17523427 0.06582743 0.1327085\n",
      "  0.07906535 0.18557854 0.         0.         0.         0.00000054\n",
      "  0.         0.963305   0.         0.         0.03657724 0.00011723]\n",
      " [0.02       0.         0.15       0.11       0.04       0.12\n",
      "  0.04       0.02       0.48       0.02       0.08347584 0.01582254\n",
      "  0.15937899 0.18385121 0.05552633 0.11679689 0.06033066 0.01699853\n",
      "  0.26215824 0.0456608  0.         0.         0.00027283 0.05543074\n",
      "  0.         0.00000018 0.         0.         0.94429624 0.        ]\n",
      " [0.         0.51       0.29       0.1        0.         0.\n",
      "  0.01       0.         0.09       0.         0.01791245 0.34733436\n",
      "  0.2208282  0.1338368  0.01758008 0.0402458  0.05363156 0.02489688\n",
      "  0.11841267 0.02532118 0.         0.00005608 0.9607097  0.00027536\n",
      "  0.         0.         0.         0.         0.03895887 0.        ]\n",
      " [0.         0.01       0.01       0.         0.76       0.\n",
      "  0.07       0.05       0.02       0.08       0.02475441 0.01431603\n",
      "  0.0446076  0.02206576 0.41800898 0.0585783  0.07634685 0.08955967\n",
      "  0.05828219 0.1934802  0.         0.         0.         0.\n",
      "  0.96225184 0.         0.         0.00045634 0.00000012 0.03729172]\n",
      " [0.01       0.04       0.06       0.01       0.69       0.\n",
      "  0.04       0.08       0.01       0.06       0.01868596 0.05128258\n",
      "  0.06758576 0.05091359 0.39546502 0.05321224 0.06723177 0.09467319\n",
      "  0.05149394 0.14945596 0.         0.         0.         0.\n",
      "  0.96421456 0.         0.         0.00052147 0.00000008 0.03526386]\n",
      " [0.         0.05       0.75       0.07       0.02       0.\n",
      "  0.01       0.06       0.04       0.         0.04662555 0.05471288\n",
      "  0.42612442 0.10129825 0.03448777 0.04554955 0.0604483  0.07565297\n",
      "  0.12744674 0.02765357 0.         0.00000013 0.94421095 0.055703\n",
      "  0.         0.00000001 0.         0.         0.00008588 0.        ]\n",
      " [0.01       0.22       0.04       0.17       0.01       0.31\n",
      "  0.03       0.05       0.14       0.02       0.05479583 0.14511795\n",
      "  0.05450914 0.12623967 0.07921357 0.17903687 0.06000456 0.08779488\n",
      "  0.12468334 0.08860418 0.0000002  0.00002352 0.         0.05873384\n",
      "  0.         0.94116235 0.         0.         0.00008012 0.        ]\n",
      " [0.01       0.05       0.03       0.07       0.05       0.17\n",
      "  0.07       0.12       0.19       0.24       0.03842963 0.05389811\n",
      "  0.05590326 0.07905823 0.12288849 0.12163608 0.06726811 0.17336272\n",
      "  0.10106687 0.18648851 0.         0.         0.         0.\n",
      "  0.03894139 0.         0.         0.00053674 0.00000014 0.96052176]\n",
      " [0.         0.03       0.         0.06       0.41       0.01\n",
      "  0.01       0.18       0.06       0.24       0.01363117 0.04486449\n",
      "  0.02817461 0.12831992 0.17843126 0.0933887  0.0317151  0.18772335\n",
      "  0.0898138  0.2039376  0.         0.         0.         0.\n",
      "  0.9147795  0.         0.         0.0851122  0.00000017 0.00010815]\n",
      " [0.         0.01       0.         0.05       0.7        0.01\n",
      "  0.02       0.04       0.01       0.16       0.02044662 0.02395106\n",
      "  0.04906883 0.06139436 0.36909083 0.06933439 0.07351948 0.10565536\n",
      "  0.0534927  0.17404637 0.         0.         0.         0.\n",
      "  0.9602277  0.         0.         0.00055223 0.00000017 0.03921986]]\n"
     ]
    }
   ],
   "source": [
    "# basically each column is the prediction from each of the 3 classifiers we have trained so far, on each of the 10,000 validation digits\n",
    "print(X_val_predictions.shape)\n",
    "\n",
    "\n",
    "print(X_val_predictions[:10,:])"
   ]
  },
  {
   "cell_type": "markdown",
   "id": "3f34c89d-01a7-4850-9f33-39ad78a1d5cd",
   "metadata": {},
   "source": [
    "The remaining will be basically a copy of the steps before, but using inputs with the predicted class probabilities instead of the\n",
    "single predicted class."
   ]
  },
  {
   "cell_type": "code",
   "execution_count": 49,
   "id": "958809ca-6404-4e40-9d2c-ee9c595db975",
   "metadata": {},
   "outputs": [
    {
     "data": {
      "text/plain": [
       "RandomForestClassifier(n_estimators=200, n_jobs=-1, oob_score=True,\n",
       "                       random_state=42)"
      ]
     },
     "execution_count": 49,
     "metadata": {},
     "output_type": "execute_result"
    }
   ],
   "source": [
    "# recreate a random forest classifier with 200 estimators on this expanded set of input data\n",
    "rnd_forest_blender = RandomForestClassifier(n_estimators=200, oob_score=True, random_state=42, n_jobs=-1)\n",
    "rnd_forest_blender.fit(X_val_predictions, y_val)"
   ]
  },
  {
   "cell_type": "code",
   "execution_count": 50,
   "id": "ae703d3c-4433-4952-af3b-7a0586f7cdab",
   "metadata": {},
   "outputs": [
    {
     "data": {
      "text/plain": [
       "0.9746"
      ]
     },
     "execution_count": 50,
     "metadata": {},
     "output_type": "execute_result"
    }
   ],
   "source": [
    "# estimate generalization performance from the `oob_score` as before\n",
    "rnd_forest_blender.oob_score_"
   ]
  },
  {
   "cell_type": "markdown",
   "id": "04407a88-be63-4060-bdf7-1ca86106033a",
   "metadata": {},
   "source": [
    "I usually again see an even bigger improvement on the blender stacking performance here.  Performance jumps up to\n",
    "95%+ accuracy.\n",
    "\n",
    "But again, lets double check this by looking at performance for this blender ensemble using\n",
    "the completely unseen test data as before."
   ]
  },
  {
   "cell_type": "code",
   "execution_count": 51,
   "id": "21366b27-9518-4054-bac8-d1d01b5d35c4",
   "metadata": {},
   "outputs": [],
   "source": [
    "# again we need a new set of inputs, but using the X_test data this time\n",
    "X_test_predictions = np.empty((len(X_test), len(estimators)*10), dtype=np.float32)\n",
    "\n",
    "# gather the predicted target probabilities from the estimators for the unseen test data\n",
    "for index, estimator in enumerate(estimators):\n",
    "    X_test_predictions[:, index*10:(index+1)*10] = estimator.predict_proba(X_test)"
   ]
  },
  {
   "cell_type": "code",
   "execution_count": 52,
   "id": "8572f258-4953-45fd-9fd4-783c9baac639",
   "metadata": {},
   "outputs": [],
   "source": [
    "# predictions of the blender on this test data input\n",
    "y_pred = rnd_forest_blender.predict(X_test_predictions)"
   ]
  },
  {
   "cell_type": "code",
   "execution_count": 53,
   "id": "6dcade1c-2f68-46a8-9ed1-6f3eea0c004a",
   "metadata": {},
   "outputs": [
    {
     "data": {
      "text/plain": [
       "0.9709"
      ]
     },
     "execution_count": 53,
     "metadata": {},
     "output_type": "execute_result"
    }
   ],
   "source": [
    "# raw accuracy on unseen test data\n",
    "accuracy_score(y_test, y_pred)"
   ]
  },
  {
   "cell_type": "code",
   "execution_count": 54,
   "id": "f7b6f491-6029-47ce-9c40-f2f3ffb1e70b",
   "metadata": {},
   "outputs": [
    {
     "data": {
      "text/plain": [
       "array([[ 970,    0,    3,    0,    1,    1,    2,    1,    4,    1],\n",
       "       [   0, 1136,    5,    5,    0,    0,    0,    3,    2,    1],\n",
       "       [   0,    4,  940,    3,    2,    1,    7,    3,    7,    0],\n",
       "       [   0,    2,   11,  990,    1,   10,    2,    6,    6,    6],\n",
       "       [   1,    1,    2,    0,  880,    0,    4,    4,    2,   12],\n",
       "       [   1,    0,    1,   16,    0,  908,    8,    1,    2,    0],\n",
       "       [   1,    1,    0,    0,    4,    5,  947,    0,    3,    0],\n",
       "       [   0,    6,   10,    0,    4,    0,    0, 1023,    1,   11],\n",
       "       [   1,    4,    8,   10,    4,    7,    5,    5,  921,    4],\n",
       "       [   6,    6,    0,    8,    9,    1,    0,    8,    4,  994]])"
      ]
     },
     "execution_count": 54,
     "metadata": {},
     "output_type": "execute_result"
    }
   ],
   "source": [
    "# confusion matrix of this blender/estimator on the unseen test data\n",
    "confusion_matrix(y_test, y_pred)"
   ]
  },
  {
   "cell_type": "markdown",
   "id": "fa97692c-67dc-434d-8f4e-3633ab758739",
   "metadata": {},
   "source": [
    "## Conclusion\n",
    "\n",
    "The blended ensemble on the target probabilities shows another increse of 2% or so over the blended ensemble using the simple\n",
    "final predicted target.  Here you should take a step back and appreciate what we have done.  The individual classifiers in\n",
    "this ensemble get raw accuracies from %83 to %90 or so.  So this blended ensemble is definitiely improving the performance over\n",
    "the individual estimators.\n",
    "\n",
    "Also if you recall, the simple hard and soft voting ensembles only achieved about the same or not as good of a result as the\n",
    "best individual classifier in the ensemble.  So the stacked blender here is really doing something to boost performance.\n",
    "\n",
    "But we shouldn't be too impressed.  As we showed in part 1, we can easily train individual good classifiers that achieve about 96 to\n",
    "97% on this data (best NN / DNN classifiers will get above 99% accuracy on unseen test data).  \n",
    "\n",
    "So while this example hopefully helps convince you that ensembles can improve performance, it is still a question if we could find\n",
    "some stacking or blended ensemble that would improve on the best individual classifier performance here."
   ]
  }
 ],
 "metadata": {
  "kernelspec": {
   "display_name": "Python 3 (ipykernel)",
   "language": "python",
   "name": "python3"
  },
  "language_info": {
   "codemirror_mode": {
    "name": "ipython",
    "version": 3
   },
   "file_extension": ".py",
   "mimetype": "text/x-python",
   "name": "python",
   "nbconvert_exporter": "python",
   "pygments_lexer": "ipython3",
   "version": "3.9.7"
  }
 },
 "nbformat": 4,
 "nbformat_minor": 5
}
