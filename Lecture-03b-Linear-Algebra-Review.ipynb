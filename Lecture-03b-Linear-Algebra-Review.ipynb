{
 "metadata": {
  "name": ""
 },
 "nbformat": 3,
 "nbformat_minor": 0,
 "worksheets": [
  {
   "cells": [
    {
     "cell_type": "code",
     "collapsed": false,
     "input": [
      "import numpy as np\n",
      "import matplotlib.pyplot as plt\n",
      "import pandas as pd\n",
      "%matplotlib inline\n",
      "matplotlib.rcParams['figure.figsize'] = (8, 6) # set default figure size, 8in by 6in"
     ],
     "language": "python",
     "metadata": {},
     "outputs": [],
     "prompt_number": 1
    },
    {
     "cell_type": "markdown",
     "metadata": {},
     "source": [
      "# W1 12 Video: Matrices and Vectors\n",
      "\n",
      "[YouTube Video Link](https://www.youtube.com/watch?v=04IlpTiBTsk&index=12&list=PLZ9qNFMHZ-A4rycgrgOYma6zxF4BZGGPW)\n",
      "\n",
      "## Matrices\n",
      "\n",
      "A matrix is a retangular array of numbers:\n",
      "\n",
      "$$\n",
      "\\begin{bmatrix}\n",
      "1402 &  191 \\\\ \n",
      "1371 &  821 \\\\ \n",
      " 949 & 1437 \\\\ \n",
      " 147 & 1448 \\\\ \n",
      "\\end{bmatrix}\n",
      "$$\n",
      "\n",
      "The dimension of a matrix is the number of rows by the number of columns.  In the previous matrix,\n",
      "we have 4 rows by 2 columns.\n",
      "\n",
      "In Python, we use `NumPy` arrays to represent 1, 2 (and higher dimensional) vectors and matrices."
     ]
    },
    {
     "cell_type": "code",
     "collapsed": false,
     "input": [
      "A = np.array([[1402, 191],\n",
      "              [1371, 821],\n",
      "              [949, 1437],\n",
      "              [147, 1448]])\n",
      "print A\n",
      "print A.shape"
     ],
     "language": "python",
     "metadata": {},
     "outputs": [
      {
       "output_type": "stream",
       "stream": "stdout",
       "text": [
        "[[1402  191]\n",
        " [1371  821]\n",
        " [ 949 1437]\n",
        " [ 147 1448]]\n",
        "(4, 2)\n"
       ]
      }
     ],
     "prompt_number": 3
    },
    {
     "cell_type": "markdown",
     "metadata": {},
     "source": [
      "We refer to entries of 2 dimensional matrices using `row,column` indices. So given:\n",
      "\n",
      "$$\n",
      "A\n",
      "=\n",
      "\\begin{bmatrix}\n",
      "1402 &  191 \\\\ \n",
      "1371 &  821 \\\\ \n",
      " 949 & 1437 \\\\ \n",
      " 147 & 1448 \\\\ \n",
      "\\end{bmatrix}\n",
      "$$\n",
      "\n",
      "$$A_{ij} = i,j \\; \\mathrm{entry \\; in \\; the} \\; i^{th} \\; \\mathrm{row,} \\; j^{th} \\; \\mathrm{column}.$$\n",
      "\n",
      "So\n",
      "\n",
      "$$A_{12} = 191$$\n",
      "\n",
      "**NOTE:** In Python, lists and `NumPy` arrays are indexed starting at 0 (0 based indexing).  This means\n",
      "that when you translate any code from a 1 based mathematical indexing, to the 0 based indexing, you \n",
      "always need to subtract one.  So for example, to get the $A_{12}$ entry in our matrix we need to:"
     ]
    },
    {
     "cell_type": "code",
     "collapsed": false,
     "input": [
      "print A[0,1]"
     ],
     "language": "python",
     "metadata": {},
     "outputs": [
      {
       "output_type": "stream",
       "stream": "stdout",
       "text": [
        "191\n"
       ]
      }
     ],
     "prompt_number": 4
    },
    {
     "cell_type": "markdown",
     "metadata": {},
     "source": [
      "## Vector\n",
      "\n",
      "A vector is simply a 1 dimensional vector, or you can think of it as a matrix with n rows and 1 column:\n",
      "\n",
      "$$\n",
      "y\n",
      "=\n",
      "\\begin{bmatrix}\n",
      "460 \\\\ \n",
      "232 \\\\ \n",
      "315 \\\\ \n",
      "178 \\\\ \n",
      "\\end{bmatrix}\n",
      "$$\n",
      "\n",
      "Notice that in `NumPy`, there is a slight difference between a vector, and an array with 1 column:"
     ]
    },
    {
     "cell_type": "code",
     "collapsed": false,
     "input": [
      "# a numpy vector is 1 dimensional, we can initialize with a 1d list\n",
      "y = np.array([460, 232, 315, 178])\n",
      "print y\n",
      "print y.shape\n",
      "\n",
      "# we can create a 4x1 column matrix, like this:\n",
      "z = np.array([[460],\n",
      "              [232],\n",
      "              [315],\n",
      "              [178]])\n",
      "print z\n",
      "print z.shape"
     ],
     "language": "python",
     "metadata": {},
     "outputs": [
      {
       "output_type": "stream",
       "stream": "stdout",
       "text": [
        "[460 232 315 178]\n",
        "(4,)\n",
        "[[460]\n",
        " [232]\n",
        " [315]\n",
        " [178]]\n",
        "(4, 1)\n"
       ]
      }
     ],
     "prompt_number": 6
    },
    {
     "cell_type": "markdown",
     "metadata": {},
     "source": [
      "Sometimes in writing code we can use `NumPy` 1d vectors, but sometimes we need to use a $n \\times 1$\n",
      "column matrix instead.\n",
      "\n"
     ]
    },
    {
     "cell_type": "markdown",
     "metadata": {},
     "source": [
      "# W1 13 Video: Addition and Scalar Multiplication\n",
      "\n",
      "[YouTube Video Link](https://www.youtube.com/watch?v=eCJpIfMrm6U&list=PLZ9qNFMHZ-A4rycgrgOYma6zxF4BZGGPW&index=13)\n",
      "\n",
      "## Matrix Addition\n",
      "\n",
      "Addition and subtraction of matrices are simply element by element wise operations.  The matrices\n",
      "need to have exactly the same dimensions for this to be defined:\n",
      "\n",
      "$$\n",
      "\\begin{bmatrix}\n",
      "1 &  0 \\\\ \n",
      "2 &  5 \\\\ \n",
      "3 & 1 \\\\ \n",
      "\\end{bmatrix}\n",
      "+\n",
      "\\begin{bmatrix}\n",
      "4 & 0.5 \\\\ \n",
      "2 & 5 \\\\ \n",
      "0 & 1 \\\\ \n",
      "\\end{bmatrix}\n",
      "=\n",
      "\\begin{bmatrix}\n",
      "5 & 0.5 \\\\ \n",
      "4 & 10 \\\\ \n",
      "3 & 2 \\\\ \n",
      "\\end{bmatrix}\n",
      "$$\n"
     ]
    },
    {
     "cell_type": "code",
     "collapsed": false,
     "input": [
      "A = np.array([[1, 0],\n",
      "              [2, 5],\n",
      "              [3, 1]])\n",
      "B = np.array([[4, 0.5],\n",
      "              [2, 5],\n",
      "              [0, 1]])\n",
      "\n",
      "print A + B\n",
      "print A - B"
     ],
     "language": "python",
     "metadata": {},
     "outputs": [
      {
       "output_type": "stream",
       "stream": "stdout",
       "text": [
        "[[  5.    0.5]\n",
        " [  4.   10. ]\n",
        " [  3.    2. ]]\n",
        "[[-3.  -0.5]\n",
        " [ 0.   0. ]\n",
        " [ 3.   0. ]]\n"
       ]
      }
     ],
     "prompt_number": 11
    },
    {
     "cell_type": "markdown",
     "metadata": {},
     "source": [
      "## Scalar Multiplication\n",
      "\n",
      "I will probably slip into the habit of using the term scalar here and there.  Scalar is just a fancy\n",
      "term for a regular, single (real valued) value.  Basically the opposite of a Matrix is a scalar value.\n",
      "\n",
      "When you multiply (or divide) a matrix by a scalar value, you simply multiple each value in the matrix\n",
      "by the scalar value:\n",
      "\n",
      "\n",
      "$$\n",
      "3\n",
      "\\times\n",
      "\\begin{bmatrix}\n",
      "1 &  0 \\\\ \n",
      "2 &  5 \\\\ \n",
      "3 & 1 \\\\ \n",
      "\\end{bmatrix}\n",
      "=\n",
      "\\begin{bmatrix}\n",
      "3 & 0 \\\\ \n",
      "6 & 15 \\\\ \n",
      "9 & 3 \\\\ \n",
      "\\end{bmatrix}\n",
      "$$\n"
     ]
    },
    {
     "cell_type": "code",
     "collapsed": false,
     "input": [
      "A = np.array([[1, 0],\n",
      "              [2, 5],\n",
      "              [3, 1]])\n",
      "\n",
      "print 3.0 * A\n",
      "print A / 4.0"
     ],
     "language": "python",
     "metadata": {},
     "outputs": [
      {
       "output_type": "stream",
       "stream": "stdout",
       "text": [
        "[[  3.   0.]\n",
        " [  6.  15.]\n",
        " [  9.   3.]]\n",
        "[[ 0.25  0.  ]\n",
        " [ 0.5   1.25]\n",
        " [ 0.75  0.25]]\n"
       ]
      }
     ],
     "prompt_number": 13
    },
    {
     "cell_type": "markdown",
     "metadata": {},
     "source": [
      "# W1 14 Video: Matrix Vector Multiplication\n",
      "\n",
      "[YouTube Video Link](https://www.youtube.com/watch?v=bA3wxP5AtQk&index=14&list=PLZ9qNFMHZ-A4rycgrgOYma6zxF4BZGGPW)\n",
      "\n",
      "## Example of Matrix x Vector Multiplication\n",
      "\n",
      "$$\n",
      "\\begin{bmatrix}\n",
      "1 &  3 \\\\ \n",
      "4 &  2 \\\\ \n",
      "2 & 1 \\\\ \n",
      "\\end{bmatrix}\n",
      "\\begin{bmatrix}\n",
      "1 \\\\ \n",
      "5 \\\\ \n",
      "\\end{bmatrix}\n",
      "=\n",
      "\\begin{bmatrix}\n",
      "16 \\\\\n",
      "4 \\\\\n",
      "7 \\\\\n",
      "\\end{bmatrix}\n",
      "$$\n",
      "\n",
      "Here we multiple a $3 \\times 2$ matrix by a $2 \\times 1$ vector.  The result is a $3 \\times 1$\n",
      "vector.\n",
      "\n",
      "In `NumPy`, the `*` operator only works to perform scalar multiplication of a matrix with a scalar\n",
      "value (or scalar multiplications of two matrices of the same dimensions), thus the following\n",
      "is not going to work."
     ]
    },
    {
     "cell_type": "code",
     "collapsed": false,
     "input": [
      "A = np.array([[1, 3],\n",
      "              [4, 2],\n",
      "              [2, 1]])\n",
      "B = np.array([[1],\n",
      "              [5]])\n",
      "\n",
      "print A * B"
     ],
     "language": "python",
     "metadata": {},
     "outputs": [
      {
       "ename": "ValueError",
       "evalue": "operands could not be broadcast together with shapes (3,2) (2,1) ",
       "output_type": "pyerr",
       "traceback": [
        "\u001b[0;31m---------------------------------------------------------------------------\u001b[0m\n\u001b[0;31mValueError\u001b[0m                                Traceback (most recent call last)",
        "\u001b[0;32m<ipython-input-14-5d04cd1bcc06>\u001b[0m in \u001b[0;36m<module>\u001b[0;34m()\u001b[0m\n\u001b[1;32m      5\u001b[0m               [5]])\n\u001b[1;32m      6\u001b[0m \u001b[0;34m\u001b[0m\u001b[0m\n\u001b[0;32m----> 7\u001b[0;31m \u001b[0;32mprint\u001b[0m \u001b[0mA\u001b[0m \u001b[0;34m*\u001b[0m \u001b[0mB\u001b[0m\u001b[0;34m\u001b[0m\u001b[0m\n\u001b[0m",
        "\u001b[0;31mValueError\u001b[0m: operands could not be broadcast together with shapes (3,2) (2,1) "
       ]
      }
     ],
     "prompt_number": 14
    },
    {
     "cell_type": "markdown",
     "metadata": {},
     "source": [
      "We instead need to use a `NumPy` library function if we want to do matrix multiplication:"
     ]
    },
    {
     "cell_type": "code",
     "collapsed": false,
     "input": [
      "np.dot(A, B)"
     ],
     "language": "python",
     "metadata": {},
     "outputs": [
      {
       "metadata": {},
       "output_type": "pyout",
       "prompt_number": 15,
       "text": [
        "array([[16],\n",
        "       [14],\n",
        "       [ 7]])"
       ]
      }
     ],
     "prompt_number": 15
    },
    {
     "cell_type": "markdown",
     "metadata": {},
     "source": [
      "## A Neat Trick\n",
      "\n",
      "We can compute all of the model hypothesis (given a particular $\\theta_0, \\theta_1$) for a number of\n",
      "houses simultaneously using matrix vector multiplication.\n",
      "\n",
      "Say our hypothesis is:\n",
      "\n",
      "$$\n",
      "h_\\theta(x) = -40 + 0.25x\n",
      "$$\n",
      "\n",
      "We can do the following for a set of houses, to compute the model prices for all of the houses at the\n",
      "same time:"
     ]
    },
    {
     "cell_type": "code",
     "collapsed": false,
     "input": [
      "X = np.array([[1, 2104],\n",
      "              [1, 1416],\n",
      "              [1, 1534],\n",
      "              [1, 852]])\n",
      "theta = np.array([[-40],\n",
      "                  [0.25]])\n",
      "\n",
      "y = np.dot(X, theta) # y is our hypothesis/model prices for the 4 houses of the given sizes\n",
      "print y"
     ],
     "language": "python",
     "metadata": {},
     "outputs": [
      {
       "output_type": "stream",
       "stream": "stdout",
       "text": [
        "[[ 486. ]\n",
        " [ 314. ]\n",
        " [ 343.5]\n",
        " [ 173. ]]\n"
       ]
      }
     ],
     "prompt_number": 18
    },
    {
     "cell_type": "markdown",
     "metadata": {},
     "source": [
      "Using a vectorized matrix vector multiplication like this is much faster than doing this in a for loop.\n",
      "Vectorized operations are much more computationally efficient."
     ]
    },
    {
     "cell_type": "markdown",
     "metadata": {},
     "source": [
      "# W1 15 Video: Matrix Vector Multiplication\n",
      " \n",
      "This video appeared twice in the YouTube play list, so W1 15 is a repat of W1 14.\n",
      "\n",
      "# W1 16 Video: Matrix Matrix Multiplication\n",
      "\n",
      "[YouTube Video Link](https://www.youtube.com/watch?v=aqK2Y0l2rXE&list=PLZ9qNFMHZ-A4rycgrgOYma6zxF4BZGGPW&index=16)\n",
      "\n",
      "## Multiplying two matrices together\n",
      "\n",
      "This is really a simple extension of the matrix by vector multiplication:\n",
      "\n",
      "$$\n",
      "\\begin{bmatrix}\n",
      "1 &  3 & 2 \\\\ \n",
      "4 &  0 & 1 \\\\ \n",
      "\\end{bmatrix}\n",
      "\\begin{bmatrix}\n",
      "1 & 3 \\\\ \n",
      "0 & 1 \\\\\n",
      "5 & 2 \\\\\n",
      "\\end{bmatrix}\n",
      "=\n",
      "\\begin{bmatrix}\n",
      "11 & 10 \\\\\n",
      "9  & 14 \\\\\n",
      "\\end{bmatrix}\n",
      "$$\n",
      "\n",
      "In `NumPy` we still use the same `np.dot()` function to perform matrix by matrix multiplication:"
     ]
    },
    {
     "cell_type": "code",
     "collapsed": false,
     "input": [
      "A = np.array([[1, 3, 2],\n",
      "              [4, 0, 1]])\n",
      "B = np.array([[1, 3],\n",
      "              [0, 1],\n",
      "              [5, 2]])\n",
      "\n",
      "print np.dot(A, B)"
     ],
     "language": "python",
     "metadata": {},
     "outputs": [
      {
       "output_type": "stream",
       "stream": "stdout",
       "text": [
        "[[11 10]\n",
        " [ 9 14]]\n"
       ]
      }
     ],
     "prompt_number": 20
    },
    {
     "cell_type": "markdown",
     "metadata": {},
     "source": []
    }
   ],
   "metadata": {}
  }
 ]
}