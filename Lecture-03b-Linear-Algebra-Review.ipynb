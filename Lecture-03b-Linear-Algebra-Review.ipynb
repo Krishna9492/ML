{
 "cells": [
  {
   "cell_type": "code",
   "execution_count": 1,
   "metadata": {
    "collapsed": false
   },
   "outputs": [],
   "source": [
    "import numpy as np\n",
    "import matplotlib.pyplot as plt\n",
    "import pandas as pd\n",
    "%matplotlib inline\n",
    "plt.rcParams['figure.figsize'] = (8, 6) # set default figure size, 8in by 6in"
   ]
  },
  {
   "cell_type": "markdown",
   "metadata": {},
   "source": [
    "# Video W1 12: Matrices and Vectors\n",
    "\n",
    "[YouTube Video Link](https://www.youtube.com/watch?v=04IlpTiBTsk&index=12&list=PLZ9qNFMHZ-A4rycgrgOYma6zxF4BZGGPW)\n",
    "\n",
    "## Matrices\n",
    "\n",
    "A matrix is a retangular array of numbers:\n",
    "\n",
    "$$\n",
    "\\begin{bmatrix}\n",
    "1402 &  191 \\\\ \n",
    "1371 &  821 \\\\ \n",
    " 949 & 1437 \\\\ \n",
    " 147 & 1448 \\\\ \n",
    "\\end{bmatrix}\n",
    "$$\n",
    "\n",
    "The dimension of a matrix is the number of rows by the number of columns.  In the previous matrix,\n",
    "we have 4 rows by 2 columns.\n",
    "\n",
    "In Python, we use `NumPy` arrays to represent 1, 2 (and higher dimensional) vectors and matrices."
   ]
  },
  {
   "cell_type": "code",
   "execution_count": 2,
   "metadata": {
    "collapsed": false
   },
   "outputs": [
    {
     "name": "stdout",
     "output_type": "stream",
     "text": [
      "[[1402  191]\n",
      " [1371  821]\n",
      " [ 949 1437]\n",
      " [ 147 1448]]\n",
      "(4, 2)\n"
     ]
    }
   ],
   "source": [
    "A = np.array([[1402, 191],\n",
    "              [1371, 821],\n",
    "              [949, 1437],\n",
    "              [147, 1448]])\n",
    "print A\n",
    "print A.shape"
   ]
  },
  {
   "cell_type": "markdown",
   "metadata": {},
   "source": [
    "We refer to entries of 2 dimensional matrices using `row,column` indices. So given:\n",
    "\n",
    "$$\n",
    "A\n",
    "=\n",
    "\\begin{bmatrix}\n",
    "1402 &  191 \\\\ \n",
    "1371 &  821 \\\\ \n",
    " 949 & 1437 \\\\ \n",
    " 147 & 1448 \\\\ \n",
    "\\end{bmatrix}\n",
    "$$\n",
    "\n",
    "$$A_{ij} = i,j \\; \\mathrm{entry \\; in \\; the} \\; i^{th} \\; \\mathrm{row,} \\; j^{th} \\; \\mathrm{column}.$$\n",
    "\n",
    "So\n",
    "\n",
    "$$A_{12} = 191$$\n",
    "\n",
    "**NOTE:** In Python, lists and `NumPy` arrays are indexed starting at 0 (0 based indexing).  This means\n",
    "that when you translate any code from a 1 based mathematical indexing, to the 0 based indexing, you \n",
    "always need to subtract one.  So for example, to get the $A_{12}$ entry in our matrix we need to:"
   ]
  },
  {
   "cell_type": "code",
   "execution_count": 3,
   "metadata": {
    "collapsed": false
   },
   "outputs": [
    {
     "name": "stdout",
     "output_type": "stream",
     "text": [
      "191\n"
     ]
    }
   ],
   "source": [
    "print A[0,1]"
   ]
  },
  {
   "cell_type": "markdown",
   "metadata": {},
   "source": [
    "## Vector\n",
    "\n",
    "A vector is simply a 1 dimensional vector, or you can think of it as a matrix with n rows and 1 column:\n",
    "\n",
    "$$\n",
    "y\n",
    "=\n",
    "\\begin{bmatrix}\n",
    "460 \\\\ \n",
    "232 \\\\ \n",
    "315 \\\\ \n",
    "178 \\\\ \n",
    "\\end{bmatrix}\n",
    "$$\n",
    "\n",
    "Notice that in `NumPy`, there is a slight difference between a vector, and an array with 1 column:"
   ]
  },
  {
   "cell_type": "code",
   "execution_count": 4,
   "metadata": {
    "collapsed": false
   },
   "outputs": [
    {
     "name": "stdout",
     "output_type": "stream",
     "text": [
      "[460 232 315 178]\n",
      "(4,)\n",
      "[[460]\n",
      " [232]\n",
      " [315]\n",
      " [178]]\n",
      "(4, 1)\n"
     ]
    }
   ],
   "source": [
    "# a numpy vector is 1 dimensional, we can initialize with a 1d list\n",
    "y = np.array([460, 232, 315, 178])\n",
    "print y\n",
    "print y.shape\n",
    "\n",
    "# we can create a 4x1 column matrix, like this:\n",
    "z = np.array([[460],\n",
    "              [232],\n",
    "              [315],\n",
    "              [178]])\n",
    "print z\n",
    "print z.shape"
   ]
  },
  {
   "cell_type": "markdown",
   "metadata": {},
   "source": [
    "Sometimes in writing code we can use `NumPy` 1d vectors, but sometimes we need to use a $n \\times 1$\n",
    "column matrix instead.\n",
    "\n"
   ]
  },
  {
   "cell_type": "markdown",
   "metadata": {},
   "source": [
    "# Video W1 13: Addition and Scalar Multiplication\n",
    "\n",
    "[YouTube Video Link](https://www.youtube.com/watch?v=eCJpIfMrm6U&list=PLZ9qNFMHZ-A4rycgrgOYma6zxF4BZGGPW&index=13)\n",
    "\n",
    "## Matrix Addition\n",
    "\n",
    "Addition and subtraction of matrices are simply element by element wise operations.  The matrices\n",
    "need to have exactly the same dimensions for this to be defined:\n",
    "\n",
    "$$\n",
    "\\begin{bmatrix}\n",
    "1 &  0 \\\\ \n",
    "2 &  5 \\\\ \n",
    "3 & 1 \\\\ \n",
    "\\end{bmatrix}\n",
    "+\n",
    "\\begin{bmatrix}\n",
    "4 & 0.5 \\\\ \n",
    "2 & 5 \\\\ \n",
    "0 & 1 \\\\ \n",
    "\\end{bmatrix}\n",
    "=\n",
    "\\begin{bmatrix}\n",
    "5 & 0.5 \\\\ \n",
    "4 & 10 \\\\ \n",
    "3 & 2 \\\\ \n",
    "\\end{bmatrix}\n",
    "$$\n"
   ]
  },
  {
   "cell_type": "code",
   "execution_count": 5,
   "metadata": {
    "collapsed": false
   },
   "outputs": [
    {
     "name": "stdout",
     "output_type": "stream",
     "text": [
      "[[  5.    0.5]\n",
      " [  4.   10. ]\n",
      " [  3.    2. ]]\n",
      "[[-3.  -0.5]\n",
      " [ 0.   0. ]\n",
      " [ 3.   0. ]]\n"
     ]
    }
   ],
   "source": [
    "A = np.array([[1, 0],\n",
    "              [2, 5],\n",
    "              [3, 1]])\n",
    "B = np.array([[4, 0.5],\n",
    "              [2, 5],\n",
    "              [0, 1]])\n",
    "\n",
    "print A + B\n",
    "print A - B"
   ]
  },
  {
   "cell_type": "markdown",
   "metadata": {},
   "source": [
    "## Scalar Multiplication\n",
    "\n",
    "I will probably slip into the habit of using the term scalar here and there.  Scalar is just a fancy\n",
    "term for a regular, single (real valued) value.  Basically the opposite of a Matrix is a scalar value.\n",
    "\n",
    "When you multiply (or divide) a matrix by a scalar value, you simply multiple each value in the matrix\n",
    "by the scalar value:\n",
    "\n",
    "\n",
    "$$\n",
    "3\n",
    "\\times\n",
    "\\begin{bmatrix}\n",
    "1 &  0 \\\\ \n",
    "2 &  5 \\\\ \n",
    "3 & 1 \\\\ \n",
    "\\end{bmatrix}\n",
    "=\n",
    "\\begin{bmatrix}\n",
    "3 & 0 \\\\ \n",
    "6 & 15 \\\\ \n",
    "9 & 3 \\\\ \n",
    "\\end{bmatrix}\n",
    "$$\n"
   ]
  },
  {
   "cell_type": "code",
   "execution_count": 6,
   "metadata": {
    "collapsed": false
   },
   "outputs": [
    {
     "name": "stdout",
     "output_type": "stream",
     "text": [
      "[[  3.   0.]\n",
      " [  6.  15.]\n",
      " [  9.   3.]]\n",
      "[[ 0.25  0.  ]\n",
      " [ 0.5   1.25]\n",
      " [ 0.75  0.25]]\n"
     ]
    }
   ],
   "source": [
    "A = np.array([[1, 0],\n",
    "              [2, 5],\n",
    "              [3, 1]])\n",
    "\n",
    "print 3.0 * A\n",
    "print A / 4.0"
   ]
  },
  {
   "cell_type": "markdown",
   "metadata": {},
   "source": [
    "# Video W1 14: Matrix Vector Multiplication\n",
    "\n",
    "[YouTube Video Link](https://www.youtube.com/watch?v=bA3wxP5AtQk&index=14&list=PLZ9qNFMHZ-A4rycgrgOYma6zxF4BZGGPW)\n",
    "\n",
    "## Example of Matrix x Vector Multiplication\n",
    "\n",
    "$$\n",
    "\\begin{bmatrix}\n",
    "1 &  3 \\\\ \n",
    "4 &  2 \\\\ \n",
    "2 & 1 \\\\ \n",
    "\\end{bmatrix}\n",
    "\\begin{bmatrix}\n",
    "1 \\\\ \n",
    "5 \\\\ \n",
    "\\end{bmatrix}\n",
    "=\n",
    "\\begin{bmatrix}\n",
    "16 \\\\\n",
    "4 \\\\\n",
    "7 \\\\\n",
    "\\end{bmatrix}\n",
    "$$\n",
    "\n",
    "Here we multiple a $3 \\times 2$ matrix by a $2 \\times 1$ vector.  The result is a $3 \\times 1$\n",
    "vector.\n",
    "\n",
    "In `NumPy`, the `*` operator only works to perform scalar multiplication of a matrix with a scalar\n",
    "value (or scalar multiplications of two matrices of the same dimensions), thus the following\n",
    "is not going to work."
   ]
  },
  {
   "cell_type": "code",
   "execution_count": 7,
   "metadata": {
    "collapsed": false
   },
   "outputs": [
    {
     "ename": "ValueError",
     "evalue": "operands could not be broadcast together with shapes (3,2) (2,1) ",
     "output_type": "error",
     "traceback": [
      "\u001b[0;31m---------------------------------------------------------------------------\u001b[0m",
      "\u001b[0;31mValueError\u001b[0m                                Traceback (most recent call last)",
      "\u001b[0;32m<ipython-input-7-5d04cd1bcc06>\u001b[0m in \u001b[0;36m<module>\u001b[0;34m()\u001b[0m\n\u001b[1;32m      5\u001b[0m               [5]])\n\u001b[1;32m      6\u001b[0m \u001b[0;34m\u001b[0m\u001b[0m\n\u001b[0;32m----> 7\u001b[0;31m \u001b[0;32mprint\u001b[0m \u001b[0mA\u001b[0m \u001b[0;34m*\u001b[0m \u001b[0mB\u001b[0m\u001b[0;34m\u001b[0m\u001b[0m\n\u001b[0m",
      "\u001b[0;31mValueError\u001b[0m: operands could not be broadcast together with shapes (3,2) (2,1) "
     ]
    }
   ],
   "source": [
    "A = np.array([[1, 3],\n",
    "              [4, 2],\n",
    "              [2, 1]])\n",
    "B = np.array([[1],\n",
    "              [5]])\n",
    "\n",
    "print A * B"
   ]
  },
  {
   "cell_type": "markdown",
   "metadata": {},
   "source": [
    "We instead need to use a `NumPy` library function if we want to do matrix multiplication:"
   ]
  },
  {
   "cell_type": "code",
   "execution_count": 8,
   "metadata": {
    "collapsed": false
   },
   "outputs": [
    {
     "data": {
      "text/plain": [
       "array([[16],\n",
       "       [14],\n",
       "       [ 7]])"
      ]
     },
     "execution_count": 8,
     "metadata": {},
     "output_type": "execute_result"
    }
   ],
   "source": [
    "np.dot(A, B)"
   ]
  },
  {
   "cell_type": "markdown",
   "metadata": {},
   "source": [
    "## A Neat Trick\n",
    "\n",
    "We can compute all of the model hypothesis (given a particular $\\theta_0, \\theta_1$) for a number of\n",
    "houses simultaneously using matrix vector multiplication.\n",
    "\n",
    "Say our hypothesis is:\n",
    "\n",
    "$$\n",
    "h_\\theta(x) = -40 + 0.25x\n",
    "$$\n",
    "\n",
    "We can do the following for a set of houses, to compute the model prices for all of the houses at the\n",
    "same time:"
   ]
  },
  {
   "cell_type": "code",
   "execution_count": 9,
   "metadata": {
    "collapsed": false
   },
   "outputs": [
    {
     "name": "stdout",
     "output_type": "stream",
     "text": [
      "[[ 486. ]\n",
      " [ 314. ]\n",
      " [ 343.5]\n",
      " [ 173. ]]\n"
     ]
    }
   ],
   "source": [
    "X = np.array([[1, 2104],\n",
    "              [1, 1416],\n",
    "              [1, 1534],\n",
    "              [1, 852]])\n",
    "Theta = np.array([[-40],\n",
    "                  [0.25]])\n",
    "\n",
    "y = np.dot(X, Theta) # y is our hypothesis/model prices for the 4 houses of the given sizes\n",
    "print y"
   ]
  },
  {
   "cell_type": "markdown",
   "metadata": {},
   "source": [
    "Using a vectorized matrix vector multiplication like this is much faster than doing this in a for loop.\n",
    "Vectorized operations are much more computationally efficient."
   ]
  },
  {
   "cell_type": "markdown",
   "metadata": {},
   "source": [
    "# Video W1 15: Matrix Vector Multiplication\n",
    " \n",
    "This video appeared twice in the YouTube play list, so W1 15 is a repat of W1 14.\n",
    "\n",
    "# Video W1 16: Matrix Matrix Multiplication\n",
    "\n",
    "[YouTube Video Link](https://www.youtube.com/watch?v=aqK2Y0l2rXE&list=PLZ9qNFMHZ-A4rycgrgOYma6zxF4BZGGPW&index=16)\n",
    "\n",
    "## Multiplying two matrices together\n",
    "\n",
    "This is really a simple extension of the matrix by vector multiplication:\n",
    "\n",
    "$$\n",
    "\\begin{bmatrix}\n",
    "1 &  3 & 2 \\\\ \n",
    "4 &  0 & 1 \\\\ \n",
    "\\end{bmatrix}\n",
    "\\begin{bmatrix}\n",
    "1 & 3 \\\\ \n",
    "0 & 1 \\\\\n",
    "5 & 2 \\\\\n",
    "\\end{bmatrix}\n",
    "=\n",
    "\\begin{bmatrix}\n",
    "11 & 10 \\\\\n",
    "9  & 14 \\\\\n",
    "\\end{bmatrix}\n",
    "$$\n",
    "\n",
    "In `NumPy` we still use the same `np.dot()` function to perform matrix by matrix multiplication:"
   ]
  },
  {
   "cell_type": "code",
   "execution_count": 10,
   "metadata": {
    "collapsed": false
   },
   "outputs": [
    {
     "name": "stdout",
     "output_type": "stream",
     "text": [
      "[[11 10]\n",
      " [ 9 14]]\n"
     ]
    }
   ],
   "source": [
    "A = np.array([[1, 3, 2],\n",
    "              [4, 0, 1]])\n",
    "B = np.array([[1, 3],\n",
    "              [0, 1],\n",
    "              [5, 2]])\n",
    "\n",
    "print np.dot(A, B)"
   ]
  },
  {
   "cell_type": "code",
   "execution_count": 11,
   "metadata": {
    "collapsed": false
   },
   "outputs": [
    {
     "name": "stdout",
     "output_type": "stream",
     "text": [
      "[[ 9  7]\n",
      " [15 12]]\n"
     ]
    }
   ],
   "source": [
    "# another example, a 2x2 times a 2x2 matrix\n",
    "A = np.array([[1, 3],\n",
    "              [2, 5]])\n",
    "B = np.array([[0, 1],\n",
    "              [3, 2]])\n",
    "\n",
    "print np.dot(A, B)"
   ]
  },
  {
   "cell_type": "markdown",
   "metadata": {},
   "source": [
    "## More Neat Tricks\n",
    "\n",
    "Lets say instead of 1 hypothesis, we instead have 3 hypotheses that we want to calculate the predicted price for a set of houses\n",
    "for:\n",
    "\n",
    "$$\n",
    "h_\\theta(x) = -40 + 0.25x\n",
    "$$\n",
    "\n",
    "$$\n",
    "h_\\theta(x) = 200 + 0.1x\n",
    "$$\n",
    "\n",
    "$$\n",
    "h_\\theta(x) = -150 + 0.4x\n",
    "$$\n",
    "\n",
    "\n",
    "We can use matrix matrix multiplication to perform all of the prediction calculations in a single vectorized operation.\n"
   ]
  },
  {
   "cell_type": "code",
   "execution_count": 12,
   "metadata": {
    "collapsed": false
   },
   "outputs": [
    {
     "name": "stdout",
     "output_type": "stream",
     "text": [
      "[[ 486.   410.4  691.6]\n",
      " [ 314.   341.6  416.4]\n",
      " [ 343.5  353.4  463.6]\n",
      " [ 173.   285.2  190.8]]\n"
     ]
    }
   ],
   "source": [
    "X = np.array([[1, 2104],\n",
    "              [1, 1416],\n",
    "              [1, 1534],\n",
    "              [1, 852]])\n",
    "\n",
    "Theta = np.array([[-40, 200, -150],\n",
    "                  [0.25, 0.1, 0.4]])\n",
    "\n",
    "print np.dot(X, Theta)"
   ]
  },
  {
   "cell_type": "markdown",
   "metadata": {},
   "source": [
    "# Video W1 17: Matrix Multiplication Properties\n",
    "\n",
    "[YouTube Video Link](https://www.youtube.com/watch?v=00GJM2Js7AI&index=17&list=PLZ9qNFMHZ-A4rycgrgOYma6zxF4BZGGPW)\n",
    "\n",
    "A discussion of some things you should be aware when using linear algebra matrix operations.\n",
    "\n",
    "- Matrix multipication is not commutative\n",
    "- However, matrix multiplication is associative\n"
   ]
  },
  {
   "cell_type": "code",
   "execution_count": 13,
   "metadata": {
    "collapsed": false
   },
   "outputs": [
    {
     "name": "stdout",
     "output_type": "stream",
     "text": [
      "[[2 0]\n",
      " [0 0]]\n",
      "[[0 0]\n",
      " [2 2]]\n"
     ]
    }
   ],
   "source": [
    "# matrix multiplication is not commutative\n",
    "A = np.array([[1, 1],\n",
    "              [0, 0]])\n",
    "B = np.array([[0, 0],\n",
    "              [2, 0]])\n",
    "\n",
    "print np.dot(A, B)\n",
    "print np.dot(B, A)"
   ]
  },
  {
   "cell_type": "code",
   "execution_count": 14,
   "metadata": {
    "collapsed": false
   },
   "outputs": [
    {
     "name": "stdout",
     "output_type": "stream",
     "text": [
      "[[4 0]\n",
      " [0 0]]\n",
      "[[4 0]\n",
      " [0 0]]\n"
     ]
    }
   ],
   "source": [
    "# Matrix multiplication IS associative\n",
    "C = np.array([[2, 0],\n",
    "              [2, 1]])\n",
    "\n",
    "Tmp = np.dot(A, B)\n",
    "print np.dot(Tmp, C)\n",
    "\n",
    "Tmp = np.dot(B,C)\n",
    "print np.dot(A, Tmp)"
   ]
  },
  {
   "cell_type": "markdown",
   "metadata": {},
   "source": [
    "## Identity Matrix\n",
    "\n",
    "For scalar values, the value 1 is the identity, e.g $1 \\times z = z \\times 1 = z$.\n",
    "\n",
    "For matrices there is an identity matrix, denotied as $I$ or $(I_{n \\times n})$.  The identity matrix has 1's on the diagonal, and\n",
    "zeros every else."
   ]
  },
  {
   "cell_type": "code",
   "execution_count": 15,
   "metadata": {
    "collapsed": false
   },
   "outputs": [
    {
     "name": "stdout",
     "output_type": "stream",
     "text": [
      "[[ 1.  0.  0.  0.]\n",
      " [ 0.  1.  0.  0.]\n",
      " [ 0.  0.  1.  0.]\n",
      " [ 0.  0.  0.  1.]]\n"
     ]
    }
   ],
   "source": [
    "# the 4x4 identity matrix\n",
    "print np.eye(4)"
   ]
  },
  {
   "cell_type": "markdown",
   "metadata": {},
   "source": [
    "For any matrix $A$,\n",
    "\n",
    "$$\n",
    "A \\cdot I = I \\cdot A = A\n",
    "$$"
   ]
  },
  {
   "cell_type": "code",
   "execution_count": 16,
   "metadata": {
    "collapsed": false
   },
   "outputs": [
    {
     "name": "stdout",
     "output_type": "stream",
     "text": [
      "[[ 3.  4.  7.]\n",
      " [ 1.  8.  2.]\n",
      " [ 9.  6.  5.]]\n",
      "[[ 3.  4.  7.]\n",
      " [ 1.  8.  2.]\n",
      " [ 9.  6.  5.]]\n"
     ]
    }
   ],
   "source": [
    "A = np.array([[3, 4, 7],\n",
    "              [1, 8, 2],\n",
    "              [9, 6, 5]])\n",
    "\n",
    "I = np.eye(3)\n",
    "\n",
    "print np.dot(A, I)\n",
    "print np.dot(I, A)"
   ]
  },
  {
   "cell_type": "markdown",
   "metadata": {},
   "source": [
    "# Video W1 18: Inverse and Transpose\n",
    "\n",
    "[YouTube Video Link](https://www.youtube.com/watch?v=9McrlFqn-gg&index=18&list=PLZ9qNFMHZ-A4rycgrgOYma6zxF4BZGGPW)\n",
    "\n",
    "The inverse of a scalar is simply the value such that when you multiple the scalar by its inverse you get 1.\n",
    "\n",
    "For example:\n",
    "$$\n",
    "3 \\times 3^{-1} = 3 \\times \\frac{1}{3} = 1\n",
    "$$\n",
    "\n",
    "For a matrix, the inverse of a matrix is a matrix such that:\n",
    "\n",
    "$$\n",
    "A \\cdot (A^{-1}) = A^{-1} \\cdot A = I\n",
    "$$\n",
    "\n",
    "Only square matrices can have inverses.  But not all square matrices are guaranted to have an inverse.  Finding the inverse of\n",
    "a square matrix (if it exists) can be difficult.  Here is an example of a matrix and its inverse:"
   ]
  },
  {
   "cell_type": "code",
   "execution_count": 17,
   "metadata": {
    "collapsed": false
   },
   "outputs": [
    {
     "name": "stdout",
     "output_type": "stream",
     "text": [
      "[[  1.00000000e+00  -5.55111512e-17]\n",
      " [  0.00000000e+00   1.00000000e+00]]\n"
     ]
    }
   ],
   "source": [
    "A = np.array([[3, 4],\n",
    "              [2, 16]])\n",
    "Ainv = np.array([[0.4, -0.1],\n",
    "                 [-0.05, 0.075]])\n",
    "\n",
    "# show that Ainv is the inverse of A\n",
    "print np.dot(A, Ainv)"
   ]
  },
  {
   "cell_type": "markdown",
   "metadata": {},
   "source": [
    "Don't be confused if the numbers (especially the 0's), are't exactly 1 or 0, the result is very close to the Identity matrix \n",
    "(within machine precision of the calculation).\n",
    "\n",
    "How do we compute the Inverse of a matrix?  There are algorithms to do this (of course), and it is difficult to do by hand.\n",
    "The `NumPy` library has functions that can be used to compute the inverse of a matrix:"
   ]
  },
  {
   "cell_type": "code",
   "execution_count": 18,
   "metadata": {
    "collapsed": false
   },
   "outputs": [
    {
     "name": "stdout",
     "output_type": "stream",
     "text": [
      "[[ 0.4   -0.1  ]\n",
      " [-0.05   0.075]]\n"
     ]
    }
   ],
   "source": [
    "print np.linalg.inv(A)"
   ]
  },
  {
   "cell_type": "code",
   "execution_count": 19,
   "metadata": {
    "collapsed": false
   },
   "outputs": [
    {
     "name": "stdout",
     "output_type": "stream",
     "text": [
      "[[ 1.  0.]\n",
      " [ 0.  1.]]\n"
     ]
    }
   ],
   "source": [
    "print np.dot(A, np.linalg.inv(A))"
   ]
  },
  {
   "cell_type": "markdown",
   "metadata": {},
   "source": [
    "Some scalar values don't have an inverse, for example 0 doesn't have an inverse.  Likewise, some matrices don't have an inverse.\n",
    "However for machine learning this is usually not an issue, because often there are pseudo inverses that are close enough for\n",
    "machine learning purposes."
   ]
  },
  {
   "cell_type": "markdown",
   "metadata": {},
   "source": [
    "## Matrix Transpose\n",
    "\n",
    "The transpose of matrix simply flips the row and column indexes of a matrix:\n",
    "\n",
    "$$\n",
    "A =\n",
    "\\begin{bmatrix}\n",
    "1 &  2 & 0 \\\\ \n",
    "3 &  5 & 9 \\\\ \n",
    "\\end{bmatrix}\n",
    "\\;\\;\\;\n",
    "A^T =\n",
    "\\begin{bmatrix}\n",
    "1 &  3 \\\\ \n",
    "2 &  5\\\\\n",
    "0 & 9 \\\\\n",
    "\\end{bmatrix}\n",
    "$$"
   ]
  },
  {
   "cell_type": "code",
   "execution_count": 20,
   "metadata": {
    "collapsed": false
   },
   "outputs": [
    {
     "name": "stdout",
     "output_type": "stream",
     "text": [
      "[[1 3]\n",
      " [2 5]\n",
      " [0 9]]\n",
      "[[1 3]\n",
      " [2 5]\n",
      " [0 9]]\n"
     ]
    }
   ],
   "source": [
    "A = np.array([[1, 2, 0],\n",
    "              [3, 5, 9]])\n",
    "print np.transpose(A)\n",
    "print A.T # we can use the transpose function, or the convenience x.T attribute, to transpose"
   ]
  },
  {
   "cell_type": "code",
   "execution_count": 21,
   "metadata": {
    "collapsed": false
   },
   "outputs": [
    {
     "data": {
      "application/json": {
       "Software versions": [
        {
         "module": "Python",
         "version": "2.7.12 64bit [GCC 5.4.0 20160609]"
        },
        {
         "module": "IPython",
         "version": "5.1.0"
        },
        {
         "module": "OS",
         "version": "Linux 4.4.0 36 generic x86_64 with Ubuntu 16.04 xenial"
        },
        {
         "module": "numpy",
         "version": "1.11.0"
        },
        {
         "module": "scipy",
         "version": "0.17.0"
        },
        {
         "module": "matplotlib",
         "version": "1.5.1"
        },
        {
         "module": "pandas",
         "version": "0.17.1"
        },
        {
         "module": "sklearn",
         "version": "The 'sklearn' distribution was not found and is required by the application"
        }
       ]
      },
      "text/html": [
       "<table><tr><th>Software</th><th>Version</th></tr><tr><td>Python</td><td>2.7.12 64bit [GCC 5.4.0 20160609]</td></tr><tr><td>IPython</td><td>5.1.0</td></tr><tr><td>OS</td><td>Linux 4.4.0 36 generic x86_64 with Ubuntu 16.04 xenial</td></tr><tr><td>numpy</td><td>1.11.0</td></tr><tr><td>scipy</td><td>0.17.0</td></tr><tr><td>matplotlib</td><td>1.5.1</td></tr><tr><td>pandas</td><td>0.17.1</td></tr><tr><td>sklearn</td><td>The 'sklearn' distribution was not found and is required by the application</td></tr><tr><td colspan='2'>Mon Sep 19 10:41:11 2016 CDT</td></tr></table>"
      ],
      "text/latex": [
       "\\begin{tabular}{|l|l|}\\hline\n",
       "{\\bf Software} & {\\bf Version} \\\\ \\hline\\hline\n",
       "Python & 2.7.12 64bit [GCC 5.4.0 20160609] \\\\ \\hline\n",
       "IPython & 5.1.0 \\\\ \\hline\n",
       "OS & Linux 4.4.0 36 generic x86\\_64 with Ubuntu 16.04 xenial \\\\ \\hline\n",
       "numpy & 1.11.0 \\\\ \\hline\n",
       "scipy & 0.17.0 \\\\ \\hline\n",
       "matplotlib & 1.5.1 \\\\ \\hline\n",
       "pandas & 0.17.1 \\\\ \\hline\n",
       "sklearn & The 'sklearn' distribution was not found and is required by the application \\\\ \\hline\n",
       "\\hline \\multicolumn{2}{|l|}{Mon Sep 19 10:41:11 2016 CDT} \\\\ \\hline\n",
       "\\end{tabular}\n"
      ],
      "text/plain": [
       "Software versions\n",
       "Python 2.7.12 64bit [GCC 5.4.0 20160609]\n",
       "IPython 5.1.0\n",
       "OS Linux 4.4.0 36 generic x86_64 with Ubuntu 16.04 xenial\n",
       "numpy 1.11.0\n",
       "scipy 0.17.0\n",
       "matplotlib 1.5.1\n",
       "pandas 0.17.1\n",
       "sklearn The 'sklearn' distribution was not found and is required by the application\n",
       "Mon Sep 19 10:41:11 2016 CDT"
      ]
     },
     "execution_count": 21,
     "metadata": {},
     "output_type": "execute_result"
    }
   ],
   "source": [
    "%load_ext version_information\n",
    "\n",
    "%version_information numpy, scipy, matplotlib, pandas, sklearn"
   ]
  }
 ],
 "metadata": {
  "kernelspec": {
   "display_name": "Python 2",
   "language": "python",
   "name": "python2"
  },
  "language_info": {
   "codemirror_mode": {
    "name": "ipython",
    "version": 2
   },
   "file_extension": ".py",
   "mimetype": "text/x-python",
   "name": "python",
   "nbconvert_exporter": "python",
   "pygments_lexer": "ipython2",
   "version": "2.7.12"
  }
 },
 "nbformat": 4,
 "nbformat_minor": 0
}
