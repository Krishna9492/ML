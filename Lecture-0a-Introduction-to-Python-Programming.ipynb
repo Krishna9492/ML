{
 "metadata": {
  "name": "Lecture-0a-Introduction-to-Python-Programming"
 },
 "nbformat": 3,
 "nbformat_minor": 0,
 "worksheets": [
  {
   "cells": [
    {
     "cell_type": "markdown",
     "metadata": {},
     "source": [
      "Python\n",
      "======"
     ]
    },
    {
     "cell_type": "markdown",
     "metadata": {},
     "source": [
      "Variables and Operators\n",
      "-----------------------\n",
      "\n",
      "Python is a high-level, interpreted language.  Python has become very popular from learning beginning programming to enterprise level software and web systems development.  Of importance to this class, Python is being used extensively by computational scientists for scientific programming, machine learning and high performance computing tasks and environments.  Lets start with the obligatory hello world program:"
     ]
    },
    {
     "cell_type": "code",
     "collapsed": false,
     "input": [
      "print(\"Hello World\")"
     ],
     "language": "python",
     "metadata": {},
     "outputs": [
      {
       "output_type": "stream",
       "stream": "stdout",
       "text": [
        "Hello World\n"
       ]
      }
     ],
     "prompt_number": 1
    },
    {
     "cell_type": "markdown",
     "metadata": {},
     "source": [
      "Like many interpreted languages, Python does not require that variable types be declared before use.  The type of the variable is determined the value that is assigned to the variable.  Compare this to languages like C and C++ that require that the types of all variables be declared before use, known by the compiler, and are strictly enforced.\n",
      "\n",
      "Here are some examples of defining and using variables of different types, with a few simple operators applied to the variables of different types."
     ]
    },
    {
     "cell_type": "code",
     "collapsed": false,
     "input": [
      "x = 1\n",
      "y = x + 5\n",
      "print 'x = ', x\n",
      "print 'y = ', y\n",
      "print type(x)"
     ],
     "language": "python",
     "metadata": {},
     "outputs": [
      {
       "output_type": "stream",
       "stream": "stdout",
       "text": [
        "x =  1\n",
        "y =  6\n",
        "<type 'int'>\n"
       ]
      }
     ],
     "prompt_number": 2
    },
    {
     "cell_type": "code",
     "collapsed": false,
     "input": [
      "msg1 = 'And now for something'\n",
      "print msg1\n",
      "msg2 = 'completely different'\n",
      "print msg1 + ' ' + msg2\n",
      "print (msg1 + '--') * 2\n",
      "print type(msg1)"
     ],
     "language": "python",
     "metadata": {},
     "outputs": [
      {
       "output_type": "stream",
       "stream": "stdout",
       "text": [
        "And now for something\n",
        "And now for something completely different\n",
        "And now for something--And now for something--\n",
        "<type 'str'>\n"
       ]
      }
     ],
     "prompt_number": 3
    },
    {
     "cell_type": "code",
     "collapsed": false,
     "input": [
      "pi = 3.141592653587932\n",
      "radius = 3\n",
      "area = pi * radius ** 2.0\n",
      "print \"area of circle with radius =  %f is %f\" % (radius, area)\n",
      "print type(pi)"
     ],
     "language": "python",
     "metadata": {},
     "outputs": [
      {
       "output_type": "stream",
       "stream": "stdout",
       "text": [
        "area of circle with radius =  3.000000 is 28.274334\n",
        "<type 'float'>\n"
       ]
      }
     ],
     "prompt_number": 4
    },
    {
     "cell_type": "markdown",
     "metadata": {},
     "source": [
      "Functions \n",
      "---------\n",
      "\n",
      "A function is a named sequence of statements that performs a computation.  Functions are important for breaking large problems up into small chunks that we can manageably implement.\n",
      "\n",
      "Functions can take *arguments* also called *parameters* as input.  A function in python always returns a value, but if you don't specify the value to return using the **return** keyword, it returns the special value **None**.  For those paying attention, we have already seen an example of a function call when we invoked the built in **type** function previously."
     ]
    },
    {
     "cell_type": "code",
     "collapsed": false,
     "input": [
      "def print_lyrics():\n",
      "    print \"I'm a lumberjack, and I'm okay.\"\n",
      "    print \"I sleep all night and I work all day.\""
     ],
     "language": "python",
     "metadata": {},
     "outputs": [],
     "prompt_number": 5
    },
    {
     "cell_type": "markdown",
     "metadata": {},
     "source": [
      "Notice when you define a function, it doesn't actually execute anything.  In order to execute a function, you need to invoke it."
     ]
    },
    {
     "cell_type": "code",
     "collapsed": false,
     "input": [
      "print_lyrics()"
     ],
     "language": "python",
     "metadata": {},
     "outputs": [
      {
       "output_type": "stream",
       "stream": "stdout",
       "text": [
        "I'm a lumberjack, and I'm okay.\n",
        "I sleep all night and I work all day.\n"
       ]
      }
     ],
     "prompt_number": 6
    },
    {
     "cell_type": "markdown",
     "metadata": {},
     "source": [
      "The previous function neither accepted any input arguments, nor returned any values.  All of the work it performed caused only side effects to occur, in this case sending some strings to the standard output.  Here is a function that takes input parameters, performs some work, and returns a value."
     ]
    },
    {
     "cell_type": "code",
     "collapsed": false,
     "input": [
      "def calculate_area_of_circle(radius):\n",
      "    area = pi * radius ** 2.0\n",
      "    return area\n",
      "\n",
      "radius = 5.0\n",
      "area = calculate_area_of_circle(radius)\n",
      "print \"The area of a circle with radius %f is %f\" % (radius, area)"
     ],
     "language": "python",
     "metadata": {},
     "outputs": [
      {
       "output_type": "stream",
       "stream": "stdout",
       "text": [
        "The area of a circle with radius 5.000000 is 78.539816\n"
       ]
      }
     ],
     "prompt_number": 7
    },
    {
     "cell_type": "markdown",
     "metadata": {},
     "source": [
      "Built in Data Structures\n",
      "------------------------\n",
      "\n",
      "Python has many powerful built in fundamental data structures.  I will only quickly introduce 3 important ones here: lists, tuples and dicts.\n",
      "\n",
      "Lists are used to contain a sequence of values.  Lists are mutable, which means their contents can be changed after they are created.  The values in a list can be of different types (which is one important way lists are fundamentally different from C and Java arrays).  Lists are indicated syntatically in Python using the square brackets [ and ].\n",
      "\n",
      "Some examples of defining lists."
     ]
    },
    {
     "cell_type": "code",
     "collapsed": false,
     "input": [
      "cheeses = ['Cheddar', 'Edam', 'Gouda']\n",
      "numbers = [17, 123, 42]\n",
      "empty = []\n",
      "print cheeses"
     ],
     "language": "python",
     "metadata": {},
     "outputs": [
      {
       "output_type": "stream",
       "stream": "stdout",
       "text": [
        "['Cheddar', 'Edam', 'Gouda']\n"
       ]
      }
     ],
     "prompt_number": 8
    },
    {
     "cell_type": "markdown",
     "metadata": {},
     "source": [
      "Lists can be nonhomogeneous, e.g. contain values of different types."
     ]
    },
    {
     "cell_type": "code",
     "collapsed": false,
     "input": [
      "l = ['spam', 2.0, 5, 'Gouda', None, 3.14159]\n",
      "print l"
     ],
     "language": "python",
     "metadata": {},
     "outputs": [
      {
       "output_type": "stream",
       "stream": "stdout",
       "text": [
        "['spam', 2.0, 5, 'Gouda', None, 3.14159]\n"
       ]
      }
     ],
     "prompt_number": 9
    },
    {
     "cell_type": "markdown",
     "metadata": {},
     "source": [
      "Lists can be nested, to create complex hierarchies of information."
     ]
    },
    {
     "cell_type": "code",
     "collapsed": false,
     "input": [
      "nested = [1, 4, [2, 8], 9, [3, 5, 7, [9, 2]]]\n",
      "print nested"
     ],
     "language": "python",
     "metadata": {},
     "outputs": [
      {
       "output_type": "stream",
       "stream": "stdout",
       "text": [
        "[1, 4, [2, 8], 9, [3, 5, 7, [9, 2]]]\n"
       ]
      }
     ],
     "prompt_number": 10
    },
    {
     "cell_type": "markdown",
     "metadata": {},
     "source": [
      "Lets actually use the lists and access the values.  Here we show how to access individual items, as well as multiple items known as list slices.\n",
      "\n",
      "Items are indexed starting at 0, as in C/Java/etc."
     ]
    },
    {
     "cell_type": "code",
     "collapsed": false,
     "input": [
      "print cheeses[2]\n",
      "print cheeses[0]"
     ],
     "language": "python",
     "metadata": {},
     "outputs": [
      {
       "output_type": "stream",
       "stream": "stdout",
       "text": [
        "Gouda\n",
        "Cheddar\n"
       ]
      }
     ],
     "prompt_number": 11
    },
    {
     "cell_type": "markdown",
     "metadata": {},
     "source": [
      "We can use negative indexes to find items relative to the end of the list."
     ]
    },
    {
     "cell_type": "code",
     "collapsed": false,
     "input": [
      "print l[-3]\n",
      "# this implies -1 always refers to the last item in the list\n",
      "print l[-1]"
     ],
     "language": "python",
     "metadata": {},
     "outputs": [
      {
       "output_type": "stream",
       "stream": "stdout",
       "text": [
        "Gouda\n",
        "3.14159\n"
       ]
      }
     ],
     "prompt_number": 12
    },
    {
     "cell_type": "markdown",
     "metadata": {},
     "source": [
      "We can use slices to access parts or multiple values of a list.  Notice that the result of slicing a list is a new list."
     ]
    },
    {
     "cell_type": "code",
     "collapsed": false,
     "input": [
      "print l[1:3]"
     ],
     "language": "python",
     "metadata": {},
     "outputs": [
      {
       "output_type": "stream",
       "stream": "stdout",
       "text": [
        "[2.0, 5]\n"
       ]
      }
     ],
     "prompt_number": 13
    },
    {
     "cell_type": "markdown",
     "metadata": {},
     "source": [
      "Lists are **mutable**.  We can change particular items, add/insert and remove items."
     ]
    },
    {
     "cell_type": "code",
     "collapsed": false,
     "input": [
      "cheeses.append('Swiss')\n",
      "print cheeses\n",
      "cheeses.remove('Edam')\n",
      "print cheeses\n",
      "cheeses[1] = 'Camembert'\n",
      "print cheeses"
     ],
     "language": "python",
     "metadata": {},
     "outputs": [
      {
       "output_type": "stream",
       "stream": "stdout",
       "text": [
        "['Cheddar', 'Edam', 'Gouda', 'Swiss']\n",
        "['Cheddar', 'Gouda', 'Swiss']\n",
        "['Cheddar', 'Camembert', 'Swiss']\n"
       ]
      }
     ],
     "prompt_number": 14
    },
    {
     "cell_type": "markdown",
     "metadata": {},
     "source": [
      "Dictionaries are very useful fundamental data types, and you will see them used extensively in Python programming.  Dictionaries are also known as hash tables or maps in other contexts.  Like a list, a dictionary maps a key to a particular value.  But lists always map an integer index/key to a particular value.  A dictionary allows you to map any arbitrary key to a value.  Python uses curley braces { and } syntatically to indicate dictionary data structuers.\n",
      "\n",
      "An example should make this clearer."
     ]
    },
    {
     "cell_type": "code",
     "collapsed": false,
     "input": [
      "birthday = {'Newton': 1642,\n",
      "            'Darwin': 1809,\n",
      "            'Curie': 1867,\n",
      "            'Einstein': 1879}\n",
      "print \"Newton was born in the year\", birthday['Newton']\n",
      "print \"Madame Curie was born in the year\", birthday['Curie']"
     ],
     "language": "python",
     "metadata": {},
     "outputs": [
      {
       "output_type": "stream",
       "stream": "stdout",
       "text": [
        "Newton was born in the year 1642\n",
        "Madame Curie was born in the year 1867\n"
       ]
      }
     ],
     "prompt_number": 15
    },
    {
     "cell_type": "markdown",
     "metadata": {},
     "source": [
      "Dictionaries are also mutable, we can add and remove from them after being created."
     ]
    },
    {
     "cell_type": "code",
     "collapsed": false,
     "input": [
      "birthday['Turing'] = 1912\n",
      "print birthday\n",
      "del birthday['Darwin']\n",
      "print birthday"
     ],
     "language": "python",
     "metadata": {},
     "outputs": [
      {
       "output_type": "stream",
       "stream": "stdout",
       "text": [
        "{'Curie': 1867, 'Newton': 1642, 'Darwin': 1809, 'Turing': 1912, 'Einstein': 1879}\n",
        "{'Curie': 1867, 'Newton': 1642, 'Turing': 1912, 'Einstein': 1879}\n"
       ]
      }
     ],
     "prompt_number": 16
    },
    {
     "cell_type": "markdown",
     "metadata": {},
     "source": [
      "Finally I will mention tuples as you will see them used a lot in Python coding examples.  You can think of a tuple simply as an **immutable** list, e.g. one that cannot be changed after it is created.  The ( and ) parenthesis are used syntatically in Python to indicate an immutable tuple."
     ]
    },
    {
     "cell_type": "code",
     "collapsed": false,
     "input": [
      "t = ('a', 'b', 'c', 'd', 'e')\n",
      "print t[2]"
     ],
     "language": "python",
     "metadata": {},
     "outputs": [
      {
       "output_type": "stream",
       "stream": "stdout",
       "text": [
        "c\n"
       ]
      }
     ],
     "prompt_number": 17
    },
    {
     "cell_type": "code",
     "collapsed": false,
     "input": [
      "t[3] = 'x'"
     ],
     "language": "python",
     "metadata": {},
     "outputs": [
      {
       "ename": "TypeError",
       "evalue": "'tuple' object does not support item assignment",
       "output_type": "pyerr",
       "traceback": [
        "\u001b[0;31m---------------------------------------------------------------------------\u001b[0m\n\u001b[0;31mTypeError\u001b[0m                                 Traceback (most recent call last)",
        "\u001b[0;32m<ipython-input-18-2609d87fea62>\u001b[0m in \u001b[0;36m<module>\u001b[0;34m()\u001b[0m\n\u001b[0;32m----> 1\u001b[0;31m \u001b[0mt\u001b[0m\u001b[0;34m[\u001b[0m\u001b[0;36m3\u001b[0m\u001b[0;34m]\u001b[0m \u001b[0;34m=\u001b[0m \u001b[0;34m'x'\u001b[0m\u001b[0;34m\u001b[0m\u001b[0m\n\u001b[0m",
        "\u001b[0;31mTypeError\u001b[0m: 'tuple' object does not support item assignment"
       ]
      }
     ],
     "prompt_number": 18
    },
    {
     "cell_type": "markdown",
     "metadata": {},
     "source": [
      "One useful convention/pattern you will run across in Python coding is returning tuples from functions.  If you create a function that needs to return more than one value, you can return a tuple."
     ]
    },
    {
     "cell_type": "code",
     "collapsed": false,
     "input": [
      "def divide(x, y):\n",
      "    \"\"\"Integer division of the x (dividend) by y (divisor).\n",
      "    We expect x and y to be integers.\n",
      "    Return both the result (quotient) and the remainder\"\"\"\n",
      "    quotient = x / y\n",
      "    remainder = x % y\n",
      "    return (quotient, remainder)\n",
      "\n",
      "(q, r) = divide(22, 7)\n",
      "print 'Result of dividing 22 / 7 is %d with a remainder of %d' % (q, r)"
     ],
     "language": "python",
     "metadata": {},
     "outputs": [
      {
       "output_type": "stream",
       "stream": "stdout",
       "text": [
        "Result of dividing 22 / 7 is 3 with a remainder of 1\n"
       ]
      }
     ],
     "prompt_number": 19
    },
    {
     "cell_type": "markdown",
     "metadata": {},
     "source": [
      "The divide function above is actually a reimplementation of the built-in divmod() Python function.  Notice that divmod() returns a tuple as well."
     ]
    },
    {
     "cell_type": "code",
     "collapsed": false,
     "input": [
      "(q, r) = divmod(22, 7)\n",
      "print 'Result of dividing 22 / 7 is %d with a remainder of %d' % (q, r)"
     ],
     "language": "python",
     "metadata": {},
     "outputs": [
      {
       "output_type": "stream",
       "stream": "stdout",
       "text": [
        "Result of dividing 22 / 7 is 3 with a remainder of 1\n"
       ]
      }
     ],
     "prompt_number": 20
    },
    {
     "cell_type": "markdown",
     "metadata": {},
     "source": [
      "Conditions and Iterations\n",
      "-------------------------\n",
      "\n",
      "We wouldn't be able to do much computing if we could only list a sequence of instructions that needed to be executed.  Besides functions we also use conditional execution of code ( **if**, **else**) and  looping to execute a block of statements multiple times ( **for**, **while**)\n",
      "\n",
      "Python supports boolean **True**, and **False** as a built in data type."
     ]
    },
    {
     "cell_type": "code",
     "collapsed": false,
     "input": [
      "print 3 == 5\n",
      "print 2 < 4\n",
      "b = True\n",
      "type(b)"
     ],
     "language": "python",
     "metadata": {},
     "outputs": [
      {
       "output_type": "stream",
       "stream": "stdout",
       "text": [
        "False\n",
        "True\n"
       ]
      },
      {
       "output_type": "pyout",
       "prompt_number": 21,
       "text": [
        "bool"
       ]
      }
     ],
     "prompt_number": 21
    },
    {
     "cell_type": "markdown",
     "metadata": {},
     "source": [
      "We can build conditional execution statements using boolean or logical expressions."
     ]
    },
    {
     "cell_type": "code",
     "collapsed": false,
     "input": [
      "x = 33\n",
      "if x % 2 == 0:\n",
      "    print 'x is even'\n",
      "else:\n",
      "    print 'x is odd'"
     ],
     "language": "python",
     "metadata": {},
     "outputs": [
      {
       "output_type": "stream",
       "stream": "stdout",
       "text": [
        "x is odd\n"
       ]
      }
     ],
     "prompt_number": 22
    },
    {
     "cell_type": "markdown",
     "metadata": {},
     "source": [
      "Python contains no switch/case chained conditional, instead use if, elseif, else.\n",
      "\n",
      "Write a function tat takes as argument an integer x and returns f(x) f being defines as:\n",
      "\n",
      "\\\\\\[\n",
      "f(x) = \\\\\\{\n",
      "\\begin{array}{ll} \n",
      "    \\text{Not Defined} & \\text{for} \\quad x < 1 \\\\\\\\ \n",
      "    1 & \\text{for} \\quad x = 1 \\\\\\\\\n",
      "    3 & \\text{for} \\quad x = 2 \\\\\\\\\n",
      "    f(x-1) * f(x-2) + f(x-1) & \\text{for} \\quad x > 2 \\\\\\\\\n",
      "\\end{array} \n",
      "\\\\\\]"
     ]
    },
    {
     "cell_type": "code",
     "collapsed": false,
     "input": [
      "def f(x):\n",
      "    if x < 1:\n",
      "        return None\n",
      "    elif x == 1:\n",
      "        return 1\n",
      "    elif x == 2:\n",
      "        return 3\n",
      "    else:\n",
      "        return f(x-1) * f(x-2) + f(x-1)\n",
      "    \n",
      "print f(-3)\n",
      "print f(5)"
     ],
     "language": "python",
     "metadata": {},
     "outputs": [
      {
       "output_type": "stream",
       "stream": "stdout",
       "text": [
        "None\n",
        "168\n"
       ]
      }
     ],
     "prompt_number": 23
    },
    {
     "cell_type": "markdown",
     "metadata": {},
     "source": [
      "The while statement is available for variable controlled loops, but by far the for x in y pattern is used much more commonly in order to iterate over the elements of a list or dictionary.  Two quick examples."
     ]
    },
    {
     "cell_type": "code",
     "collapsed": false,
     "input": [
      "for c in cheeses:\n",
      "    print \"Here is a cheese: \", c\n",
      "\n",
      "for scientist, byear in birthday.items():\n",
      "    print \"%s was born in year %d\" % (scientist, byear)"
     ],
     "language": "python",
     "metadata": {},
     "outputs": [
      {
       "output_type": "stream",
       "stream": "stdout",
       "text": [
        "Here is a cheese:  Cheddar\n",
        "Here is a cheese:  Camembert\n",
        "Here is a cheese:  Swiss\n",
        "Curie was born in year 1867\n",
        "Newton was born in year 1642\n",
        "Turing was born in year 1912\n",
        "Einstein was born in year 1879\n"
       ]
      }
     ],
     "prompt_number": 24
    },
    {
     "cell_type": "markdown",
     "metadata": {},
     "source": [
      "Libraries\n",
      "=========\n",
      "\n",
      "Python has a large collection of [standard libraries](http://docs.python.org/2/library/index.html).  For example to use the math and random standard libraries, we do the following."
     ]
    },
    {
     "cell_type": "code",
     "collapsed": false,
     "input": [
      "from IPython.display import HTML\n",
      "HTML('<iframe src=http://docs.python.org/2/library/index.html width=700 height=350></iframe>')"
     ],
     "language": "python",
     "metadata": {},
     "outputs": [
      {
       "html": [
        "<iframe src=http://docs.python.org/2/library/index.html width=700 height=350></iframe>"
       ],
       "output_type": "pyout",
       "prompt_number": 25,
       "text": [
        "<IPython.core.display.HTML at 0x32d6d90>"
       ]
      }
     ],
     "prompt_number": 25
    },
    {
     "cell_type": "code",
     "collapsed": false,
     "input": [
      "import math\n",
      "import random\n",
      "\n",
      "# generate random number between 1 and 10\n",
      "r = random.randint(1, 10)\n",
      "\n",
      "def area(r):\n",
      "    return math.pi * math.pow(r, 2.0)\n",
      "\n",
      "print r, area(r)"
     ],
     "language": "python",
     "metadata": {},
     "outputs": [
      {
       "output_type": "stream",
       "stream": "stdout",
       "text": [
        "2 12.5663706144\n"
       ]
      }
     ],
     "prompt_number": 26
    },
    {
     "cell_type": "markdown",
     "metadata": {},
     "source": [
      "\n",
      "NumPy\n",
      "-----\n",
      "\n",
      "The **NumPy** library provides multi-dimensional arrays (e.g. vectors, matrices, ...).  NumPy arrays are more similar to arrays in C and Java than the list data type, specifically because all of the elements in the NumPy array must be of the same type, and they are stored  as a single block of contiguously allocated memory.  By default, if you don't specify the type of the NumPy array being created, NumPy assumes you want to use floats.\n",
      "\n",
      "NumPy by convention is usually referred to using the shorthand module name `np`:"
     ]
    },
    {
     "cell_type": "code",
     "collapsed": false,
     "input": [
      "import numpy as np"
     ],
     "language": "python",
     "metadata": {},
     "outputs": [],
     "prompt_number": 27
    },
    {
     "cell_type": "code",
     "collapsed": false,
     "input": [
      "v = np.zeros(3)\n",
      "M = np.ones((3,4))\n",
      "A = np.array([[1,2,3],[4,5,6]]) \n",
      "print \"v\\n\", v\n",
      "print \"M\\n\", M\n",
      "print \"A\\n\", A"
     ],
     "language": "python",
     "metadata": {},
     "outputs": [
      {
       "output_type": "stream",
       "stream": "stdout",
       "text": [
        "v\n",
        "[ 0.  0.  0.]\n",
        "M\n",
        "[[ 1.  1.  1.  1.]\n",
        " [ 1.  1.  1.  1.]\n",
        " [ 1.  1.  1.  1.]]\n",
        "A\n",
        "[[1 2 3]\n",
        " [4 5 6]]\n"
       ]
      }
     ],
     "prompt_number": 28
    },
    {
     "cell_type": "markdown",
     "metadata": {},
     "source": [
      "You can also work with sub-matrices in a similar fashion as in MatLab, but starting with index 0:"
     ]
    },
    {
     "cell_type": "code",
     "collapsed": false,
     "input": [
      "print A\n",
      "print \"the first column of A:\", A[:,0]\n",
      "print \"the first    row of A:\", A[0,:]"
     ],
     "language": "python",
     "metadata": {},
     "outputs": [
      {
       "output_type": "stream",
       "stream": "stdout",
       "text": [
        "[[1 2 3]\n",
        " [4 5 6]]\n",
        "the first column of A: [1 4]\n",
        "the first    row of A: [1 2 3]\n"
       ]
      }
     ],
     "prompt_number": 29
    },
    {
     "cell_type": "code",
     "collapsed": false,
     "input": [
      "x = np.arange(10)\n",
      "print x"
     ],
     "language": "python",
     "metadata": {},
     "outputs": [
      {
       "output_type": "stream",
       "stream": "stdout",
       "text": [
        "[0 1 2 3 4 5 6 7 8 9]\n"
       ]
      }
     ],
     "prompt_number": 30
    },
    {
     "cell_type": "code",
     "collapsed": false,
     "input": [
      "y = np.random.uniform(size=10) # note the named argument here. The 1st (default) arguments are 0 and 1.\n",
      "y # last element in cell is printed automatically"
     ],
     "language": "python",
     "metadata": {},
     "outputs": [
      {
       "output_type": "pyout",
       "prompt_number": 31,
       "text": [
        "array([ 0.86172063,  0.02733697,  0.57803795,  0.08240776,  0.03070246,\n",
        "        0.58801434,  0.35755498,  0.4904612 ,  0.78187996,  0.11617378])"
       ]
      }
     ],
     "prompt_number": 31
    },
    {
     "cell_type": "markdown",
     "metadata": {},
     "source": [
      "Matplotlib\n",
      "----------\n",
      "\n",
      "This is a library used to plot graphs conveniently directly from Python. Many graph types are supported.\n"
     ]
    },
    {
     "cell_type": "code",
     "collapsed": false,
     "input": [
      "import matplotlib.pyplot as plt"
     ],
     "language": "python",
     "metadata": {},
     "outputs": [],
     "prompt_number": 32
    },
    {
     "cell_type": "code",
     "collapsed": false,
     "input": [
      "from IPython.display import HTML\n",
      "HTML('<iframe src=http://matplotlib.org/gallery.html width=700 height=350></iframe>')"
     ],
     "language": "python",
     "metadata": {},
     "outputs": [
      {
       "html": [
        "<iframe src=http://matplotlib.org/gallery.html width=700 height=350></iframe>"
       ],
       "output_type": "pyout",
       "prompt_number": 33,
       "text": [
        "<IPython.core.display.HTML at 0x32d68d0>"
       ]
      }
     ],
     "prompt_number": 33
    },
    {
     "cell_type": "code",
     "collapsed": false,
     "input": [
      "plt.plot(x, y)\n",
      "plt.title(\"Sample Plot\")\n",
      "plt.xlabel(\"x label\")\n",
      "plt.ylabel(\"y label\");"
     ],
     "language": "python",
     "metadata": {},
     "outputs": [
      {
       "output_type": "display_data",
       "png": "[encoded data removed]"
      }
     ],
     "prompt_number": 34
    },
    {
     "cell_type": "code",
     "collapsed": false,
     "input": [
      "plt.scatter(x, y, s=100) # press TAB after opening parenthesis to see help on `scatter`;"
     ],
     "language": "python",
     "metadata": {},
     "outputs": [
      {
       "output_type": "display_data",
       "png": "[encoded data removed]"
      }
     ],
     "prompt_number": 35
    },
    {
     "cell_type": "markdown",
     "metadata": {},
     "source": [
      "Pandas\n",
      "======\n",
      "\n",
      "Pandas is a library for doing data analysis in Python.  It defines DataFrame objects, and provides a lot of equivalent functions as the R data analysis library (but in Python!)"
     ]
    },
    {
     "cell_type": "code",
     "collapsed": false,
     "input": [
      "from IPython.display import HTML\n",
      "HTML('<iframe src=http://pandas.pydata.org/ width=700 height=350></iframe>')"
     ],
     "language": "python",
     "metadata": {},
     "outputs": [
      {
       "html": [
        "<iframe src=http://pandas.pydata.org/ width=700 height=350></iframe>"
       ],
       "output_type": "pyout",
       "prompt_number": 36,
       "text": [
        "<IPython.core.display.HTML at 0x33199d0>"
       ]
      }
     ],
     "prompt_number": 36
    },
    {
     "cell_type": "code",
     "collapsed": false,
     "input": [
      "import pandas as pd\n",
      "print pd.__version__"
     ],
     "language": "python",
     "metadata": {},
     "outputs": [
      {
       "output_type": "stream",
       "stream": "stdout",
       "text": [
        "0.10.1\n"
       ]
      }
     ],
     "prompt_number": 37
    },
    {
     "cell_type": "heading",
     "level": 2,
     "metadata": {},
     "source": [
      "Scikit-Learn"
     ]
    },
    {
     "cell_type": "code",
     "collapsed": false,
     "input": [
      "from IPython.display import HTML\n",
      "HTML('<iframe src=http://scikit-learn.sourceforge.net/dev/auto_examples/index.html width=900 height=350></iframe>')"
     ],
     "language": "python",
     "metadata": {},
     "outputs": [
      {
       "html": [
        "<iframe src=http://scikit-learn.sourceforge.net/dev/auto_examples/index.html width=900 height=350></iframe>"
       ],
       "output_type": "pyout",
       "prompt_number": 38,
       "text": [
        "<IPython.core.display.HTML at 0x38efa50>"
       ]
      }
     ],
     "prompt_number": 38
    },
    {
     "cell_type": "markdown",
     "metadata": {},
     "source": [
      "Easy-to use machine-learning with many examples and documentation.\n",
      "\n",
      "\n",
      "Classification\n",
      "--------------\n",
      "- **Logistic Regression**\n",
      "- Support Vector Machines\n",
      "- Perceptron\n",
      "- Decision Trees\n",
      "- Random Forests\n",
      "- Naive Bayes\n",
      "- **Neares Neighbors**\n",
      "- ...\n",
      "\n",
      "Regression\n",
      "----------\n",
      "- **Linear Regression**\n",
      "- Lasso\n",
      "- Lars\n",
      "- Ridge Regression\n",
      "- Support Vector Regression\n",
      "- Regression Forests\n",
      "- ...\n",
      "\n",
      "Feature Extraction\n",
      "------------------\n",
      "- **Principal Component Analysis**\n",
      "- Independend Component Analysis\n",
      "- Nonnegative Matrix Factorization\n",
      "- Sparse Decomposition\n",
      "- Locally Linear Embedding\n",
      "- KernelPCA\n",
      "- ...\n",
      "\n",
      "Clustering\n",
      "----------\n",
      "- **$k$-Means**\n",
      "- Mean Shift\n",
      "- Spectral Clustering\n",
      "- Affinity Propagation\n",
      "- DBSCAN\n",
      "- ...\n"
     ]
    }
   ],
   "metadata": {}
  }
 ]
}