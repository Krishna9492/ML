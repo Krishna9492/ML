{
 "metadata": {
  "name": "Assg-01-Python-Exercises"
 },
 "nbformat": 3,
 "nbformat_minor": 0,
 "worksheets": [
  {
   "cells": [
    {
     "cell_type": "markdown",
     "metadata": {},
     "source": [
      "Assignment 01 - Python Programming Exercises\n",
      "----------------------------\n",
      "\n",
      "**Due: 9/13/2013**\n",
      "\n",
      "Here are a set of X small (and hopefully not too difficult) exercises to get you thinking about programming in Python.  For each, I have described the problem, and then given an example of testing a working solution after the problem.  For each exercise, you need to\n",
      "implement the described task.  The example text output is there to help you check and see that your implementation conforms to what\n",
      "I expect from the correct solution of the problem."
     ]
    },
    {
     "cell_type": "markdown",
     "metadata": {},
     "source": [
      "**Exercise 1**\n",
      "\n",
      "Python privides a built-in function called len that returns the length of a string, so fthe value of:"
     ]
    },
    {
     "cell_type": "code",
     "collapsed": false,
     "input": [
      "s = 'allen'\n",
      "len(s)"
     ],
     "language": "python",
     "metadata": {},
     "outputs": [
      {
       "output_type": "pyout",
       "prompt_number": 1,
       "text": [
        "5"
       ]
      }
     ],
     "prompt_number": 1
    },
    {
     "cell_type": "markdown",
     "metadata": {},
     "source": [
      "is 5.  Write a function that takes a string names s as a parameter.  The function should return a new string\n",
      "that is right justified with enough spaces so that the last letter of the string is in column 70.  \n",
      "\n",
      "NOTE: the function should return a string, not simply print the string out as a side effect.\n",
      "\n",
      "HINT: The length of the returned string will thus always be 70.  You can use len() to test your implementation.  You can ignore the case where the input string is > 70 already, I will not test what your function does with such input.  But I might test what happens if I\n",
      "pass in a blank string '' to your function."
     ]
    },
    {
     "cell_type": "code",
     "collapsed": false,
     "input": [
      "# write your function implementation of right_justify and any tests here"
     ],
     "language": "python",
     "metadata": {},
     "outputs": [],
     "prompt_number": 2
    },
    {
     "cell_type": "markdown",
     "metadata": {},
     "source": [
      "Some example results you might get with a correct implementation:\n",
      "\n",
      "    s = right_justify('allen')\n",
      "    print s\n",
      "    print len(s)\n",
      "    \n",
      "    >>>                                                                  allen\n",
      "    >>> 70\n",
      "\n",
      "    s = right_justify('This is a longer string, what do you think?')\n",
      "    print s\n",
      "    print len(s)\n",
      "    \n",
      "    >>>                            This is a longer string, what do you think?\n",
      "    >>> 70\n",
      "\n",
      "    # a boundry case\n",
      "    s = right_justify('')\n",
      "    print 'start' + s + 'end'\n",
      "    print len(s)\n",
      "    \n",
      "    >>> start                                                                      end\n",
      "    >>> 70\n"
     ]
    },
    {
     "cell_type": "markdown",
     "metadata": {},
     "source": [
      "**Exercise 2**\n",
      "\n",
      "The Ackermann function, A(m, n) is defined as:\n",
      "\n",
      "$$\n",
      "A(m, n) = \\begin{cases}\n",
      "    n + 1                   & \\text{if} \\quad m = 0 \\\\\\\\ \n",
      "    A(m-1, 1)               & \\text{if} \\quad m > 0 \\quad \\text{and} \\quad n = 0 \\\\\\\\\n",
      "    A(m-1, A(m, n-1)) \\quad & \\text{if} \\quad m > 0 \\quad \\text{and} \\quad n > 0 \\\\\\\\\n",
      "\\end{cases}\n",
      "$$\n",
      "\n",
      "This is actually an example of a recursive function, a function that calls itself.  However, using the example of a chained condition from our class lecture notebooks, it should be fairly straightforward to implement this recursive function as a Python function.  Implement the function and test it.  As before I have provided a few examples test from a correct implementation for you to \n",
      "compare your implementation to.\n",
      "\n",
      "NOTE: This recursive function, in the last case, makes not just 1 but 2 recursive calls to itself.  So it will quickly take a very\n",
      "long time to execute for larger m/n.  Therefore you will need to be careful and only try small values of m/n.  If your program is taking to long to execute in a notebook, you can always stop the kernel (the stop button), and try again."
     ]
    },
    {
     "cell_type": "code",
     "collapsed": false,
     "input": [],
     "language": "python",
     "metadata": {},
     "outputs": [],
     "prompt_number": 2
    },
    {
     "cell_type": "markdown",
     "metadata": {},
     "source": [
      "    # test the base case\n",
      "    print A(0, 3)\n",
      "    >>> 4\n",
      "    print A(0, 20)\n",
      "    >>> 21\n",
      "\n",
      "    # now second condition, where m>0 and n == 0\n",
      "    print A(1, 0)\n",
      "    >>> 2\n",
      "    print A(2, 0)\n",
      "    >>> 3\n",
      "\n",
      "    # here is a harder one, the result should be 125\n",
      "    print A(3, 4)\n",
      "    >>> 125"
     ]
    },
    {
     "cell_type": "markdown",
     "metadata": {},
     "source": [
      "**Exercise 3**\n",
      "\n",
      "A palindrome is a word that is spelled the same backward and forward.  Examples of palindromes include 'noon' and 'redivider'.  Though there is no built-in reverse function for strings in Python, we can easily reverse a string using extended list slicing, taking advantage of the fact that a negative step value causes the slice to step backwards:"
     ]
    },
    {
     "cell_type": "code",
     "collapsed": false,
     "input": [
      "w = 'nucleotides'\n",
      "print w[::-1]\n",
      "\n",
      "w = 'redivider'\n",
      "print w[::-1]"
     ],
     "language": "python",
     "metadata": {},
     "outputs": [
      {
       "output_type": "stream",
       "stream": "stdout",
       "text": [
        "seditoelcun\n",
        "redivider\n"
       ]
      }
     ],
     "prompt_number": 3
    },
    {
     "cell_type": "markdown",
     "metadata": {},
     "source": [
      "Being able to reverse a string, you should be able to implement a correct implementation is_palindrome function.  The function should take a string as its input parameter.  It should return True if the input string is a palindrome, and False otherwise. Do this here:"
     ]
    },
    {
     "cell_type": "code",
     "collapsed": false,
     "input": [
      "# implement first version of is_palindrome here"
     ],
     "language": "python",
     "metadata": {},
     "outputs": [],
     "prompt_number": 4
    },
    {
     "cell_type": "markdown",
     "metadata": {},
     "source": [
      "    print is_palindrome('nucleotides')\n",
      "    >>> False\n",
      "    print is_palindrome('redivider')\n",
      "    >>> True\n",
      "    print is_palindrome('a')\n",
      "    >>> True"
     ]
    },
    {
     "cell_type": "markdown",
     "metadata": {},
     "source": [
      "Ok lets make the task a little tougher.  We can also implement is_palindrome_recursive using recursion with the following observation.\n",
      "\n",
      "The following are functions that take a string argument and return the first, last and middle letters.  These functions make\n",
      "use of simple list slicing to perform their work:"
     ]
    },
    {
     "cell_type": "code",
     "collapsed": false,
     "input": [
      "def first(word):\n",
      "    return word[0]\n",
      "\n",
      "def last(word):\n",
      "    return word[-1]\n",
      "\n",
      "def middle(word):\n",
      "    return word[1:-1]\n",
      "\n",
      "w = 'nucleotides'\n",
      "print first(w), middle(w), last(w)\n",
      "\n",
      "w = 'redivider'\n",
      "print first(w), middle(w), last(w)\n"
     ],
     "language": "python",
     "metadata": {},
     "outputs": [
      {
       "output_type": "stream",
       "stream": "stdout",
       "text": [
        "n ucleotide s\n",
        "r edivide r\n"
       ]
      }
     ],
     "prompt_number": 5
    },
    {
     "cell_type": "markdown",
     "metadata": {},
     "source": [
      "Write a recursive implementat of a palindrome checker called is_palindrome_recursive.  As before the function takes a string as input and returns a boolean result indicating if the string is or is not a palindrome.  A string is a palindrome if its first and last characters are equal, and if the middle part of the string is a palindrome.  As base case(s) for the recursion, a string of length 1 (e.g. a single character 'a') or of length 0 (the empty string '') are to be considered palindromes.  Write your implementation here:"
     ]
    },
    {
     "cell_type": "code",
     "collapsed": false,
     "input": [
      "# write your implementation of is_palindrome_recursive here"
     ],
     "language": "python",
     "metadata": {},
     "outputs": [],
     "prompt_number": 6
    },
    {
     "cell_type": "markdown",
     "metadata": {},
     "source": [
      "    print is_palindrome_recursive('nucleotides')\n",
      "    >>> False\n",
      "    print is_palindrome_recursive('redivider')\n",
      "    >>> True\n",
      "    print is_palindrome_recursive('i')\n",
      "    >>> True\n",
      "    print is_palindrome_recursive('')\n",
      "    >>> True"
     ]
    }
   ],
   "metadata": {}
  }
 ]
}