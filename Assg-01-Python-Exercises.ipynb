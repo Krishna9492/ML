{
 "metadata": {
  "name": ""
 },
 "nbformat": 3,
 "nbformat_minor": 0,
 "worksheets": [
  {
   "cells": [
    {
     "cell_type": "markdown",
     "metadata": {},
     "source": [
      "**Please fill these in before submitting, just in case I accidentally mix up file names while grading**:\n",
      "\n",
      "Name: Joe Student\n",
      "\n",
      "CWID-5: (Last 5 digits of cwid)"
     ]
    },
    {
     "cell_type": "markdown",
     "metadata": {},
     "source": [
      "Assignment 01 - Python Programming Exercises\n",
      "----------------------------\n",
      "\n",
      "**Due: Friday 9/5/2014**\n",
      "\n",
      "Here are a set of 3 small (and hopefully not too difficult) exercises to get you thinking about programming in Python.  For each, I have described the problem, and then given an example of testing a working solution after the problem.  For each exercise, you need to\n",
      "implement the described function.  The example text output is there to help you check and see that your implementation conforms to what\n",
      "I expect from the correct solution of the problem."
     ]
    },
    {
     "cell_type": "markdown",
     "metadata": {},
     "source": [
      "**Exercise 1**\n",
      "\n",
      "Python privides a built-in function called `len()` that returns the length of a string, so the value of:"
     ]
    },
    {
     "cell_type": "code",
     "collapsed": false,
     "input": [
      "s = 'allen'\n",
      "len(s)"
     ],
     "language": "python",
     "metadata": {},
     "outputs": [
      {
       "metadata": {},
       "output_type": "pyout",
       "prompt_number": 1,
       "text": [
        "5"
       ]
      }
     ],
     "prompt_number": 1
    },
    {
     "cell_type": "markdown",
     "metadata": {},
     "source": [
      "is 5.  Write a function called `right_justify()` that takes a string named `s` as a parameter.  The function should return a new string\n",
      "that is right justified with enough spaces so that the last letter of the string is in column 70.  \n",
      "\n",
      "**NOTE:** the function should return a string, not simply print the string out as a side effect.  Therefore you must have at least one \n",
      "return statement in the implementation of your function.\n",
      "\n",
      "**HINT:** The length of the returned string will thus always be 70.  You can use len() to test your implementation.  You can ignore the\n",
      "case where the input string is > 70 characters already, I will not test what your function does with such bad input.  But I might \n",
      "test what happens if I pass in a blank string '' to your function."
     ]
    },
    {
     "cell_type": "code",
     "collapsed": false,
     "input": [
      "# write your function implementation of right_justify(s) and any tests here"
     ],
     "language": "python",
     "metadata": {},
     "outputs": [],
     "prompt_number": 2
    },
    {
     "cell_type": "markdown",
     "metadata": {},
     "source": [
      "Some example results you might get with a correct implementation:\n",
      "\n",
      "    s = right_justify('allen')\n",
      "    print s\n",
      "    print len(s)\n",
      "    \n",
      "    >>>                                                                  allen\n",
      "    >>> 70\n",
      "\n",
      "    s = right_justify('This is a longer string, what do you think?')\n",
      "    print s\n",
      "    print len(s)\n",
      "    \n",
      "    >>>                            This is a longer string, what do you think?\n",
      "    >>> 70\n",
      "\n",
      "    # a boundry case\n",
      "    s = right_justify('')\n",
      "    print 'start' + s + 'end'\n",
      "    print len(s)\n",
      "    \n",
      "    >>> start                                                                      end\n",
      "    >>> 70\n"
     ]
    },
    {
     "cell_type": "markdown",
     "metadata": {},
     "source": [
      "**Exercise 2**\n",
      "\n",
      "The Ackermann function, $A(m, n)$ is defined as:\n",
      "\n",
      "$$\n",
      "A(m, n) = \\begin{cases}\n",
      "    n + 1                   & \\text{if} \\quad m = 0 \\\\\\\\ \n",
      "    A(m-1, 1)               & \\text{if} \\quad m > 0 \\quad \\text{and} \\quad n = 0 \\\\\\\\\n",
      "    A(m-1, A(m, n-1)) \\quad & \\text{if} \\quad m > 0 \\quad \\text{and} \\quad n > 0 \\\\\\\\\n",
      "                            & \\text{otherwise function is undefined} \\\\\\\\\n",
      "\\end{cases}\n",
      "$$\n",
      "\n",
      "This is actually an example of a recursive function, a function that calls itself.  However, using the example of a chained condition from our class lecture notebooks, it should be fairly straightforward to implement this recursive function as a Python function.  Implement the function and test it.  The function shoule be named `A()` and should take 2 parameters as input, `m, n`.  As before I have provided a few example \n",
      "tests from a correct implementation for you to compare your implementation to.\n",
      "\n",
      "NOTE: The implementation of your function should return None for invalid/undefined values of `m` and `n` (e.g. when `m` and/or `n` < 0).\n",
      "\n",
      "NOTE: This recursive function, in the last case, makes not just 1 but 2 recursive calls to itself.  So it will quickly take a very\n",
      "long time to execute for larger `m` and `n`.  Therefore you will need to be careful and only try small values of `m` and `n`.  \n",
      "If your program is taking to long to execute in a notebook, you can always stop the kernel (the stop button), and try again.\n",
      "\n",
      "If you are interested in the significance of the Ackermann function in computer science, check \n",
      "out <a href=\"https://www.youtube.com/watch?v=i7sm9dzFtEI\">this</a> YouTube video."
     ]
    },
    {
     "cell_type": "code",
     "collapsed": false,
     "input": [
      "# write your implementation of A(m, n) and any tests here"
     ],
     "language": "python",
     "metadata": {},
     "outputs": [],
     "prompt_number": 3
    },
    {
     "cell_type": "markdown",
     "metadata": {},
     "source": [
      "    # test the base case\n",
      "    print A(0, 3)\n",
      "    >>> 4\n",
      "    print A(0, 20)\n",
      "    >>> 21\n",
      "\n",
      "    print A(-1, 20)\n",
      "    >>> None\n",
      "    \n",
      "    # now second condition, where m > 0 and n == 0\n",
      "    print A(1, 0)\n",
      "    >>> 2\n",
      "    print A(2, 0)\n",
      "    >>> 3\n",
      "\n",
      "    # here is a harder one, the result should be 125, I wouldn't try running the function on values larger than these.\n",
      "    print A(3, 4)\n",
      "    >>> 125"
     ]
    },
    {
     "cell_type": "markdown",
     "metadata": {},
     "source": [
      "**Exercise 3**\n",
      "\n",
      "A palindrome is a word that is spelled the same backward and forward.  Examples of palindromes include 'noon' and 'redivider'.  Though there is no built-in reverse function for strings in Python, we can easily reverse a string using extended list slicing, taking advantage of the fact that a negative step value causes the slice to step backwards:"
     ]
    },
    {
     "cell_type": "code",
     "collapsed": false,
     "input": [
      "w = 'nucleotides'\n",
      "print w[::-1]\n",
      "\n",
      "w = 'redivider'\n",
      "print w[::-1]"
     ],
     "language": "python",
     "metadata": {},
     "outputs": [
      {
       "output_type": "stream",
       "stream": "stdout",
       "text": [
        "seditoelcun\n",
        "redivider\n"
       ]
      }
     ],
     "prompt_number": 4
    },
    {
     "cell_type": "markdown",
     "metadata": {},
     "source": [
      "Being able to reverse a string, you should be able to implement a correct version of an `is_palindrome()` function.  The function should \n",
      "take a string as its input parameter.  It should return True (a boolean value) if the input string is a palindrome, and False \n",
      "(boolean value) otherwise. You are required to use string reversal in your first function/algorithm implementation in order to perform \n",
      "the palindrome  check. Do this here:"
     ]
    },
    {
     "cell_type": "code",
     "collapsed": false,
     "input": [
      "# implement first version of is_palindrome(s) here"
     ],
     "language": "python",
     "metadata": {},
     "outputs": [],
     "prompt_number": 5
    },
    {
     "cell_type": "markdown",
     "metadata": {},
     "source": [
      "    print is_palindrome('nucleotides')\n",
      "    >>> False\n",
      "    print is_palindrome('redivider')\n",
      "    >>> True\n",
      "    print is_palindrome('a')\n",
      "    >>> True"
     ]
    },
    {
     "cell_type": "markdown",
     "metadata": {},
     "source": [
      "Ok lets make the task a little tougher.  We can also `implement is_palindrome_recursive()` using recursion with the following observation.\n",
      "\n",
      "The following are functions that take a string argument and return the first, last and middle letters.  These functions make\n",
      "use of simple list slicing to perform their work:"
     ]
    },
    {
     "cell_type": "code",
     "collapsed": false,
     "input": [
      "def first(word):\n",
      "    return word[0]\n",
      "\n",
      "def last(word):\n",
      "    return word[-1]\n",
      "\n",
      "def middle(word):\n",
      "    return word[1:-1]\n",
      "\n",
      "w = 'nucleotides'\n",
      "print first(w), middle(w), last(w)\n",
      "\n",
      "w = 'redivider'\n",
      "print first(w), middle(w), last(w)\n"
     ],
     "language": "python",
     "metadata": {},
     "outputs": [
      {
       "output_type": "stream",
       "stream": "stdout",
       "text": [
        "n ucleotide s\n",
        "r edivide r\n"
       ]
      }
     ],
     "prompt_number": 6
    },
    {
     "cell_type": "markdown",
     "metadata": {},
     "source": [
      "Write a recursive implementat of a palindrome checker called `is_palindrome_recursive()`.  As before the function takes a string as \n",
      "input and returns a boolean result indicating if the string is or is not a palindrome (boolean True or False).  As base case(s) for \n",
      "the recursion, a string of length 1 (e.g. a single character 'a') or of length 0 (the empty string '') are to be considered \n",
      "palindromes. The algorithm you should implement goes something like this\n",
      "\n",
      "    if the length of the string is 0 or 1\n",
      "    \n",
      "        return True\n",
      "       \n",
      "    if the first and last characters are equal and middle of string is a palindrome\n",
      "    \n",
      "        return True\n",
      "       \n",
      "    return False\n",
      "\n",
      "This basically tests first for the defined base cases, and if the string is empty or of length 1, we return True, e.g. that the string is a\n",
      "palindrome.  The recursive bits happens in the middle, where we first see if the first and last characters are equal, and if there are, we\n",
      "recursively call ourself on the middle portion of the string.\n",
      "\n",
      "Write your implementation here:"
     ]
    },
    {
     "cell_type": "code",
     "collapsed": false,
     "input": [
      "# write your implementation of is_palindrome_recursive here"
     ],
     "language": "python",
     "metadata": {},
     "outputs": [],
     "prompt_number": 7
    },
    {
     "cell_type": "markdown",
     "metadata": {},
     "source": [
      "    print is_palindrome_recursive('nucleotides')\n",
      "    >>> False\n",
      "    print is_palindrome_recursive('redivider')\n",
      "    >>> True\n",
      "    print is_palindrome_recursive('i')\n",
      "    >>> True\n",
      "    print is_palindrome_recursive('')\n",
      "    >>> True"
     ]
    }
   ],
   "metadata": {}
  }
 ]
}