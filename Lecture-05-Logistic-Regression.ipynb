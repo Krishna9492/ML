{
 "metadata": {
  "name": ""
 },
 "nbformat": 3,
 "nbformat_minor": 0,
 "worksheets": [
  {
   "cells": [
    {
     "cell_type": "markdown",
     "metadata": {},
     "source": [
      "Logistic Regression\n",
      "==================="
     ]
    },
    {
     "cell_type": "markdown",
     "metadata": {},
     "source": [
      "Logistic regression is essentially a form of regression in which one predicts the probability that an item belongs to one of two categories.  Because probabilities are always between 0 and 1, we can threshold them at 0.5 to construct a classification algorithm.  In fact, we have already seen an example of a logistic regression.  When we classified people as either male (0) or female (1) and used a linear regression to construct a separating line (actually hyperplane) for our weight and height data set, this was essentially performing a logistic regression.  Usually linear regression is used to predict one set of continuous values from another set.   Logistic regression, however, is used to classify a set of data into 1 of two categories, and that is really the big difference.  There is another major difference, in logistic regression we use what are known as logistic functions in order to build our predictive model.  Logistic functions are nonlinear (typically a sigmoid function) so they can sometimes better create predictive models on classification tasks that a linear function cannot fit well.\n",
      "\n",
      "Lets do a quick example of using the logistic regression from Scikit-Learn using some made up data.  First, we generate some data to train with. The following creates a data set with 2 classes.  The data set has two input variables that act as our independent measures (in X) and the output variable we want to predict consists of either 0 or 1 depending on the class, and represents our dependent measure (y)."
     ]
    },
    {
     "cell_type": "code",
     "collapsed": false,
     "input": [
      "from sklearn.datasets import make_blobs\n",
      "X, y = make_blobs(centers=2)   # generate dataset consisting of two Gaussian clusters"
     ],
     "language": "python",
     "metadata": {},
     "outputs": [],
     "prompt_number": 1
    },
    {
     "cell_type": "markdown",
     "metadata": {},
     "source": [
      "Take a look at how large the data is and what the labels look like.  We have 100 samples or data points in your X and y arrays."
     ]
    },
    {
     "cell_type": "code",
     "collapsed": false,
     "input": [
      "print \"X.shape:\", X.shape \n",
      "print \"y: \", y "
     ],
     "language": "python",
     "metadata": {},
     "outputs": [
      {
       "output_type": "stream",
       "stream": "stdout",
       "text": [
        "X.shape: (100, 2)\n",
        "y:  [1 0 1 1 1 0 0 1 0 0 1 1 0 0 0 1 0 1 0 1 0 0 1 0 1 1 1 1 0 0 0 0 1 1 1 1 1\n",
        " 0 1 1 0 1 0 1 0 0 0 1 1 1 0 0 1 1 1 0 0 1 0 1 0 1 1 0 1 1 0 0 1 0 1 0 0 0\n",
        " 1 1 1 0 0 0 1 0 1 0 1 0 0 0 0 1 1 1 0 1 0 0 0 0 1 1]\n"
       ]
      }
     ],
     "prompt_number": 2
    },
    {
     "cell_type": "markdown",
     "metadata": {},
     "source": [
      "As the data is two-dimensional, we can easily visualize it (the prisim() function is one of a number of functions used to set the color map of the data, you can also try hot(), cool(), autumn(), etc.):"
     ]
    },
    {
     "cell_type": "code",
     "collapsed": false,
     "input": [
      "plt.prism()\n",
      "plt.scatter(X[:, 0], X[:, 1], c=y)"
     ],
     "language": "python",
     "metadata": {},
     "outputs": [
      {
       "metadata": {},
       "output_type": "pyout",
       "prompt_number": 9,
       "text": [
        "<matplotlib.collections.PathCollection at 0x3c1fd90>"
       ]
      },
      {
       "metadata": {},
       "output_type": "display_data",
       "png": "[encoded data removed]",
       "text": [
        "<matplotlib.figure.Figure at 0x3982610>"
       ]
      }
     ],
     "prompt_number": 9
    },
    {
     "cell_type": "markdown",
     "metadata": {},
     "source": [
      "The logistic regression from Scikit-Learn works in the same way as the other algorithms we have seen from Scikit-Learn.  We create an object that will be used to build a prediction model, we fit the data, then use the model for predition and to determine how well our model fits the input data.  \n",
      "\n",
      "Import logistic regression from scikit-learn and generate a classification object."
     ]
    },
    {
     "cell_type": "code",
     "collapsed": false,
     "input": [
      "from sklearn.linear_model import LogisticRegression\n",
      "logreg = LogisticRegression()"
     ],
     "language": "python",
     "metadata": {},
     "outputs": [],
     "prompt_number": 10
    },
    {
     "cell_type": "markdown",
     "metadata": {},
     "source": [
      "As we have done sometimes in other cases, we'll give an example of splitting the data into training and testing sets, to determine if we are overfitting data or not. \n",
      "\n",
      "Split the dataset into a training set and a test set."
     ]
    },
    {
     "cell_type": "code",
     "collapsed": false,
     "input": [
      "X_train = X[:50]\n",
      "y_train = y[:50]\n",
      "X_test = X[50:]\n",
      "y_test = y[50:]"
     ],
     "language": "python",
     "metadata": {},
     "outputs": [],
     "prompt_number": 12
    },
    {
     "cell_type": "markdown",
     "metadata": {},
     "source": [
      "To get an idea of how hard the task is, let us visualize the data again, this time only labeling the training points.\n",
      "\n",
      "The test points are plottet as white triangles.\n",
      "Can we see which class the test points belong to?"
     ]
    },
    {
     "cell_type": "code",
     "collapsed": false,
     "input": [
      "plt.prism()\n",
      "plt.scatter(X_train[:, 0], X_train[:, 1], c=y_train)\n",
      "plt.scatter(X_test[:, 0], X_test[:, 1], c='white', marker='^')"
     ],
     "language": "python",
     "metadata": {},
     "outputs": [
      {
       "metadata": {},
       "output_type": "pyout",
       "prompt_number": 13,
       "text": [
        "<matplotlib.collections.PathCollection at 0x4246cd0>"
       ]
      },
      {
       "metadata": {},
       "output_type": "display_data",
       "png": "[encoded data removed]",
       "text": [
        "<matplotlib.figure.Figure at 0x42466d0>"
       ]
      }
     ],
     "prompt_number": 13
    },
    {
     "cell_type": "markdown",
     "metadata": {},
     "source": [
      "That doesn't look too hard.\n",
      "\n",
      "Now let's fit the logistic regression model to the training data, to see if we can do it automatically:"
     ]
    },
    {
     "cell_type": "code",
     "collapsed": false,
     "input": [
      "logreg.fit(X_train, y_train)"
     ],
     "language": "python",
     "metadata": {},
     "outputs": [
      {
       "metadata": {},
       "output_type": "pyout",
       "prompt_number": 14,
       "text": [
        "LogisticRegression(C=1.0, class_weight=None, dual=False, fit_intercept=True,\n",
        "          intercept_scaling=1, penalty='l2', tol=0.0001)"
       ]
      }
     ],
     "prompt_number": 14
    },
    {
     "cell_type": "markdown",
     "metadata": {},
     "source": [
      "First, we have a look at how logistic regression did on the training set.\n",
      "\n",
      "We do this by now setting colors using the predicted class.  We use a small function we created to plot the decision boundary.  This function takes a classification object from sklearn that has already been fit to a model, like the logreg object we created, and the input variables for the model."
     ]
    },
    {
     "cell_type": "code",
     "collapsed": false,
     "input": [
      "from utility import plot_decision_boundary\n",
      "y_pred_train = logreg.predict(X_train)\n",
      "plt.scatter(X_train[:, 0], X_train[:, 1], c=y_pred_train)\n",
      "plot_decision_boundary(logreg, X)"
     ],
     "language": "python",
     "metadata": {},
     "outputs": [
      {
       "metadata": {},
       "output_type": "display_data",
       "png": "[encoded data removed]",
       "text": [
        "<matplotlib.figure.Figure at 0x423dc50>"
       ]
      }
     ],
     "prompt_number": 18
    },
    {
     "cell_type": "markdown",
     "metadata": {},
     "source": [
      "That looks pretty good. It is not always that easy to inspect the result visually,\n",
      "so we can also use the logistic regression object to calculate a core for us:"
     ]
    },
    {
     "cell_type": "code",
     "collapsed": false,
     "input": [
      "print \"Accuracy on training set:\", logreg.score(X_train, y_train)"
     ],
     "language": "python",
     "metadata": {},
     "outputs": [
      {
       "output_type": "stream",
       "stream": "stdout",
       "text": [
        "Accuracy on training set: 1.0\n"
       ]
      }
     ],
     "prompt_number": 19
    },
    {
     "cell_type": "markdown",
     "metadata": {},
     "source": [
      "1.0 means an accuracy of 100%, just as it looked like.\n",
      "\n",
      "Now let us have a look at how the algorithm generalizes to the test data."
     ]
    },
    {
     "cell_type": "code",
     "collapsed": false,
     "input": [
      "y_pred_test = logreg.predict(X_test)\n",
      "plt.scatter(X_test[:, 0], X_test[:, 1], c=y_pred_test, marker='^')\n",
      "plt.scatter(X_train[:, 0], X_train[:, 1], c=y_pred_train)\n",
      "plot_decision_boundary(logreg, X)\n",
      "print \"Accuracy on test set:\", logreg.score(X_test, y_test)"
     ],
     "language": "python",
     "metadata": {},
     "outputs": [
      {
       "output_type": "stream",
       "stream": "stdout",
       "text": [
        "Accuracy on test set: 1.0\n"
       ]
      },
      {
       "metadata": {},
       "output_type": "display_data",
       "png": "[encoded data removed]",
       "text": [
        "<matplotlib.figure.Figure at 0x43bfd10>"
       ]
      }
     ],
     "prompt_number": 20
    },
    {
     "cell_type": "markdown",
     "metadata": {},
     "source": [
      "We can also take a look at the coefficients, but they probably don't tell you much."
     ]
    },
    {
     "cell_type": "code",
     "collapsed": false,
     "input": [
      "logreg.coef_"
     ],
     "language": "python",
     "metadata": {},
     "outputs": [
      {
       "metadata": {},
       "output_type": "pyout",
       "prompt_number": 21,
       "text": [
        "array([[-0.62175363,  0.80192427]])"
       ]
      }
     ],
     "prompt_number": 21
    },
    {
     "cell_type": "markdown",
     "metadata": {},
     "source": [
      "MNIST DIGITS\n",
      "-------------\n",
      "Let's go back to the MNIST example of before.\n",
      "This dataset is a bit more exciting since it is much higher dimensional and not as easy to separate.\n",
      "First we load the data again"
     ]
    },
    {
     "cell_type": "code",
     "collapsed": false,
     "input": [
      "from sklearn.datasets import fetch_mldata\n",
      "mnist = fetch_mldata(\"MNIST original\")\n",
      "X_digits, y_digits = mnist.data, mnist.target"
     ],
     "language": "python",
     "metadata": {},
     "outputs": [],
     "prompt_number": 22
    },
    {
     "cell_type": "markdown",
     "metadata": {},
     "source": [
      "Remember what the dataset looks like:\n",
      "\n",
      "- 70000 examples, 784 dimensional\n",
      "- ten classes, 0-9\n",
      "- each 784 vector is a 28 * 28 digit, forming a binary image (each pixel is either on or off)"
     ]
    },
    {
     "cell_type": "code",
     "collapsed": false,
     "input": [
      "print \"X_digits.shape:\", X_digits.shape\n",
      "print \"Unique entries of y_digits:\", np.unique(y_digits)"
     ],
     "language": "python",
     "metadata": {},
     "outputs": [
      {
       "output_type": "stream",
       "stream": "stdout",
       "text": [
        "X_digits.shape: (70000, 784)\n",
        "Unique entries of y_digits: [ 0.  1.  2.  3.  4.  5.  6.  7.  8.  9.]\n"
       ]
      }
     ],
     "prompt_number": 23
    },
    {
     "cell_type": "code",
     "collapsed": false,
     "input": [
      "print(y_digits[0])\n",
      "plt.rc(\"image\", cmap=\"binary\")\n",
      "plt.matshow(X_digits[0].reshape(28, 28))"
     ],
     "language": "python",
     "metadata": {},
     "outputs": [
      {
       "output_type": "stream",
       "stream": "stdout",
       "text": [
        "0.0\n"
       ]
      },
      {
       "metadata": {},
       "output_type": "pyout",
       "prompt_number": 24,
       "text": [
        "<matplotlib.image.AxesImage at 0x4547750>"
       ]
      },
      {
       "metadata": {},
       "output_type": "display_data",
       "png": "[encoded data removed]",
       "text": [
        "<matplotlib.figure.Figure at 0x43bfa90>"
       ]
      }
     ],
     "prompt_number": 24
    },
    {
     "cell_type": "markdown",
     "metadata": {},
     "source": [
      "We could try to learn all ten classes with logistic regression, but let us keep with two classes for the moment.\n",
      "We will use two classes that are quite hard to distinguish: seven and nine.\n",
      "\n",
      "To create a dataset only consisting of the classes zero and one, we need a new numpy trick!  This is an example of fancy indexing, where we create a boolean index e.g. y_digits==0, in order to index into the X_digits object and pull out only the X iputs whose output was a 0.\n",
      "\n",
      "So we can use fancy indexing to not only slice our data using ranges, like ``X[5:10]``, but to also select elements using conditions, like so:"
     ]
    },
    {
     "cell_type": "code",
     "collapsed": false,
     "input": [
      "sevens = X_digits[y_digits==7]  # select all the rows of X where y is zero (i.e. the zeros)\n",
      "nines = X_digits[y_digits==9]   # select all the rows of X where y is one (i.e. the ones)\n",
      "print \"sevens.shape: \", sevens.shape\n",
      "print \"nines.shape: \", nines.shape"
     ],
     "language": "python",
     "metadata": {},
     "outputs": [
      {
       "output_type": "stream",
       "stream": "stdout",
       "text": [
        "sevens.shape:  (7293, 784)\n",
        "nines.shape:  (6958, 784)\n"
       ]
      }
     ],
     "prompt_number": 28
    },
    {
     "cell_type": "markdown",
     "metadata": {},
     "source": [
      "Lets have a quick look to see that we did it right."
     ]
    },
    {
     "cell_type": "code",
     "collapsed": false,
     "input": [
      "plt.matshow(sevens[0].reshape(28, 28))  # change the 0 to another number to see some more sevens. Or try looking at some nones."
     ],
     "language": "python",
     "metadata": {},
     "outputs": [
      {
       "metadata": {},
       "output_type": "pyout",
       "prompt_number": 29,
       "text": [
        "<matplotlib.image.AxesImage at 0x4a83150>"
       ]
      },
      {
       "metadata": {},
       "output_type": "display_data",
       "png": "[encoded data removed]",
       "text": [
        "<matplotlib.figure.Figure at 0x43b9e10>"
       ]
      }
     ],
     "prompt_number": 29
    },
    {
     "cell_type": "markdown",
     "metadata": {},
     "source": [
      "Now, we generate some new data set.\n",
      "\n",
      "For the training labels y, we write as many 0's as the ``sevens`` array is long, the same for ``nines``."
     ]
    },
    {
     "cell_type": "code",
     "collapsed": false,
     "input": [
      "X_new = np.vstack([sevens, nines])  # this \"stacks\" sevens and nines vertically\n",
      "print \"X_new.shape: \", X_new.shape\n",
      "y_new = np.hstack([np.repeat(0, sevens.shape[0]), np.repeat(1, nines.shape[0])])\n",
      "print \"y_new.shape: \", y_new.shape\n",
      "print \"y_new: \", y_new"
     ],
     "language": "python",
     "metadata": {},
     "outputs": [
      {
       "output_type": "stream",
       "stream": "stdout",
       "text": [
        "X_new.shape:  (14251, 784)\n",
        "y_new.shape:  (14251,)\n",
        "y_new:  [0 0 0 ..., 1 1 1]\n"
       ]
      }
     ],
     "prompt_number": 30
    },
    {
     "cell_type": "markdown",
     "metadata": {},
     "source": [
      "Now we shuffle them around and create a training and test dataset."
     ]
    },
    {
     "cell_type": "code",
     "collapsed": false,
     "input": [
      "from sklearn.utils import shuffle\n",
      "X_new, y_new = shuffle(X_new, y_new)\n",
      "X_mnist_train = X_new[:5000]\n",
      "y_mnist_train = y_new[:5000]\n",
      "X_mnist_test = X_new[5000:]\n",
      "y_mnist_test = y_new[5000:]"
     ],
     "language": "python",
     "metadata": {},
     "outputs": [],
     "prompt_number": 31
    },
    {
     "cell_type": "markdown",
     "metadata": {},
     "source": [
      "Now let us learn a logistic regression model."
     ]
    },
    {
     "cell_type": "code",
     "collapsed": false,
     "input": [
      "logreg.fit(X_mnist_train, y_mnist_train)"
     ],
     "language": "python",
     "metadata": {},
     "outputs": [
      {
       "metadata": {},
       "output_type": "pyout",
       "prompt_number": 32,
       "text": [
        "LogisticRegression(C=1.0, class_weight=None, dual=False, fit_intercept=True,\n",
        "          intercept_scaling=1, penalty='l2', tol=0.0001)"
       ]
      }
     ],
     "prompt_number": 32
    },
    {
     "cell_type": "markdown",
     "metadata": {},
     "source": [
      "... and visualize the coefficients.\n",
      "\n",
      "This is just showing places where it is likely there is a pixel (dark areas) that is used in sevens, and areas where it is unlikely (negative pixels) or in other words likely to be used in a nine.  A 0.0 represents a neutral space.  Sevens and nines are hard, so this visualization isn't too useful."
     ]
    },
    {
     "cell_type": "code",
     "collapsed": false,
     "input": [
      "plt.matshow(logreg.coef_.reshape(28, 28))\n",
      "plt.colorbar()"
     ],
     "language": "python",
     "metadata": {},
     "outputs": [
      {
       "metadata": {},
       "output_type": "pyout",
       "prompt_number": 34,
       "text": [
        "<matplotlib.colorbar.Colorbar instance at 0x4ea9ea8>"
       ]
      },
      {
       "metadata": {},
       "output_type": "display_data",
       "png": "[encoded data removed]",
       "text": [
        "<matplotlib.figure.Figure at 0x4d48610>"
       ]
      }
     ],
     "prompt_number": 34
    },
    {
     "cell_type": "markdown",
     "metadata": {},
     "source": [
      "Finally, let as look at the accuracy on training and test set:"
     ]
    },
    {
     "cell_type": "code",
     "collapsed": false,
     "input": [
      "print \"Accuracy training set:\", logreg.score(X_mnist_train, y_mnist_train)\n",
      "print \"Accuracy test set:\", logreg.score(X_mnist_test, y_mnist_test)"
     ],
     "language": "python",
     "metadata": {},
     "outputs": [
      {
       "output_type": "stream",
       "stream": "stdout",
       "text": [
        "Accuracy training set: "
       ]
      },
      {
       "output_type": "stream",
       "stream": "stdout",
       "text": [
        "1.0\n",
        "Accuracy test set: "
       ]
      },
      {
       "output_type": "stream",
       "stream": "stdout",
       "text": [
        "0.929737325695\n"
       ]
      }
     ],
     "prompt_number": 35
    },
    {
     "cell_type": "markdown",
     "metadata": {},
     "source": [
      "But even so, we can get about 93% accuracy on the test set we created, which is pretty good using a simple method like linear regression."
     ]
    },
    {
     "cell_type": "markdown",
     "metadata": {},
     "source": [
      "Playing around with this notebook\n",
      "=================================\n",
      "1. What would be the accuracy of a completely random predictor on the first dataset?\n",
      "\n",
      "2. Can you still pick out the class yourself if you set the ``cluster_std`` to ``10`` in ``make_blobs``? Can logistic regression do it?\n",
      "\n",
      "3. Try to separate some other digit classes from MNIST. Which are hard, which are not?\n",
      "\n",
      "4. Visualize the classes 0 and 1 using PCA down to two dimensions. Use a scatter plot as above. Would you expect they can be separated with a linear classifier?"
     ]
    },
    {
     "cell_type": "code",
     "collapsed": false,
     "input": [],
     "language": "python",
     "metadata": {},
     "outputs": []
    }
   ],
   "metadata": {}
  }
 ]
}