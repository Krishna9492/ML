{
 "cells": [
  {
   "cell_type": "code",
   "execution_count": 1,
   "metadata": {
    "collapsed": false
   },
   "outputs": [],
   "source": [
    "import numpy as np\n",
    "import matplotlib.pyplot as plt\n",
    "import pandas as pd\n",
    "import matplotlib\n",
    "%matplotlib inline\n",
    "plt.rcParams['figure.figsize'] = (8, 6) # set default figure size, 8in by 6in"
   ]
  },
  {
   "cell_type": "markdown",
   "metadata": {},
   "source": [
    "# Video W5 01: Neural Network Cost Function\n",
    "\n",
    "[YouTube Video Link](https://www.youtube.com/watch?v=18X68kLAfKY&list=PLZ9qNFMHZ-A4rycgrgOYma6zxF4BZGGPW&index=51)\n",
    "\n",
    "We will be looking this week at methods to train a neural network, e.g. ways to find the set of $\\Theta$ parameters that optimize\n",
    "our network performance on a given training set.  We will be looking at multilayer networks, with usually at least 1 layer of so\n",
    "called hidden units, and a final layer of output units.  We will be doing either binary or multi-class classification with\n",
    "our networks.  For binary classification, we would simply have a single unit in the output layer, and the answer we are looking for\n",
    "is is this a positive or a negative case.  When we have $N$ multiple classes, as we already discussed, we can use a network with\n",
    "$N$ units in the output layer, and we will train such that each unit represents a particular classification.\n",
    "\n",
    "**Cost Function**\n",
    "\n",
    "The cost function we need to use for a neural network is a generalization of the cost function we used for logistic regression. \n",
    "Recall that our logistic regression cost function with the regularization term looked like this:\n",
    "\n",
    "$$\n",
    "J(\\theta) = -\\frac{1}{m} \\Big[ \\sum_{i=1}^m  y^{(i)} \\; \\textrm{log} (h_\\theta(x^{(i)})) + (1 - y^{(i)}) \\; \\textrm{log} (1 - h_\\theta(x^{(i)})) \\Big] + \\frac{\\lambda}{2m} \\sum_{j=1}^{n} \\theta_j^2\n",
    "$$\n",
    "\n",
    "The biggest change in notation for a neural network is that we need to sum up over multiple output units (for the most general\n",
    "multi-class case).  Thus, if we have $K$ output units, we sum up their individual costs:\n",
    "\n",
    "$$\n",
    "J(\\theta) = -\\frac{1}{m} \\Big[ \\sum_{i=1}^m  \\sum_{k=1}^{K} y_k^{(i)} \\; \\textrm{log} (h_\\theta(x^{(i)}))_k + (1 - y_k^{(i)}) \\; \\textrm{log} (1 - h_\\theta(x^{(i)}))_k \\Big] + \\frac{\\lambda}{2m} \\sum_{l=1}^{L-1} \\sum_{i=1}^{s_l}\\sum_{j=1}^{s_{l+1}} \\big( \\Theta_{ji}^{(l)} \\big)^2\n",
    "$$\n",
    "\n",
    "Notice also that the regularization term has become more complex.  This is because we need to add in penalities for our cost for all\n",
    "of the $\\Theta$ parameter values in all of the layers of our network."
   ]
  },
  {
   "cell_type": "markdown",
   "metadata": {},
   "source": [
    "# Video W5 02: Backpropagation Algorithm\n",
    "\n",
    "[YouTube Video Link](https://www.youtube.com/watch?v=SvAEX5taVKk&list=PLZ9qNFMHZ-A4rycgrgOYma6zxF4BZGGPW&index=52)\n",
    "\n",
    "The trick with multi-layer neural networks is calculating the partial derivative or gradient terms in the layers of the network.\n",
    "Because of the layered nature of the network, there is no direct way to calculate the partial derivatives for hidden layers.  We\n",
    "can however estimate these partial derivatives by calculating the delta or differences in our outputs at the output layer from the\n",
    "correct output.  Given these deltas, we can estimate deltas for subsequent earlier layers.  Thus backpropagation works by first\n",
    "doing a feed forward pass to calculate all of the activations for all of the units in all layers, then backpropagating the delta\n",
    "errors, wich can give us an estimate of the partial derivatives of the functions at each layer.  Don't worry too much if you don't\n",
    "follow the logic for how the backpropagation equations have been derived.  For this course, it will be sufficient to understand\n",
    "the given backpropagation equations so that you can implment them in Python code.\n",
    "\n",
    "The delta's for the output layer are computed dirrectly as simply the difference between the activiation of each unit and the\n",
    "correct answer given in our training set $y$.  For the 4 layer example network from the video, the delta's at layer $L = 4$ are\n",
    "given by:\n",
    "\n",
    "$$\n",
    "\\delta_j^{(4)} = a_j^{(4)} - y_j\n",
    "$$\n",
    "\n",
    "As you can see, this is simply the difference between the output and the correct answer for each of the $j$ output units.  Given\n",
    "these delta values for the output layer, we can estimate deltas for the 2 previous layers:\n",
    "\n",
    "$$\n",
    "\\delta_j^{(3)} = (\\Theta^{(3)})^T \\delta^{(4)} \\; .* \\; g'(z^{(3)})\n",
    "$$\n",
    "\n",
    "$$\n",
    "\\delta_j^{(2)} = (\\Theta^{(2)})^T \\delta^{(3)} \\; .* \\; g'(z^{(2)})\n",
    "$$\n",
    "\n",
    "Notice each calculation of a layer uses the delta calculated from the next higher layer.  The $g'(z)$ represents the derivative\n",
    "of the sigmoid function, which can be derived directly using calculus.  In the video the instructor uses a bit of matlab\n",
    "notation in these equations.  The $.*$ means we need to do an element wise multiplication between the left and right terms.\n",
    "The result will be deltas for each of the units in the indicated layer of the network.  These deltas can then be used directly\n",
    "as estimates of the gradient or partial derivatives, and thus can then be used in our optimization methods like gradient descent to search for the best $\\Theta$ parameters for a given network to represent a given training set of data.\n",
    "\n",
    "**Backpropagation Algorithm**\n",
    "\n",
    "Given a training set of $m$ training examples ${ (x^{(1)}, y^{(1)}), \\cdots, (x^{(m)}, y^{(m)})}$ the video next gives\n",
    "pseudo code for the basic backpropagation algorithm.  There are a lot of details here, but for all of the details it is mostly\n",
    "a matter of being comfortable with the notation.  We are using subscripts $i, j$ to denote connections or $\\Theta$ parameters\n",
    "from the $j^{th}$ unit in a previous layer to the $i^{th}$ unit in the next layer.  And we are using $l$ to indicate the layer\n",
    "number in the network.\n",
    "\n",
    "Given this notation, we create a number of matrices (denoted by capital Delta $\\Delta$, that we initially set to 0 and use\n",
    "as accumulators when computing the deltas.  The algorithm given in the video is:\n",
    "\n",
    "Set $\\Delta_{ij}^{(l)} = 0$ (for all $l, i, j$).\n",
    "\n",
    "For $i = 1 \\; \\textrm{to} \\; m$  (we iterate over each of our training examples)\n",
    "\n",
    "- Set $a^{(1)} = x^{(1)}$ and perform forward propagation to compute the activation $a^{(l)}$ for all units in all layers $l = 2, 3, ..., L$.\n",
    "- Using $y^{(i)}$ compute the delta in the output layer $\\delta^{(L)} = a^{(L)} - y^{(i)}$ \n",
    "- Backpropagate and compute the delta values in all previous layers\n",
    "- Accumulate this computed delta for input example $m$ by adding $\\Delta_{ij}^{(l)} := \\Delta_{ij}^{(l)} + a_j^{(l)} \\delta_i^{(l+1)}$\n",
    "\n",
    "Finally we can add in a regularization term for the units that don't represent bias units\n",
    "\n",
    "$$\n",
    "D_{ij}^{(l)} := \\frac{1}{m} \\Delta_{ij}^{(l)} + \\lambda \\Theta_{ij}^{(l)} \\; \\; \\textrm{if} \\; \\; j \\ne 0\n",
    "$$\n",
    "\n",
    "$$\n",
    "D_{ij}^{(l)} := \\frac{1}{m} \\Delta_{ij}^{(l)} \\;\\;\\;\\;\\;\\;\\;\\; \\textrm{if} \\; \\; j = 0\n",
    "$$\n",
    "\n",
    "And these $D$ terms can be used as approximations of the partial derivative gradients we need in order to perform an optimization\n",
    "like gradient descent on our $\\Theta$ parameters of the network:\n",
    "\n",
    "$$\n",
    "\\frac{\\partial}{\\partial \\Theta_{ij}^{(l)}} J(\\Theta) = D_{ij}^{(l)}\n",
    "$$"
   ]
  },
  {
   "cell_type": "markdown",
   "metadata": {},
   "source": [
    "# Video W5 03: Backpropagation Intuition\n",
    "\n",
    "[YouTube Video Link](https://www.youtube.com/watch?v=q1bQDyV6lsg&list=PLZ9qNFMHZ-A4rycgrgOYma6zxF4BZGGPW&index=53)\n",
    "\n"
   ]
  },
  {
   "cell_type": "markdown",
   "metadata": {},
   "source": [
    "# Video W5 04: Implementation Note: Unrolling Parameters\n",
    "\n",
    "[YouTube Video Link](https://www.youtube.com/watch?v=rcDJhGtXMvk&index=54&list=PLZ9qNFMHZ-A4rycgrgOYma6zxF4BZGGPW)\n",
    "\n",
    "Example of the unrolling/reshaping operations from the video, but in `Python`/`NumPy`"
   ]
  },
  {
   "cell_type": "code",
   "execution_count": 2,
   "metadata": {
    "collapsed": false
   },
   "outputs": [
    {
     "name": "stdout",
     "output_type": "stream",
     "text": [
      "[[ 1.  1.  1.  1.  1.  1.  1.  1.  1.  1.  1.]\n",
      " [ 1.  1.  1.  1.  1.  1.  1.  1.  1.  1.  1.]\n",
      " [ 1.  1.  1.  1.  1.  1.  1.  1.  1.  1.  1.]\n",
      " [ 1.  1.  1.  1.  1.  1.  1.  1.  1.  1.  1.]\n",
      " [ 1.  1.  1.  1.  1.  1.  1.  1.  1.  1.  1.]\n",
      " [ 1.  1.  1.  1.  1.  1.  1.  1.  1.  1.  1.]\n",
      " [ 1.  1.  1.  1.  1.  1.  1.  1.  1.  1.  1.]\n",
      " [ 1.  1.  1.  1.  1.  1.  1.  1.  1.  1.  1.]\n",
      " [ 1.  1.  1.  1.  1.  1.  1.  1.  1.  1.  1.]\n",
      " [ 1.  1.  1.  1.  1.  1.  1.  1.  1.  1.  1.]]\n",
      "(10, 11)\n"
     ]
    }
   ],
   "source": [
    "# example of the matrix reshaping in Python/NumPy\n",
    "Theta1 = np.ones( (10, 11) )\n",
    "print Theta1\n",
    "print Theta1.shape"
   ]
  },
  {
   "cell_type": "code",
   "execution_count": 3,
   "metadata": {
    "collapsed": false
   },
   "outputs": [],
   "source": [
    "Theta2 = 2 * np.ones( (10,11) )\n",
    "Theta3 = 3 * np.ones( (1, 11) )"
   ]
  },
  {
   "cell_type": "code",
   "execution_count": 4,
   "metadata": {
    "collapsed": false
   },
   "outputs": [
    {
     "name": "stdout",
     "output_type": "stream",
     "text": [
      "[[ 3.]\n",
      " [ 3.]\n",
      " [ 3.]\n",
      " [ 3.]\n",
      " [ 3.]\n",
      " [ 3.]\n",
      " [ 3.]\n",
      " [ 3.]\n",
      " [ 3.]\n",
      " [ 3.]\n",
      " [ 3.]]\n",
      "(11, 1)\n"
     ]
    }
   ],
   "source": [
    "# the matlab/octave notation Theta1(:) basically reshapes the matrix into a column vector, the\n",
    "# equivalent in NumPY is\n",
    "Theta3Col = Theta3.reshape( (Theta3.size,1) )\n",
    "print Theta3Col\n",
    "print Theta3Col.shape"
   ]
  },
  {
   "cell_type": "code",
   "execution_count": 5,
   "metadata": {
    "collapsed": false
   },
   "outputs": [
    {
     "name": "stdout",
     "output_type": "stream",
     "text": [
      "(231, 1)\n"
     ]
    }
   ],
   "source": [
    "# so to create the thetaVec column vector, we can do this\n",
    "thetaVec = np.concatenate((Theta1.reshape( (Theta1.size,1) ), \n",
    "                           Theta2.reshape( (Theta2.size,1) ),\n",
    "                           Theta3.reshape( (Theta3.size,1) ) ))\n",
    "print thetaVec.shape\n",
    "#print thetaVec"
   ]
  },
  {
   "cell_type": "code",
   "execution_count": 6,
   "metadata": {
    "collapsed": false
   },
   "outputs": [
    {
     "data": {
      "text/plain": [
       "array([[ 1.,  1.,  1.,  1.,  1.,  1.,  1.,  1.,  1.,  1.,  1.],\n",
       "       [ 1.,  1.,  1.,  1.,  1.,  1.,  1.,  1.,  1.,  1.,  1.],\n",
       "       [ 1.,  1.,  1.,  1.,  1.,  1.,  1.,  1.,  1.,  1.,  1.],\n",
       "       [ 1.,  1.,  1.,  1.,  1.,  1.,  1.,  1.,  1.,  1.,  1.],\n",
       "       [ 1.,  1.,  1.,  1.,  1.,  1.,  1.,  1.,  1.,  1.,  1.],\n",
       "       [ 1.,  1.,  1.,  1.,  1.,  1.,  1.,  1.,  1.,  1.,  1.],\n",
       "       [ 1.,  1.,  1.,  1.,  1.,  1.,  1.,  1.,  1.,  1.,  1.],\n",
       "       [ 1.,  1.,  1.,  1.,  1.,  1.,  1.,  1.,  1.,  1.,  1.],\n",
       "       [ 1.,  1.,  1.,  1.,  1.,  1.,  1.,  1.,  1.,  1.,  1.],\n",
       "       [ 1.,  1.,  1.,  1.,  1.,  1.,  1.,  1.,  1.,  1.,  1.]])"
      ]
     },
     "execution_count": 6,
     "metadata": {},
     "output_type": "execute_result"
    }
   ],
   "source": [
    "# to get back the theta matrices from the column vector, we can do something similar to matlab\n",
    "# get the Theta1 values back to a 10x11 matrix, note we use 0 based indexing in NumPy arrays\n",
    "np.reshape(thetaVec[0:110], (10, 11) )"
   ]
  },
  {
   "cell_type": "code",
   "execution_count": 7,
   "metadata": {
    "collapsed": false
   },
   "outputs": [
    {
     "data": {
      "text/plain": [
       "array([[ 2.,  2.,  2.,  2.,  2.,  2.,  2.,  2.,  2.,  2.,  2.],\n",
       "       [ 2.,  2.,  2.,  2.,  2.,  2.,  2.,  2.,  2.,  2.,  2.],\n",
       "       [ 2.,  2.,  2.,  2.,  2.,  2.,  2.,  2.,  2.,  2.,  2.],\n",
       "       [ 2.,  2.,  2.,  2.,  2.,  2.,  2.,  2.,  2.,  2.,  2.],\n",
       "       [ 2.,  2.,  2.,  2.,  2.,  2.,  2.,  2.,  2.,  2.,  2.],\n",
       "       [ 2.,  2.,  2.,  2.,  2.,  2.,  2.,  2.,  2.,  2.,  2.],\n",
       "       [ 2.,  2.,  2.,  2.,  2.,  2.,  2.,  2.,  2.,  2.,  2.],\n",
       "       [ 2.,  2.,  2.,  2.,  2.,  2.,  2.,  2.,  2.,  2.,  2.],\n",
       "       [ 2.,  2.,  2.,  2.,  2.,  2.,  2.,  2.,  2.,  2.,  2.],\n",
       "       [ 2.,  2.,  2.,  2.,  2.,  2.,  2.,  2.,  2.,  2.,  2.]])"
      ]
     },
     "execution_count": 7,
     "metadata": {},
     "output_type": "execute_result"
    }
   ],
   "source": [
    "np.reshape(thetaVec[110:220], (10, 11) )"
   ]
  },
  {
   "cell_type": "code",
   "execution_count": 8,
   "metadata": {
    "collapsed": false
   },
   "outputs": [
    {
     "data": {
      "text/plain": [
       "array([[ 3.,  3.,  3.,  3.,  3.,  3.,  3.,  3.,  3.,  3.,  3.]])"
      ]
     },
     "execution_count": 8,
     "metadata": {},
     "output_type": "execute_result"
    }
   ],
   "source": [
    "np.reshape(thetaVec[220:231], (1,11) )"
   ]
  },
  {
   "cell_type": "markdown",
   "metadata": {},
   "source": [
    "# Video W5 05: Gradient Checking\n",
    "\n",
    "[YouTube Video Link](https://www.youtube.com/watch?v=I-X8_EcGYik&index=55&list=PLZ9qNFMHZ-A4rycgrgOYma6zxF4BZGGPW)\n",
    "\n",
    "This is a method that helps to debug any gradient descent or optimization methods for backpropagation.  If you introduce subtle bugs in computing\n",
    "the cost or gradient values that are used in an optimization method, the optimization can appear to be working.  However, you\n",
    "can end up with not truly optimal parameters that you would get if your calculation of cost and gradient were completely 100%\n",
    "correct.  The method shown in this video can be used to check that the result you get after optimization is actually the\n",
    "best one possible, and thus that you are computing the cost and gradients correctly.\n",
    "\n",
    "This method is based on approximating the gradient or partial derivative, using the difference of the function at 2 points\n",
    "that are close together (based on the definition of the derivative of a function at a point).\n",
    "\n",
    "If the approximate method of calculating the partial derivative is close to the computed $D$ values, then probably the\n",
    "implementation is correct.  Where close is defined as being the same to some number of decimal places, for example.\n",
    "\n",
    "Here is a very simple example of calculating the gradient (the derivative) using this numerical approximation.  Suppose\n",
    "you have \n",
    "\n",
    "$$\n",
    "J(\\theta) = \\theta^3\n",
    "$$\n",
    "\n",
    "Furthermore let $\\theta = 1.0$ and $\\epsilon = 0.01$.  We can use the formula for two sided difference for approximating the derivative\n",
    "\n",
    "$$\n",
    "\\frac{J(\\theta + \\epsilon) - J(\\theta - \\epsilon)}{2 \\epsilon}\n",
    "$$\n",
    "\n",
    "to approximate the derivative.  The true derivative using analytic methods for this function at the point $\\theta = 1$ is\n",
    "\n",
    "$$\n",
    "\\frac{d}{d \\theta} J(\\theta) = 3 \\theta^2 = 3\n",
    "$$"
   ]
  },
  {
   "cell_type": "code",
   "execution_count": 9,
   "metadata": {
    "collapsed": false
   },
   "outputs": [
    {
     "name": "stdout",
     "output_type": "stream",
     "text": [
      "3.0001\n"
     ]
    }
   ],
   "source": [
    "theta = 1.0\n",
    "epsilon = 0.01\n",
    "\n",
    "def J(theta):\n",
    "    return theta**3.0\n",
    "\n",
    "dtheta = ( J(theta + epsilon) - J(theta - epsilon) ) / (2.0 * epsilon)\n",
    "print dtheta"
   ]
  },
  {
   "cell_type": "markdown",
   "metadata": {},
   "source": [
    "# Video W5 06: Random Initialization\n",
    "\n",
    "[YouTube Video Link](https://www.youtube.com/watch?v=NhgB6FLyHJc&list=PLZ9qNFMHZ-A4rycgrgOYma6zxF4BZGGPW&index=56)\n",
    "\n",
    "Unlike before in logistic regression, there is a problem with setting the initial values for theta to 0 when using\n",
    "backpropagation.  All of the activations (and all of the delta values) will be the same for all inputs given an initial\n",
    "theta that is all 0's.  \n",
    "\n",
    "A simple way to get around this is to initialize all of the theta paramters to small random values, around 0.  The\n",
    "eqivalent way to create random Theta1, Theta2, etc. matrices of the right shape in NumPy is:"
   ]
  },
  {
   "cell_type": "code",
   "execution_count": 10,
   "metadata": {
    "collapsed": false
   },
   "outputs": [
    {
     "name": "stdout",
     "output_type": "stream",
     "text": [
      "[[ -8.78488788e-04  -4.27526416e-03  -7.52210570e-04  -7.49979909e-03\n",
      "   -1.17935292e-03   4.96924590e-03   7.25147277e-03   2.63711386e-03\n",
      "    5.22212205e-03  -6.38583906e-03  -6.01488663e-03]\n",
      " [  9.14942927e-03   7.70142460e-03   2.35318113e-03  -8.26580490e-03\n",
      "   -2.93710267e-05  -3.95122376e-03   7.92868099e-03   1.84284594e-03\n",
      "   -7.92866201e-03  -2.66576234e-03  -2.47338304e-03]\n",
      " [  3.45079575e-03   8.00120214e-03   3.75480930e-03   7.75947555e-03\n",
      "    7.66039898e-03   7.79365104e-03   8.08088416e-03  -9.81817233e-03\n",
      "   -5.65787969e-03  -4.05619812e-04   6.62390085e-04]\n",
      " [ -7.28170357e-03   1.25095690e-06  -9.12259348e-03   2.19086134e-03\n",
      "    4.15927332e-03   2.95471278e-03   1.69654139e-05  -3.98772697e-03\n",
      "   -2.17614975e-03   4.65110232e-03  -4.05333160e-03]\n",
      " [  1.16016432e-03  -6.61208020e-03   7.98366152e-04   4.80320162e-03\n",
      "   -4.72762637e-03   8.93936939e-03  -3.74343315e-03  -8.44050905e-03\n",
      "   -7.41156763e-03   3.04678905e-03  -7.63564902e-03]\n",
      " [  2.22409670e-03   3.13813339e-03   9.03959838e-03  -4.01115187e-03\n",
      "    8.91453628e-03  -9.86526186e-03  -1.70575579e-03   3.84333294e-03\n",
      "    1.21504036e-03   8.11585682e-03   1.15207780e-03]\n",
      " [  8.77559803e-03   5.33772564e-03  -8.76327773e-03   6.07098086e-03\n",
      "    3.98804392e-04   8.82727435e-03  -2.29576183e-03  -2.62100069e-03\n",
      "   -9.13346610e-03  -1.94871422e-03  -5.01566089e-03]\n",
      " [  9.99541631e-03  -6.11308814e-03  -1.90698047e-03  -8.47315634e-03\n",
      "   -2.92620935e-03   6.90240597e-03   9.80837112e-03  -7.80406595e-04\n",
      "    9.08675229e-03   4.19785250e-03  -5.67702834e-03]\n",
      " [ -6.18887104e-03   7.65560327e-03  -4.60334402e-03   1.31764174e-03\n",
      "   -9.08273879e-03  -8.15521524e-03  -5.44798703e-03  -8.92102384e-04\n",
      "    1.29194047e-03  -4.76101064e-03   5.83823411e-03]\n",
      " [  6.57791339e-03  -1.59558197e-03   6.63318422e-03   3.79369371e-03\n",
      "    3.99108885e-03   9.53859023e-03   1.83646982e-03  -1.19749394e-04\n",
      "   -7.15621239e-03   5.76698367e-03   5.45236767e-04]]\n"
     ]
    }
   ],
   "source": [
    "INIT_EPSILON = 0.01\n",
    "Theta1 = np.random.uniform(-INIT_EPSILON, INIT_EPSILON, (10, 11) )\n",
    "print Theta1"
   ]
  },
  {
   "cell_type": "markdown",
   "metadata": {},
   "source": [
    "# Video W5 07: Putting it Together\n",
    "\n",
    "[YouTube Video Link](https://www.youtube.com/watch?v=T7-ZsYlFH4M&list=PLZ9qNFMHZ-A4rycgrgOYma6zxF4BZGGPW&index=57)\n",
    "\n"
   ]
  },
  {
   "cell_type": "markdown",
   "metadata": {},
   "source": [
    "# Video W5 08: Autonomous Driving\n",
    "\n",
    "[YouTube Video Link](https://www.youtube.com/watch?v=WkmplH50K1k&index=58&list=PLZ9qNFMHZ-A4rycgrgOYma6zxF4BZGGPW)\n"
   ]
  },
  {
   "cell_type": "code",
   "execution_count": null,
   "metadata": {
    "collapsed": false
   },
   "outputs": [],
   "source": []
  }
 ],
 "metadata": {
  "kernelspec": {
   "display_name": "Python 2",
   "language": "python",
   "name": "python2"
  },
  "language_info": {
   "codemirror_mode": {
    "name": "ipython",
    "version": 2
   },
   "file_extension": ".py",
   "mimetype": "text/x-python",
   "name": "python",
   "nbconvert_exporter": "python",
   "pygments_lexer": "ipython2",
   "version": "2.7.12"
  }
 },
 "nbformat": 4,
 "nbformat_minor": 0
}
