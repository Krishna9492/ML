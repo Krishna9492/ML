{
 "cells": [
  {
   "cell_type": "code",
   "execution_count": 1,
   "metadata": {},
   "outputs": [],
   "source": [
    "import numpy as np\n",
    "import matplotlib.pyplot as plt\n",
    "import pandas as pd\n",
    "import matplotlib\n",
    "%matplotlib inline\n",
    "matplotlib.rcParams['figure.figsize'] = (8, 6) # set default figure size, 8in by 6in"
   ]
  },
  {
   "cell_type": "markdown",
   "metadata": {},
   "source": [
    "This week, you will be learning about unsupervised learning. While supervised learning algorithms need labeled examples (x,y), unsupervised learning algorithms need only the input (x). You will learn about clustering—which is used for market segmentation, text summarization, among many other applications."
   ]
  },
  {
   "cell_type": "markdown",
   "metadata": {},
   "source": [
    "# Video W8 01: Unsupervised Learning\n",
    "\n",
    "[YouTube Video Link](https://www.youtube.com/watch?v=PK5JsJZd1Uk&index=77&list=PLZ9qNFMHZ-A4rycgrgOYma6zxF4BZGGPW)\n",
    "\n",
    "In an unsupervised learning problem, we are given data that does not have any labels associated with it.  So what we want\n",
    "from unsupervised learning algorithms is to discover some sort of structure or organization or pattern in our data.  For example,\n",
    "the easiest type of structure to understand is to try and find clusters in the data of items that appear related.  Such clusters\n",
    "can be useful in many applications to identify and process the members of a cluster in some specific way, such as clusters of\n",
    "different types customers and their buying habits.\n"
   ]
  },
  {
   "cell_type": "markdown",
   "metadata": {},
   "source": [
    "# Video W8 02: K Means Algorithm\n",
    "\n",
    "[YouTube Video Link](https://www.youtube.com/watch?v=6u19018FeHg&list=PLZ9qNFMHZ-A4rycgrgOYma6zxF4BZGGPW&index=78)\n",
    "\n",
    "The K-means algorithm is an example of a clustering unsupervised learning algorithm.  It is probably the simplest clustering\n",
    "algorithm, but it is still quite effective.  Thus it is still one of the most popular and most used clustering algorithms.\n",
    "\n",
    "K-means is an iterative algorithm.  We start by specifying how many clusters (e.g. K clusters) we want the algorithm to \n",
    "discover.  More formally, we can define the **K-means algorithm**\n",
    "\n",
    "- Input:\n",
    "  - $K$ (number of clusters)\n",
    "  - Training set of $m$ inputs $\\{x^{(1)}, x^{(2)}, \\ldots, x^{(m)}\\}$\n",
    "- Where $x^{(i)} \\in \\mathbb{R}^n$ (we drop the $x_0 = 1$ convention)  \n",
    "\n",
    "And the **K-means algorithm** pseudocode\n",
    "\n",
    "- Randomly initialize $K$ cluster centroids $\\mu_1, \\mu_2, \\ldots, \\mu_K \\in \\mathbb{R}^n$\n",
    "\n",
    "- Repeat {\n",
    "  - for $i = 1$ to $m$\n",
    "    - $c^{(i)}$ := index (from 1 to $K$) of cluster centroid closest to $x^{(i)}$\n",
    "  - for $k = 1$ to $K$\n",
    "    - $\\mu_k$ := average (mean) of points assigned to cluster $k$\n",
    "- }\n",
    "\n",
    "This basic algorithm for K-means clustering is really fairly simple, and it will help to understand it even further if we make\n",
    "a quick and basic implementation of the algorithm in Python code.  First of all, we will read in a small simple set of\n",
    "data that appears to be well separated into 2 clusters.  This dataset has $m = 10$ examples.  The dataset has only 2 features\n",
    "$n = 2$, thus all of the points are in 2 dimensional space."
   ]
  },
  {
   "cell_type": "code",
   "execution_count": 2,
   "metadata": {},
   "outputs": [
    {
     "data": {
      "text/plain": [
       "<matplotlib.text.Text at 0x7f58884153c8>"
      ]
     },
     "execution_count": 2,
     "metadata": {},
     "output_type": "execute_result"
    },
    {
     "data": {
      "image/png": "[encoded data removed]",
      "text/plain": [
       "<matplotlib.figure.Figure at 0x7f588acc0240>"
      ]
     },
     "metadata": {},
     "output_type": "display_data"
    }
   ],
   "source": [
    "#from sklearn.datasets import make_blobs\n",
    "#X, y = make_blobs(n_samples = 10, n_features=2, centers=2, cluster_std = 0.8, center_box=(2, 5))\n",
    "#np.savetxt('data/lect-11-ex1data.csv', X, delimiter=',')\n",
    "X = np.loadtxt('data/lect-11-ex1data.csv', delimiter=',')\n",
    "\n",
    "plt.plot(X[:, 0], X[:, 1], 'yo')\n",
    "plt.xlabel(r'$x_1$', fontsize=20)\n",
    "plt.ylabel(r'$x_2$', fontsize=20)"
   ]
  },
  {
   "cell_type": "markdown",
   "metadata": {},
   "source": [
    "The first step in the K-means algorithm is to randomly initialize a set of centroids.  We usually initialze the centroids to be\n",
    "within the ranges of the data set.  So for example, if we find the minimum and maximum values for to data for each of the dimensions,\n",
    "we can use this to randomly initialize our centroids.  In this case, we are going to try and find $K = 2$ clusters, so we want to\n",
    "create two centroids within the range of our data:"
   ]
  },
  {
   "cell_type": "code",
   "execution_count": 3,
   "metadata": {},
   "outputs": [
    {
     "name": "stdout",
     "output_type": "stream",
     "text": [
      "2.63984211047 4.447966246\n",
      "1.88228381715 5.23344844636\n"
     ]
    },
    {
     "data": {
      "text/plain": [
       "<matplotlib.legend.Legend at 0x7f58880f9cf8>"
      ]
     },
     "execution_count": 3,
     "metadata": {},
     "output_type": "execute_result"
    },
    {
     "data": {
      "image/png": "[encoded data removed]",
      "text/plain": [
       "<matplotlib.figure.Figure at 0x7f588816d550>"
      ]
     },
     "metadata": {},
     "output_type": "display_data"
    }
   ],
   "source": [
    "# The number of clusters K we will find\n",
    "K = 2\n",
    "\n",
    "# The number of training data points, and the number of dimensions of our data set\n",
    "m, n = X.shape\n",
    "\n",
    "# randomly initialize K centroids\n",
    "min_x1, max_x1 = min(X[:, 0]), max(X[:, 0])\n",
    "min_x2, max_x2 = min(X[:, 1]), max(X[:, 1])\n",
    "print(min_x1, max_x1)\n",
    "print(min_x2, max_x2)\n",
    "\n",
    "# create K centroids mu, where each point is randomly chosen within the range of the data\n",
    "mu = np.zeros( (K, n) )\n",
    "for k in range(K):\n",
    "    mu[k, 0] = np.random.uniform(low = min_x1, high = max_x1)\n",
    "    mu[k, 1] = np.random.uniform(low = min_x2, high = max_x2)\n",
    "    \n",
    "# visualize the original data, with our randomly chosen initial centroid points\n",
    "plt.plot(X[:, 0], X[:, 1], 'yo', label='training data')\n",
    "plt.plot(mu[:,0], mu[:,1], 'r+', markersize=15, label='centroids')\n",
    "plt.xlabel(r'$x_1$', fontsize=20)\n",
    "plt.ylabel(r'$x_2$', fontsize=20)\n",
    "plt.legend()"
   ]
  },
  {
   "cell_type": "markdown",
   "metadata": {},
   "source": [
    "In the video, the first step in the iterative part of the K-means algorithm is to assign each of the training data points to\n",
    "one of our $\\mu$ clusters.  As shown in the video, we do this by calculating the distance between each data point and our\n",
    "two centroids, and we assign the point to the closest centroid.  The measure used to calculate the distance can actually be\n",
    "calculated in different ways.  The simplest is to use the eucledian distance.  And since the distance can be negative\n",
    "depending on the order we evaluate points when calculating the distance, we usually take the square of the distance so that\n",
    "all values are positive, and we can thus compare directly and find the minimum.\n",
    "\n",
    "$$\n",
    "\\underset{k}{\\textrm{min}} \\;\\; \\| x^{(i)} - \\mu_k  \\|^2\n",
    "$$\n",
    "\n",
    "For example, lets calculate the distance between the first training data point and the two randomly generated centroids.  Keep \n",
    "in mind that in Python, our arrays are indexed starting at 0, so the first training data example will be at $i = 0$.  Also, with\n",
    "$K = 2$ cluster centroids, the $k$ clusters will range from $0$ to $1$.\n",
    "\n",
    "Lets start by definint a function that will take 2 $n$ dimensional points, and calculate the square of the distance between\n",
    "the two points:"
   ]
  },
  {
   "cell_type": "code",
   "execution_count": 4,
   "metadata": {},
   "outputs": [],
   "source": [
    "def distance(x, y):\n",
    "    # calculate the square of the distance between 2 n dimensional points (passed as numpy arrays)\n",
    "    return np.sum(x - y)**2.0"
   ]
  },
  {
   "cell_type": "code",
   "execution_count": 5,
   "metadata": {},
   "outputs": [
    {
     "name": "stdout",
     "output_type": "stream",
     "text": [
      "0 training example: (3.629798, 4.059775)\n",
      "0 cluster centroid: (3.305897, 4.501718)\n",
      "square distance between input 0 and cluster 0: 0.013934\n",
      "\n",
      "0 training example: (3.629798, 4.059775)\n",
      "1 cluster centroid: (3.335340, 2.850107)\n",
      "square distance between input 0 and cluster 1: 2.262396\n"
     ]
    }
   ],
   "source": [
    "# distance from the 0th training example and 0th cluster\n",
    "i = 0\n",
    "k = 0\n",
    "print(\"%d training example: (%f, %f)\" % (i, X[i,0], X[i,1]))\n",
    "print(\"%d cluster centroid: (%f, %f)\" % (k, mu[k,0], mu[k,1]))\n",
    "print(\"square distance between input %d and cluster %d: %f\" % (i, k, distance(X[i,:], mu[k,:])))\n",
    "\n",
    "# distance from the 0th training example and 1th cluster\n",
    "i = 0\n",
    "k = 1\n",
    "print(\"\")\n",
    "print(\"%d training example: (%f, %f)\" % (i, X[i,0], X[i,1]))\n",
    "print(\"%d cluster centroid: (%f, %f)\" % (k, mu[k,0], mu[k,1]))\n",
    "print(\"square distance between input %d and cluster %d: %f\" % (i, k, distance(X[i,:], mu[k,:])))"
   ]
  },
  {
   "cell_type": "markdown",
   "metadata": {},
   "source": [
    "By the way, the above function for calculating the distance basically does the same thing as calculating \n",
    "the norm between the two point vectors"
   ]
  },
  {
   "cell_type": "code",
   "execution_count": 6,
   "metadata": {},
   "outputs": [],
   "source": [
    "def distance_norm(x, y):\n",
    "    # calculate the square of the distance between 2 n dimensional points (passed as numpy arrays)\n",
    "    # using the linear algebra vector norm to calculate the distance\n",
    "    return np.linalg.norm(x - y)**2.0\n"
   ]
  },
  {
   "cell_type": "code",
   "execution_count": 7,
   "metadata": {},
   "outputs": [
    {
     "name": "stdout",
     "output_type": "stream",
     "text": [
      "0 training example: (3.629798, 4.059775)\n",
      "0 cluster centroid: (3.305897, 4.501718)\n",
      "square distance between input 0 and cluster 0: 0.013934\n",
      "\n",
      "0 training example: (3.629798, 4.059775)\n",
      "1 cluster centroid: (3.335340, 2.850107)\n",
      "square distance between input 0 and cluster 1: 2.262396\n"
     ]
    }
   ],
   "source": [
    "# distance from the 0th training example and 0th cluster\n",
    "i = 0\n",
    "k = 0\n",
    "print(\"%d training example: (%f, %f)\" % (i, X[i,0], X[i,1]))\n",
    "print(\"%d cluster centroid: (%f, %f)\" % (k, mu[k,0], mu[k,1]))\n",
    "print(\"square distance between input %d and cluster %d: %f\" % (i, k, distance(X[i,:], mu[k,:])))\n",
    "\n",
    "# distance from the 0th training example and 1th cluster\n",
    "i = 0\n",
    "k = 1\n",
    "print(\"\")\n",
    "print(\"%d training example: (%f, %f)\" % (i, X[i,0], X[i,1]))\n",
    "print(\"%d cluster centroid: (%f, %f)\" % (k, mu[k,0], mu[k,1]))\n",
    "print(\"square distance between input %d and cluster %d: %f\" % (i, k, distance(X[i,:], mu[k,:])))"
   ]
  },
  {
   "cell_type": "markdown",
   "metadata": {},
   "source": [
    "The first part of the iterative algorithm is to calculate such distances between each training data item and every centroid, \n",
    "find the minimum, and assign the training data item to be in the cluster whose centroid it is closest too.  So for example,\n",
    "we can determine the closest centroid for each training data point like this"
   ]
  },
  {
   "cell_type": "code",
   "execution_count": 8,
   "metadata": {},
   "outputs": [
    {
     "name": "stdout",
     "output_type": "stream",
     "text": [
      "point x[0] in cluster: 0\n",
      "point x[1] in cluster: 1\n",
      "point x[2] in cluster: 1\n",
      "point x[3] in cluster: 0\n",
      "point x[4] in cluster: 1\n",
      "point x[5] in cluster: 1\n",
      "point x[6] in cluster: 1\n",
      "point x[7] in cluster: 0\n",
      "point x[8] in cluster: 0\n",
      "point x[9] in cluster: 1\n"
     ]
    },
    {
     "data": {
      "text/plain": [
       "[2.5, 6.5, 1.5, 5.5]"
      ]
     },
     "execution_count": 8,
     "metadata": {},
     "output_type": "execute_result"
    },
    {
     "data": {
      "image/png": "[encoded data removed]",
      "text/plain": [
       "<matplotlib.figure.Figure at 0x7f5888421b70>"
      ]
     },
     "metadata": {},
     "output_type": "display_data"
    }
   ],
   "source": [
    "# This array will hold the index k of the cluster centroid each training data point is assigned too\n",
    "c = np.zeros(m)\n",
    "\n",
    "# for each training data point i\n",
    "for i in range(m):\n",
    "    # determine distance to cluster 0\n",
    "    min_distance = distance(X[i,:], mu[0, :])\n",
    "    c[i] = 0\n",
    "    # find out if any other cluster centroid k=1,...K is closer\n",
    "    for k in range(1, K):\n",
    "        another_distance = distance(X[i,:], mu[k, :])\n",
    "        if another_distance < min_distance:\n",
    "            min_distance = another_distance\n",
    "            c[i] = k\n",
    "            \n",
    "# the above loop represents the code needed to assign each point to the closest cluster mu.  Here were the\n",
    "# clusters that each point was assigned to\n",
    "for i in range(m):\n",
    "    print(\"point x[%d] in cluster: %d\" % (i, c[i]))\n",
    "            \n",
    "# lets visualize the resulting assignments of the points to the current cluster centroids\n",
    "cluster_0 = np.where(c == 0)[0]\n",
    "cluster_1 = np.where(c == 1)[0]\n",
    "\n",
    "#plt.figure(figsize=(8,16))\n",
    "ax = plt.gca()\n",
    "ax.set_aspect('equal')\n",
    "\n",
    "plt.plot(X[cluster_0, 0], X[cluster_0, 1], 'bo', label='assg cluster 0')\n",
    "plt.plot(X[cluster_1, 0], X[cluster_1, 1], 'go', label='assg cluster 1')\n",
    "plt.plot(mu[:,0], mu[:,1], 'r+', markersize=15, label='centroids')\n",
    "plt.xlabel(r'$x_1$', fontsize=20)\n",
    "plt.ylabel(r'$x_2$', fontsize=20)\n",
    "plt.legend(loc=1)\n",
    "plt.axis([2.5, 6.5, 1.5, 5.5])"
   ]
  },
  {
   "cell_type": "markdown",
   "metadata": {},
   "source": [
    "Once we have found which centroid each training data item is closest, it is time to update the centroids.  We do this by calculating\n",
    "new mu centroids which are simply the average of all of the points assigned to that centroid.  For example, we can numpy vector\n",
    "operations and the c array to find and average all of the points assigned to cluster $k = 0$"
   ]
  },
  {
   "cell_type": "code",
   "execution_count": 9,
   "metadata": {},
   "outputs": [
    {
     "name": "stdout",
     "output_type": "stream",
     "text": [
      "[[ 3.62979829  4.05977469]\n",
      " [ 3.43797256  5.23344845]\n",
      " [ 4.44796625  5.09092891]\n",
      " [ 4.21182603  4.65272566]]\n",
      "[ 3.93189078  4.75921943]\n"
     ]
    }
   ],
   "source": [
    "cluster_0 = np.where(c == 0)[0]\n",
    "print(X[cluster_0])\n",
    "print(np.mean(X[cluster_0], axis=0))"
   ]
  },
  {
   "cell_type": "markdown",
   "metadata": {},
   "source": [
    "We can use the above idea to recalculate all $K$ centroids:"
   ]
  },
  {
   "cell_type": "code",
   "execution_count": 10,
   "metadata": {},
   "outputs": [
    {
     "name": "stdout",
     "output_type": "stream",
     "text": [
      "[[ 3.93189078  4.75921943]\n",
      " [ 3.02922467  2.67835639]]\n"
     ]
    },
    {
     "data": {
      "text/plain": [
       "[2.5, 6.5, 1.5, 5.5]"
      ]
     },
     "execution_count": 10,
     "metadata": {},
     "output_type": "execute_result"
    },
    {
     "data": {
      "image/png": "[encoded data removed]",
      "text/plain": [
       "<matplotlib.figure.Figure at 0x7f58880b10f0>"
      ]
     },
     "metadata": {},
     "output_type": "display_data"
    }
   ],
   "source": [
    "# recalculate all cluster centroids\n",
    "for k in range(K):\n",
    "    cluster_pts = np.where(c == k)[0]\n",
    "    mu[k] = np.mean(X[cluster_pts], axis=0)\n",
    "\n",
    "\n",
    "# show the resulting new cluster centroids\n",
    "print(mu)\n",
    "\n",
    "\n",
    "# visualize the new centroid locations in relation to the assigned points in the clusters\n",
    "cluster_0 = np.where(c == 0)[0]\n",
    "cluster_1 = np.where(c == 1)[0]\n",
    "\n",
    "#plt.figure(figsize=(8,16))\n",
    "ax = plt.gca()\n",
    "ax.set_aspect('equal')\n",
    "\n",
    "plt.plot(X[cluster_0, 0], X[cluster_0, 1], 'bo', label='assg cluster 0')\n",
    "plt.plot(X[cluster_1, 0], X[cluster_1, 1], 'go', label='assg cluster 1')\n",
    "plt.plot(mu[:,0], mu[:,1], 'r+', markersize=15, label='centroids')\n",
    "plt.xlabel(r'$x_1$', fontsize=20)\n",
    "plt.ylabel(r'$x_2$', fontsize=20)\n",
    "plt.legend(loc=1)\n",
    "plt.axis([2.5, 6.5, 1.5, 5.5])"
   ]
  },
  {
   "cell_type": "markdown",
   "metadata": {},
   "source": [
    "The previous steps to randomly initialize a set of centroids, then repeatedly assign points to closest centroid and move the\n",
    "centroids can easily be made into a function that performs the basic K-means algorithm.  We will leave this as an exercise\n",
    "for the student for now to try and bring these pieces together."
   ]
  },
  {
   "cell_type": "markdown",
   "metadata": {},
   "source": [
    "# Video W8 03: Optimization Objective\n",
    "\n",
    "[YouTube Video Link](https://www.youtube.com/watch?v=omcDeBY4lGE&index=79&list=PLZ9qNFMHZ-A4rycgrgOYma6zxF4BZGGPW)\n",
    "\n",
    "As this video discusses, we can formally define a cost function and optimization objective for the K-means algorithm.\n",
    "The cost function is high when the points in a cluster are far away from the cluster centroid, and it will be lower\n",
    "when the points in a cluster are close to the cluster centroid:\n",
    "\n",
    "$$\n",
    "J(c^{(1)}, \\ldots, c^{(m)}, \\mu_1, \\ldots, \\mu_K) = \\frac{1}{m} \\sum_{i=1}^m \\| x^{(i)} - \\mu_{c^{(i)}} \\|^2\n",
    "$$\n",
    "\n",
    "Thus for optimization we are trying to assign our points to clusters, which define the cluster centroids, that minimizes\n",
    "this cost objective function:\n",
    "\n",
    "$$\n",
    "\\underset{c^{(1)}, \\ldots, c^{(m)}, \\\\ \\mu_1, \\ldots, \\mu_K}{\\textrm{min}} \\;\\; J(c^{(1)}, \\ldots, c^{(m)}, \\mu_1, \\ldots, \\mu_K)\n",
    "$$"
   ]
  },
  {
   "cell_type": "markdown",
   "metadata": {},
   "source": [
    "# Video W8 04: Random Initialization\n",
    "\n",
    "[YouTube Video Link](https://www.youtube.com/watch?v=wniLibHEE2Y&list=PLZ9qNFMHZ-A4rycgrgOYma6zxF4BZGGPW&index=80)\n",
    "\n",
    "Above we showed simply picking $K$ random points within the range of the training data examples in order to randomly choose the\n",
    "initial cluster centroids.  In this video, the instructor illustrates a different method, which usually works a bit better, and\n",
    "it is actually a bit easier to understand.  If we want to discover $K$ cluster, we can simply choose $K$ of our input training\n",
    "data points at random to be our initial centroids.  We know that by picking 2 of the input data points that the centroids will\n",
    "automatically be within the rang of the training data.  So for example, in Python, we could choose K points at random\n",
    "to be our centroids like this:"
   ]
  },
  {
   "cell_type": "code",
   "execution_count": 11,
   "metadata": {},
   "outputs": [
    {
     "name": "stdout",
     "output_type": "stream",
     "text": [
      "[9 6]\n",
      "[[ 2.63984211  3.66107634]\n",
      " [ 2.75329131  2.28044994]]\n"
     ]
    }
   ],
   "source": [
    "# choose the number of clusters we will be creating\n",
    "K = 2\n",
    "\n",
    "# this will choose 2 indexes in range 0 to m-1, that we will use as our initial points for the mu centroids\n",
    "# NOTE: in the next function, the replace=False ensures that the choice() function will not pick the same random\n",
    "# index.\n",
    "random_pts = np.random.choice(m, size=K, replace=False)\n",
    "print(random_pts)\n",
    "\n",
    "mu = X[random_pts]\n",
    "print(mu)"
   ]
  },
  {
   "cell_type": "markdown",
   "metadata": {},
   "source": [
    "# Video W8 05: Choosing the Number of Clusters\n",
    "\n",
    "[YouTube Video Link](https://www.youtube.com/watch?v=izCbbMbRWHw&list=PLZ9qNFMHZ-A4rycgrgOYma6zxF4BZGGPW&index=81)\n",
    "\n",
    "The most common method is still to choose the number of clusters you want by hand.  Sometimes the problem you are trying to\n",
    "cluster natually lends itself to a particular number of clusters you desire (e.g. we want to design t-shirts for 3 sizes, S, M and L).  Other times, you can do some visualization of the data, and get a rough idea of how many there might be, but often there can\n",
    "be different interpretations of this.\n"
   ]
  }
 ],
 "metadata": {
  "kernelspec": {
   "display_name": "Python [default]",
   "language": "python",
   "name": "python3"
  },
  "language_info": {
   "codemirror_mode": {
    "name": "ipython",
    "version": 3
   },
   "file_extension": ".py",
   "mimetype": "text/x-python",
   "name": "python",
   "nbconvert_exporter": "python",
   "pygments_lexer": "ipython3",
   "version": "3.6.1"
  }
 },
 "nbformat": 4,
 "nbformat_minor": 1
}
