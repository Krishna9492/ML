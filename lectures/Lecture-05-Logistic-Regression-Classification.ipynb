{
 "cells": [
  {
   "cell_type": "code",
   "execution_count": 1,
   "metadata": {
    "ExecuteTime": {
     "end_time": "2018-09-12T16:41:39.720182Z",
     "start_time": "2018-09-12T16:41:39.328946Z"
    }
   },
   "outputs": [],
   "source": [
    "import numpy as np\n",
    "import seaborn as sns\n",
    "import matplotlib.pyplot as plt\n",
    "import pandas as pd\n",
    "%matplotlib inline\n"
   ]
  },
  {
   "cell_type": "code",
   "execution_count": 2,
   "metadata": {},
   "outputs": [],
   "source": [
    "plt.rcParams['figure.figsize'] = (10, 8) # set default figure size, 10in by 8in\n",
    "sns.set() # use default seaborn style"
   ]
  },
  {
   "cell_type": "markdown",
   "metadata": {},
   "source": [
    "# Video W3 01: Classification\n",
    "\n",
    "[YouTube Video Link](https://www.youtube.com/watch?v=K5oZM1Izn3c&index=33&list=PLZ9qNFMHZ-A4rycgrgOYma6zxF4BZGGPW)\n",
    "\n",
    "In the past 2 weeks we were looking at what were known as regression problems, and trying to build a model\n",
    "using linear regression.  I always think of a regression problem as simply trying to find a function that\n",
    "maps a set of inputs, into a real valued, continuous output.  For example, for all practical purposes we\n",
    "could consider the price of a house that we were trying to predict as a real valued number.  The selling\n",
    "price of the house could take on any real value from 1000's of dollars to many millions of dollars, and\n",
    "any real value in between these 2 extremes.  The task of linear regression was to take 1 or more input\n",
    "values that we used as our input features, and determine a hypothesis, or model or map, that best fit\n",
    "any particular input to a predicted house price.\n",
    "\n",
    "This week we will be transitioning to a slightly different task, that of classification.  The main\n",
    "difference when we are trying to build a model for a classification problem, is that the thing we are\n",
    "trying to predict is no longer some real valued continuous property, but instead we are trying to predict\n",
    "which class among a small but discrete set of possible classes some thing will belong to given a set\n",
    "of input features.  Some examples of classification tasks that have been mentioned in this video and\n",
    "previously include:\n",
    "\n",
    "- Email: Spam / Not Spam?\n",
    "- Online Transactions: Fradulent / Valid?\n",
    "- Tumor: Malignant / Benign?\n",
    "\n",
    "In all of these problems, we can think of the variable that we are trying to predict as taking on one of\n",
    "two discrete possibilities:\n",
    "\n",
    "$$\n",
    "y \\in \\{0, 1\\} \\quad\n",
    "\\begin{cases}\n",
    "    0: & \\displaystyle \\text{\"Negative Class\" (e.g. benign tumor)} \\\\\n",
    "    1: & \\text{\"Positive Class\" (e.g. malignant tumor)} \\\\\n",
    "\\end{cases}\n",
    "$$\n",
    "\n",
    "The videos start with classification problems that only have 2 classes (known as\n",
    "binary classification problems).  However, it is perfectly\n",
    "acceptable and easy to extend the basic algorithms we will work on to problems with 3 or more\n",
    "classes (multiclass classification).\n",
    "\n",
    "## Linear Regression vs. Logistic Regression to Perform Classification\n",
    "\n",
    "You can make up examples where using linear regression would appear to work for a classification task.\n",
    "However, in general, except for special situations, linear regression is not going to work.\n",
    "\n",
    "Instead, logistic regression was developed to address classification problems. Logistic regression is\n",
    "probably badly named, but for historical reasons the term stuck.  A better name might be logistic \n",
    "classification.  One property of logistic regression is that the algorithm will be developed in such\n",
    "a way so that the hypothesis we get is always a value between 0 and 1:\n",
    "\n",
    "$$\n",
    "0 \\le h_{\\theta}(x) \\le 1\n",
    "$$\n",
    "\n",
    "As discussed in the video, we then usually choose some threshold, say $\\text{threshold} = 0.5$, and all\n",
    "values less than the threshold are classified as the 0 or \"Negative Class\" and all those above the\n",
    "threshold will be classified as 1 or the \"Positive Class\"."
   ]
  },
  {
   "cell_type": "markdown",
   "metadata": {},
   "source": [
    "# Video W3 02: Hypothesis Representation\n",
    "\n",
    "[YouTube Video Link](https://www.youtube.com/watch?v=WiDuvuM1JyI&index=34&list=PLZ9qNFMHZ-A4rycgrgOYma6zxF4BZGGPW)\n",
    "\n",
    "What is the function we are going to use to represent our hypothesis for a classification problem?  We \n",
    "would like our hypothesis to have the property that it is always constrained to be between 0 and 1.\n",
    "\n",
    "For logistic regression, we modify the linear regression hypothesis to pass it through what is known\n",
    "as the logistic function $g(z)$.  Thus our hypothesis function becomes:\n",
    "\n",
    "$$\n",
    "h_{\\theta}(x) = g(\\theta^T x)\n",
    "$$\n",
    "\n",
    "Where we define the logistic function to be:\n",
    "\n",
    "$$\n",
    "g(z) = \\frac{1}{1 + e^{-z}}\n",
    "$$\n",
    "\n",
    "This logistic function is also known as the sigmoid function, because of the shape the function makes \n",
    "looks like lazy s:"
   ]
  },
  {
   "cell_type": "code",
   "execution_count": 3,
   "metadata": {
    "ExecuteTime": {
     "end_time": "2018-09-12T16:41:39.890060Z",
     "start_time": "2018-09-12T16:41:39.721836Z"
    }
   },
   "outputs": [
    {
     "data": {
      "image/png": "[encoded data removed]",
      "text/plain": [
       "<Figure size 720x576 with 1 Axes>"
      ]
     },
     "metadata": {},
     "output_type": "display_data"
    }
   ],
   "source": [
    "z = np.linspace(-5, 5, 50)\n",
    "\n",
    "def g(z):\n",
    "    return 1.0 / (1.0 + np.exp(-z))\n",
    "\n",
    "plt.plot(z, g(z))\n",
    "plt.xlabel('z')\n",
    "plt.ylabel('sigmoid or logistic function');"
   ]
  },
  {
   "cell_type": "markdown",
   "metadata": {},
   "source": [
    "Notice that the output of the function is always between 0 and 1.  The more negative of a number you\n",
    "give to the function, the closer to 0 the output is, and the more positive, the closer the function\n",
    "approaches to 1.  The function has a value of 0.5 when $z = 0$.  Thus if we use 0.5 as a threshold, then\n",
    "an input that is less than 0 will be classified as 0, the negative class, and any input that is greater\n",
    "than 0 will be classified as 1, the positive class.  However, note that the actual output, before we\n",
    "threshold the result, is a real valued hypothesis such that $0 \\le h_{\\theta}(x) \\le 1$.\n",
    "\n",
    "**Interpretation of Hypothesis Output**\n",
    "\n",
    "One interpretation of the hypothesis is that it is a measure of the estimated probability that\n",
    "$y = 1$ given input x.  So for example if the hypothesis has an output of 0.7, you might interpret\n",
    "that as a 70% chance that the positive class is true.  If we want to state what the probability\n",
    "is for the negative class, we have to use $1 - h_{\\theta}(x)$, so the probability of the previous\n",
    "that it is the negative class is 30%."
   ]
  },
  {
   "cell_type": "markdown",
   "metadata": {},
   "source": [
    "# Video W3 03: Decision Boundary\n",
    "\n",
    "[YouTube Video Link](https://www.youtube.com/watch?v=ZB3jIH5Oms8&index=35&list=PLZ9qNFMHZ-A4rycgrgOYma6zxF4BZGGPW)\n",
    "\n",
    "Suppose we set the threshold at $h_\\theta(x) \\ge 0.5$ to predict $y = 1$.  When is it exactly that\n",
    "$h_\\theta(x)$ will be above the threshold so that we will predict 1?  This of course happens when\n",
    "$g(z) \\ge 0.5$ which means that we will predict 1 when $\\theta^Tx \\ge 0$ and we will predict 0 when this\n",
    "is less than 0.  \n",
    "\n",
    "The boundary where the $\\theta^Tx$ crosses over from negative to positive is the **decision boundary**\n",
    "that our model creates.  The location of the decision boundary is of course a function of the $\\theta$\n",
    "parameter values.  The decision boundry will be a line or a hyperplane, depending on the number of \n",
    "input parameters we are dealing with in our problem.\n",
    "\n",
    "For example, the video uses a small made up example to illustrate this at the 5 minute mark.  Lets say\n",
    "we have the following input training values $x_1, x_2$ and the output vlaues $y$"
   ]
  },
  {
   "cell_type": "code",
   "execution_count": 4,
   "metadata": {
    "ExecuteTime": {
     "end_time": "2018-09-12T16:41:40.202670Z",
     "start_time": "2018-09-12T16:41:39.891735Z"
    }
   },
   "outputs": [
    {
     "data": {
      "image/png": "[encoded data removed]",
      "text/plain": [
       "<Figure size 720x720 with 1 Axes>"
      ]
     },
     "metadata": {},
     "output_type": "display_data"
    }
   ],
   "source": [
    "x = np.array([[0.5, 0.5],\n",
    "              [1.0, 0.5],\n",
    "              [0.75, 1.0],\n",
    "              [1.9, 0.25],\n",
    "              [1.6, 0.75],\n",
    "              [1.25, 1.25],\n",
    "              [0.5, 1.6],\n",
    "              [0.5, 2.25],\n",
    "              [3.1, 1.1],\n",
    "              [2.9, 1.5],\n",
    "              [2.1, 2.1],\n",
    "              [2.1, 2.75],\n",
    "              [1.5, 3.1],\n",
    "              [3.5, 1.9],\n",
    "              [3.0, 2.1],\n",
    "              [3.0, 3.0],\n",
    "              [2.0, 3.5],\n",
    "              [2.5, 3.5]])\n",
    "y = np.array([0, 0, 0, 0, 0, 0, 0, 0, 1, 1, 1, 1, 1, 1, 1, 1, 1, 1])\n",
    "\n",
    "neg_idx = np.where(y == 0)\n",
    "pos_idx = np.where(y == 1)\n",
    "\n",
    "# plot the example figure\n",
    "plt.figure(figsize=(10,10))\n",
    "\n",
    "# plot the points in our two categories, y=0 and y=1, using markers to indicated\n",
    "# the category or output\n",
    "plt.plot(x[neg_idx,0], x[neg_idx,1], 'bo', markersize=8, fillstyle='none', markeredgewidth=1) \n",
    "plt.plot(x[pos_idx,0], x[pos_idx,1], 'rx', markersize=8, markeredgewidth=1) \n",
    "\n",
    "# add some labels and titles\n",
    "plt.axis([0, 4, 0, 4])\n",
    "plt.xlabel('$x_1$')\n",
    "plt.ylabel('$x_2$')\n",
    "plt.title('Decision Boundary');"
   ]
  },
  {
   "cell_type": "markdown",
   "metadata": {},
   "source": [
    "Let us suppose that we have the hypothesis:\n",
    "\n",
    "$h_\\theta(x) = g(\\theta_0 + \\theta_1 x_1 + \\theta_2 x_2)$\n",
    "\n",
    "and that we have determined the following values for $\\theta$:\n",
    "\n",
    "$\\theta_0 = -3, \\theta_1 = 1, \\theta_2 = 1$\n",
    "\n",
    "We wil predict $y = 1$ if $-3 + x_1 + x_2 \\ge 0$\n",
    "\n",
    "The equation:\n",
    "\n",
    "$x_1 + x_2 = 3$\n",
    "\n",
    "is the decision boundary of this particular set of $\\theta$ parameters.  This is the equation of a straight line, that passes through $(0, 3)$ and $(3, 0)$:"
   ]
  },
  {
   "cell_type": "code",
   "execution_count": 5,
   "metadata": {
    "ExecuteTime": {
     "end_time": "2018-09-12T16:41:40.353808Z",
     "start_time": "2018-09-12T16:41:40.204232Z"
    }
   },
   "outputs": [
    {
     "data": {
      "image/png": "[encoded data removed]",
      "text/plain": [
       "<Figure size 720x720 with 1 Axes>"
      ]
     },
     "metadata": {},
     "output_type": "display_data"
    }
   ],
   "source": [
    "plt.figure(figsize=(10,10))\n",
    "\n",
    "# plot the points in our two categories, y=0 and y=1, using markers to indicated\n",
    "# the category or output\n",
    "plt.plot(x[neg_idx,0], x[neg_idx,1], 'bo', markersize=8, fillstyle='none', markeredgewidth=1) \n",
    "plt.plot(x[pos_idx,0], x[pos_idx,1], 'rx', markersize=8, markeredgewidth=1) \n",
    "\n",
    "# plot the line x_1 + x_2 = 3\n",
    "x1 = np.array([0, 3])\n",
    "x2 = np.array([3, 0])\n",
    "plt.plot(x1, x2, 'm-')\n",
    "\n",
    "# add some labels and titles\n",
    "plt.axis([0, 4, 0, 4])\n",
    "plt.xlabel('$x_1$')\n",
    "plt.ylabel('$x_2$')\n",
    "plt.title('Decision Boundary');\n",
    "#plt.grid();"
   ]
  },
  {
   "cell_type": "markdown",
   "metadata": {},
   "source": [
    "If  you check, you will see any $x_1, x_2$ pair that is to the right or above the magenta line\n",
    "(or on it) will have a value $ \\ge 3$, and those below and to the left are less than $3$.  Conversely,\n",
    "after running any pair of $x_1, x_2$ through our logistic function, all those points above and to the\n",
    "right will have a value greater than the $0.5$ threshold, and those to the left and below will be less\n",
    "than the threshold.\n",
    "\n",
    "**Higher Order Polynomial Terms**\n",
    "\n",
    "We talked briefly about non-linear terms when doing regression before, and we can use non-linear terms to define a decision boundary for logistic regression as well.  For example, instead of simply using \n",
    "linear terms of $x_1$ and $x_2$, we could also use polynomial terms like $x_1^2$ and $x_2^2$ in our\n",
    "hypothesis:\n",
    "\n",
    "$h_\\theta(x) = g(\\theta_0 + \\theta_1 x_1 + \\theta_2 x_2 + \\theta_3 x_1^2 + \\theta_4 x_2^2)$\n",
    "\n",
    "If we use the following values for our $\\theta$ parameters \n",
    "$\\theta_0 = -1, \\theta_1 = 0, \\theta_2 = 0, \\theta_3 = 1, \\theta_4 = 1$ then we end up with the\n",
    "equation:\n",
    "\n",
    "$x_1^2 + x_2^2 = 1$\n",
    "\n",
    "controlling the decision boundary.  This is of course the equation of a circle of radius 1 centered\n",
    "on the origin:\n"
   ]
  },
  {
   "cell_type": "code",
   "execution_count": 6,
   "metadata": {
    "ExecuteTime": {
     "end_time": "2018-09-12T16:41:40.492100Z",
     "start_time": "2018-09-12T16:41:40.355208Z"
    }
   },
   "outputs": [
    {
     "data": {
      "text/plain": [
       "Text(0,0.5,'$x_2$')"
      ]
     },
     "execution_count": 6,
     "metadata": {},
     "output_type": "execute_result"
    },
    {
     "data": {
      "image/png": "[encoded data removed]",
      "text/plain": [
       "<Figure size 720x720 with 1 Axes>"
      ]
     },
     "metadata": {},
     "output_type": "display_data"
    }
   ],
   "source": [
    "# create points on decision bounadry, x_2 = +/- sqrt(1 - x_1^2)\n",
    "x1 = np.linspace(-1.0, 1.0, 200)\n",
    "x2pos = np.sqrt(1 - x1**2.0)\n",
    "x2neg = -np.sqrt(1 - x1**2.0)\n",
    "\n",
    "# plot the circle\n",
    "plt.figure(figsize=(10,10))\n",
    "plt.plot(x1, x2pos, 'm-')\n",
    "plt.plot(x1, x2neg, 'm-')\n",
    "\n",
    "# add labels and titles\n",
    "plt.axis([-1.5, 1.5, -1.5, 1.5])\n",
    "plt.xlabel('$x_1$')\n",
    "plt.ylabel('$x_2$')\n",
    "#plt.grid();"
   ]
  },
  {
   "cell_type": "markdown",
   "metadata": {},
   "source": [
    "Points inside of the circle, given the $\\theta$ parameters, will be less than 0, and thus will be\n",
    "categorized as the 0 category given the logistic function, and those points outside of the circle will\n",
    "be categorized as the 1 category."
   ]
  },
  {
   "cell_type": "markdown",
   "metadata": {},
   "source": [
    "# Video W3 04: Cost Function\n",
    "\n",
    "[YouTube Video Link](https://www.youtube.com/watch?v=4apOGNHzGbk&index=36&list=PLZ9qNFMHZ-A4rycgrgOYma6zxF4BZGGPW)\n",
    "\n",
    "**Summary of our Logistic Classification Problem**\n",
    "\n",
    "Recall that we have a training set of $m$ examples: \n",
    "\n",
    "**Traing Set:** $\\{ (x^{(1)}, y^{(1)}), (x^{(2)}, y^{(2)}), \\ldots, (x^{(m)}, y^{(m)}),  \\}$\n",
    "\n",
    "The notation $x^{(1)}$ does not refer to exponentation here.  This notation simply means we have\n",
    "a set of $m$  training data, where input 1 $x$ has a correct classification denoted by $y^{(1)}$\n",
    "and we have input and output example 2, 3 up to example $m$.\n",
    "\n",
    "Each input can consist of 1 or more features:\n",
    "\n",
    "**m examples:** \n",
    "\n",
    "$$\n",
    "x \\in\n",
    "\\begin{bmatrix}\n",
    "x_0 \\\\ \n",
    "x_1 \\\\ \n",
    "\\ldots \\\\ \n",
    "x_n \\\\ \n",
    "\\end{bmatrix}\n",
    "x_0 = 1, y \\in \\{0, 1\\}\n",
    "$$\n",
    "\n",
    "Remember by convention if we have $n$ actual features, we use $n+1$ input values in our equations, and\n",
    "we set feature $x_0 = 1$.  At this point we are only talking about logistic classification of\n",
    "problems with two categories, thus $y \\in \\{0, 1\\}$.  We will later discuss classification problems\n",
    "that have more than 2 categories.\n",
    "\n",
    "Finally we run our hypothesis through the logistic function to get a value between 0.0 and 1.0 which we\n",
    "can use as an estimate of the probability that our hypothesis is predicting the inputs should be in\n",
    "the 1 category:\n",
    "\n",
    "$$\n",
    "h_\\theta(x) = \\frac{1}{1 + e^{-\\theta^T x}}\n",
    "$$\n",
    "\n",
    "The big question then is, how do we choose the $\\theta$ parameters so that we end up with a good\n",
    "hypothesis that maximizes our ability to correctly predict the categories of future data?\n",
    "\n",
    "**Cost Function**\n",
    "\n",
    "Recall that for linear regression, we were basically using a cost function that looked somthing like\n",
    "\n",
    "$$\n",
    "\\textrm{Cost}(h_\\theta(x), y) = \\frac{1}{2} \\big( h_\\theta(x) - y \\big)^2\n",
    "$$\n",
    "\n",
    "That is to say, the cost of one particular input, given a current hypothesis, is simply the\n",
    "square of the difference between our prediction and the actual output (times 1/2).  Also recall that\n",
    "for our gradient descent, to get the total cost we simply summed up this squared difference over all\n",
    "of our training inputs for a given hypothesis.\n",
    "\n",
    "Unfortunately, when we are trying to do logistic regression, remember that the hypothesis function\n",
    "is now run through the logistic function before getting the final result. As discussed in the video\n",
    "this makes the cost function into a non-convex function, which would cause problems for our\n",
    "gradient descent algorithm, since there are now many local minima, and we would thus have problems\n",
    "to determine if we are at the global minimum or not.\n",
    "\n",
    "So instead, we have to use a completely different cost function for Logistic Regression:\n",
    "\n",
    "$$\n",
    "\\textrm{Cost}(h_\\theta(x), y) = \n",
    "\\begin{cases}\n",
    "    -log(h_\\theta(x)) & \\displaystyle \\text{if} \\quad y = 1 \\\\\n",
    "    -log(1 - h_\\theta(x)) & \\text{if} \\quad y = 0 \\\\\n",
    "\\end{cases}\n",
    "$$\n",
    "\n",
    "In the video we now plot this cost function for the two cases.  Recall that we know that the\n",
    "hypothesis for our logistic regression, since it is put through the logistic function, will always\n",
    "be a value between 0 and 1.  Thus we can see what the cost function will look like easily enough:"
   ]
  },
  {
   "cell_type": "code",
   "execution_count": 7,
   "metadata": {
    "ExecuteTime": {
     "end_time": "2018-09-12T16:41:40.587990Z",
     "start_time": "2018-09-12T16:41:40.493334Z"
    }
   },
   "outputs": [
    {
     "data": {
      "image/png": "[encoded data removed]",
      "text/plain": [
       "<Figure size 720x576 with 1 Axes>"
      ]
     },
     "metadata": {},
     "output_type": "display_data"
    }
   ],
   "source": [
    "hypothesis = np.linspace(0.001, 1.0, 300)\n",
    "cost = -np.log(hypothesis)\n",
    "\n",
    "plt.plot(hypothesis, cost, 'b-')\n",
    "plt.xlabel(r'$h_\\theta(x)$')\n",
    "plt.text(0.2, 3, r'if y = 1', fontsize=14)\n",
    "plt.ylabel(r'Cost');"
   ]
  },
  {
   "cell_type": "markdown",
   "metadata": {},
   "source": [
    "Notice that for the case where the correct output is 1, the cost goes to 0 as the hypothesis approaches\n",
    "the correct cost.  On the other hand, the cost rapidly goes towards $\\infty$ as the hypothesis \n",
    "approaches 0 when the correct output is 1. (In fact the logarithm is not defined at 0, so we have to\n",
    "be careful with this cost function, if we ever have a hypothesis that is actually 0 we might get\n",
    "nonsensical results).\n",
    "\n",
    "The situation is similar for the case where the correct output is 0, but we of course have a cost of\n",
    "0 when our hypothesis is 0, close to the correct answer, and it rapidly approaches $\\infty$ as the\n",
    "hypothesis approaches the incorrect conclusion of 1."
   ]
  },
  {
   "cell_type": "code",
   "execution_count": 8,
   "metadata": {
    "ExecuteTime": {
     "end_time": "2018-09-12T16:41:40.683143Z",
     "start_time": "2018-09-12T16:41:40.589207Z"
    }
   },
   "outputs": [
    {
     "data": {
      "image/png": "[encoded data removed]",
      "text/plain": [
       "<Figure size 720x576 with 1 Axes>"
      ]
     },
     "metadata": {},
     "output_type": "display_data"
    }
   ],
   "source": [
    "hypothesis = np.linspace(0.0, 0.999, 300)\n",
    "cost = -np.log(1.0 - hypothesis)\n",
    "\n",
    "plt.plot(hypothesis, cost, 'b-')\n",
    "plt.xlabel(r'$h_\\theta(x)$')\n",
    "plt.text(0.6, 3, r'if y = 0', fontsize=14)\n",
    "plt.ylabel(r'Cost');"
   ]
  },
  {
   "cell_type": "markdown",
   "metadata": {},
   "source": [
    "# Video W3 05: Simplified Cost Function and Gradient Descent\n",
    "\n",
    "[YouTube Video Link](https://www.youtube.com/watch?v=kvqmFtmKzzM&index=37&list=PLZ9qNFMHZ-A4rycgrgOYma6zxF4BZGGPW)\n",
    "\n",
    "To summarize again so far:\n",
    "\n",
    "**Logistic Regression cost function**\n",
    "\n",
    "$$\n",
    "J(\\theta) = \\frac{1}{m} \\sum_{i=1}^m \\textrm{Cost}(h_\\theta(x^{(i)}), y^{(i)})\n",
    "$$\n",
    "\n",
    "$$\n",
    "\\textrm{Cost}(h_\\theta(x), y) = \n",
    "\\begin{cases}\n",
    "    -log(h_\\theta(x)) & \\displaystyle \\text{if} \\quad y = 1 \\\\\n",
    "    -log(1 - h_\\theta(x)) & \\text{if} \\quad y = 0 \\\\\n",
    "\\end{cases}\n",
    "$$\n",
    "\n",
    "Note: $y = 0$ or $1$ always, we are still only talking about logistic regression with two categories.\n",
    "\n",
    "We can specify the cost function in an alternative form, so that we don't have to have a condition \n",
    "statement in our code to implement it:\n",
    "\n",
    "$$\n",
    "\\textrm{Cost}(h_\\theta(x), y) = -y \\; \\textrm{log} (h_\\theta(x)) - (1 - y) \\; \\textrm{log} (1 - h_\\theta(x))\n",
    "$$\n",
    "\n",
    "This cost function is actually convex, so gradient descent will again work just fine if we use this\n",
    "alternative cost function for logistic regression classification problems.  To fit the parameters\n",
    "$\\theta$, we want to find the parameters such that they minimize the cost function $J(\\theta)$,\n",
    "which is summed over all of our input/output training examples.\n",
    "\n",
    "So our gradient descent for logistic regression looks like the following:\n",
    "\n",
    "**Gradient Descent**\n",
    "\n",
    "$$\n",
    "J(\\theta) = -\\frac{1}{m} \\big[ \\sum_{i=1}^m  y^{(i)} \\; \\textrm{log} (h_\\theta(x^{(i)})) + (1 - y^{(i)}) \\; \\textrm{log} (1 - h_\\theta(x^{(i)})) \\big]\n",
    "$$\n",
    "\n",
    "Want $\\textrm{min}_\\theta \\; J(\\theta)$:\n",
    "\n",
    "Repeat {\n",
    "$$\n",
    "\\theta_j := \\theta_j - \\alpha \\frac{\\partial}{\\partial \\theta_j} J(\\theta)\n",
    "$$\n",
    "}\n",
    "\n",
    "where we simultaneously update all of the $\\theta_j$ parameters.  The partial derivative can again\n",
    "be derived from calculus.  If we do this, we get the following form for the gradient descent:\n",
    "\n",
    "Repeat {\n",
    "$$\n",
    "\\theta_j := \\theta_j - \\alpha \\sum_{i=1}^m (h_\\theta(x^{(i)}) - y^{(i)}) x_j^{(i)}\n",
    "$$\n",
    "}\n",
    "\n",
    "This equation for the update rule for gradient descent looks identical to what we had for linear\n",
    "regression!  The only thing that has changed for logistic regression is that the definition of our\n",
    "hypothesis has actually changed, and we are using the logistic function now inside of the hypothesis."
   ]
  },
  {
   "cell_type": "markdown",
   "metadata": {},
   "source": [
    "# Video W3 06: Advanced Optimization\n",
    "\n",
    "[YouTube Video Link](https://www.youtube.com/watch?v=GsOGzLhAQsE&list=PLZ9qNFMHZ-A4rycgrgOYma6zxF4BZGGPW&index=38)\n",
    "\n",
    "This video discusses the use of some alternative optimization algorithms to gradient descent.  Gradient\n",
    "descent is the simplest iterative optimization method, and is relatively easy to understand and program.\n",
    "There are many other more advanced iterative optimization techniques.  The video mentions 3 others,\n",
    "including Conjugate gradient, BFGS, and L-BFGS.  How these methods work is beyond the scope of this\n",
    "course.  However, there are standard implementations of these more advanced optimization methods\n",
    "available in the SciPy and SciKitLearn libraries.  Understanding what the cost function is, and how\n",
    "to specify the partial derivative of the cost function, is important, because all of these libraries ask\n",
    "you to create a function that implements the cost function and/or derivative term, and then implement\n",
    "the optimization method for you.\n",
    "\n",
    "Advanced optimization methods often have many advantages over gradient descent.  They usually don't have a learning rate parameter, they instead pick and adjust learning rate parameters automatically, as part of\n",
    "the optimization algorithm.  Also, advanced optimization methods are often faster than gradient descent.\n",
    "But these properties come at a cost of complexity of the algorithms, and they are much harder to\n",
    "understand and implement.\n",
    "\n",
    "As mentioned in the video, we normally would not implement this advanced optimization methods by hand, \n",
    "just as we wouldn't normally write our own function to calculate square roots or sines of numbers.\n",
    "Also, as in the video, there are Python libraries that implement these advanced optimizaiton methods.\n",
    "In this notebook, we show the equivalent of writing cost functions and using the SciPy Optimization\n",
    "library implementation to optimize a logistic regression classification problem.\n",
    "\n",
    "The example from the video used the following cost function with the shown partial derivative with\n",
    "respect to the two parameters of the cost function:\n",
    "\n",
    "$$\n",
    "J(\\theta) = (\\theta_1 - 5)^2 + (\\theta_2 - 5)^2\n",
    "$$\n",
    "\n",
    "$$\n",
    "\\frac{\\partial}{\\partial \\theta_1} J(\\theta) = 2(\\theta_1 - 5)\n",
    "$$\n",
    "\n",
    "$$\n",
    "\\frac{\\partial}{\\partial \\theta_2} J(\\theta) = 2(\\theta_2 - 5)\n",
    "$$"
   ]
  },
  {
   "cell_type": "code",
   "execution_count": 9,
   "metadata": {
    "ExecuteTime": {
     "end_time": "2018-09-12T16:41:40.814909Z",
     "start_time": "2018-09-12T16:41:40.684461Z"
    }
   },
   "outputs": [
    {
     "name": "stdout",
     "output_type": "stream",
     "text": [
      "Optimization terminated successfully.\n",
      "         Current function value: 0.000000\n",
      "         Iterations: 3\n",
      "         Function evaluations: 4\n",
      "         Gradient evaluations: 4\n",
      "[5. 5.]\n"
     ]
    }
   ],
   "source": [
    "def cost_function(theta):\n",
    "    \"\"\"Given an array of [theta_0, theta_1] values, calculate the cost J(theta)\n",
    "    NOTE: arrays in Python are 0 based, so we change to theta_0, theta_1 in our notation\"\"\"\n",
    "    cost = (theta[0] - 5.0)**2.0 + (theta[1] - 5.0)**2.0\n",
    "    return cost\n",
    "\n",
    "def gradient_cost_function(theta):\n",
    "    \"\"\"Return the partial derivative, or gradient, with respect to the theta parameters\"\"\"\n",
    "    gradient = np.zeros(2)\n",
    "    gradient[0] = 2.0 * (theta[0] - 5)\n",
    "    gradient[1] = 2.0 * (theta[1] - 5)\n",
    "    return gradient\n",
    "\n",
    "from scipy.optimize import minimize\n",
    "theta = np.zeros( 2 ) # initial theta parameters to start gradient descent from\n",
    "res = minimize(cost_function, theta, method='BFGS', jac=gradient_cost_function, \n",
    "               options={'disp': True})\n",
    "print(res.x) # res is n object, the x variable in res has the optimized parameters"
   ]
  },
  {
   "cell_type": "code",
   "execution_count": 10,
   "metadata": {
    "ExecuteTime": {
     "end_time": "2018-09-12T16:41:40.820142Z",
     "start_time": "2018-09-12T16:41:40.816080Z"
    }
   },
   "outputs": [
    {
     "name": "stdout",
     "output_type": "stream",
     "text": [
      "Optimization terminated successfully.\n",
      "         Current function value: 0.000000\n",
      "         Iterations: 3\n",
      "         Function evaluations: 7\n",
      "         Gradient evaluations: 7\n",
      "[4.99999999 4.99999999]\n"
     ]
    }
   ],
   "source": [
    "# try the Conjugate gradient\n",
    "theta = np.zeros( 2 ) # initial theta parameters to start gradient descent from\n",
    "res = minimize(cost_function, theta, method='CG', jac=gradient_cost_function, \n",
    "               options={'disp': True})\n",
    "print(res.x) # res is n object, the x variable in res has the optimized parameters"
   ]
  },
  {
   "cell_type": "code",
   "execution_count": 11,
   "metadata": {
    "ExecuteTime": {
     "end_time": "2018-09-12T16:41:40.827979Z",
     "start_time": "2018-09-12T16:41:40.821193Z"
    }
   },
   "outputs": [
    {
     "name": "stdout",
     "output_type": "stream",
     "text": [
      "[5. 5.]\n"
     ]
    }
   ],
   "source": [
    "# try the L-BFGS\n",
    "theta = np.zeros( 2 ) # initial theta parameters to start gradient descent from\n",
    "res = minimize(cost_function, theta, method='L-BFGS-B', jac=gradient_cost_function, \n",
    "               options={'disp': True})\n",
    "# hmmm.. I don't know why we don't get the display sumary for the L-BFGS-B method,\n",
    "# could be a bug?\n",
    "print(res.x) # res is n object, the x variable in res has the optimized parameters"
   ]
  },
  {
   "cell_type": "markdown",
   "metadata": {},
   "source": [
    "You'll notice that there are certainly differences in using the methods from octave/matlab example shown\n",
    "in the video.  The Python `SciPy` library expects that if you want to use the gradient in the \n",
    "optimization, that you have separate functions for the cost function and calculating the partial\n",
    "derivatives (also known as the gradients in this context).  In `SciPy` you can specify which optimization\n",
    "method to use using the `method=` parameter.  I have also turned on the option to display information\n",
    "about the optimization.  Of course, the correct answer is $5.0, 5.0$ where the optimal parameters occur.\n",
    "But also notice the difference in the number of iterations that are needed, and the number of function\n",
    "and gradient evaluations that are needed.\n"
   ]
  },
  {
   "cell_type": "markdown",
   "metadata": {},
   "source": [
    "# Video W3 07: Multiclass Classification: One-vs-All\n",
    "\n",
    "[YouTube Video Link](https://www.youtube.com/watch?v=BzSsQWhDRXE&index=39&list=PLZ9qNFMHZ-A4rycgrgOYma6zxF4BZGGPW)\n",
    "\n",
    "\n",
    "How to get logistice regression to work for more than 2 categories.  We often have (many) more than\n",
    "2 categories.  \n",
    "\n",
    "So given a data set with 3 (or more) classes, how do we extend logistic regression to deal with multiple\n",
    "classes?  The simple answer is to build multiple and fit multiple classifiers using one-vs-all (or\n",
    "one-vs-rest).  e.g. If we have x classes, we will need to build x classifiers.  Once we have done this,\n",
    "to make a prediction on a new input, we simply get all x hypothesis from our x classifiers, and we\n",
    "choose the one that is the most confident (e.g. that has the highest output).\n",
    "\n"
   ]
  },
  {
   "cell_type": "markdown",
   "metadata": {},
   "source": [
    "# Video W3 08: Regularization: The Problem of Overfitting\n",
    "\n",
    "[YouTube Video Link](https://www.youtube.com/watch?v=C2zKaaKP1gc&index=40&list=PLZ9qNFMHZ-A4rycgrgOYma6zxF4BZGGPW)\n",
    "\n",
    "**What is Overfitting**\n",
    "\n",
    "This is a very important video.  If we have too many features, the learned hypothesis may fit the\n",
    "training set very well, but it may fail to generalize well to new (unseen) examples.  We can have to\n",
    "few as well, so that the model doesn't predict even trained points all that well.  The goal is to find\n",
    "a model (and a number of parameters) that is \"just right\" for some value of \"just right\".\n",
    "Overfitting and underfitting can be problems both for linear regression, and for logistic\n",
    "regression classification problems.\n",
    "\n",
    "**What to do about Overfitting**\n",
    "\n",
    "If we have just 2 features, we can plot it and maybe just \"see\" that our model overfits and is very \n",
    "\"wiggly\".  But this is not a realistice way of addressing the problem when we have lots of features.\n",
    "Also when we have lots of features, some features are actually useful, whereas other features are often\n",
    "not so useful, or are redundant with other features.  We have 2 options to address overfitting:\n",
    "\n",
    "1. Reduce the number of features\n",
    "   - We can either do this manually by selecting features\n",
    "   - Later we will look at feature selection algorithms, (dimension reduction, PCA, etc.)\n",
    "2. Regularization\n",
    "   - Keep all the features, but reduce magnitude/values of parameters \\theta_j\n",
    "   - Works well when we have a lot of features, each of which contributes a bit to predicting y\n",
    "   \n"
   ]
  },
  {
   "cell_type": "markdown",
   "metadata": {},
   "source": [
    "# Video W3 09: Regularization: Cost Function\n",
    "\n",
    "[YouTube Video Link](https://www.youtube.com/watch?v=yMeWKGVZRf8&index=41&list=PLZ9qNFMHZ-A4rycgrgOYma6zxF4BZGGPW)\n",
    "\n",
    "As discussed, the general idea of regularization is to add a penality term to the cost function, that\n",
    "penalizies the cost when parameters get too big.  So we can modify our standard cost function as:\n",
    "\n",
    "$$\n",
    "J(\\theta) = \\frac{1}{2m} \\sum_{i=1}^m \\big(h_\\theta(x^{(i)} - y^{(i)} \\big)^2 + \\lambda \\sum_{j=1}^{m} \\theta_j^2\n",
    "$$\n",
    "\n",
    "Where $\\lambda$ is a regularization parameter, that can be used to controll the amount of effect that regularization has on the cost function."
   ]
  },
  {
   "cell_type": "markdown",
   "metadata": {},
   "source": [
    "# Video W3 10: Regularized Linear Regression\n",
    "\n",
    "[YouTube Video Link](https://www.youtube.com/watch?v=Z959eu-_jNk&index=42&list=PLZ9qNFMHZ-A4rycgrgOYma6zxF4BZGGPW)\n",
    "\n",
    "As shown in the video, the modification to support regularization only changes slightly the update\n",
    "rule for the $\\theta_j$ parameters.  As shown in the derivation of the update terms, one way to look\n",
    "at regularization is as a simple intiution that it is simply reducing $\\theta_j$ by a little bit each\n",
    "time in the iteration towards 0, and only the gradient term pushes it towards positive terms."
   ]
  },
  {
   "cell_type": "markdown",
   "metadata": {},
   "source": [
    "# Video W3 11: Regularized Logistic Regression\n",
    "\n",
    "[YouTube Video Link](https://www.youtube.com/watch?v=gKBCTZwa3s8&index=43&list=PLZ9qNFMHZ-A4rycgrgOYma6zxF4BZGGPW)\n",
    "\n",
    "Adding a regularization term for logistic regression has similar properties and issues.  As mentioned at\n",
    "the end of this video is a good summary of what would need to be done to create cost and gradient \n",
    "functions to use the optimization libraries from high level languages like Python and Matlab/Octave.\n"
   ]
  },
  {
   "cell_type": "code",
   "execution_count": 12,
   "metadata": {
    "ExecuteTime": {
     "end_time": "2018-09-12T16:41:40.877013Z",
     "start_time": "2018-09-12T16:41:40.829323Z"
    }
   },
   "outputs": [
    {
     "data": {
      "application/json": {
       "Software versions": [
        {
         "module": "Python",
         "version": "3.6.6 64bit [GCC 7.2.0]"
        },
        {
         "module": "IPython",
         "version": "6.5.0"
        },
        {
         "module": "OS",
         "version": "Linux 4.13.0 46 generic x86_64 with debian stretch sid"
        },
        {
         "module": "numpy",
         "version": "1.15.1"
        },
        {
         "module": "scipy",
         "version": "1.1.0"
        },
        {
         "module": "matplotlib",
         "version": "2.2.3"
        },
        {
         "module": "pandas",
         "version": "0.23.4"
        },
        {
         "module": "sklearn",
         "version": "0.19.1"
        }
       ]
      },
      "text/html": [
       "<table><tr><th>Software</th><th>Version</th></tr><tr><td>Python</td><td>3.6.6 64bit [GCC 7.2.0]</td></tr><tr><td>IPython</td><td>6.5.0</td></tr><tr><td>OS</td><td>Linux 4.13.0 46 generic x86_64 with debian stretch sid</td></tr><tr><td>numpy</td><td>1.15.1</td></tr><tr><td>scipy</td><td>1.1.0</td></tr><tr><td>matplotlib</td><td>2.2.3</td></tr><tr><td>pandas</td><td>0.23.4</td></tr><tr><td>sklearn</td><td>0.19.1</td></tr><tr><td colspan='2'>Wed Sep 19 09:10:49 2018 CDT</td></tr></table>"
      ],
      "text/latex": [
       "\\begin{tabular}{|l|l|}\\hline\n",
       "{\\bf Software} & {\\bf Version} \\\\ \\hline\\hline\n",
       "Python & 3.6.6 64bit [GCC 7.2.0] \\\\ \\hline\n",
       "IPython & 6.5.0 \\\\ \\hline\n",
       "OS & Linux 4.13.0 46 generic x86\\_64 with debian stretch sid \\\\ \\hline\n",
       "numpy & 1.15.1 \\\\ \\hline\n",
       "scipy & 1.1.0 \\\\ \\hline\n",
       "matplotlib & 2.2.3 \\\\ \\hline\n",
       "pandas & 0.23.4 \\\\ \\hline\n",
       "sklearn & 0.19.1 \\\\ \\hline\n",
       "\\hline \\multicolumn{2}{|l|}{Wed Sep 19 09:10:49 2018 CDT} \\\\ \\hline\n",
       "\\end{tabular}\n"
      ],
      "text/plain": [
       "Software versions\n",
       "Python 3.6.6 64bit [GCC 7.2.0]\n",
       "IPython 6.5.0\n",
       "OS Linux 4.13.0 46 generic x86_64 with debian stretch sid\n",
       "numpy 1.15.1\n",
       "scipy 1.1.0\n",
       "matplotlib 2.2.3\n",
       "pandas 0.23.4\n",
       "sklearn 0.19.1\n",
       "Wed Sep 19 09:10:49 2018 CDT"
      ]
     },
     "execution_count": 12,
     "metadata": {},
     "output_type": "execute_result"
    }
   ],
   "source": [
    "%load_ext version_information\n",
    "\n",
    "%version_information numpy, scipy, matplotlib, pandas, sklearn"
   ]
  },
  {
   "cell_type": "code",
   "execution_count": null,
   "metadata": {},
   "outputs": [],
   "source": []
  }
 ],
 "metadata": {
  "kernelspec": {
   "display_name": "Python 3",
   "language": "python",
   "name": "python3"
  },
  "language_info": {
   "codemirror_mode": {
    "name": "ipython",
    "version": 3
   },
   "file_extension": ".py",
   "mimetype": "text/x-python",
   "name": "python",
   "nbconvert_exporter": "python",
   "pygments_lexer": "ipython3",
   "version": "3.6.6"
  },
  "latex_envs": {
   "LaTeX_envs_menu_present": true,
   "autoclose": true,
   "autocomplete": true,
   "bibliofile": "biblio.bib",
   "cite_by": "apalike",
   "current_citInitial": 1,
   "eqLabelWithNumbers": true,
   "eqNumInitial": 1,
   "hotkeys": {
    "equation": "Ctrl-E",
    "itemize": "Ctrl-I"
   },
   "labels_anchors": false,
   "latex_user_defs": false,
   "report_style_numbering": false,
   "user_envs_cfg": false
  },
  "toc": {
   "base_numbering": 1,
   "nav_menu": {},
   "number_sections": true,
   "sideBar": true,
   "skip_h1_title": false,
   "title_cell": "Table of Contents",
   "title_sidebar": "Contents",
   "toc_cell": false,
   "toc_position": {},
   "toc_section_display": true,
   "toc_window_display": false
  },
  "varInspector": {
   "cols": {
    "lenName": 16,
    "lenType": 16,
    "lenVar": 40
   },
   "kernels_config": {
    "python": {
     "delete_cmd_postfix": "",
     "delete_cmd_prefix": "del ",
     "library": "var_list.py",
     "varRefreshCmd": "print(var_dic_list())"
    },
    "r": {
     "delete_cmd_postfix": ") ",
     "delete_cmd_prefix": "rm(",
     "library": "var_list.r",
     "varRefreshCmd": "cat(var_dic_list()) "
    }
   },
   "types_to_exclude": [
    "module",
    "function",
    "builtin_function_or_method",
    "instance",
    "_Feature"
   ],
   "window_display": false
  }
 },
 "nbformat": 4,
 "nbformat_minor": 1
}
