{
 "cells": [
  {
   "cell_type": "code",
   "execution_count": 1,
   "metadata": {
    "ExecuteTime": {
     "end_time": "2018-08-25T14:30:42.894304Z",
     "start_time": "2018-08-25T14:30:42.022343Z"
    }
   },
   "outputs": [],
   "source": [
    "import numpy as np\n",
    "import matplotlib.pyplot as plt\n",
    "import pandas as pd\n",
    "%matplotlib inline\n",
    "plt.rcParams['figure.figsize'] = (8, 6) # set default figure size, 8in by 6in"
   ]
  },
  {
   "cell_type": "markdown",
   "metadata": {},
   "source": [
    "# Video W1 12: Matrices and Vectors\n",
    "\n",
    "[YouTube Video Link](https://www.youtube.com/watch?v=04IlpTiBTsk&index=12&list=PLZ9qNFMHZ-A4rycgrgOYma6zxF4BZGGPW)\n",
    "\n",
    "## Matrices\n",
    "\n",
    "A matrix is a retangular array of numbers:\n",
    "\n",
    "$$\n",
    "\\begin{bmatrix}\n",
    "1402 &  191 \\\\ \n",
    "1371 &  821 \\\\ \n",
    " 949 & 1437 \\\\ \n",
    " 147 & 1448 \\\\ \n",
    "\\end{bmatrix}\n",
    "$$\n",
    "\n",
    "The dimension of a matrix is the number of rows by the number of columns.  In the previous matrix,\n",
    "we have 4 rows by 2 columns.\n",
    "\n",
    "In Python, we use `NumPy` arrays to represent 1, 2 (and higher dimensional) vectors and matrices."
   ]
  },
  {
   "cell_type": "code",
   "execution_count": 2,
   "metadata": {
    "ExecuteTime": {
     "end_time": "2018-08-25T14:30:42.901563Z",
     "start_time": "2018-08-25T14:30:42.896570Z"
    }
   },
   "outputs": [
    {
     "name": "stdout",
     "output_type": "stream",
     "text": [
      "[[1402  191]\n",
      " [1371  821]\n",
      " [ 949 1437]\n",
      " [ 147 1448]]\n",
      "(4, 2)\n"
     ]
    }
   ],
   "source": [
    "A = np.array([[1402, 191], [1371, 821], [949, 1437], [147, 1448]])\n",
    "print(A)\n",
    "print(A.shape)"
   ]
  },
  {
   "cell_type": "markdown",
   "metadata": {},
   "source": [
    "We refer to entries of 2 dimensional matrices using `row,column` indices. So given:\n",
    "\n",
    "$$\n",
    "A\n",
    "=\n",
    "\\begin{bmatrix}\n",
    "1402 &  191 \\\\ \n",
    "1371 &  821 \\\\ \n",
    " 949 & 1437 \\\\ \n",
    " 147 & 1448 \\\\ \n",
    "\\end{bmatrix}\n",
    "$$\n",
    "\n",
    "$$A_{ij} = i,j \\; \\mathrm{entry \\; in \\; the} \\; i^{th} \\; \\mathrm{row,} \\; j^{th} \\; \\mathrm{column}.$$\n",
    "\n",
    "So\n",
    "\n",
    "$$A_{12} = 191$$\n",
    "\n",
    "**NOTE:** In Python, lists and `NumPy` arrays are indexed starting at 0 (0 based indexing).  This means\n",
    "that when you translate any code from a 1 based mathematical indexing, to the 0 based indexing, you \n",
    "always need to subtract one.  So for example, to get the $A_{12}$ entry in our matrix we need to:"
   ]
  },
  {
   "cell_type": "code",
   "execution_count": 3,
   "metadata": {
    "ExecuteTime": {
     "end_time": "2018-08-25T14:30:43.008117Z",
     "start_time": "2018-08-25T14:30:42.903504Z"
    }
   },
   "outputs": [
    {
     "name": "stdout",
     "output_type": "stream",
     "text": [
      "191\n"
     ]
    }
   ],
   "source": [
    "print(A[0,1])"
   ]
  },
  {
   "cell_type": "markdown",
   "metadata": {},
   "source": [
    "## Vector\n",
    "\n",
    "A vector is simply a 1 dimensional vector, or you can think of it as a matrix with n rows and 1 column:\n",
    "\n",
    "$$\n",
    "y\n",
    "=\n",
    "\\begin{bmatrix}\n",
    "460 \\\\ \n",
    "232 \\\\ \n",
    "315 \\\\ \n",
    "178 \\\\ \n",
    "\\end{bmatrix}\n",
    "$$\n",
    "\n",
    "Notice that in `NumPy`, there is a slight difference between a vector, and an array with 1 column:"
   ]
  },
  {
   "cell_type": "code",
   "execution_count": 4,
   "metadata": {
    "ExecuteTime": {
     "end_time": "2018-08-25T14:30:43.098691Z",
     "start_time": "2018-08-25T14:30:43.010112Z"
    }
   },
   "outputs": [
    {
     "name": "stdout",
     "output_type": "stream",
     "text": [
      "[460 232 315 178]\n",
      "(4,)\n",
      "[[460]\n",
      " [232]\n",
      " [315]\n",
      " [178]]\n",
      "(4, 1)\n"
     ]
    }
   ],
   "source": [
    "# a numpy vector is 1 dimensional, we can initialize with a 1d list\n",
    "y = np.array([460, 232, 315, 178])\n",
    "print(y)\n",
    "print(y.shape)\n",
    "\n",
    "# we can create a 4x1 column matrix, like this:\n",
    "z = np.array([[460],\n",
    "              [232],\n",
    "              [315],\n",
    "              [178]])\n",
    "print(z)\n",
    "print(z.shape)"
   ]
  },
  {
   "cell_type": "markdown",
   "metadata": {},
   "source": [
    "Sometimes in writing code we can use `NumPy` 1d vectors, but sometimes we need to use a $n \\times 1$\n",
    "column matrix instead.\n",
    "\n"
   ]
  },
  {
   "cell_type": "markdown",
   "metadata": {},
   "source": [
    "# Video W1 13: Addition and Scalar Multiplication\n",
    "\n",
    "[YouTube Video Link](https://www.youtube.com/watch?v=eCJpIfMrm6U&list=PLZ9qNFMHZ-A4rycgrgOYma6zxF4BZGGPW&index=13)\n",
    "\n",
    "## Matrix Addition\n",
    "\n",
    "Addition and subtraction of matrices are simply element by element wise operations.  The matrices\n",
    "need to have exactly the same dimensions for this to be defined:\n",
    "\n",
    "$$\n",
    "\\begin{bmatrix}\n",
    "1 &  0 \\\\ \n",
    "2 &  5 \\\\ \n",
    "3 & 1 \\\\ \n",
    "\\end{bmatrix}\n",
    "+\n",
    "\\begin{bmatrix}\n",
    "4 & 0.5 \\\\ \n",
    "2 & 5 \\\\ \n",
    "0 & 1 \\\\ \n",
    "\\end{bmatrix}\n",
    "=\n",
    "\\begin{bmatrix}\n",
    "5 & 0.5 \\\\ \n",
    "4 & 10 \\\\ \n",
    "3 & 2 \\\\ \n",
    "\\end{bmatrix}\n",
    "$$\n"
   ]
  },
  {
   "cell_type": "code",
   "execution_count": 5,
   "metadata": {
    "ExecuteTime": {
     "end_time": "2018-08-25T14:30:43.193730Z",
     "start_time": "2018-08-25T14:30:43.101126Z"
    }
   },
   "outputs": [
    {
     "name": "stdout",
     "output_type": "stream",
     "text": [
      "[[  5.    0.5]\n",
      " [  4.   10. ]\n",
      " [  3.    2. ]]\n",
      "[[-3.  -0.5]\n",
      " [ 0.   0. ]\n",
      " [ 3.   0. ]]\n"
     ]
    }
   ],
   "source": [
    "A = np.array([[1, 0],\n",
    "              [2, 5],\n",
    "              [3, 1]])\n",
    "B = np.array([[4, 0.5],\n",
    "              [2, 5],\n",
    "              [0, 1]])\n",
    "\n",
    "print(A + B)\n",
    "print(A - B)"
   ]
  },
  {
   "cell_type": "markdown",
   "metadata": {},
   "source": [
    "## Scalar Multiplication\n",
    "\n",
    "I will probably slip into the habit of using the term scalar here and there.  Scalar is just a fancy\n",
    "term for a regular, single (real valued) value.  Basically the opposite of a Matrix is a scalar value.\n",
    "\n",
    "When you multiply (or divide) a matrix by a scalar value, you simply multiple each value in the matrix\n",
    "by the scalar value:\n",
    "\n",
    "\n",
    "$$\n",
    "3\n",
    "\\times\n",
    "\\begin{bmatrix}\n",
    "1 &  0 \\\\ \n",
    "2 &  5 \\\\ \n",
    "3 & 1 \\\\ \n",
    "\\end{bmatrix}\n",
    "=\n",
    "\\begin{bmatrix}\n",
    "3 & 0 \\\\ \n",
    "6 & 15 \\\\ \n",
    "9 & 3 \\\\ \n",
    "\\end{bmatrix}\n",
    "$$\n"
   ]
  },
  {
   "cell_type": "code",
   "execution_count": 6,
   "metadata": {
    "ExecuteTime": {
     "end_time": "2018-08-25T14:30:43.293095Z",
     "start_time": "2018-08-25T14:30:43.195711Z"
    }
   },
   "outputs": [
    {
     "name": "stdout",
     "output_type": "stream",
     "text": [
      "[[  3.   0.]\n",
      " [  6.  15.]\n",
      " [  9.   3.]]\n",
      "[[ 0.25  0.  ]\n",
      " [ 0.5   1.25]\n",
      " [ 0.75  0.25]]\n"
     ]
    }
   ],
   "source": [
    "A = np.array([[1, 0],\n",
    "              [2, 5],\n",
    "              [3, 1]])\n",
    "\n",
    "print(3.0 * A)\n",
    "print(A / 4.0)"
   ]
  },
  {
   "cell_type": "markdown",
   "metadata": {},
   "source": [
    "# Video W1 14: Matrix Vector Multiplication\n",
    "\n",
    "[YouTube Video Link](https://www.youtube.com/watch?v=bA3wxP5AtQk&index=14&list=PLZ9qNFMHZ-A4rycgrgOYma6zxF4BZGGPW)\n",
    "\n",
    "## Example of Matrix x Vector Multiplication\n",
    "\n",
    "$$\n",
    "\\begin{bmatrix}\n",
    "1 &  3 \\\\ \n",
    "4 &  2 \\\\ \n",
    "2 & 1 \\\\ \n",
    "\\end{bmatrix}\n",
    "\\begin{bmatrix}\n",
    "1 \\\\ \n",
    "5 \\\\ \n",
    "\\end{bmatrix}\n",
    "=\n",
    "\\begin{bmatrix}\n",
    "16 \\\\\n",
    "4 \\\\\n",
    "7 \\\\\n",
    "\\end{bmatrix}\n",
    "$$\n",
    "\n",
    "Here we multiple a $3 \\times 2$ matrix by a $2 \\times 1$ vector.  The result is a $3 \\times 1$\n",
    "vector.\n",
    "\n",
    "In `NumPy`, the `*` operator only works to perform scalar multiplication of a matrix with a scalar\n",
    "value (or scalar multiplications of two matrices of the same dimensions), thus the following\n",
    "is not going to work."
   ]
  },
  {
   "cell_type": "code",
   "execution_count": 7,
   "metadata": {
    "ExecuteTime": {
     "end_time": "2018-08-25T14:30:43.520440Z",
     "start_time": "2018-08-25T14:30:43.294980Z"
    }
   },
   "outputs": [
    {
     "ename": "ValueError",
     "evalue": "operands could not be broadcast together with shapes (3,2) (2,1) ",
     "output_type": "error",
     "traceback": [
      "\u001b[0;31m---------------------------------------------------------------------------\u001b[0m",
      "\u001b[0;31mValueError\u001b[0m                                Traceback (most recent call last)",
      "\u001b[0;32m<ipython-input-7-282e74c7019a>\u001b[0m in \u001b[0;36m<module>\u001b[0;34m()\u001b[0m\n\u001b[1;32m      5\u001b[0m               [5]])\n\u001b[1;32m      6\u001b[0m \u001b[0;34m\u001b[0m\u001b[0m\n\u001b[0;32m----> 7\u001b[0;31m \u001b[0mprint\u001b[0m\u001b[0;34m(\u001b[0m\u001b[0mA\u001b[0m \u001b[0;34m*\u001b[0m \u001b[0mB\u001b[0m\u001b[0;34m)\u001b[0m\u001b[0;34m\u001b[0m\u001b[0m\n\u001b[0m",
      "\u001b[0;31mValueError\u001b[0m: operands could not be broadcast together with shapes (3,2) (2,1) "
     ]
    }
   ],
   "source": [
    "A = np.array([[1, 3],\n",
    "              [4, 2],\n",
    "              [2, 1]])\n",
    "B = np.array([[1],\n",
    "              [5]])\n",
    "\n",
    "print(A * B)"
   ]
  },
  {
   "cell_type": "markdown",
   "metadata": {},
   "source": [
    "We instead need to use a `NumPy` library function if we want to do matrix multiplication:"
   ]
  },
  {
   "cell_type": "code",
   "execution_count": 8,
   "metadata": {
    "ExecuteTime": {
     "end_time": "2018-08-25T14:31:21.585672Z",
     "start_time": "2018-08-25T14:31:21.577890Z"
    }
   },
   "outputs": [
    {
     "data": {
      "text/plain": [
       "array([[16],\n",
       "       [14],\n",
       "       [ 7]])"
      ]
     },
     "execution_count": 8,
     "metadata": {},
     "output_type": "execute_result"
    }
   ],
   "source": [
    "np.dot(A, B)"
   ]
  },
  {
   "cell_type": "markdown",
   "metadata": {},
   "source": [
    "## A Neat Trick\n",
    "\n",
    "We can compute all of the model hypothesis (given a particular $\\theta_0, \\theta_1$) for a number of\n",
    "houses simultaneously using matrix vector multiplication.\n",
    "\n",
    "Say our hypothesis is:\n",
    "\n",
    "$$\n",
    "h_\\theta(x) = -40 + 0.25x\n",
    "$$\n",
    "\n",
    "We can do the following for a set of houses, to compute the model prices for all of the houses at the\n",
    "same time:"
   ]
  },
  {
   "cell_type": "code",
   "execution_count": 9,
   "metadata": {
    "ExecuteTime": {
     "end_time": "2018-08-25T14:31:21.756390Z",
     "start_time": "2018-08-25T14:31:21.750207Z"
    }
   },
   "outputs": [
    {
     "name": "stdout",
     "output_type": "stream",
     "text": [
      "[[ 486. ]\n",
      " [ 314. ]\n",
      " [ 343.5]\n",
      " [ 173. ]]\n"
     ]
    }
   ],
   "source": [
    "X = np.array([[1, 2104],\n",
    "              [1, 1416],\n",
    "              [1, 1534],\n",
    "              [1, 852]])\n",
    "Theta = np.array([[-40],\n",
    "                  [0.25]])\n",
    "\n",
    "y = np.dot(X, Theta) # y is our hypothesis/model prices for the 4 houses of the given sizes\n",
    "print(y)"
   ]
  },
  {
   "cell_type": "markdown",
   "metadata": {},
   "source": [
    "Using a vectorized matrix vector multiplication like this is much faster than doing this in a for loop.\n",
    "Vectorized operations are much more computationally efficient."
   ]
  },
  {
   "cell_type": "markdown",
   "metadata": {},
   "source": [
    "# Video W1 15: Matrix Vector Multiplication\n",
    "\n",
    "There was a duplicate in the playlist of the Matrix Vector multiplication video, so ignore W1 15.\n",
    "\n",
    "\n",
    "# Video W1 16: Matrix Matrix Multiplication\n",
    "\n",
    "[YouTube Video Link](https://www.youtube.com/watch?v=aqK2Y0l2rXE&list=PLZ9qNFMHZ-A4rycgrgOYma6zxF4BZGGPW&index=16)\n",
    "\n",
    "## Multiplying two matrices together\n",
    "\n",
    "This is really a simple extension of the matrix by vector multiplication:\n",
    "\n",
    "$$\n",
    "\\begin{bmatrix}\n",
    "1 &  3 & 2 \\\\ \n",
    "4 &  0 & 1 \\\\ \n",
    "\\end{bmatrix}\n",
    "\\begin{bmatrix}\n",
    "1 & 3 \\\\ \n",
    "0 & 1 \\\\\n",
    "5 & 2 \\\\\n",
    "\\end{bmatrix}\n",
    "=\n",
    "\\begin{bmatrix}\n",
    "11 & 10 \\\\\n",
    "9  & 14 \\\\\n",
    "\\end{bmatrix}\n",
    "$$\n",
    "\n",
    "In `NumPy` we still use the same `np.dot()` function to perform matrix by matrix multiplication:"
   ]
  },
  {
   "cell_type": "code",
   "execution_count": 10,
   "metadata": {
    "ExecuteTime": {
     "end_time": "2018-08-25T14:31:21.988356Z",
     "start_time": "2018-08-25T14:31:21.983078Z"
    }
   },
   "outputs": [
    {
     "name": "stdout",
     "output_type": "stream",
     "text": [
      "[[11 10]\n",
      " [ 9 14]]\n"
     ]
    }
   ],
   "source": [
    "A = np.array([[1, 3, 2],\n",
    "              [4, 0, 1]])\n",
    "B = np.array([[1, 3],\n",
    "              [0, 1],\n",
    "              [5, 2]])\n",
    "\n",
    "print(np.dot(A, B))"
   ]
  },
  {
   "cell_type": "code",
   "execution_count": 11,
   "metadata": {
    "ExecuteTime": {
     "end_time": "2018-08-25T14:31:22.080153Z",
     "start_time": "2018-08-25T14:31:21.990326Z"
    }
   },
   "outputs": [
    {
     "name": "stdout",
     "output_type": "stream",
     "text": [
      "[[ 9  7]\n",
      " [15 12]]\n"
     ]
    }
   ],
   "source": [
    "# another example, a 2x2 times a 2x2 matrix\n",
    "A = np.array([[1, 3],\n",
    "              [2, 5]])\n",
    "B = np.array([[0, 1],\n",
    "              [3, 2]])\n",
    "\n",
    "print(np.dot(A, B))"
   ]
  },
  {
   "cell_type": "markdown",
   "metadata": {},
   "source": [
    "## More Neat Tricks\n",
    "\n",
    "Lets say instead of 1 hypothesis, we instead have 3 hypotheses that we want to calculate the predicted price for a set of houses\n",
    "for:\n",
    "\n",
    "$$\n",
    "h_\\theta(x) = -40 + 0.25x\n",
    "$$\n",
    "\n",
    "$$\n",
    "h_\\theta(x) = 200 + 0.1x\n",
    "$$\n",
    "\n",
    "$$\n",
    "h_\\theta(x) = -150 + 0.4x\n",
    "$$\n",
    "\n",
    "\n",
    "We can use matrix matrix multiplication to perform all of the prediction calculations in a single vectorized operation.\n"
   ]
  },
  {
   "cell_type": "code",
   "execution_count": 12,
   "metadata": {
    "ExecuteTime": {
     "end_time": "2018-08-25T14:31:22.172241Z",
     "start_time": "2018-08-25T14:31:22.100514Z"
    }
   },
   "outputs": [
    {
     "name": "stdout",
     "output_type": "stream",
     "text": [
      "[[ 486.   410.4  691.6]\n",
      " [ 314.   341.6  416.4]\n",
      " [ 343.5  353.4  463.6]\n",
      " [ 173.   285.2  190.8]]\n"
     ]
    }
   ],
   "source": [
    "X = np.array([[1, 2104],\n",
    "              [1, 1416],\n",
    "              [1, 1534],\n",
    "              [1, 852]])\n",
    "\n",
    "Theta = np.array([[-40, 200, -150],\n",
    "                  [0.25, 0.1, 0.4]])\n",
    "\n",
    "print(np.dot(X, Theta))"
   ]
  },
  {
   "cell_type": "markdown",
   "metadata": {},
   "source": [
    "# Video W1 17: Matrix Multiplication Properties\n",
    "\n",
    "[YouTube Video Link](https://www.youtube.com/watch?v=00GJM2Js7AI&index=17&list=PLZ9qNFMHZ-A4rycgrgOYma6zxF4BZGGPW)\n",
    "\n",
    "A discussion of some things you should be aware when using linear algebra matrix operations.\n",
    "\n",
    "- Matrix multipication is not commutative\n",
    "- However, matrix multiplication is associative\n"
   ]
  },
  {
   "cell_type": "code",
   "execution_count": 13,
   "metadata": {
    "ExecuteTime": {
     "end_time": "2018-08-25T14:31:22.272222Z",
     "start_time": "2018-08-25T14:31:22.190403Z"
    }
   },
   "outputs": [
    {
     "name": "stdout",
     "output_type": "stream",
     "text": [
      "[[2 0]\n",
      " [0 0]]\n",
      "[[0 0]\n",
      " [2 2]]\n"
     ]
    }
   ],
   "source": [
    "# matrix multiplication is not commutative\n",
    "A = np.array([[1, 1],\n",
    "              [0, 0]])\n",
    "B = np.array([[0, 0],\n",
    "              [2, 0]])\n",
    "\n",
    "print(np.dot(A, B))\n",
    "print(np.dot(B, A))"
   ]
  },
  {
   "cell_type": "code",
   "execution_count": 14,
   "metadata": {
    "ExecuteTime": {
     "end_time": "2018-08-25T14:31:22.363825Z",
     "start_time": "2018-08-25T14:31:22.273975Z"
    }
   },
   "outputs": [
    {
     "name": "stdout",
     "output_type": "stream",
     "text": [
      "[[4 0]\n",
      " [0 0]]\n",
      "[[4 0]\n",
      " [0 0]]\n"
     ]
    }
   ],
   "source": [
    "# Matrix multiplication IS associative\n",
    "C = np.array([[2, 0],\n",
    "              [2, 1]])\n",
    "\n",
    "Tmp = np.dot(A, B)\n",
    "print(np.dot(Tmp, C))\n",
    "\n",
    "Tmp = np.dot(B,C)\n",
    "print(np.dot(A, Tmp))"
   ]
  },
  {
   "cell_type": "markdown",
   "metadata": {},
   "source": [
    "## Identity Matrix\n",
    "\n",
    "For scalar values, the value 1 is the identity, e.g $1 \\times z = z \\times 1 = z$.\n",
    "\n",
    "For matrices there is an identity matrix, denotied as $I$ or $(I_{n \\times n})$.  The identity matrix has 1's on the diagonal, and\n",
    "zeros every else."
   ]
  },
  {
   "cell_type": "code",
   "execution_count": 15,
   "metadata": {
    "ExecuteTime": {
     "end_time": "2018-08-25T14:31:22.496891Z",
     "start_time": "2018-08-25T14:31:22.365621Z"
    }
   },
   "outputs": [
    {
     "name": "stdout",
     "output_type": "stream",
     "text": [
      "[[ 1.  0.  0.  0.]\n",
      " [ 0.  1.  0.  0.]\n",
      " [ 0.  0.  1.  0.]\n",
      " [ 0.  0.  0.  1.]]\n"
     ]
    }
   ],
   "source": [
    "# the 4x4 identity matrix\n",
    "print(np.eye(4))"
   ]
  },
  {
   "cell_type": "markdown",
   "metadata": {},
   "source": [
    "For any matrix $A$,\n",
    "\n",
    "$$\n",
    "A \\cdot I = I \\cdot A = A\n",
    "$$"
   ]
  },
  {
   "cell_type": "code",
   "execution_count": 16,
   "metadata": {
    "ExecuteTime": {
     "end_time": "2018-08-25T14:31:22.603374Z",
     "start_time": "2018-08-25T14:31:22.499014Z"
    }
   },
   "outputs": [
    {
     "name": "stdout",
     "output_type": "stream",
     "text": [
      "[[ 3.  4.  7.]\n",
      " [ 1.  8.  2.]\n",
      " [ 9.  6.  5.]]\n",
      "[[ 3.  4.  7.]\n",
      " [ 1.  8.  2.]\n",
      " [ 9.  6.  5.]]\n"
     ]
    }
   ],
   "source": [
    "A = np.array([[3, 4, 7],\n",
    "              [1, 8, 2],\n",
    "              [9, 6, 5]])\n",
    "\n",
    "I = np.eye(3)\n",
    "\n",
    "print(np.dot(A, I))\n",
    "print(np.dot(I, A))"
   ]
  },
  {
   "cell_type": "markdown",
   "metadata": {},
   "source": [
    "# Video W1 18: Inverse and Transpose\n",
    "\n",
    "[YouTube Video Link](https://www.youtube.com/watch?v=9McrlFqn-gg&index=18&list=PLZ9qNFMHZ-A4rycgrgOYma6zxF4BZGGPW)\n",
    "\n",
    "The inverse of a scalar is simply the value such that when you multiple the scalar by its inverse you get 1.\n",
    "\n",
    "For example:\n",
    "$$\n",
    "3 \\times 3^{-1} = 3 \\times \\frac{1}{3} = 1\n",
    "$$\n",
    "\n",
    "For a matrix, the inverse of a matrix is a matrix such that:\n",
    "\n",
    "$$\n",
    "A \\cdot (A^{-1}) = A^{-1} \\cdot A = I\n",
    "$$\n",
    "\n",
    "Only square matrices can have inverses.  But not all square matrices are guaranted to have an inverse.  Finding the inverse of\n",
    "a square matrix (if it exists) can be difficult.  Here is an example of a matrix and its inverse:"
   ]
  },
  {
   "cell_type": "code",
   "execution_count": 17,
   "metadata": {
    "ExecuteTime": {
     "end_time": "2018-08-25T14:31:22.703754Z",
     "start_time": "2018-08-25T14:31:22.605234Z"
    }
   },
   "outputs": [
    {
     "name": "stdout",
     "output_type": "stream",
     "text": [
      "[[  1.00000000e+00  -5.55111512e-17]\n",
      " [  0.00000000e+00   1.00000000e+00]]\n"
     ]
    }
   ],
   "source": [
    "A = np.array([[3, 4],\n",
    "              [2, 16]])\n",
    "Ainv = np.array([[0.4, -0.1],\n",
    "                 [-0.05, 0.075]])\n",
    "\n",
    "# show that Ainv is the inverse of A\n",
    "print(np.dot(A, Ainv))"
   ]
  },
  {
   "cell_type": "markdown",
   "metadata": {},
   "source": [
    "Don't be confused if the numbers (especially the 0's), are't exactly 1 or 0, the result is very close to the Identity matrix \n",
    "(within machine precision of the calculation).\n",
    "\n",
    "How do we compute the Inverse of a matrix?  There are algorithms to do this (of course), and it is difficult to do by hand.\n",
    "The `NumPy` library has functions that can be used to compute the inverse of a matrix:"
   ]
  },
  {
   "cell_type": "code",
   "execution_count": 18,
   "metadata": {
    "ExecuteTime": {
     "end_time": "2018-08-25T14:31:22.792881Z",
     "start_time": "2018-08-25T14:31:22.705526Z"
    }
   },
   "outputs": [
    {
     "name": "stdout",
     "output_type": "stream",
     "text": [
      "[[ 0.4   -0.1  ]\n",
      " [-0.05   0.075]]\n"
     ]
    }
   ],
   "source": [
    "print(np.linalg.inv(A))"
   ]
  },
  {
   "cell_type": "code",
   "execution_count": 19,
   "metadata": {
    "ExecuteTime": {
     "end_time": "2018-08-25T14:31:22.887810Z",
     "start_time": "2018-08-25T14:31:22.794591Z"
    }
   },
   "outputs": [
    {
     "name": "stdout",
     "output_type": "stream",
     "text": [
      "[[ 1.  0.]\n",
      " [ 0.  1.]]\n"
     ]
    }
   ],
   "source": [
    "print(np.dot(A, np.linalg.inv(A)))"
   ]
  },
  {
   "cell_type": "markdown",
   "metadata": {},
   "source": [
    "Some scalar values don't have an inverse, for example 0 doesn't have an inverse.  Likewise, some matrices don't have an inverse.\n",
    "However for machine learning this is usually not an issue, because often there are pseudo inverses that are close enough for\n",
    "machine learning purposes."
   ]
  },
  {
   "cell_type": "markdown",
   "metadata": {},
   "source": [
    "## Matrix Transpose\n",
    "\n",
    "The transpose of matrix simply flips the row and column indexes of a matrix:\n",
    "\n",
    "$$\n",
    "A =\n",
    "\\begin{bmatrix}\n",
    "1 &  2 & 0 \\\\ \n",
    "3 &  5 & 9 \\\\ \n",
    "\\end{bmatrix}\n",
    "\\;\\;\\;\n",
    "A^T =\n",
    "\\begin{bmatrix}\n",
    "1 &  3 \\\\ \n",
    "2 &  5\\\\\n",
    "0 & 9 \\\\\n",
    "\\end{bmatrix}\n",
    "$$"
   ]
  },
  {
   "cell_type": "code",
   "execution_count": 20,
   "metadata": {
    "ExecuteTime": {
     "end_time": "2018-08-25T14:31:22.985863Z",
     "start_time": "2018-08-25T14:31:22.889578Z"
    }
   },
   "outputs": [
    {
     "name": "stdout",
     "output_type": "stream",
     "text": [
      "[[1 3]\n",
      " [2 5]\n",
      " [0 9]]\n",
      "[[1 3]\n",
      " [2 5]\n",
      " [0 9]]\n"
     ]
    }
   ],
   "source": [
    "A = np.array([[1, 2, 0],\n",
    "              [3, 5, 9]])\n",
    "print(np.transpose(A))\n",
    "print(A.T) # we can use the transpose function, or the convenience x.T attribute, to transpose"
   ]
  },
  {
   "cell_type": "code",
   "execution_count": 21,
   "metadata": {
    "ExecuteTime": {
     "end_time": "2018-08-25T14:31:23.356798Z",
     "start_time": "2018-08-25T14:31:22.987702Z"
    }
   },
   "outputs": [
    {
     "data": {
      "application/json": {
       "Software versions": [
        {
         "module": "Python",
         "version": "3.6.1 64bit [GCC 4.4.7 20120313 (Red Hat 4.4.7-1)]"
        },
        {
         "module": "IPython",
         "version": "6.4.0"
        },
        {
         "module": "OS",
         "version": "Linux 4.13.0 46 generic x86_64 with debian stretch sid"
        },
        {
         "module": "numpy",
         "version": "1.12.1"
        },
        {
         "module": "scipy",
         "version": "0.19.0"
        },
        {
         "module": "matplotlib",
         "version": "2.0.2"
        },
        {
         "module": "pandas",
         "version": "0.20.1"
        },
        {
         "module": "sklearn",
         "version": "0.18.1"
        }
       ]
      },
      "text/html": [
       "<table><tr><th>Software</th><th>Version</th></tr><tr><td>Python</td><td>3.6.1 64bit [GCC 4.4.7 20120313 (Red Hat 4.4.7-1)]</td></tr><tr><td>IPython</td><td>6.4.0</td></tr><tr><td>OS</td><td>Linux 4.13.0 46 generic x86_64 with debian stretch sid</td></tr><tr><td>numpy</td><td>1.12.1</td></tr><tr><td>scipy</td><td>0.19.0</td></tr><tr><td>matplotlib</td><td>2.0.2</td></tr><tr><td>pandas</td><td>0.20.1</td></tr><tr><td>sklearn</td><td>0.18.1</td></tr><tr><td colspan='2'>Sat Aug 25 09:31:23 2018 CDT</td></tr></table>"
      ],
      "text/latex": [
       "\\begin{tabular}{|l|l|}\\hline\n",
       "{\\bf Software} & {\\bf Version} \\\\ \\hline\\hline\n",
       "Python & 3.6.1 64bit [GCC 4.4.7 20120313 (Red Hat 4.4.7-1)] \\\\ \\hline\n",
       "IPython & 6.4.0 \\\\ \\hline\n",
       "OS & Linux 4.13.0 46 generic x86\\_64 with debian stretch sid \\\\ \\hline\n",
       "numpy & 1.12.1 \\\\ \\hline\n",
       "scipy & 0.19.0 \\\\ \\hline\n",
       "matplotlib & 2.0.2 \\\\ \\hline\n",
       "pandas & 0.20.1 \\\\ \\hline\n",
       "sklearn & 0.18.1 \\\\ \\hline\n",
       "\\hline \\multicolumn{2}{|l|}{Sat Aug 25 09:31:23 2018 CDT} \\\\ \\hline\n",
       "\\end{tabular}\n"
      ],
      "text/plain": [
       "Software versions\n",
       "Python 3.6.1 64bit [GCC 4.4.7 20120313 (Red Hat 4.4.7-1)]\n",
       "IPython 6.4.0\n",
       "OS Linux 4.13.0 46 generic x86_64 with debian stretch sid\n",
       "numpy 1.12.1\n",
       "scipy 0.19.0\n",
       "matplotlib 2.0.2\n",
       "pandas 0.20.1\n",
       "sklearn 0.18.1\n",
       "Sat Aug 25 09:31:23 2018 CDT"
      ]
     },
     "execution_count": 21,
     "metadata": {},
     "output_type": "execute_result"
    }
   ],
   "source": [
    "%load_ext version_information\n",
    "\n",
    "%version_information numpy, scipy, matplotlib, pandas, sklearn"
   ]
  }
 ],
 "metadata": {
  "kernelspec": {
   "display_name": "Python [default]",
   "language": "python",
   "name": "python3"
  },
  "language_info": {
   "codemirror_mode": {
    "name": "ipython",
    "version": 3
   },
   "file_extension": ".py",
   "mimetype": "text/x-python",
   "name": "python",
   "nbconvert_exporter": "python",
   "pygments_lexer": "ipython3",
   "version": "3.6.1"
  },
  "latex_envs": {
   "LaTeX_envs_menu_present": true,
   "autoclose": true,
   "autocomplete": true,
   "bibliofile": "biblio.bib",
   "cite_by": "apalike",
   "current_citInitial": 1,
   "eqLabelWithNumbers": true,
   "eqNumInitial": 1,
   "hotkeys": {
    "equation": "Ctrl-E",
    "itemize": "Ctrl-I"
   },
   "labels_anchors": false,
   "latex_user_defs": false,
   "report_style_numbering": false,
   "user_envs_cfg": false
  },
  "toc": {
   "base_numbering": 1,
   "nav_menu": {},
   "number_sections": true,
   "sideBar": true,
   "skip_h1_title": false,
   "title_cell": "Table of Contents",
   "title_sidebar": "Contents",
   "toc_cell": false,
   "toc_position": {},
   "toc_section_display": true,
   "toc_window_display": false
  },
  "varInspector": {
   "cols": {
    "lenName": 16,
    "lenType": 16,
    "lenVar": 40
   },
   "kernels_config": {
    "python": {
     "delete_cmd_postfix": "",
     "delete_cmd_prefix": "del ",
     "library": "var_list.py",
     "varRefreshCmd": "print(var_dic_list())"
    },
    "r": {
     "delete_cmd_postfix": ") ",
     "delete_cmd_prefix": "rm(",
     "library": "var_list.r",
     "varRefreshCmd": "cat(var_dic_list()) "
    }
   },
   "types_to_exclude": [
    "module",
    "function",
    "builtin_function_or_method",
    "instance",
    "_Feature"
   ],
   "window_display": false
  }
 },
 "nbformat": 4,
 "nbformat_minor": 1
}
