{
 "metadata": {
  "name": ""
 },
 "nbformat": 3,
 "nbformat_minor": 0,
 "worksheets": [
  {
   "cells": [
    {
     "cell_type": "code",
     "collapsed": false,
     "input": [
      "import numpy as np\n",
      "import matplotlib.pyplot as plt\n",
      "import pandas as pd\n",
      "import matplotlib\n",
      "%matplotlib inline\n",
      "matplotlib.rcParams['figure.figsize'] = (8, 6) # set default figure size, 8in by 6in"
     ],
     "language": "python",
     "metadata": {},
     "outputs": [],
     "prompt_number": 1
    },
    {
     "cell_type": "markdown",
     "metadata": {},
     "source": [
      "# Video W6 08: Prioritizing What to Work On\n",
      "\n",
      "[YouTube Video Link](https://www.youtube.com/watch?v=0Gj0oc9QPgk&list=PLZ9qNFMHZ-A4rycgrgOYma6zxF4BZGGPW&index=66)\n"
     ]
    },
    {
     "cell_type": "markdown",
     "metadata": {},
     "source": [
      "# Video W6 09: Error Analysis\n",
      "\n",
      "[YouTube Video Link](https://www.youtube.com/watch?v=cvqbQpM_zOQ&list=PLZ9qNFMHZ-A4rycgrgOYma6zxF4BZGGPW&index=67)\n"
     ]
    },
    {
     "cell_type": "markdown",
     "metadata": {},
     "source": [
      "# Video W6 10: Error Metrics for Skewed Classes\n",
      "\n",
      "[YouTube Video Link](https://www.youtube.com/watch?v=225zo-kjPQo&index=68&list=PLZ9qNFMHZ-A4rycgrgOYma6zxF4BZGGPW)\n"
     ]
    },
    {
     "cell_type": "markdown",
     "metadata": {},
     "source": [
      "# Video W6 11: Trading Off Precision and Recall\n",
      "\n",
      "[YouTube Video Link](https://www.youtube.com/watch?v=usb607igSc0&list=PLZ9qNFMHZ-A4rycgrgOYma6zxF4BZGGPW&index=69)\n"
     ]
    },
    {
     "cell_type": "markdown",
     "metadata": {},
     "source": [
      "# Video W6 12: Data for Machine Learning\n",
      "\n",
      "[YouTube Video Link](https://www.youtube.com/watch?v=qoWvp5iNzs8&list=PLZ9qNFMHZ-A4rycgrgOYma6zxF4BZGGPW&index=70)\n"
     ]
    }
   ],
   "metadata": {}
  }
 ]
}