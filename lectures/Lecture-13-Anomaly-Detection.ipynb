{
 "cells": [
  {
   "cell_type": "code",
   "execution_count": 1,
   "metadata": {},
   "outputs": [],
   "source": [
    "import numpy as np\n",
    "import matplotlib.pyplot as plt\n",
    "import pandas as pd\n",
    "import matplotlib\n",
    "from mpl_toolkits.mplot3d import Axes3D\n",
    "\n",
    "%matplotlib inline\n",
    "matplotlib.rcParams['figure.figsize'] = (10, 10) # set default figure size, 8in by 6in"
   ]
  },
  {
   "cell_type": "markdown",
   "metadata": {},
   "source": [
    "This week, we will be covering anomaly detection which is widely used in fraud detection (e.g. ‘has this credit card been stolen?’). Given a large number of data points, we may sometimes want to figure out which ones vary significantly from the average. For example, in manufacturing, we may want to detect defects or anomalies. We show how a dataset can be modeled using a Gaussian distribution, and how the model can be used for anomaly detection."
   ]
  },
  {
   "cell_type": "markdown",
   "metadata": {},
   "source": [
    "# Video W9 01: Problem Motivation (Anomaly Detection)\n",
    "\n",
    "[YouTube Video Link](https://www.youtube.com/watch?v=hhI-PdMO1sk&list=PLZ9qNFMHZ-A4rycgrgOYma6zxF4BZGGPW&index=89)\n"
   ]
  },
  {
   "cell_type": "markdown",
   "metadata": {},
   "source": [
    "# Video W9 02: Gaussian Distribution\n",
    "\n",
    "[YouTube Video Link](https://www.youtube.com/watch?v=2yosK5CJZmo&index=90&list=PLZ9qNFMHZ-A4rycgrgOYma6zxF4BZGGPW)\n",
    "\n",
    "## Parameter Estimation ##\n",
    "\n",
    "The parameter estimation problem is basically, given a set of data that you suspect may be distributed according to a\n",
    "Gaussian distribution, how do you determine the values of the mean $\\mu$ and the standard deviation $\\sigma$ that best\n",
    "fit or explain the data you have been given.  We can use a simple maximum likelihood estimate to determine which values\n",
    "for the $\\mu, \\sigma$ parameters fit the data.  To estimate $\\mu$, simply calculate the mean of the data points\n",
    "you have been given:\n",
    "\n",
    "$$\n",
    "\\mu = \\frac{1}{m} \\sum_{i=1}^{m} x^{(i)}\n",
    "$$\n",
    "\n",
    "Likewise, to estimate the variance $\\sigma^2$, sum up the squares of each data point subtracted from your estimated\n",
    "mean value:\n",
    "\n",
    "$$\n",
    "\\sigma^2 = \\frac{1}{m} \\sum_{i=1}^{m} (x^{(i)} - \\mu)^2\n",
    "$$\n",
    "\n",
    "Just to show that is approximately works, and to generate a set of data and figure similar to the one from our\n",
    "companion video, lets create a set of 20 points drawn from a normal distribution with a mean of 1.5 and\n",
    "a standard deviation of 0.75 using python:"
   ]
  },
  {
   "cell_type": "code",
   "execution_count": 2,
   "metadata": {},
   "outputs": [
    {
     "data": {
      "text/plain": [
       "[<matplotlib.lines.Line2D at 0x7fcf08a0d198>]"
      ]
     },
     "execution_count": 2,
     "metadata": {},
     "output_type": "execute_result"
    },
    {
     "data": {
      "image/png": "[encoded data removed]",
      "text/plain": [
       "<matplotlib.figure.Figure at 0x7fcf0b0aad68>"
      ]
     },
     "metadata": {},
     "output_type": "display_data"
    }
   ],
   "source": [
    "m = 20 # number of data points\n",
    "mu_actual = 1.5 # the actual mean we will use to generate some example data points\n",
    "sigma_actual = 0.75 # the actual standard deviation we will use to generate random data points\n",
    "\n",
    "x = np.random.normal(loc=mu_actual, scale=sigma_actual, size = (m,))\n",
    "plt.plot(x, np.zeros( (m,)), 'rx')"
   ]
  },
  {
   "cell_type": "markdown",
   "metadata": {},
   "source": [
    "Remember that the actual mean and standard deviation we used for the points are 1.5 and 0.75 respectively.  We can get\n",
    "mean likelihood estimates of the values for our randomly generated data like this:"
   ]
  },
  {
   "cell_type": "code",
   "execution_count": 3,
   "metadata": {},
   "outputs": [
    {
     "name": "stdout",
     "output_type": "stream",
     "text": [
      "1.19150589735 0.832190175953 0.692540488952\n"
     ]
    }
   ],
   "source": [
    "mu_estimate = np.sum(x) / m\n",
    "variance_estimate = np.sum( (x - mu_estimate)**2.0 ) / m\n",
    "sigma_estimate = np.sqrt(variance_estimate)\n",
    "print(mu_estimate, sigma_estimate, variance_estimate)"
   ]
  },
  {
   "cell_type": "markdown",
   "metadata": {},
   "source": [
    "# Video W9 03: Anomaly Detection Algorithm\n",
    "\n",
    "[YouTube Video Link](https://www.youtube.com/watch?v=egIWLtZjHoo&list=PLZ9qNFMHZ-A4rycgrgOYma6zxF4BZGGPW&index=91)\n",
    "\n",
    "## Density Estimation ##\n",
    "\n",
    "One way to estimate the probability of a given observation being an anomaly or not is to make an independence assumption on\n",
    "each of the $n$ features, and calculate the probability of getting each feature given our observed data.  To do this, we\n",
    "use the previous method and assume that each of our features is normally distributed, and use a maximum likelihood estimate\n",
    "to determine the mean and variance parameters for each of our features independently.  Given these estimations, we can use them\n",
    "to calculate the probability of each observed feature, and multiplying all of these probabilities together (which works\n",
    "because of the assumption of independence) gives us an overall estimate of the probability of seeing the new observation.\n",
    "\n",
    "The final probability (or density) estimate can be stated compactly using the product formula\n",
    "\n",
    "$$\n",
    "\\prod_{j=1}^n p(x_j; \\mu_j, \\sigma_j^2) = p(x_1; \\mu_1, \\sigma_1^2) \\times p(x_2; \\mu_2, \\sigma_2^2) \\times \\ldots \\times p(x_n; \\mu_n, \\sigma_n^2)\n",
    "$$\n",
    "\n",
    "Where for each of our $n$ features, we have determined the maximum likelihood $\\mu_j, \\sigma_j^2$ mean and variance\n",
    "parameters.  The $\\prod$ symbol simply means we are multiplying each of the $n$ probabilities together.\n",
    "\n",
    "## Anomaly Detection Algorithm ##\n",
    "\n",
    "Putting these previous concepts together, we can build an anomaly detection system using the following algorithm:\n",
    "\n",
    "1. Choose features $x_i$ that you think might be indicative of anomalous examples.\n",
    "2. Fit parameters $\\mu_1, \\ldots, \\mu_n, \\sigma_1^2, \\ldots, \\sigma_n^2$\n",
    "$$\n",
    "\\mu_j = \\frac{1}{m} \\sum_{i=1}^{m} x_j^{(i)} \\\\\n",
    "\\sigma_j^2 = \\frac{1}{m} \\sum_{i=1}^{m} (x_j^{(i)} - \\mu_j)^2 \n",
    "$$\n",
    "3. Given a new example $x$, compute $p(x)$:\n",
    "$$\n",
    "p(x) = \\prod_{j=1}^n p(x_j; \\mu_j, \\sigma_j^2) = \\prod_{j=1}^{n} \\frac{1}{\\sqrt{2 \\pi} \\sigma_j} \\textrm{exp}(- \\frac{(x_j - \\mu_j)^2}{2 \\sigma_j^2})\n",
    "$$\n",
    "\n",
    "And finally, we will determine a new observation is an anomaly if the probability is below some threshold, \n",
    "e.g. if $p(x) < \\epsilon$.\n",
    "\n",
    "Lets give an example in Python similar to the one shown in our video.  Lets again generate a set of data, but with\n",
    "2 dimensions or features in this case.  As shown in the video, the mean and standard deviation we will use for our two\n",
    "features will be:\n",
    "$$\n",
    "\\mu_1 = 5, \\sigma_1 = 2\\\\\n",
    "\\mu_2 = 3, \\sigma_2 = 1\n",
    "$$\n",
    "\n",
    "Here we will show vectorized versions of computing the maximum likelihood estimates and probabilities:"
   ]
  },
  {
   "cell_type": "code",
   "execution_count": 4,
   "metadata": {},
   "outputs": [],
   "source": [
    "m, n = 20, 2 # number of example data points ; number of features/dimensions\n",
    "mu_actual = np.array([5.0, 3.0])\n",
    "sigma_actual = np.array([2.0, 1.0])\n",
    "\n",
    "# we will generate a mxn array of values with mean 0 and std 1.0\n",
    "x = np.random.normal(loc=0.0, scale=1.0, size=(m, n))\n",
    "\n",
    "# and we will scale each dimension to have the desired mean/std.\n",
    "x[:,0] = (x[:,0] * sigma_actual[0]) + mu_actual[0]\n",
    "x[:,1] = (x[:,1] * sigma_actual[1]) + mu_actual[1]"
   ]
  },
  {
   "cell_type": "code",
   "execution_count": 5,
   "metadata": {},
   "outputs": [
    {
     "data": {
      "text/plain": [
       "<matplotlib.legend.Legend at 0x7fcf08937828>"
      ]
     },
     "execution_count": 5,
     "metadata": {},
     "output_type": "execute_result"
    },
    {
     "data": {
      "image/png": "[encoded data removed]",
      "text/plain": [
       "<matplotlib.figure.Figure at 0x7fcf089bc9b0>"
      ]
     },
     "metadata": {},
     "output_type": "display_data"
    }
   ],
   "source": [
    "# display our randomly generated set of 20 data points in\n",
    "# our 2 dimensional feature space\n",
    "#plt.plot(x[:,0], x[:,1], 'rx', markersize=10, markeredgewidth=3, label='training data points')\n",
    "plt.scatter(x[:,0], x[:,1], c='r', marker='x', s=75, label='training data points')\n",
    "plt.xlabel('$x_0$', fontsize=20)\n",
    "plt.ylabel('$x_1$', fontsize=20)\n",
    "plt.axis([-2, 12, -2, 8])\n",
    "\n",
    "# display location of 2 new observations we will use to demonstrate\n",
    "# calculating the density or probability estimate\n",
    "x_new = np.array([[5.5, 2.9],\n",
    "                  [2.5, 0.8]])\n",
    "#plt.plot(x_new[:,0], x_new[:,1], 'bo', markersize=10, markeredgewidth=3, label='new observations')\n",
    "plt.scatter(x_new[:,0], x_new[:,1], c='b', marker='o', s=75, label='new observations')\n",
    "plt.legend()"
   ]
  },
  {
   "cell_type": "code",
   "execution_count": 6,
   "metadata": {},
   "outputs": [],
   "source": [
    "# define a function that compute the probability/density of an observation\n",
    "def probability_density_function(x, mu, sigma):\n",
    "    \"\"\"Calculate the probability of the given observation x for a normal distribution with mean mu and\n",
    "    standard deviation sigma.  These are known as computing the probability density function, or pdf.\n",
    "    This is equivalent to the scipy libraries stats.norm.pdf() function.\n",
    "    \"\"\"\n",
    "    return (1.0 / (np.sqrt(2.0 * np.pi) * sigma) ) * np.exp(- (x - mu)**2.0 / (2.0 * sigma**2.0) )"
   ]
  },
  {
   "cell_type": "code",
   "execution_count": 7,
   "metadata": {},
   "outputs": [
    {
     "name": "stdout",
     "output_type": "stream",
     "text": [
      "The maximum likelihood mean and variance for our 2 dimensions:\n",
      "[ 5.22306894  2.60734437]\n",
      "[ 1.65725292  0.9041907 ]\n",
      "\n",
      "A new observation that is not analomous: [ 5.5  2.9]\n",
      "Probability for dimension 0: 0.237387484469\n",
      "Probability for dimension 1: 0.418698860437\n",
      "Product of independent probabilities: 0.0993938692293\n",
      "\n",
      "A new observation that IS analomous: [ 2.5  0.8]\n",
      "Probability for dimension 0: 0.0624102935234\n",
      "Probability for dimension 1: 0.0598490110473\n",
      "Product of independent probabilities: 0.00373519434655\n"
     ]
    }
   ],
   "source": [
    "# calculate the maximum likelihood mean and variance for each dimension\n",
    "print( \"The maximum likelihood mean and variance for our 2 dimensions:\" )\n",
    "print( np.mean(x, axis=0) )\n",
    "print( np.std(x, axis=0) )\n",
    "mu_estimate = np.mean(x, axis=0)\n",
    "sigma_estimate = np.std(x, axis=0)\n",
    "\n",
    "# calculate the density or probability estimate for the new observations\n",
    "# first an example of the probability calculation for the point 0, for dimension 0 and 1\n",
    "print( \"\" )\n",
    "print( \"A new observation that is not analomous:\", x_new[0,:] )\n",
    "p_0 = probability_density_function(x_new[0, 0], mu_estimate[0], sigma_estimate[0])\n",
    "print( \"Probability for dimension 0:\", p_0 )\n",
    "p_1 = probability_density_function(x_new[0, 1], mu_estimate[1], sigma_estimate[1])\n",
    "print( \"Probability for dimension 1:\", p_1 )\n",
    "print( \"Product of independent probabilities:\", p_0 * p_1 )\n",
    "\n",
    "# now the same calculation for our anamolous point 1\n",
    "print( \"\" )\n",
    "print( \"A new observation that IS analomous:\", x_new[1,:] )\n",
    "p_0 = probability_density_function(x_new[1, 0], mu_estimate[0], sigma_estimate[0])\n",
    "print( \"Probability for dimension 0:\", p_0 )\n",
    "p_1 = probability_density_function(x_new[1, 1], mu_estimate[1], sigma_estimate[1])\n",
    "print( \"Probability for dimension 1:\", p_1 )\n",
    "print( \"Product of independent probabilities:\", p_0 * p_1 )\n"
   ]
  },
  {
   "cell_type": "code",
   "execution_count": 8,
   "metadata": {},
   "outputs": [
    {
     "name": "stdout",
     "output_type": "stream",
     "text": [
      "\n",
      "A new observation that is not analomous: [ 5.5  2.9]\n",
      "Probability for dimension 0: 0.237387484469\n",
      "Probability for dimension 1: 0.418698860437\n",
      "Product of independent probabilities: 0.0993938692293\n",
      "\n",
      "A new observation that IS analomous: [ 2.5  0.8]\n",
      "Probability for dimension 0: 0.0624102935234\n",
      "Probability for dimension 1: 0.0598490110473\n",
      "Product of independent probabilities: 0.00373519434655\n"
     ]
    }
   ],
   "source": [
    "# we can get the exam same results using the pdf function from scipy, which we should normally do rather\n",
    "# than implementing the function by hand as I have done above\n",
    "import scipy.stats\n",
    "print(\"\")\n",
    "print(\"A new observation that is not analomous:\", x_new[0,:])\n",
    "p_0 = scipy.stats.norm.pdf(x_new[0, 0], loc=mu_estimate[0], scale=sigma_estimate[0])\n",
    "print(\"Probability for dimension 0:\", p_0)\n",
    "p_1 = scipy.stats.norm.pdf(x_new[0, 1], loc=mu_estimate[1], scale=sigma_estimate[1])\n",
    "print(\"Probability for dimension 1:\", p_1)\n",
    "print(\"Product of independent probabilities:\", p_0 * p_1)\n",
    "\n",
    "# now the same calculation for our anamolous point 1\n",
    "print(\"\")\n",
    "print(\"A new observation that IS analomous:\", x_new[1,:])\n",
    "p_0 = scipy.stats.norm.pdf(x_new[1, 0], loc=mu_estimate[0], scale=sigma_estimate[0])\n",
    "print(\"Probability for dimension 0:\", p_0)\n",
    "p_1 = scipy.stats.norm.pdf(x_new[1, 1], loc=mu_estimate[1], scale=sigma_estimate[1])\n",
    "print(\"Probability for dimension 1:\", p_1)\n",
    "print(\"Product of independent probabilities:\", p_0 * p_1)\n"
   ]
  },
  {
   "cell_type": "code",
   "execution_count": 9,
   "metadata": {},
   "outputs": [
    {
     "name": "stdout",
     "output_type": "stream",
     "text": [
      "probabilities of all points for each dimension:\n",
      "[[ 0.23738748  0.41869886]\n",
      " [ 0.06241029  0.05984901]]\n",
      "\n",
      "The computed product of the probabilites for our points:\n",
      "[ 0.09939387  0.00373519]\n"
     ]
    }
   ],
   "source": [
    "# or to vectorize the above\n",
    "print(\"probabilities of all points for each dimension:\")\n",
    "p = scipy.stats.norm.pdf(x_new, loc=mu_estimate, scale=sigma_estimate)\n",
    "print(p)\n",
    "\n",
    "print(\"\")\n",
    "print(\"The computed product of the probabilites for our points:\")\n",
    "p = np.prod(p, axis=1)\n",
    "print(p)"
   ]
  },
  {
   "cell_type": "code",
   "execution_count": 10,
   "metadata": {},
   "outputs": [
    {
     "name": "stdout",
     "output_type": "stream",
     "text": [
      "[False  True]\n"
     ]
    }
   ],
   "source": [
    "# and finally, we can select an epsilon threshold, and determine which points are anomalous and which not\n",
    "# using the given threshold\n",
    "epsilon = 0.005\n",
    "print(p < epsilon)"
   ]
  },
  {
   "cell_type": "markdown",
   "metadata": {},
   "source": [
    "The above cells showed how we can compute the anomaly detection algoritm.  Lets visualize what an epsilon value of 0.01 means\n",
    "for our given set of 20 data points.  Here we will plot what is essentially the decision boundary for our given set of\n",
    "data, above which the threshold will determine points are \"anamolous\""
   ]
  },
  {
   "cell_type": "code",
   "execution_count": 11,
   "metadata": {},
   "outputs": [
    {
     "data": {
      "text/plain": [
       "<matplotlib.contour.QuadContourSet at 0x7fcf0042af28>"
      ]
     },
     "execution_count": 11,
     "metadata": {},
     "output_type": "execute_result"
    },
    {
     "data": {
      "image/png": "[encoded data removed]",
      "text/plain": [
       "<matplotlib.figure.Figure at 0x7fcf003f42b0>"
      ]
     },
     "metadata": {},
     "output_type": "display_data"
    }
   ],
   "source": [
    "# display our randomly generated set of 20 data points in\n",
    "# our 2 dimensional feature space\n",
    "#plt.plot(x[:,0], x[:,1], 'rx', markersize=10, markeredgewidth=3, label='training data points')\n",
    "plt.scatter(x[:,0], x[:,1], c='r', marker='x', s=75, label='training data points')\n",
    "plt.xlabel('$x_0$', fontsize=20)\n",
    "plt.ylabel('$x_1$', fontsize=20)\n",
    "plt.axis([-2, 12, -2, 8])\n",
    "\n",
    "# display location of 2 new observations we will use to demonstrate\n",
    "# calculating the density or probability estimate\n",
    "x_new = np.array([[5.5, 2.9],\n",
    "                  [2.5, 0.8]])\n",
    "#plt.plot(x_new[:,0], x_new[:,1], 'bo', markersize=10, markeredgewidth=3, label='new observations')\n",
    "plt.scatter(x_new[:,0], x_new[:,1], c='b', marker='o', s=75, label='new observations')\n",
    "plt.legend()\n",
    "\n",
    "\n",
    "# and create a mesh to detect decision boundary for a given epsilon and plot it\n",
    "epsilon = 0.005\n",
    "x_min, x_max = -2.0, 12.0\n",
    "y_min, y_max = -2.0, 8.0\n",
    "h = .01  # step size in the mesh\n",
    "xx, yy = np.meshgrid(np.arange(x_min, x_max, h),\n",
    "                     np.arange(y_min, y_max, h))\n",
    "\n",
    "gridpoints = np.c_[xx.ravel(), yy.ravel()]\n",
    "p = scipy.stats.norm.pdf(gridpoints, loc=mu_estimate, scale=sigma_estimate)\n",
    "p = (np.prod(p, axis=1) < epsilon) * 1.0\n",
    "Z = p.reshape(xx.shape)\n",
    "plt.contourf(xx, yy, Z, cmap=plt.cm.Paired, alpha=0.4)\n"
   ]
  },
  {
   "cell_type": "markdown",
   "metadata": {},
   "source": [
    "# Video W9 04: Developing and Evaluating an Anomaly Detection System\n",
    "\n",
    "[YouTube Video Link](https://www.youtube.com/watch?v=20dfmwVwK-8&list=PLZ9qNFMHZ-A4rycgrgOYma6zxF4BZGGPW&index=92)\n"
   ]
  },
  {
   "cell_type": "markdown",
   "metadata": {},
   "source": [
    "# Video W9 05: Anomaly Detection vs. Supervised Learning\n",
    "\n",
    "[YouTube Video Link](https://www.youtube.com/watch?v=mGXtKNHLRMg&index=93&list=PLZ9qNFMHZ-A4rycgrgOYma6zxF4BZGGPW)\n"
   ]
  },
  {
   "cell_type": "markdown",
   "metadata": {},
   "source": [
    "# Video W9 06: Choosing what Features to Use\n",
    "\n",
    "[YouTube Video Link](https://www.youtube.com/watch?v=YrCQ0uRcNCk&list=PLZ9qNFMHZ-A4rycgrgOYma6zxF4BZGGPW&index=94)\n"
   ]
  },
  {
   "cell_type": "markdown",
   "metadata": {},
   "source": [
    "# Video W9 07: Multivariate Gaussian Distribution\n",
    "\n",
    "[YouTube Video Link](https://www.youtube.com/watch?v=fr5wML3y1Xk&list=PLZ9qNFMHZ-A4rycgrgOYma6zxF4BZGGPW&index=95)\n"
   ]
  },
  {
   "cell_type": "markdown",
   "metadata": {},
   "source": [
    "# Video W9 08: Anomaly Detection using Multivariate Gaussian Distribution\n",
    "\n",
    "[YouTube Video Link](https://www.youtube.com/watch?v=EobKYbaJAHM&list=PLZ9qNFMHZ-A4rycgrgOYma6zxF4BZGGPW&index=96)\n"
   ]
  }
 ],
 "metadata": {
  "kernelspec": {
   "display_name": "Python [default]",
   "language": "python",
   "name": "python3"
  },
  "language_info": {
   "codemirror_mode": {
    "name": "ipython",
    "version": 3
   },
   "file_extension": ".py",
   "mimetype": "text/x-python",
   "name": "python",
   "nbconvert_exporter": "python",
   "pygments_lexer": "ipython3",
   "version": "3.6.1"
  }
 },
 "nbformat": 4,
 "nbformat_minor": 1
}
