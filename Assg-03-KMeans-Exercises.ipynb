{
 "metadata": {
  "name": ""
 },
 "nbformat": 3,
 "nbformat_minor": 0,
 "worksheets": [
  {
   "cells": [
    {
     "cell_type": "markdown",
     "metadata": {},
     "source": [
      "**Please fill these in before submitting, just in case I accidentally mix up file names while grading**:\n",
      "\n",
      "Name: Joe Student\n",
      "\n",
      "CWID-5: (Last 5 digits of cwid)"
     ]
    },
    {
     "cell_type": "code",
     "collapsed": false,
     "input": [
      "import numpy as np\n",
      "import pandas as pd\n",
      "import matplotlib.pyplot as plt\n",
      "from sklearn.cluster import KMeans \n",
      "pd.set_option('display.max_columns', 100)"
     ],
     "language": "python",
     "metadata": {},
     "outputs": [],
     "prompt_number": 1
    },
    {
     "cell_type": "markdown",
     "metadata": {},
     "source": [
      "Assignment 03 - Clustering and PCA\n",
      "----------------------------\n",
      "\n",
      "**Due: Wednesday 10/23/2013**\n"
     ]
    },
    {
     "cell_type": "markdown",
     "metadata": {},
     "source": [
      "The following cells I include for interest, so you can see how the data set we will work on was generated.  Here \n",
      "we have taken recent data from real live blogs, by downloading the 10 to 25 most recent posts from a list of rss/atom\n",
      "feeds.  The posts are in the form of xml and html formatted text.  The get_words() function pretty much strips\n",
      "all html tags, and removes everything except lower and uppercase alphabetic characters (that is what the second\n",
      "regular expression is doing).  All text is then converted to lowercase.\n",
      "\n",
      "The results is what is known as a \"bag of words\" in the document processing literature.  We will explore using\n",
      "a Pandas data frame and some Scikit-learn tools to convert the bag of words into what is known as a document\n",
      "term/feature matrix.\n",
      "\n",
      "So this cell contains functions to read the urls of feeds we want to analyze, get the most recent rss feed\n",
      "blog posts from the feed, and create a dictionary of the word counts of all the words in all of the blog\n",
      "posts for a given blog/feed."
     ]
    },
    {
     "cell_type": "code",
     "collapsed": false,
     "input": [
      "import urllib2\n",
      "import re\n",
      "from xml.etree import ElementTree as etree\n",
      "from bs4 import BeautifulSoup\n",
      "\n",
      "def get_words(html):\n",
      "    \"\"\"Given a string of html text, we strip out some html tags (if present), and\n",
      "    we remove all non alpha characters, and split up words based on these results.\n",
      "    Result is to return a list of the parsed/extracted words of the actual text of\n",
      "    the html document string\"\"\"\n",
      "    \n",
      "    # remove all the html tags\n",
      "    txt = re.compile(r'<[^>]+>').sub('', html)\n",
      "    \n",
      "    # split words by all non-alpha characters\n",
      "    words = re.compile(r'[^A-Z^a-z]+').split(txt)\n",
      "    \n",
      "    # convert everything to lowercase\n",
      "    return [word.lower() for word in words if word != '']\n",
      "\n",
      "def get_word_counts(url):\n",
      "    \"\"\"We expect the url of a rss/atom feed.  We find all of most recent channel/item\n",
      "    news items on the feed, and fetch the actual content of each item post.  We\n",
      "    then extract the actual text from each feed/post and count the words of the item\"\"\"\n",
      "    #print \"get_word_counts: <entered> url=\", url\n",
      "    \n",
      "    # open the rss feed summary info\n",
      "    lines = urllib2.urlopen(url).read()\n",
      "    #print \"get_word_counts: <got lines> lines=\", len(lines)\n",
      "    \n",
      "    # remove name spaces, if present, kinda kludgy, namespaces in xml seem kinda new\n",
      "    lines = re.sub(' xmlns=\"[^\"]+\"', '', lines, count=1)\n",
      "    #print \"get_word_counts: <removed namespaces> num lines now=\", len(lines)\n",
      "\n",
      "    # create xml tree data structure from the strings, this is actual structure we parse\n",
      "    tree = etree.fromstring(lines)\n",
      "    #print \"get_word_counts: <removed namespaces> after parsing xml tree\"\n",
      "    \n",
      "    # get the title\n",
      "    #title = tree.findall('channel')[0].findtext('title')\n",
      "    c = tree.findall('channel')\n",
      "    t = tree.findall('title')\n",
      "    if len(c) >= 1:\n",
      "        title = c[0].findtext('title')\n",
      "    elif len(t) >= 1:\n",
      "        title = t[0].text\n",
      "    else:\n",
      "        title = url\n",
      "    \n",
      "    # various ways blog items are labeled in some rss/atom/xml feeds, look for them all\n",
      "    item = tree.findall('channel/item')\n",
      "    item.extend(tree.findall('item'))\n",
      "    item.extend(tree.findall('entry'))\n",
      "    wc = {}\n",
      "    \n",
      "    # process each feed news item in the given url/feed\n",
      "    print '      ', title, ' Processing entry:',\n",
      "    for i,entry in enumerate(item):\n",
      "        print i+1,\n",
      "        \n",
      "        # find all of the feed entries that are current\n",
      "        t = entry.findtext('title')\n",
      "        d = entry.findtext('description')\n",
      "        #print \"TITLE:\",t[:10], \"DESCRIPTION:\",d[:10],\n",
      "        link = entry.findtext('link')\n",
      "        #print \"LINK:\", link\n",
      "        \n",
      "        # get actual content of each item, this is another http fetch\n",
      "        c = urllib2.urlopen(link).read()\n",
      "        soup = BeautifulSoup(c)\n",
      "        #print \"CONTENT:\",soup.get_text()[:20]\n",
      "        words = get_words(t + d + soup.title.contents[0] + soup.get_text())\n",
      "        \n",
      "        # extract list of words\n",
      "        for word in words:\n",
      "            wc.setdefault(word, 0)\n",
      "            wc[word] += 1\n",
      "        \n",
      "    print ''\n",
      "    return title, wc\n",
      "\n",
      "def parse_feeds(filename):\n",
      "    \"\"\"Parse a list of rss/atom feed urls.  We get all of the current posts from each feed, and extract\n",
      "    word count lists from the posts.  We return a dictionary where the key is the blog title, and the\n",
      "    value is a dictionary of the word counts for that blog\"\"\"\n",
      "    \n",
      "    feedlist = [line for line in file(filename)]\n",
      "    wordcounts = {}\n",
      "    print 'Parsing Feeds:'\n",
      "    for feedurl in feedlist:\n",
      "        print '   Feed: ', feedurl[:-1]\n",
      "        try:\n",
      "            title, wc = get_word_counts(feedurl)\n",
      "            wordcounts[title] = wc\n",
      "        except:\n",
      "            print '    ERROR: couldnt parse:', feedurl\n",
      "    return wordcounts"
     ],
     "language": "python",
     "metadata": {},
     "outputs": []
    },
    {
     "cell_type": "markdown",
     "metadata": {},
     "source": [
      "And here we actually run the data gathering and preprocessing step.  The result is a python data structure, a dictionary of\n",
      "dictionaries.  The keys of the top level dictionary are the title of the blog/feed.  The value is a dictionary that contains\n",
      "words as keys, and a count of the number of time each word appeard in the blog posts that were gathered for that feed.\n",
      "\n",
      "We save the results of ths gathering and preprocessing into a python pickle file, which is just a binary save of the \n",
      "dictionary we created.  You can go directly to the cell to load this file and begin analyzing it."
     ]
    },
    {
     "cell_type": "code",
     "collapsed": false,
     "input": [
      "wc = parse_feeds('data/feedlist.txt')\n"
     ],
     "language": "python",
     "metadata": {},
     "outputs": []
    },
    {
     "cell_type": "code",
     "collapsed": false,
     "input": [
      "import pickle\n",
      "out_file = open('../data/assg03-wcdict.pkl', 'wb')\n",
      "pickle.dump(wc, out_file)\n",
      "out_file.close()\n"
     ],
     "language": "python",
     "metadata": {},
     "outputs": []
    },
    {
     "cell_type": "markdown",
     "metadata": {},
     "source": [
      "Begin work here.  Reload the word count dictionary from the saved pickle file that is in the data directory of your repository."
     ]
    },
    {
     "cell_type": "code",
     "collapsed": false,
     "input": [
      "import pickle\n",
      "pkl_file = open('data/assg03-wcdict.pkl', 'rb')\n",
      "wc = pickle.load(pkl_file)\n",
      "pkl_file.close()\n",
      "print len(wc)\n",
      "print wc.keys()"
     ],
     "language": "python",
     "metadata": {},
     "outputs": [
      {
       "output_type": "stream",
       "stream": "stdout",
       "text": [
        "65\n",
        "[\"The Superficial - Because You're Ugly\", 'Search Engine Roundtable', 'Copyblogger', \"John Battelle's Search Blog\", 'Bloggers Blog', 'SimpleBits', 'Publishing 2.0', 'Topix Blog', 'Eschaton', 'ShoeMoney', 'Mashable', 'Slashdot', 'Matt Cutts: Gadgets, Google, and SEO', 'Gothamist', 'Instapundit', 'http://www.schneier.com/blog/index.rdf\\r\\n', 'Techdirt.', 'Little Green Footballs', 'NewsBusters - Exposing Liberal Media Bias', 'http://www.hyperorg.com/blogger/index.rdf\\r\\n', \"Neil Gaiman's Journal\", '456 Berea Street', 'Signal vs. Noise', 'Joel on Software', 'http://radar.oreilly.com/index.rdf\\r\\n', 'flagrantdisregard', 'Pharyngula', 'Online Marketing Report', 'Kotaku', 'Scobleizer', 'Boing Boing', 'Joystiq', 'Derek Powazek', 'Download Squad', \"Jeremy Zawodny's blog\", '@ProBlogger', \"Captain's Quarters\", 'ThinkProgress', 'blog maverick', 'gapingvoid: \"cartoons drawn on the back of business cards\"', u'Headlines \\xbb Investigative', 'PerezHilton', 'Go Fug Yourself', '43 Folders', 'Autoblog', 'Daily Kos', 'Google Blogoscoped', 'Deadspin', 'The Dish', 'plasticbag.org', 'Gawker', 'MetaFilter', 'ReadWrite', 'Lifehack', 'Lifehacker', 'Quick Online Tips', 'Crooks and Liars', 'TechCrunch', 'Gizmodo', 'TUAW - The Unofficial Apple Weblog', \"Steve Pavlina's Personal Development Blog\", 'TMZ.com', 'Michelle Malkin', 'Wired Top Stories', 'http://www.tbray.org/ongoing/ongoing.rss\\r\\n']\n"
       ]
      }
     ],
     "prompt_number": 2
    },
    {
     "cell_type": "markdown",
     "metadata": {},
     "source": [
      "A dictionary of dictionaries can be used to load data directly into a Pandas DataFrame object.  Each dictionary is expected\n",
      "to form a column, whose title/index is the key of the dictionary.  The nested dictionary for each column is used to define the\n",
      "rows.  So each word will end up being a row. The result should be a DataFrame with the blog/feed titles as the columns, \n",
      "and 1 row for each unique word we gathered from any blog post.\n",
      "\n",
      "In the next cell, load the wc dictionary into a Pandas DataFrame as described.  Make sure you specify that NaN values should\n",
      "be set to 0 for the data frame.  Call your DataFrame blogs\n"
     ]
    },
    {
     "cell_type": "code",
     "collapsed": false,
     "input": [
      "# create DataFrame from wc here, call it blogs"
     ],
     "language": "python",
     "metadata": {},
     "outputs": [],
     "prompt_number": 18
    },
    {
     "cell_type": "code",
     "collapsed": false,
     "input": [
      "print blogs"
     ],
     "language": "python",
     "metadata": {},
     "outputs": [
      {
       "output_type": "stream",
       "stream": "stdout",
       "text": [
        "<class 'pandas.core.frame.DataFrame'>\n",
        "Index: 55689 entries, ^ to zzzzzzzzzzzzzz\n",
        "Data columns:\n",
        "43 Folders                                                    3460  non-null values\n",
        "456 Berea Street                                              1345  non-null values\n",
        "@ProBlogger                                                   5697  non-null values\n",
        "Autoblog                                                      3975  non-null values\n",
        "Bloggers Blog                                                 1040  non-null values\n",
        "Boing Boing                                                   1348  non-null values\n",
        "Captain's Quarters                                            7599  non-null values\n",
        "Copyblogger                                                   5163  non-null values\n",
        "Crooks and Liars                                              2037  non-null values\n",
        "Daily Kos                                                     20144  non-null values\n",
        "Deadspin                                                      1887  non-null values\n",
        "Derek Powazek                                                 1477  non-null values\n",
        "Download Squad                                                2484  non-null values\n",
        "Eschaton                                                      989  non-null values\n",
        "Gawker                                                        2775  non-null values\n",
        "Gizmodo                                                       2631  non-null values\n",
        "Go Fug Yourself                                               3039  non-null values\n",
        "Google Blogoscoped                                            1186  non-null values\n",
        "Gothamist                                                     3032  non-null values\n",
        "Headlines \u00bb Investigative                                     1796  non-null values\n",
        "Instapundit                                                   1988  non-null values\n",
        "Jeremy Zawodny's blog                                         2526  non-null values\n",
        "Joel on Software                                              1469  non-null values\n",
        "John Battelle's Search Blog                                   2465  non-null values\n",
        "Joystiq                                                       3688  non-null values\n",
        "Kotaku                                                        2822  non-null values\n",
        "Lifehack                                                      3086  non-null values\n",
        "Lifehacker                                                    2686  non-null values\n",
        "Little Green Footballs                                        2939  non-null values\n",
        "Mashable                                                      3628  non-null values\n",
        "Matt Cutts: Gadgets, Google, and SEO                          4458  non-null values\n",
        "MetaFilter                                                    6472  non-null values\n",
        "Michelle Malkin                                               2698  non-null values\n",
        "Neil Gaiman's Journal                                         3951  non-null values\n",
        "NewsBusters - Exposing Liberal Media Bias                     784  non-null values\n",
        "Online Marketing Report                                       1669  non-null values\n",
        "PerezHilton                                                   1873  non-null values\n",
        "Pharyngula                                                    2475  non-null values\n",
        "Publishing 2.0                                                6963  non-null values\n",
        "Quick Online Tips                                             1637  non-null values\n",
        "ReadWrite                                                     4017  non-null values\n",
        "Scobleizer                                                    833  non-null values\n",
        "Search Engine Roundtable                                      1518  non-null values\n",
        "ShoeMoney                                                     1797  non-null values\n",
        "Signal vs. Noise                                              3268  non-null values\n",
        "SimpleBits                                                    1140  non-null values\n",
        "Slashdot                                                      10101  non-null values\n",
        "Steve Pavlina's Personal Development Blog                     2974  non-null values\n",
        "TMZ.com                                                       3226  non-null values\n",
        "TUAW - The Unofficial Apple Weblog                            3884  non-null values\n",
        "TechCrunch                                                    4515  non-null values\n",
        "Techdirt.                                                     7655  non-null values\n",
        "The Dish                                                      4397  non-null values\n",
        "The Superficial - Because You're Ugly                         6838  non-null values\n",
        "ThinkProgress                                                 2680  non-null values\n",
        "Topix Blog                                                    1133  non-null values\n",
        "Wired Top Stories                                             5171  non-null values\n",
        "blog maverick                                                 7911  non-null values\n",
        "flagrantdisregard                                             703  non-null values\n",
        "gapingvoid: \"cartoons drawn on the back of business cards\"    1792  non-null values\n",
        "http://radar.oreilly.com/index.rdf\r\n",
        "                          0  non-null values\n",
        "http://www.hyperorg.com/blogger/index.rdf\r\n",
        "                   0  non-null values\n",
        "http://www.schneier.com/blog/index.rdf\r\n",
        "                      0  non-null values\n",
        "http://www.tbray.org/ongoing/ongoing.rss\r\n",
        "                    0  non-null values\n",
        "plasticbag.org                                                1709  non-null values\n",
        "dtypes: float64(65)\n"
       ]
      }
     ],
     "prompt_number": 19
    },
    {
     "cell_type": "raw",
     "metadata": {},
     "source": [
      "The result should look like the following:\n",
      "\n",
      ">>> print blogs\n",
      "\n",
      "<class 'pandas.core.frame.DataFrame'>\n",
      "Index: 55689 entries, ^ to zzzzzzzzzzzzzz\n",
      "Data columns:\n",
      "43 Folders                                                    3460  non-null values\n",
      "456 Berea Street                                              1345  non-null values\n",
      "@ProBlogger                                                   5697  non-null values\n",
      "Autoblog                                                      3975  non-null values\n",
      "Bloggers Blog                                                 1040  non-null values\n",
      "Boing Boing                                                   1348  non-null values\n",
      "Captain's Quarters                                            7599  non-null values\n",
      "Copyblogger                                                   5163  non-null values\n",
      "Crooks and Liars                                              2037  non-null values\n",
      "Daily Kos                                                     20144  non-null values\n",
      "Deadspin                                                      1887  non-null values\n",
      "Derek Powazek                                                 1477  non-null values\n",
      "Download Squad                                                2484  non-null values\n",
      "Eschaton                                                      989  non-null values\n",
      "Gawker                                                        2775  non-null values\n",
      "Gizmodo                                                       2631  non-null values\n",
      "Go Fug Yourself                                               3039  non-null values\n",
      "Google Blogoscoped                                            1186  non-null values\n",
      "Gothamist                                                     3032  non-null values\n",
      "Headlines \u00bb Investigative                                     1796  non-null values\n",
      "Instapundit                                                   1988  non-null values\n",
      "Jeremy Zawodny's blog                                         2526  non-null values\n",
      "Joel on Software                                              1469  non-null values\n",
      "John Battelle's Search Blog                                   2465  non-null values\n",
      "Joystiq                                                       3688  non-null values\n",
      "Kotaku                                                        2822  non-null values\n",
      "Lifehack                                                      3086  non-null values\n",
      "Lifehacker                                                    2686  non-null values\n",
      "Little Green Footballs                                        2939  non-null values\n",
      "Mashable                                                      3628  non-null values\n",
      "Matt Cutts: Gadgets, Google, and SEO                          4458  non-null values\n",
      "MetaFilter                                                    6472  non-null values\n",
      "Michelle Malkin                                               2698  non-null values\n",
      "Neil Gaiman's Journal                                         3951  non-null values\n",
      "NewsBusters - Exposing Liberal Media Bias                     784  non-null values\n",
      "Online Marketing Report                                       1669  non-null values\n",
      "PerezHilton                                                   1873  non-null values\n",
      "Pharyngula                                                    2475  non-null values\n",
      "Publishing 2.0                                                6963  non-null values\n",
      "Quick Online Tips                                             1637  non-null values\n",
      "ReadWrite                                                     4017  non-null values\n",
      "Scobleizer                                                    833  non-null values\n",
      "Search Engine Roundtable                                      1518  non-null values\n",
      "ShoeMoney                                                     1797  non-null values\n",
      "Signal vs. Noise                                              3268  non-null values\n",
      "SimpleBits                                                    1140  non-null values\n",
      "Slashdot                                                      10101  non-null values\n",
      "Steve Pavlina's Personal Development Blog                     2974  non-null values\n",
      "TMZ.com                                                       3226  non-null values\n",
      "TUAW - The Unofficial Apple Weblog                            3884  non-null values\n",
      "TechCrunch                                                    4515  non-null values\n",
      "Techdirt.                                                     7655  non-null values\n",
      "The Dish                                                      4397  non-null values\n",
      "The Superficial - Because You're Ugly                         6838  non-null values\n",
      "ThinkProgress                                                 2680  non-null values\n",
      "Topix Blog                                                    1133  non-null values\n",
      "Wired Top Stories                                             5171  non-null values\n",
      "blog maverick                                                 7911  non-null values\n",
      "flagrantdisregard                                             703  non-null values\n",
      "gapingvoid: \"cartoons drawn on the back of business cards\"    1792  non-null values\n",
      "http://radar.oreilly.com/index.rdf\n",
      "                          0  non-null values\n",
      "http://www.hyperorg.com/blogger/index.rdf\n",
      "                   0  non-null values\n",
      "http://www.schneier.com/blog/index.rdf\n",
      "                      0  non-null values\n",
      "http://www.tbray.org/ongoing/ongoing.rss\n",
      "                    0  non-null values\n",
      "plasticbag.org                                                1709  non-null values\n",
      "dtypes: float64(65)\n",
      "\n",
      "Unfortunately, for most machine learning algorithms, we need the data items to be the rows, and the features or measured\n",
      "variables to be the columns.  Our resulting DataFrame is the opposite.  However, we can easily Transpose the DataFrame.\n",
      "\n",
      "In the next cell, Transpose the DataFrame, and save the result back into the variable name blogs:"
     ]
    },
    {
     "cell_type": "code",
     "collapsed": false,
     "input": [
      "# transpose data frame here so we have blog/feeds as the rows or entries, and word counts as our columns or features"
     ],
     "language": "python",
     "metadata": {},
     "outputs": [],
     "prompt_number": 20
    },
    {
     "cell_type": "code",
     "collapsed": false,
     "input": [
      "print blogs"
     ],
     "language": "python",
     "metadata": {},
     "outputs": [
      {
       "output_type": "stream",
       "stream": "stdout",
       "text": [
        "<class 'pandas.core.frame.DataFrame'>\n",
        "Index: 65 entries, 43 Folders to plasticbag.org\n",
        "Columns: 55689 entries, ^ to zzzzzzzzzzzzzz\n",
        "dtypes: float64(55689)\n"
       ]
      }
     ],
     "prompt_number": 21
    },
    {
     "cell_type": "raw",
     "metadata": {},
     "source": [
      "The result should look like the following:\n",
      "\n",
      ">>> print blogs\n",
      "<class 'pandas.core.frame.DataFrame'>\n",
      "Index: 65 entries, 43 Folders to plasticbag.org\n",
      "Columns: 55689 entries, ^ to zzzzzzzzzzzzzz\n",
      "dtypes: float64(55689)\n",
      "    \n",
      "Now our DataFrame has 65 rows (entries) whose index is the title/name of the rss/atom blog feed.  If you used the word\n",
      "counts dictionary from the repository, there were a total of over 55k words, which are now the columns.  We can sample\n",
      "a bit of the data like this:\n",
      "\n"
     ]
    },
    {
     "cell_type": "code",
     "collapsed": false,
     "input": [
      "blogs.ix[:5, ['a', 'and', 'the', 'google']]"
     ],
     "language": "python",
     "metadata": {},
     "outputs": [
      {
       "html": [
        "<div style=\"max-height:1000px;max-width:1500px;overflow:auto;\">\n",
        "<table border=\"1\" class=\"dataframe\">\n",
        "  <thead>\n",
        "    <tr style=\"text-align: right;\">\n",
        "      <th></th>\n",
        "      <th>a</th>\n",
        "      <th>and</th>\n",
        "      <th>the</th>\n",
        "      <th>google</th>\n",
        "    </tr>\n",
        "  </thead>\n",
        "  <tbody>\n",
        "    <tr>\n",
        "      <th>43 Folders</th>\n",
        "      <td>  921</td>\n",
        "      <td> 1155</td>\n",
        "      <td> 1442</td>\n",
        "      <td>  4</td>\n",
        "    </tr>\n",
        "    <tr>\n",
        "      <th>456 Berea Street</th>\n",
        "      <td>  251</td>\n",
        "      <td>  173</td>\n",
        "      <td>  575</td>\n",
        "      <td> 82</td>\n",
        "    </tr>\n",
        "    <tr>\n",
        "      <th>@ProBlogger</th>\n",
        "      <td> 1792</td>\n",
        "      <td> 1660</td>\n",
        "      <td> 2117</td>\n",
        "      <td> 91</td>\n",
        "    </tr>\n",
        "    <tr>\n",
        "      <th>Autoblog</th>\n",
        "      <td>  758</td>\n",
        "      <td>  529</td>\n",
        "      <td> 1641</td>\n",
        "      <td> 33</td>\n",
        "    </tr>\n",
        "    <tr>\n",
        "      <th>Bloggers Blog</th>\n",
        "      <td>   76</td>\n",
        "      <td>   74</td>\n",
        "      <td>  178</td>\n",
        "      <td> 53</td>\n",
        "    </tr>\n",
        "  </tbody>\n",
        "</table>\n",
        "</div>"
       ],
       "metadata": {},
       "output_type": "pyout",
       "prompt_number": 22,
       "text": [
        "                     a   and   the  google\n",
        "43 Folders         921  1155  1442       4\n",
        "456 Berea Street   251   173   575      82\n",
        "@ProBlogger       1792  1660  2117      91\n",
        "Autoblog           758   529  1641      33\n",
        "Bloggers Blog       76    74   178      53"
       ]
      }
     ],
     "prompt_number": 22
    },
    {
     "cell_type": "code",
     "collapsed": false,
     "input": [
      "blogs.ix[:5, 25000:25010]"
     ],
     "language": "python",
     "metadata": {},
     "outputs": [
      {
       "html": [
        "<div style=\"max-height:1000px;max-width:1500px;overflow:auto;\">\n",
        "<table border=\"1\" class=\"dataframe\">\n",
        "  <thead>\n",
        "    <tr style=\"text-align: right;\">\n",
        "      <th></th>\n",
        "      <th>jarom</th>\n",
        "      <th>jarring</th>\n",
        "      <th>jarringly</th>\n",
        "      <th>jarrod</th>\n",
        "      <th>jars</th>\n",
        "      <th>jarvis</th>\n",
        "      <th>jasan</th>\n",
        "      <th>jasleen</th>\n",
        "      <th>jasmin</th>\n",
        "      <th>jasmine</th>\n",
        "    </tr>\n",
        "  </thead>\n",
        "  <tbody>\n",
        "    <tr>\n",
        "      <th>43 Folders</th>\n",
        "      <td>NaN</td>\n",
        "      <td>NaN</td>\n",
        "      <td>NaN</td>\n",
        "      <td>NaN</td>\n",
        "      <td>NaN</td>\n",
        "      <td>NaN</td>\n",
        "      <td>NaN</td>\n",
        "      <td>NaN</td>\n",
        "      <td>NaN</td>\n",
        "      <td>NaN</td>\n",
        "    </tr>\n",
        "    <tr>\n",
        "      <th>456 Berea Street</th>\n",
        "      <td>NaN</td>\n",
        "      <td>NaN</td>\n",
        "      <td>NaN</td>\n",
        "      <td>NaN</td>\n",
        "      <td>NaN</td>\n",
        "      <td>NaN</td>\n",
        "      <td>NaN</td>\n",
        "      <td>NaN</td>\n",
        "      <td>NaN</td>\n",
        "      <td>NaN</td>\n",
        "    </tr>\n",
        "    <tr>\n",
        "      <th>@ProBlogger</th>\n",
        "      <td>NaN</td>\n",
        "      <td>NaN</td>\n",
        "      <td>NaN</td>\n",
        "      <td>NaN</td>\n",
        "      <td>NaN</td>\n",
        "      <td>NaN</td>\n",
        "      <td>NaN</td>\n",
        "      <td>NaN</td>\n",
        "      <td>  1</td>\n",
        "      <td>NaN</td>\n",
        "    </tr>\n",
        "    <tr>\n",
        "      <th>Autoblog</th>\n",
        "      <td>NaN</td>\n",
        "      <td>NaN</td>\n",
        "      <td>NaN</td>\n",
        "      <td>NaN</td>\n",
        "      <td>NaN</td>\n",
        "      <td>NaN</td>\n",
        "      <td>NaN</td>\n",
        "      <td>NaN</td>\n",
        "      <td>NaN</td>\n",
        "      <td>NaN</td>\n",
        "    </tr>\n",
        "    <tr>\n",
        "      <th>Bloggers Blog</th>\n",
        "      <td>NaN</td>\n",
        "      <td>NaN</td>\n",
        "      <td>NaN</td>\n",
        "      <td>NaN</td>\n",
        "      <td>NaN</td>\n",
        "      <td>NaN</td>\n",
        "      <td>NaN</td>\n",
        "      <td>NaN</td>\n",
        "      <td>NaN</td>\n",
        "      <td>NaN</td>\n",
        "    </tr>\n",
        "  </tbody>\n",
        "</table>\n",
        "</div>"
       ],
       "metadata": {},
       "output_type": "pyout",
       "prompt_number": 23,
       "text": [
        "                  jarom  jarring  jarringly  jarrod  jars  jarvis  jasan  jasleen  \\\n",
        "43 Folders          NaN      NaN        NaN     NaN   NaN     NaN    NaN      NaN   \n",
        "456 Berea Street    NaN      NaN        NaN     NaN   NaN     NaN    NaN      NaN   \n",
        "@ProBlogger         NaN      NaN        NaN     NaN   NaN     NaN    NaN      NaN   \n",
        "Autoblog            NaN      NaN        NaN     NaN   NaN     NaN    NaN      NaN   \n",
        "Bloggers Blog       NaN      NaN        NaN     NaN   NaN     NaN    NaN      NaN   \n",
        "\n",
        "                  jasmin  jasmine  \n",
        "43 Folders           NaN      NaN  \n",
        "456 Berea Street     NaN      NaN  \n",
        "@ProBlogger            1      NaN  \n",
        "Autoblog             NaN      NaN  \n",
        "Bloggers Blog        NaN      NaN  "
       ]
      }
     ],
     "prompt_number": 23
    },
    {
     "cell_type": "markdown",
     "metadata": {},
     "source": [
      "Here I showed the first 5 blogs in our data set.  We randomly displayed the values for words from column 25000 to 25010.\n",
      "\n",
      "Whoops, there are a lot of NaN entries.  These represent words that occurred in some blog, but for a particular blog\n",
      "the word did not occur in the data we gathered.  For example, the blog \"43 Folders\" must not have used the word\n",
      "\"jarring\" in any of the blog posts we downloaded.\n",
      "\n",
      "All of these NaN should really be 0 for our data set.  They represent word features that were present, just not\n",
      "present in the particular blog. In the following cell use a built-in method of the Pandas DataFrame to specify\n",
      "that all NaN missing values should be replaced with a 0.  After filling in, if you rerun some of the previous\n",
      "indexes, you should verify that NaN values are now 0 in the DataFrame"
     ]
    },
    {
     "cell_type": "code",
     "collapsed": false,
     "input": [
      "# cause NaN values to be filled with 0's here in our blogs DataFrame"
     ],
     "language": "python",
     "metadata": {},
     "outputs": [],
     "prompt_number": 24
    },
    {
     "cell_type": "code",
     "collapsed": false,
     "input": [
      "blogs.ix[:5, 25000:25010]"
     ],
     "language": "python",
     "metadata": {},
     "outputs": [
      {
       "html": [
        "<div style=\"max-height:1000px;max-width:1500px;overflow:auto;\">\n",
        "<table border=\"1\" class=\"dataframe\">\n",
        "  <thead>\n",
        "    <tr style=\"text-align: right;\">\n",
        "      <th></th>\n",
        "      <th>jarom</th>\n",
        "      <th>jarring</th>\n",
        "      <th>jarringly</th>\n",
        "      <th>jarrod</th>\n",
        "      <th>jars</th>\n",
        "      <th>jarvis</th>\n",
        "      <th>jasan</th>\n",
        "      <th>jasleen</th>\n",
        "      <th>jasmin</th>\n",
        "      <th>jasmine</th>\n",
        "    </tr>\n",
        "  </thead>\n",
        "  <tbody>\n",
        "    <tr>\n",
        "      <th>43 Folders</th>\n",
        "      <td> 0</td>\n",
        "      <td> 0</td>\n",
        "      <td> 0</td>\n",
        "      <td> 0</td>\n",
        "      <td> 0</td>\n",
        "      <td> 0</td>\n",
        "      <td> 0</td>\n",
        "      <td> 0</td>\n",
        "      <td> 0</td>\n",
        "      <td> 0</td>\n",
        "    </tr>\n",
        "    <tr>\n",
        "      <th>456 Berea Street</th>\n",
        "      <td> 0</td>\n",
        "      <td> 0</td>\n",
        "      <td> 0</td>\n",
        "      <td> 0</td>\n",
        "      <td> 0</td>\n",
        "      <td> 0</td>\n",
        "      <td> 0</td>\n",
        "      <td> 0</td>\n",
        "      <td> 0</td>\n",
        "      <td> 0</td>\n",
        "    </tr>\n",
        "    <tr>\n",
        "      <th>@ProBlogger</th>\n",
        "      <td> 0</td>\n",
        "      <td> 0</td>\n",
        "      <td> 0</td>\n",
        "      <td> 0</td>\n",
        "      <td> 0</td>\n",
        "      <td> 0</td>\n",
        "      <td> 0</td>\n",
        "      <td> 0</td>\n",
        "      <td> 1</td>\n",
        "      <td> 0</td>\n",
        "    </tr>\n",
        "    <tr>\n",
        "      <th>Autoblog</th>\n",
        "      <td> 0</td>\n",
        "      <td> 0</td>\n",
        "      <td> 0</td>\n",
        "      <td> 0</td>\n",
        "      <td> 0</td>\n",
        "      <td> 0</td>\n",
        "      <td> 0</td>\n",
        "      <td> 0</td>\n",
        "      <td> 0</td>\n",
        "      <td> 0</td>\n",
        "    </tr>\n",
        "    <tr>\n",
        "      <th>Bloggers Blog</th>\n",
        "      <td> 0</td>\n",
        "      <td> 0</td>\n",
        "      <td> 0</td>\n",
        "      <td> 0</td>\n",
        "      <td> 0</td>\n",
        "      <td> 0</td>\n",
        "      <td> 0</td>\n",
        "      <td> 0</td>\n",
        "      <td> 0</td>\n",
        "      <td> 0</td>\n",
        "    </tr>\n",
        "  </tbody>\n",
        "</table>\n",
        "</div>"
       ],
       "metadata": {},
       "output_type": "pyout",
       "prompt_number": 25,
       "text": [
        "                  jarom  jarring  jarringly  jarrod  jars  jarvis  jasan  jasleen  \\\n",
        "43 Folders            0        0          0       0     0       0      0        0   \n",
        "456 Berea Street      0        0          0       0     0       0      0        0   \n",
        "@ProBlogger           0        0          0       0     0       0      0        0   \n",
        "Autoblog              0        0          0       0     0       0      0        0   \n",
        "Bloggers Blog         0        0          0       0     0       0      0        0   \n",
        "\n",
        "                  jasmin  jasmine  \n",
        "43 Folders             0        0  \n",
        "456 Berea Street       0        0  \n",
        "@ProBlogger            1        0  \n",
        "Autoblog               0        0  \n",
        "Bloggers Blog          0        0  "
       ]
      }
     ],
     "prompt_number": 25
    },
    {
     "cell_type": "markdown",
     "metadata": {},
     "source": [
      "Lets do a little more preprocessing and analysis of our data before tying clustering.  We can find out how often\n",
      "a word occurred (its frequency) using the sum() method built-in to the DataFrame.  We can sum either by the columns\n",
      "or the rows using the axis= paramter of sum.  The result from sum() is a new DataFrame/Series.  For us, it would be\n",
      "useful to then sort this data, so that we can discover things about our data. \n",
      "\n",
      "For example, lets see which of our 65 blog feeds were most and least prolific in terms of word counts.  Lets get the total\n",
      "word counts of each, and sort them."
     ]
    },
    {
     "cell_type": "code",
     "collapsed": false,
     "input": [
      "blog_verbosity_sorted = blogs.sum(axis=1)\n",
      "blog_verbosity_sorted.sort()"
     ],
     "language": "python",
     "metadata": {},
     "outputs": [
      {
       "ename": "NameError",
       "evalue": "name 'blogs' is not defined",
       "output_type": "pyerr",
       "traceback": [
        "\u001b[1;31m---------------------------------------------------------------------------\u001b[0m\n\u001b[1;31mNameError\u001b[0m                                 Traceback (most recent call last)",
        "\u001b[1;32m<ipython-input-1-c7eb5c9e66d8>\u001b[0m in \u001b[0;36m<module>\u001b[1;34m()\u001b[0m\n\u001b[1;32m----> 1\u001b[1;33m \u001b[0mblog_verbosity_sorted\u001b[0m \u001b[1;33m=\u001b[0m \u001b[0mblogs\u001b[0m\u001b[1;33m.\u001b[0m\u001b[0msum\u001b[0m\u001b[1;33m(\u001b[0m\u001b[0maxis\u001b[0m\u001b[1;33m=\u001b[0m\u001b[1;36m1\u001b[0m\u001b[1;33m)\u001b[0m\u001b[1;33m\u001b[0m\u001b[0m\n\u001b[0m\u001b[0;32m      2\u001b[0m \u001b[0mblog_verbosity_sorted\u001b[0m\u001b[1;33m.\u001b[0m\u001b[0msort\u001b[0m\u001b[1;33m(\u001b[0m\u001b[1;33m)\u001b[0m\u001b[1;33m\u001b[0m\u001b[0m\n",
        "\u001b[1;31mNameError\u001b[0m: name 'blogs' is not defined"
       ]
      }
     ],
     "prompt_number": 1
    },
    {
     "cell_type": "code",
     "collapsed": false,
     "input": [
      "print blog_verbosity_sorted"
     ],
     "language": "python",
     "metadata": {},
     "outputs": [
      {
       "output_type": "stream",
       "stream": "stdout",
       "text": [
        "http://radar.oreilly.com/index.rdf\\r\\n                             0\n",
        "http://www.hyperorg.com/blogger/index.rdf\\r\\n                      0\n",
        "http://www.schneier.com/blog/index.rdf\\r\\n                         0\n",
        "http://www.tbray.org/ongoing/ongoing.rss\\r\\n                       0\n",
        "NewsBusters - Exposing Liberal Media Bias                       2054\n",
        "flagrantdisregard                                               3701\n",
        "Scobleizer                                                      4570\n",
        "SimpleBits                                                      5576\n",
        "Google Blogoscoped                                              6633\n",
        "Topix Blog                                                      8342\n",
        "Bloggers Blog                                                   8650\n",
        "plasticbag.org                                                  9180\n",
        "gapingvoid: \"cartoons drawn on the back of business cards\"     10427\n",
        "Quick Online Tips                                              11005\n",
        "ShoeMoney                                                      11160\n",
        "456 Berea Street                                               11794\n",
        "Headlines \u00bb Investigative                                      12435\n",
        "Joel on Software                                               13108\n",
        "Derek Powazek                                                  14650\n",
        "Pharyngula                                                     15759\n",
        "Search Engine Roundtable                                       16875\n",
        "Deadspin                                                       19099\n",
        "Crooks and Liars                                               20173\n",
        "Jeremy Zawodny's blog                                          21027\n",
        "Gawker                                                         21594\n",
        "Go Fug Yourself                                                21753\n",
        "John Battelle's Search Blog                                    22295\n",
        "Gizmodo                                                        22694\n",
        "Kotaku                                                         25234\n",
        "Lifehacker                                                     25355\n",
        "Joystiq                                                        25610\n",
        "Boing Boing                                                    26377\n",
        "Michelle Malkin                                                31492\n",
        "Signal vs. Noise                                               32195\n",
        "Lifehack                                                       38964\n",
        "Gothamist                                                      41735\n",
        "Matt Cutts: Gadgets, Google, and SEO                           41738\n",
        "Mashable                                                       42206\n",
        "Steve Pavlina's Personal Development Blog                      43822\n",
        "43 Folders                                                     45750\n",
        "The Dish                                                       49582\n",
        "Download Squad                                                 51837\n",
        "Copyblogger                                                    52158\n",
        "TechCrunch                                                     53840\n",
        "ReadWrite                                                      55499\n",
        "Autoblog                                                       55567\n",
        "MetaFilter                                                     56556\n",
        "Eschaton                                                       56975\n",
        "TMZ.com                                                        59732\n",
        "Wired Top Stories                                              63860\n",
        "ThinkProgress                                                  65172\n",
        "Neil Gaiman's Journal                                          65705\n",
        "Online Marketing Report                                        65765\n",
        "Little Green Footballs                                         78273\n",
        "Captain's Quarters                                             80916\n",
        "TUAW - The Unofficial Apple Weblog                             81312\n",
        "blog maverick                                                  83817\n",
        "PerezHilton                                                    87271\n",
        "Instapundit                                                    89818\n",
        "@ProBlogger                                                    92808\n",
        "The Superficial - Because You're Ugly                          97604\n",
        "Techdirt.                                                     100521\n",
        "Publishing 2.0                                                134295\n",
        "Slashdot                                                      168118\n",
        "Daily Kos                                                     459877\n",
        "Length: 65\n"
       ]
      }
     ],
     "prompt_number": 27
    },
    {
     "cell_type": "markdown",
     "metadata": {},
     "source": [
      "For my set of blog data, the \"Daily Kos\" was the most prolific, with close to approaching a half a million words in its most\n",
      "recent blog posts.  We also see there is another problem here.  Some of the blogs failed to fetch any blog posts, and so\n",
      "have word counts of 0.  Lets get rid of those items from our DataFrame as they will not produce any meaningful results."
     ]
    },
    {
     "cell_type": "code",
     "collapsed": false,
     "input": [
      "# be careful not to use a sorted index when doing manipulations like shown here, as the sorted index\n",
      "# will not correspond anymore to the index ordering of the original\n",
      "blog_verbosity = blogs.sum(axis=1)\n",
      "blogs = blogs[blog_verbosity > 0]"
     ],
     "language": "python",
     "metadata": {},
     "outputs": [],
     "prompt_number": 37
    },
    {
     "cell_type": "code",
     "collapsed": false,
     "input": [
      "print blogs"
     ],
     "language": "python",
     "metadata": {},
     "outputs": [
      {
       "output_type": "stream",
       "stream": "stdout",
       "text": [
        "<class 'pandas.core.frame.DataFrame'>\n",
        "Index: 61 entries, 43 Folders to plasticbag.org\n",
        "Columns: 55689 entries, ^ to zzzzzzzzzzzzzz\n",
        "dtypes: float64(55689)\n"
       ]
      }
     ],
     "prompt_number": 38
    },
    {
     "cell_type": "code",
     "collapsed": false,
     "input": [
      "print blogs.index"
     ],
     "language": "python",
     "metadata": {},
     "outputs": [
      {
       "output_type": "stream",
       "stream": "stdout",
       "text": [
        "Index([43 Folders, 456 Berea Street, @ProBlogger, Autoblog, Bloggers Blog, Boing Boing, Captain's Quarters, Copyblogger, Crooks and Liars, Daily Kos, Deadspin, Derek Powazek, Download Squad, Eschaton, Gawker, Gizmodo, Go Fug Yourself, Google Blogoscoped, Gothamist, Headlines \u00bb Investigative, Instapundit, Jeremy Zawodny's blog, Joel on Software, John Battelle's Search Blog, Joystiq, Kotaku, Lifehack, Lifehacker, Little Green Footballs, Mashable, Matt Cutts: Gadgets, Google, and SEO, MetaFilter, Michelle Malkin, Neil Gaiman's Journal, NewsBusters - Exposing Liberal Media Bias, Online Marketing Report, PerezHilton, Pharyngula, Publishing 2.0, Quick Online Tips, ReadWrite, Scobleizer, Search Engine Roundtable, ShoeMoney, Signal vs. Noise, SimpleBits, Slashdot, Steve Pavlina's Personal Development Blog, TMZ.com, TUAW - The Unofficial Apple Weblog, TechCrunch, Techdirt., The Dish, The Superficial - Because You're Ugly, ThinkProgress, Topix Blog, Wired Top Stories, blog maverick, flagrantdisregard, gapingvoid: \"cartoons drawn on the back of business cards\", plasticbag.org], dtype=object)\n"
       ]
      }
     ],
     "prompt_number": 39
    },
    {
     "cell_type": "markdown",
     "metadata": {},
     "source": [
      "In the next cell, perform a similar analysis on the columns/word features.  Sum up the word counts for each word and sort them.\n",
      "The result will be a word frequency table for our blog posts, from the most frequent word to the least frequent ones.  Call \n",
      "this variable blog_words, it should contain the sorted frequency of the words in our data set."
     ]
    },
    {
     "cell_type": "code",
     "collapsed": false,
     "input": [
      "# create a blog_words_sorted index here, so we can examine the column feature properties"
     ],
     "language": "python",
     "metadata": {},
     "outputs": [],
     "prompt_number": 40
    },
    {
     "cell_type": "markdown",
     "metadata": {},
     "source": [
      "Unfortunately, in version 10 of Pandas, which is what I have and what I suspect most of you will be using \n",
      "(check with pd.version.version), there doesn't yet appear to be an option for sort to specify you want to sort\n",
      "in descending rather than ascending order.  So for me, the previous sorts end up with the least frequent\n",
      "item with rank/index 0, up to the most frequent one with the highest rank.  \n",
      "\n",
      "So for example, if we want to see the 10 most frequent words, we have to look at the last 10 words in our\n",
      "sorted word list:"
     ]
    },
    {
     "cell_type": "code",
     "collapsed": false,
     "input": [
      "blog_words_sorted[-10:]"
     ],
     "language": "python",
     "metadata": {},
     "outputs": [
      {
       "metadata": {},
       "output_type": "pyout",
       "prompt_number": 41,
       "text": [
        "that    23496\n",
        "on      23672\n",
        "i       28525\n",
        "in      28707\n",
        "s       31953\n",
        "of      38482\n",
        "and     39736\n",
        "a       53716\n",
        "to      55039\n",
        "the     86409"
       ]
      }
     ],
     "prompt_number": 41
    },
    {
     "cell_type": "markdown",
     "metadata": {},
     "source": [
      "Likewise, to see the least frequent words, look at the beginning of the list:"
     ]
    },
    {
     "cell_type": "code",
     "collapsed": false,
     "input": [
      "blog_words_sorted[:10]"
     ],
     "language": "python",
     "metadata": {},
     "outputs": [
      {
       "metadata": {},
       "output_type": "pyout",
       "prompt_number": 42,
       "text": [
        "^^                1\n",
        "^^^^^^^^^^^^^^    1\n",
        "^^^this           1\n",
        "^^^this^^^        1\n",
        "^^^what           1\n",
        "^ing              1\n",
        "^sh               1\n",
        "^this             1\n",
        "aaaaaaargh        1\n",
        "aaaaaaggggh       1"
       ]
      }
     ],
     "prompt_number": 42
    },
    {
     "cell_type": "markdown",
     "metadata": {},
     "source": [
      "Aside: Zipfs Law\n",
      "----------------\n",
      "\n",
      "This discussion represents a little side detour.\n",
      "\n",
      "\n",
      "If you've never heard of [Zipf's law](http://en.wikipedia.org/wiki/Zipf's_law), we should have an example of how it works\n",
      "with our blog word data, which is a corpus of english natural language usage.  \n",
      "Zipf formulated an empirical law defining the probability distribution of words in a natural language corpus.  He noticed\n",
      "that the frequency of any word is inversely proportional to its rank in the frequency table.  In english, this means \n",
      "that the most frequent word will occur approximately twice as often as the second most frequent, three times as \n",
      "frequently as the third most frequent, etc.  Mathematically, if $k$ is the rank of the word, and $f$ is its frequency,\n",
      "we should see:\n",
      "\n",
      "$f(k) \\approx \\frac{1}{k} f(1)$\n",
      "\n",
      "This is only an approximation to observed frequency distributions, and a particular corpus will vary.  Lets plot \n",
      "the rank of a word on the x axis (independent measure) by each words frequency on the y axis (dependent measure).\n",
      "Since this is a $1/f$ relationship, the function is nonlinear, and we will need a loglog() plot to see the function\n",
      "relationship."
     ]
    },
    {
     "cell_type": "code",
     "collapsed": false,
     "input": [
      "# newer versions 0.12 of pandas have ability to sort descending, in 0.10, which I'm using, I had to pull out\n",
      "# into a list and reverse the list\n",
      "l = blog_words_sorted.tolist()\n",
      "l.reverse()\n",
      "\n",
      "figure(figsize=(12,8))\n",
      "loglog(range(1,len(l)+1), l, 'o', markersize=3.0, label='blog data corpus')\n",
      "\n",
      "# for comparison I'll make an actual 1/f for our data starting with f(1) and going up to the number of words we have\n",
      "f1 = l[0]\n",
      "num_ranks = len(l)\n",
      "f = [f1]\n",
      "for k in range(2, num_ranks):\n",
      "    f_k = 1./float(k) * f1\n",
      "    f.append(f_k)\n",
      "loglog(range(1, len(f)+1), f, 'k--', label='$1/f$ function')\n",
      "\n",
      "xlabel('Rank (k) of word')\n",
      "ylabel('Frequency')\n",
      "legend()"
     ],
     "language": "python",
     "metadata": {},
     "outputs": [
      {
       "metadata": {},
       "output_type": "pyout",
       "prompt_number": 43,
       "text": [
        "<matplotlib.legend.Legend at 0x6d2a9d0>"
       ]
      },
      {
       "metadata": {},
       "output_type": "display_data",
       "png": "[encoded data removed]",
       "text": [
        "<matplotlib.figure.Figure at 0x6d36ad0>"
       ]
      }
     ],
     "prompt_number": 43
    },
    {
     "cell_type": "markdown",
     "metadata": {},
     "source": [
      "In the previous graph we see that, yes, the blog data corpus roughly conforms to the expected power law distribution.  The\n",
      "data appear to be deviating from a line in the loglog() space a bit, but roughly, especially in the middle part, it will\n",
      "map to a line with the same slope as the $1/f$ relationship."
     ]
    },
    {
     "cell_type": "markdown",
     "metadata": {},
     "source": [
      "Back to Clustering\n",
      "------------------\n",
      "\n",
      "Lets do one more small thing before we try clustering the data using KMeans.  Most of the words that only appear 0, 1 or\n",
      "even 5 times are mostly typos, garbage or other mistakes.  These will almost certainly be of no use in any\n",
      "machine learning analysis, as their occurrence in only 1 or 2 places will not tell us much about the properties\n",
      "of a particular blog.  Lets remove all words from our blogs DataFrame that occur only 5 times or less.\n",
      "\n",
      "In the following cell, do something similar to what we did to remove blogs that had 0 word count.  Remove columns from\n",
      "the blogs DataFrame that are words that only occur 5 times or less in the whole data set.  You need to use an unsorted index\n",
      "to do this properly.  Also, you will need to use blogs.ix[], since you need to specify a condition on the second\n",
      "index of the blogs DataFrame."
     ]
    },
    {
     "cell_type": "code",
     "collapsed": false,
     "input": [
      "# perform your work here to create a new blogs_trim dataframe that has removed all of the words from the\n",
      "# data set that only occur 5 times or less in all of the data we gathered."
     ],
     "language": "python",
     "metadata": {},
     "outputs": [],
     "prompt_number": 44
    },
    {
     "cell_type": "code",
     "collapsed": false,
     "input": [
      "print blogs_trim"
     ],
     "language": "python",
     "metadata": {},
     "outputs": [
      {
       "output_type": "stream",
       "stream": "stdout",
       "text": [
        "<class 'pandas.core.frame.DataFrame'>\n",
        "Index: 61 entries, 43 Folders to plasticbag.org\n",
        "Columns: 19120 entries, ^ to zz\n",
        "dtypes: float64(19120)\n"
       ]
      }
     ],
     "prompt_number": 45
    },
    {
     "cell_type": "raw",
     "metadata": {},
     "source": [
      "The result for me, using the data saved in your repository, is a reduction from over 55k words, to only 19120 words:\n",
      "\n",
      ">>> print blogs_trim\n",
      "<class 'pandas.core.frame.DataFrame'>\n",
      "Index: 61 entries, 43 Folders to plasticbag.org\n",
      "Columns: 19120 entries, ^ to zz\n",
      "dtypes: float64(19120)\n",
      "\n",
      "\n",
      "There are other obvious clean ups and massaging we could now do before doing an analysis.  We may also want to remove very\n",
      "frequent words, as these will all be small filler words like 'the', 'and', 'a', etc. and will likely appear in all \n",
      "blogs and thus will not carry much information about what a blog is about (e.g. they won't be of use to use in\n",
      "classifying and clustering blog types).  We might also want to remove words that don't appear in the dictionary.\n",
      "I thought my regular expression should have removed all non-alphabetic characters, but there are still some in there\n",
      "like '^'.  There are also many strings of gibberish like 'zzzzzz', which are probably fillers or html comments or\n",
      "something like that.  In any case, again, probably only actual valid english words, like we would find in the\n",
      "dictionary, would be of the most/best use in our ML algorithms.  And finally we might want/need to normalize\n",
      "the data.  We already saw that \"The Daily Kos\" has significantly more words than other blogs in our data set.  Therefore\n",
      "the word counts for this blog will be higher, all things considered.  One type of usual normalization is to normalize\n",
      "by the document frequency.  For example, dividing all word counts in a row/blog entry by the total for that blog will\n",
      "normalize the sum of all rows to be 1.0.  We can also do the same type of normalization by the word/column features.  Here\n",
      "the idea is that frequent words can sometimes seem more significant again because of their magnituds, and thus\n",
      "confuse ML algorithms.  And we might want to even perform both of these normalizations, normalizing by document frequency\n",
      "and word frequncy, together.\n",
      "\n",
      "We will come back to some of these other preprocessing steps possibly in a bit.  But lets just see what we have now.\n",
      "The blogs data frame should be suitable to try and perform a KMeans clustering on.  The values of the DataFrame\n",
      "are basically a set of 61 data points/entries (the blogs) by N features (18322 in my example so far).  This 61x18322\n",
      "matrix is exactly the format that all of the sklearn clustering and classification algorithms need.  The results\n",
      "of KMeans should be 61 different labels, which represent the categories that were assigned for each of the\n",
      "blogs.\n",
      "\n",
      "In the following cell run KMeans from sklearn on our blogs data frame.  Try it out with 5 clusters as an initial\n",
      "set of categories to discover:"
     ]
    },
    {
     "cell_type": "code",
     "collapsed": false,
     "input": [
      "# run a KMeans clustering here on blogs_trim data."
     ],
     "language": "python",
     "metadata": {},
     "outputs": [],
     "prompt_number": 55
    },
    {
     "cell_type": "markdown",
     "metadata": {},
     "source": [
      "Here is a quick way of seeing what you got.  If you get the `labels_`, which are the categories that KMeans assigned,\n",
      "from the fitted model, you can print out the names of the blogs that were assigned to each category.  Here I\n",
      "assume that in the previous cell, we defined a variable called K which were the number of cluster KMeans\n",
      "created/discovered.  And we assigned the result of the `labels_` from the kmeans fit into a variable called\n",
      "clusters.  Lets look at what we got:"
     ]
    },
    {
     "cell_type": "code",
     "collapsed": false,
     "input": [
      "for i in range(K):\n",
      "    print \"Cluster: \", i, \" Num Items: \", len(blogs[clusters==i])\n",
      "    print \"   \", blogs[clusters==i].index.tolist()"
     ],
     "language": "python",
     "metadata": {},
     "outputs": [
      {
       "output_type": "stream",
       "stream": "stdout",
       "text": [
        "Cluster:  0  Num Items:  51\n",
        "    ['43 Folders', '456 Berea Street', 'Autoblog', 'Bloggers Blog', 'Boing Boing', 'Copyblogger', 'Crooks and Liars', 'Deadspin', 'Derek Powazek', 'Download Squad', 'Eschaton', 'Gawker', 'Gizmodo', 'Go Fug Yourself', 'Google Blogoscoped', 'Gothamist', u'Headlines \\xbb Investigative', 'Instapundit', \"Jeremy Zawodny's blog\", 'Joel on Software', \"John Battelle's Search Blog\", 'Joystiq', 'Kotaku', 'Lifehack', 'Lifehacker', 'Mashable', 'Matt Cutts: Gadgets, Google, and SEO', 'MetaFilter', 'Michelle Malkin', 'NewsBusters - Exposing Liberal Media Bias', 'Online Marketing Report', 'PerezHilton', 'Pharyngula', 'Quick Online Tips', 'ReadWrite', 'Scobleizer', 'Search Engine Roundtable', 'ShoeMoney', 'Signal vs. Noise', 'SimpleBits', \"Steve Pavlina's Personal Development Blog\", 'TMZ.com', 'TUAW - The Unofficial Apple Weblog', 'TechCrunch', 'The Dish', 'ThinkProgress', 'Topix Blog', 'Wired Top Stories', 'flagrantdisregard', 'gapingvoid: \"cartoons drawn on the back of business cards\"', 'plasticbag.org']\n",
        "Cluster:  1  Num Items:  1\n",
        "    ['Daily Kos']\n",
        "Cluster:  2  Num Items:  9\n",
        "    ['@ProBlogger', \"Captain's Quarters\", 'Little Green Footballs', \"Neil Gaiman's Journal\", 'Publishing 2.0', 'Slashdot', 'Techdirt.', \"The Superficial - Because You're Ugly\", 'blog maverick']\n"
       ]
      }
     ],
     "prompt_number": 56
    },
    {
     "cell_type": "markdown",
     "metadata": {},
     "source": [
      "For me, unfortunately, the results are not yet very good.  Often we end up with singleton clusters, clusters with only\n",
      "1 item in it, while other clusters end up with almost all of the items.  \"Daily Kos\" is often a singleton category\n",
      "indicating some normalization of the document frequency might be of use.  What we hope for, of course, are clusters\n",
      "that give us some idea of the type of content.  So we would hope to see tech blogs together, political blogs as another\n",
      "group, etc.  Try playing around the the number of clusters, K, above to see if you get better results.\n",
      "\n",
      "Lets perform 1 more trim, and give an example of normalizing, to see if we can do any better.  First in the following\n",
      "cell, remove the top 100 most frequent words from our blogs_trim DataFrame.  As we mentioned, these will be common words which\n",
      "will occur in most every blog, and will be of little value in determining the content or type of the blog.  Do this in\n",
      "the next cell (I called my result blogs_trim2).  Again you need to be careful, you need to find the frequency of the\n",
      "word we want to trim, and then create an index of the columns that are words less than that frequency."
     ]
    },
    {
     "cell_type": "code",
     "collapsed": false,
     "input": [
      "# perform a similar trimming as we did previously, but remove the 100 most frequent words.\n",
      "# call the resulting DataFrame blogs_trim2.  One strategy is to determine the frequency\n",
      "# of the 100th most common word, then do what we did before but remove all word/column features\n",
      "# with that frequency or greater."
     ],
     "language": "python",
     "metadata": {},
     "outputs": [
      {
       "output_type": "stream",
       "stream": "stdout",
       "text": [
        "3951.0\n"
       ]
      }
     ],
     "prompt_number": 66
    },
    {
     "cell_type": "code",
     "collapsed": false,
     "input": [],
     "language": "python",
     "metadata": {},
     "outputs": [],
     "prompt_number": 67
    },
    {
     "cell_type": "code",
     "collapsed": false,
     "input": [
      "print blogs_trim2"
     ],
     "language": "python",
     "metadata": {},
     "outputs": [
      {
       "output_type": "stream",
       "stream": "stdout",
       "text": [
        "<class 'pandas.core.frame.DataFrame'>\n",
        "Index: 61 entries, 43 Folders to plasticbag.org\n",
        "Columns: 19020 entries, ^ to zz\n",
        "dtypes: float64(19020)\n"
       ]
      }
     ],
     "prompt_number": 68
    },
    {
     "cell_type": "code",
     "collapsed": false,
     "input": [
      "print blogs_trim2.ix[:5, ['the']]"
     ],
     "language": "python",
     "metadata": {},
     "outputs": [
      {
       "output_type": "stream",
       "stream": "stdout",
       "text": [
        "                  the\n",
        "43 Folders        NaN\n",
        "456 Berea Street  NaN\n",
        "@ProBlogger       NaN\n",
        "Autoblog          NaN\n",
        "Bloggers Blog     NaN\n"
       ]
      }
     ],
     "prompt_number": 80
    },
    {
     "cell_type": "code",
     "collapsed": false,
     "input": [
      "blogs_trim2.columns.tolist().index('the')"
     ],
     "language": "python",
     "metadata": {},
     "outputs": [
      {
       "ename": "ValueError",
       "evalue": "'the' is not in list",
       "output_type": "pyerr",
       "traceback": [
        "\u001b[1;31m---------------------------------------------------------------------------\u001b[0m\n\u001b[1;31mValueError\u001b[0m                                Traceback (most recent call last)",
        "\u001b[1;32m<ipython-input-79-f1e4b9d5378e>\u001b[0m in \u001b[0;36m<module>\u001b[1;34m()\u001b[0m\n\u001b[1;32m----> 1\u001b[1;33m \u001b[0mblogs_trim2\u001b[0m\u001b[1;33m.\u001b[0m\u001b[0mcolumns\u001b[0m\u001b[1;33m.\u001b[0m\u001b[0mtolist\u001b[0m\u001b[1;33m(\u001b[0m\u001b[1;33m)\u001b[0m\u001b[1;33m.\u001b[0m\u001b[0mindex\u001b[0m\u001b[1;33m(\u001b[0m\u001b[1;34m'the'\u001b[0m\u001b[1;33m)\u001b[0m\u001b[1;33m\u001b[0m\u001b[0m\n\u001b[0m",
        "\u001b[1;31mValueError\u001b[0m: 'the' is not in list"
       ]
      }
     ],
     "prompt_number": 79
    },
    {
     "cell_type": "raw",
     "metadata": {},
     "source": [
      ">>> print blogs_trim2\n",
      "<class 'pandas.core.frame.DataFrame'>\n",
      "Index: 61 entries, 43 Folders to plasticbag.org\n",
      "Columns: 19020 entries, ^ to zz\n",
      "dtypes: float64(19020)\n",
      "\n",
      "Notice as a sanity check that the number of my columns has been reduced by 100, from 19120 to 19020.  We might also want to\n",
      "check that words like 'the' and 'and' no longer are part of blogs_trim2:\n",
      "\n",
      ">>> print blogs_trim2.ix[:5,['the']]\n",
      "                  the\n",
      "43 Folders        NaN\n",
      "456 Berea Street  NaN\n",
      "@ProBlogger       NaN\n",
      "Autoblog          NaN\n",
      "Bloggers Blog     NaN\n",
      "\n",
      ">>> blogs_trim2.columns.tolist().index('the')\n",
      "---------------------------------------------------------------------------\n",
      "ValueError                                Traceback (most recent call last)\n",
      "<ipython-input-79-f1e4b9d5378e> in <module>()\n",
      "----> 1 blogs_trim2.columns.tolist().index('the')\n",
      "\n",
      "ValueError: 'the' is not in list\n",
      "\n",
      "We get results NaN because this column is not present."
     ]
    },
    {
     "cell_type": "markdown",
     "metadata": {},
     "source": [
      "After removing the common words, does clustering perform anything more useful?  Try clustering again in the next cells\n",
      "with the blogs_trim2 data frame where common words have been removed."
     ]
    },
    {
     "cell_type": "code",
     "collapsed": false,
     "input": [
      "# do clustering here on blogs_trim2"
     ],
     "language": "python",
     "metadata": {},
     "outputs": [],
     "prompt_number": 85
    },
    {
     "cell_type": "code",
     "collapsed": false,
     "input": [
      "# analyze the results of the clusters here"
     ],
     "language": "python",
     "metadata": {},
     "outputs": [
      {
       "output_type": "stream",
       "stream": "stdout",
       "text": [
        "Cluster:  0  Num Items:  1\n",
        "    ['PerezHilton']\n",
        "Cluster:  1  Num Items:  57\n",
        "    ['43 Folders', '456 Berea Street', '@ProBlogger', 'Autoblog', 'Bloggers Blog', 'Boing Boing', \"Captain's Quarters\", 'Copyblogger', 'Crooks and Liars', 'Deadspin', 'Derek Powazek', 'Download Squad', 'Eschaton', 'Gawker', 'Gizmodo', 'Go Fug Yourself', 'Google Blogoscoped', 'Gothamist', u'Headlines \\xbb Investigative', 'Instapundit', \"Jeremy Zawodny's blog\", 'Joel on Software', \"John Battelle's Search Blog\", 'Joystiq', 'Kotaku', 'Lifehack', 'Lifehacker', 'Little Green Footballs', 'Mashable', 'Matt Cutts: Gadgets, Google, and SEO', 'MetaFilter', 'Michelle Malkin', \"Neil Gaiman's Journal\", 'NewsBusters - Exposing Liberal Media Bias', 'Online Marketing Report', 'Pharyngula', 'Quick Online Tips', 'ReadWrite', 'Scobleizer', 'Search Engine Roundtable', 'ShoeMoney', 'Signal vs. Noise', 'SimpleBits', \"Steve Pavlina's Personal Development Blog\", 'TMZ.com', 'TUAW - The Unofficial Apple Weblog', 'TechCrunch', 'Techdirt.', 'The Dish', \"The Superficial - Because You're Ugly\", 'ThinkProgress', 'Topix Blog', 'Wired Top Stories', 'blog maverick', 'flagrantdisregard', 'gapingvoid: \"cartoons drawn on the back of business cards\"', 'plasticbag.org']\n",
        "Cluster:  2  Num Items:  1\n",
        "    ['Daily Kos']\n",
        "Cluster:  3  Num Items:  1\n",
        "    ['Slashdot']\n",
        "Cluster:  4  Num Items:  1\n",
        "    ['Publishing 2.0']\n"
       ]
      }
     ],
     "prompt_number": 86
    },
    {
     "cell_type": "markdown",
     "metadata": {},
     "source": [
      "For me the results don't really look much improved.  Still quite a few singletons and humongous categories.\n",
      "\n",
      "As a final example, lets turn to sklearn to try and help us.  We could try doing some of the normalization by hand as\n",
      "I described previously.  As you probably can guess by now, though, sklearn has lots of library functions for\n",
      "doing preprocessing and feature extraction, including a method to perform document and feature normalization.\n",
      "\n",
      "Try using the TfidTransformer\n",
      "\n",
      "    >>> from sklearn.feature_extraction.text import TfidfTransformer\n",
      "\n",
      "This class does term-frequency and inverse document-frequency normalization.  It basically will take a document-feature\n",
      "matrix, like we have in our blogs, blogs_trim and blogs_trim2 DataFrames, and return a normalized np array.  Use this\n",
      "transformer class to normalize our blogs_trim2.  Use the resulting normalized np array in KMeans in the next cells.  \n",
      "Did it appear to help?"
     ]
    },
    {
     "cell_type": "code",
     "collapsed": false,
     "input": [
      "# transform blogs_trim2 here using TfidfTransformer to normalize data"
     ],
     "language": "python",
     "metadata": {},
     "outputs": [],
     "prompt_number": 89
    },
    {
     "cell_type": "code",
     "collapsed": false,
     "input": [
      "# perform KMeans clustering here on the normalized np array"
     ],
     "language": "python",
     "metadata": {},
     "outputs": [],
     "prompt_number": 92
    },
    {
     "cell_type": "code",
     "collapsed": false,
     "input": [
      "# and see your results here."
     ],
     "language": "python",
     "metadata": {},
     "outputs": [
      {
       "output_type": "stream",
       "stream": "stdout",
       "text": [
        "Cluster:  0  Num Items:  8\n",
        "    ['Autoblog', 'Download Squad', 'Eschaton', 'Joystiq', 'Publishing 2.0', 'Slashdot', \"Steve Pavlina's Personal Development Blog\", 'TUAW - The Unofficial Apple Weblog']\n",
        "Cluster:  1  Num Items:  7\n",
        "    ['Deadspin', 'Gawker', 'Gizmodo', 'Kotaku', 'Lifehack', 'Lifehacker', 'Mashable']\n",
        "Cluster:  2  Num Items:  18\n",
        "    ['43 Folders', '@ProBlogger', \"Captain's Quarters\", 'Copyblogger', 'Daily Kos', 'Google Blogoscoped', u'Headlines \\xbb Investigative', \"Jeremy Zawodny's blog\", 'Joel on Software', 'Little Green Footballs', 'Matt Cutts: Gadgets, Google, and SEO', 'MetaFilter', \"Neil Gaiman's Journal\", 'NewsBusters - Exposing Liberal Media Bias', 'Signal vs. Noise', 'Techdirt.', 'gapingvoid: \"cartoons drawn on the back of business cards\"', 'plasticbag.org']\n",
        "Cluster:  3  Num Items:  6\n",
        "    ['456 Berea Street', \"John Battelle's Search Blog\", 'Online Marketing Report', 'Quick Online Tips', 'SimpleBits', 'Wired Top Stories']\n",
        "Cluster:  4  Num Items:  3\n",
        "    ['Go Fug Yourself', 'Search Engine Roundtable', \"The Superficial - Because You're Ugly\"]\n",
        "Cluster:  5  Num Items:  8\n",
        "    ['Derek Powazek', 'Michelle Malkin', 'Pharyngula', 'Scobleizer', 'TechCrunch', 'The Dish', 'Topix Blog', 'blog maverick']\n",
        "Cluster:  6  Num Items:  5\n",
        "    ['Gothamist', 'ReadWrite', 'ShoeMoney', 'TMZ.com', 'flagrantdisregard']\n",
        "Cluster:  7  Num Items:  6\n",
        "    ['Bloggers Blog', 'Boing Boing', 'Crooks and Liars', 'Instapundit', 'PerezHilton', 'ThinkProgress']\n"
       ]
      }
     ],
     "prompt_number": 93
    },
    {
     "cell_type": "code",
     "collapsed": false,
     "input": [],
     "language": "python",
     "metadata": {},
     "outputs": []
    }
   ],
   "metadata": {}
  }
 ]
}