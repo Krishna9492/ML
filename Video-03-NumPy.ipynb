{
 "metadata": {
  "name": ""
 },
 "nbformat": 3,
 "nbformat_minor": 0,
 "worksheets": [
  {
   "cells": [
    {
     "cell_type": "markdown",
     "metadata": {},
     "source": [
      "NumPy Video Notebook\n",
      "--------------------\n",
      "\n",
      "Notebook to follow along with for Video lecture/lesson on NumPy concepts"
     ]
    },
    {
     "cell_type": "code",
     "collapsed": false,
     "input": [
      "import numpy as np\n",
      "import matplotlib.pyplot as plt\n",
      "np.set_printoptions(precision=4, suppress=True)"
     ],
     "language": "python",
     "metadata": {},
     "outputs": [],
     "prompt_number": 1
    },
    {
     "cell_type": "markdown",
     "metadata": {},
     "source": [
      "NumPy array/vectors are Statically Typed\n",
      "----------------------------------------\n",
      "\n",
      "Before I talk about some new stuff, I do want to emphasize a couple of important points that were made in the NumPy lecture notebook, \n",
      "that you need to make sure you understand.\n",
      "\n",
      "NumPy is a library for doing efficient numerical computation in Python.  That is its purpose.  NumPy adds a basic array/matrix data type \n",
      "to the Python language.  Unlike many of the built-in data types in Python, NumPy arrays are statically typed.  This means both that \n",
      "all values in the array must be of the same, preset type.  Also, the size of the NumPy array is statically set when it is created, it \n",
      "can neither be grown or shrunk in size. This is necessary so that array/vector operations can be performed efficiently.  "
     ]
    },
    {
     "cell_type": "markdown",
     "metadata": {},
     "source": [
      "So you may not have realized it, but NumPy arrays are statically typed.  This means that the type of values it holds is set when the array is created, and it can only hold values of that type.  NumPy does a good job of hiding this fact, for example it will happly determine what the type should be based on the values you initialize an array with."
     ]
    },
    {
     "cell_type": "code",
     "collapsed": false,
     "input": [
      "a = np.array([1.0, 2.5, 3.9])\n",
      "print a.dtype\n",
      "\n",
      "b = np.array([1, 3, 5, 7])\n",
      "print b.dtype\n",
      "\n",
      "x = np.array([3.+4j, 2.+2j])\n",
      "print x.dtype"
     ],
     "language": "python",
     "metadata": {},
     "outputs": [
      {
       "output_type": "stream",
       "stream": "stdout",
       "text": [
        "float64\n",
        "int64\n",
        "complex128\n"
       ]
      }
     ],
     "prompt_number": 10
    },
    {
     "cell_type": "markdown",
     "metadata": {},
     "source": [
      "And these types are static.  It is an error to assign a value of the wrong type into a statically typed NumPy array.  NumPy however will convert the type quietly if it can, and where it makes sense."
     ]
    },
    {
     "cell_type": "code",
     "collapsed": false,
     "input": [
      "b[3] = 4.283\n",
      "print b, b.dtype\n",
      "a[0] = 1.+3.j # a complex number"
     ],
     "language": "python",
     "metadata": {},
     "outputs": [
      {
       "ename": "TypeError",
       "evalue": "can't convert complex to float",
       "output_type": "pyerr",
       "traceback": [
        "\u001b[1;31m---------------------------------------------------------------------------\u001b[0m\n\u001b[1;31mTypeError\u001b[0m                                 Traceback (most recent call last)",
        "\u001b[1;32m<ipython-input-11-d1039b1e1005>\u001b[0m in \u001b[0;36m<module>\u001b[1;34m()\u001b[0m\n\u001b[0;32m      1\u001b[0m \u001b[0mb\u001b[0m\u001b[1;33m[\u001b[0m\u001b[1;36m3\u001b[0m\u001b[1;33m]\u001b[0m \u001b[1;33m=\u001b[0m \u001b[1;36m4.283\u001b[0m\u001b[1;33m\u001b[0m\u001b[0m\n\u001b[0;32m      2\u001b[0m \u001b[1;32mprint\u001b[0m \u001b[0mb\u001b[0m\u001b[1;33m,\u001b[0m \u001b[0mb\u001b[0m\u001b[1;33m.\u001b[0m\u001b[0mdtype\u001b[0m\u001b[1;33m\u001b[0m\u001b[0m\n\u001b[1;32m----> 3\u001b[1;33m \u001b[0ma\u001b[0m\u001b[1;33m[\u001b[0m\u001b[1;36m0\u001b[0m\u001b[1;33m]\u001b[0m \u001b[1;33m=\u001b[0m \u001b[1;36m1.\u001b[0m\u001b[1;33m+\u001b[0m\u001b[1;36m3.j\u001b[0m \u001b[1;31m# a complex number\u001b[0m\u001b[1;33m\u001b[0m\u001b[0m\n\u001b[0m",
        "\u001b[1;31mTypeError\u001b[0m: can't convert complex to float"
       ]
      },
      {
       "output_type": "stream",
       "stream": "stdout",
       "text": [
        "[1 3 5 4] int64\n"
       ]
      }
     ],
     "prompt_number": 11
    },
    {
     "cell_type": "markdown",
     "metadata": {},
     "source": [
      "The size of a NumPy array is fixed when it is created.  However, despite what I mentioned previously, there are methods available that will allow you to explicitly shrink or grow the size of a NumPy array.  Note, however, that these operations can be expensive, as they require a new contiguous block of memory to be allocated behind the scenes, and all of the data to be copied from the original array memory block to the new block.  Thus, growing a NumPy array, could potentially be a very costly operation."
     ]
    },
    {
     "cell_type": "code",
     "collapsed": false,
     "input": [
      "print a.size\n",
      "print a\n",
      "a.resize(5)\n",
      "print a.size\n",
      "print a"
     ],
     "language": "python",
     "metadata": {},
     "outputs": [
      {
       "output_type": "stream",
       "stream": "stdout",
       "text": [
        "3\n",
        "[ 1.   2.5  3.9]\n",
        "5\n",
        "[ 1.   2.5  3.9  0.   0. ]\n"
       ]
      }
     ],
     "prompt_number": 12
    },
    {
     "cell_type": "markdown",
     "metadata": {},
     "source": [
      "The default for most of the built in array generation methods (like zeroes, ones, linspace, arange, etc.) are to create 64bit floating point typed array items (as this is the most common and useful type for doing numerical computations and simulations)."
     ]
    },
    {
     "cell_type": "code",
     "collapsed": false,
     "input": [
      "c = np.linspace(-1, 1, 10)\n",
      "print c\n",
      "print c.shape\n",
      "print c.dtype\n",
      "\n",
      "y = np.arange(0, 20, 0.2)\n",
      "print y\n",
      "print y.shape\n",
      "print y.dtype"
     ],
     "language": "python",
     "metadata": {},
     "outputs": [
      {
       "output_type": "stream",
       "stream": "stdout",
       "text": [
        "[-1.     -0.7778 -0.5556 -0.3333 -0.1111  0.1111  0.3333  0.5556  0.7778\n",
        "  1.    ]\n",
        "(10,)\n",
        "float64\n",
        "[  0.    0.2   0.4   0.6   0.8   1.    1.2   1.4   1.6   1.8   2.    2.2\n",
        "   2.4   2.6   2.8   3.    3.2   3.4   3.6   3.8   4.    4.2   4.4   4.6\n",
        "   4.8   5.    5.2   5.4   5.6   5.8   6.    6.2   6.4   6.6   6.8   7.\n",
        "   7.2   7.4   7.6   7.8   8.    8.2   8.4   8.6   8.8   9.    9.2   9.4\n",
        "   9.6   9.8  10.   10.2  10.4  10.6  10.8  11.   11.2  11.4  11.6  11.8\n",
        "  12.   12.2  12.4  12.6  12.8  13.   13.2  13.4  13.6  13.8  14.   14.2\n",
        "  14.4  14.6  14.8  15.   15.2  15.4  15.6  15.8  16.   16.2  16.4  16.6\n",
        "  16.8  17.   17.2  17.4  17.6  17.8  18.   18.2  18.4  18.6  18.8  19.\n",
        "  19.2  19.4  19.6  19.8]\n",
        "(100,)\n",
        "float64\n"
       ]
      }
     ],
     "prompt_number": 15
    },
    {
     "cell_type": "markdown",
     "metadata": {},
     "source": [
      "The reason for NumPy arrays being statically typed is all about efficiency.  Efficient array/vector operations can not reasonably be implemented on dynamically changing (size and type) data structures.  Because of their fundamental nature, operations on NumPy arrays can be performed with very efficient vector/matrix algorithms (the BLAS and CBLAS libraries, for example).\n",
      "\n",
      "This means that NumPy arrays are really the  equivalent of C and Java type arrays, which are also statically typed and homogeneous. \n",
      "The built-in Python language data types, like lists, dictionaries, tuples, are not appropriate for efficient numerical \n",
      "computation.  Their purpose is to be high-level, powerful data types that help conserve software developer time (not computer processing time).\n"
     ]
    },
    {
     "cell_type": "markdown",
     "metadata": {},
     "source": [
      "Vector vs. Scalar Operations\n",
      "----------------------------\n",
      "\n",
      "It takes some practice and getting used to, but NumPy arrays are designed to be operated on using what are known as vector \n",
      "operations, of which you saw many examples in the NumPy lecture notebook.  Informally and in this context, a scalar operation means \n",
      "simply an operation that operates on a single number at a time.  So scalar operations are those performed on scalar values, \n",
      "like ints or floats:"
     ]
    },
    {
     "cell_type": "code",
     "collapsed": false,
     "input": [
      "x = 42.5\n",
      "x = 2 * x + 3\n",
      "print x,type(x)\n",
      "\n",
      "y = range(0, 5)\n",
      "print y\n",
      "for yval in y:\n",
      "    yval = 2* yval +3\n",
      "    print yval"
     ],
     "language": "python",
     "metadata": {},
     "outputs": [
      {
       "output_type": "stream",
       "stream": "stdout",
       "text": [
        "88.0 <type 'float'>\n",
        "[0, 1, 2, 3, 4]\n",
        "3\n",
        "5\n",
        "7\n",
        "9\n",
        "11\n"
       ]
      }
     ],
     "prompt_number": 17
    },
    {
     "cell_type": "markdown",
     "metadata": {},
     "source": [
      "But a vector operation works on many values (in a vector or matrix) all at once.  It is worth understanding and learning how to \n",
      "think and program using vector operations.  Matlab was the first programming environment that provided vector/matrices as \n",
      "fundamental data types, and introduced working on numerical computations using vector operations as basic operations.  Matlab \n",
      "is still a major player/system in the engineering and scientific programming domains. \n",
      "\n",
      "The NumPy vector operations work mostly the same as the original Matlab vector operations, with equivalent (but often different) \n",
      "syntax.  So it is worth learning Python NumPy vector programming, if for nothing else as it would make it easier to pick up and use a Matlab like environment (if ever needed).\n",
      "\n",
      "Here are some simple examples of vector operations, which you have seen plenty of in the NumPy lecture notebook:"
     ]
    },
    {
     "cell_type": "code",
     "collapsed": false,
     "input": [
      "c = np.linspace(-1, 1, 10)\n",
      "d = 2 * c + 3 # 2 vector operations, multiply all elements in c by 2, then add 3 to all elements\n",
      "print d"
     ],
     "language": "python",
     "metadata": {},
     "outputs": [
      {
       "output_type": "stream",
       "stream": "stdout",
       "text": [
        "[ 1.      1.4444  1.8889  2.3333  2.7778  3.2222  3.6667  4.1111  4.5556\n",
        "  5.    ]\n"
       ]
      }
     ],
     "prompt_number": 19
    },
    {
     "cell_type": "code",
     "collapsed": false,
     "input": [
      "a = np.array([1.0, 2.5, 3.9])\n",
      "a[ where(a<3) ] = -99. # fancy indexing is a vector operation, the assignment is a vector operation\n",
      "print a"
     ],
     "language": "python",
     "metadata": {},
     "outputs": [
      {
       "output_type": "stream",
       "stream": "stdout",
       "text": [
        "[-99.  -99.    3.9]\n"
       ]
      }
     ],
     "prompt_number": 20
    },
    {
     "cell_type": "markdown",
     "metadata": {},
     "source": [
      "Vectors, Arrays and Matrices (oh My)\n",
      "-----------------------------------\n",
      "\n",
      "The actual fundamental type of a NumPy array is the numpy.ndarray class."
     ]
    },
    {
     "cell_type": "code",
     "collapsed": false,
     "input": [
      "e = arange(0, 1.6, 0.2)\n",
      "print type(e)\n",
      "print e.dtype"
     ],
     "language": "python",
     "metadata": {},
     "outputs": [
      {
       "output_type": "stream",
       "stream": "stdout",
       "text": [
        "<type 'numpy.ndarray'>\n",
        "float64\n"
       ]
      }
     ],
     "prompt_number": 21
    },
    {
     "cell_type": "markdown",
     "metadata": {},
     "source": [
      "Notice that this is the type of the numpy array, not the static type of the values it can hold:"
     ]
    },
    {
     "cell_type": "code",
     "collapsed": false,
     "input": [
      "e.dtype"
     ],
     "language": "python",
     "metadata": {},
     "outputs": [
      {
       "metadata": {},
       "output_type": "pyout",
       "prompt_number": 22,
       "text": [
        "dtype('float64')"
       ]
      }
     ],
     "prompt_number": 22
    },
    {
     "cell_type": "markdown",
     "metadata": {},
     "source": [
      "The actual type that the e array holds are 64 bit floating point values.\n",
      "\n",
      "As shown in the NumPy lecture notebooks, the basic ndarray can be used to hold vectors, or 1D, 2D or many D dimensional\n",
      "arrays.  The important property is the shape of the array:"
     ]
    },
    {
     "cell_type": "code",
     "collapsed": false,
     "input": [
      "print e\n",
      "print e.shape\n",
      "print e[2]"
     ],
     "language": "python",
     "metadata": {},
     "outputs": [
      {
       "output_type": "stream",
       "stream": "stdout",
       "text": [
        "[ 0.   0.2  0.4  0.6  0.8  1.   1.2  1.4]\n",
        "(8,)\n",
        "0.4\n"
       ]
      }
     ],
     "prompt_number": 23
    },
    {
     "cell_type": "code",
     "collapsed": false,
     "input": [
      "z = ones( (3,3,3) )\n",
      "print z.shape\n",
      "print z"
     ],
     "language": "python",
     "metadata": {},
     "outputs": [
      {
       "output_type": "stream",
       "stream": "stdout",
       "text": [
        "(3, 3, 3)\n",
        "[[[ 1.  1.  1.]\n",
        "  [ 1.  1.  1.]\n",
        "  [ 1.  1.  1.]]\n",
        "\n",
        " [[ 1.  1.  1.]\n",
        "  [ 1.  1.  1.]\n",
        "  [ 1.  1.  1.]]\n",
        "\n",
        " [[ 1.  1.  1.]\n",
        "  [ 1.  1.  1.]\n",
        "  [ 1.  1.  1.]]]\n"
       ]
      }
     ],
     "prompt_number": 24
    },
    {
     "cell_type": "markdown",
     "metadata": {},
     "source": [
      "Here the e array is a 1D vector (with 8 values in it), and the z array is a 3D array (with 3 values in each of the 3 dimensions, for a total of 27 values in the array.\n",
      "\n",
      "e is actually represented as a vector, a vector is a true 1 dimensional (1D) object.  e can be reshaped into a single column or \n",
      "single row array (sometimes confusingly referred to as column vector or row vector)."
     ]
    },
    {
     "cell_type": "code",
     "collapsed": false,
     "input": [
      "e_col = e.reshape( (8,1) )\n",
      "print e_col\n",
      "print e_col.shape"
     ],
     "language": "python",
     "metadata": {},
     "outputs": [
      {
       "output_type": "stream",
       "stream": "stdout",
       "text": [
        "[[ 0. ]\n",
        " [ 0.2]\n",
        " [ 0.4]\n",
        " [ 0.6]\n",
        " [ 0.8]\n",
        " [ 1. ]\n",
        " [ 1.2]\n",
        " [ 1.4]]\n",
        "(8, 1)\n"
       ]
      }
     ],
     "prompt_number": 25
    },
    {
     "cell_type": "code",
     "collapsed": false,
     "input": [
      "e_row = e.reshape( (1, 8) )\n",
      "print e_row\n",
      "print e_row.shape"
     ],
     "language": "python",
     "metadata": {},
     "outputs": [
      {
       "output_type": "stream",
       "stream": "stdout",
       "text": [
        "[[ 0.   0.2  0.4  0.6  0.8  1.   1.2  1.4]]\n",
        "(1, 8)\n"
       ]
      }
     ],
     "prompt_number": 26
    },
    {
     "cell_type": "markdown",
     "metadata": {},
     "source": [
      "Notice the difference between a vector where shape is (8,)  and the column and row array's with shapes (8,1) and (1,8) respectively.\n",
      "\n",
      "I mention this because sometimes you will find functions that want a row or column array, and other times you may find functions that\n",
      "want a true vector.  You can use reshape to recast as necessary.\n",
      "\n",
      "The row and col arrays were 2D (2 dimensional), its just that they had only 1 row or column respectively.  The basic ndarray can be used for 3D, 4D or any number of dimensional data you need.  For example, we can also reshape the data in the e vector into a 3D dimensional\n",
      "array like this:"
     ]
    },
    {
     "cell_type": "code",
     "collapsed": false,
     "input": [
      "e_3d = e.reshape( (2,2,2) ) # 2 rows by 2 columns by 2 depths\n",
      "print e_3d\n",
      "print e_3d.shape"
     ],
     "language": "python",
     "metadata": {},
     "outputs": [
      {
       "output_type": "stream",
       "stream": "stdout",
       "text": [
        "[[[ 0.   0.2]\n",
        "  [ 0.4  0.6]]\n",
        "\n",
        " [[ 0.8  1. ]\n",
        "  [ 1.2  1.4]]]\n",
        "(2, 2, 2)\n"
       ]
      }
     ],
     "prompt_number": 27
    },
    {
     "cell_type": "markdown",
     "metadata": {},
     "source": [
      "Be Careful with Array Views\n",
      "---------------------------\n",
      "\n",
      "One important thing to be aware of, all of the arrays we created from the original e vectore are really just views into the same \n",
      "block of memory.  These views are sometimes referred to as aliases of one another.  Since these are all aliases of the same\n",
      "block of memory, changing a value in any one of them, will cause all of them to be modified:"
     ]
    },
    {
     "cell_type": "code",
     "collapsed": false,
     "input": [
      "e_row[0,6] = 4242.42  # rows and columns are always indexed starting at 0, which is different from Matlab...\n",
      "print e\n",
      "print e_col\n",
      "print e_row\n",
      "print e_3d"
     ],
     "language": "python",
     "metadata": {},
     "outputs": [
      {
       "output_type": "stream",
       "stream": "stdout",
       "text": [
        "[    0.       0.2      0.4      0.6      0.8      1.    4242.42     1.4 ]\n",
        "[[    0.  ]\n",
        " [    0.2 ]\n",
        " [    0.4 ]\n",
        " [    0.6 ]\n",
        " [    0.8 ]\n",
        " [    1.  ]\n",
        " [ 4242.42]\n",
        " [    1.4 ]]\n",
        "[[    0.       0.2      0.4      0.6      0.8      1.    4242.42     1.4 ]]\n",
        "[[[    0.       0.2 ]\n",
        "  [    0.4      0.6 ]]\n",
        "\n",
        " [[    0.8      1.  ]\n",
        "  [ 4242.42     1.4 ]]]\n"
       ]
      }
     ],
     "prompt_number": 28
    },
    {
     "cell_type": "markdown",
     "metadata": {},
     "source": [
      "Even slices into ndarray's are really just views into the original data block in memory"
     ]
    },
    {
     "cell_type": "code",
     "collapsed": false,
     "input": [
      "e_view = e[3:6]\n",
      "print e, e_view"
     ],
     "language": "python",
     "metadata": {},
     "outputs": [
      {
       "output_type": "stream",
       "stream": "stdout",
       "text": [
        "[    0.       0.2      0.4      0.6      0.8      1.    4242.42     1.4 ] [ 0.6  0.8  1. ]\n"
       ]
      }
     ],
     "prompt_number": 29
    },
    {
     "cell_type": "code",
     "collapsed": false,
     "input": [
      "e_view = e[3:6]\n",
      "print e_view\n",
      "e_view[1] = -2323.23\n",
      "print e\n",
      "print e_col\n",
      "print e_row\n",
      "print e_3d\n",
      "print e_view"
     ],
     "language": "python",
     "metadata": {},
     "outputs": [
      {
       "output_type": "stream",
       "stream": "stdout",
       "text": [
        "[ 0.6  0.8  1. ]\n",
        "[    0.       0.2      0.4      0.6  -2323.23     1.    4242.42     1.4 ]\n",
        "[[    0.  ]\n",
        " [    0.2 ]\n",
        " [    0.4 ]\n",
        " [    0.6 ]\n",
        " [-2323.23]\n",
        " [    1.  ]\n",
        " [ 4242.42]\n",
        " [    1.4 ]]\n",
        "[[    0.       0.2      0.4      0.6  -2323.23     1.    4242.42     1.4 ]]\n",
        "[[[    0.       0.2 ]\n",
        "  [    0.4      0.6 ]]\n",
        "\n",
        " [[-2323.23     1.  ]\n",
        "  [ 4242.42     1.4 ]]]\n",
        "[    0.6  -2323.23     1.  ]\n"
       ]
      }
     ],
     "prompt_number": 30
    },
    {
     "cell_type": "markdown",
     "metadata": {},
     "source": [
      "This is actually not the default behavior you see from standard Python built-in data types, like a Python list:"
     ]
    },
    {
     "cell_type": "code",
     "collapsed": false,
     "input": [
      "l = [1.1, 2.2, 3.3, 4.4]\n",
      "print l, type(l)"
     ],
     "language": "python",
     "metadata": {},
     "outputs": [
      {
       "output_type": "stream",
       "stream": "stdout",
       "text": [
        "[1.1, 2.2, 3.3, 4.4] <type 'list'>\n"
       ]
      }
     ],
     "prompt_number": 31
    },
    {
     "cell_type": "code",
     "collapsed": false,
     "input": [
      "l_view = l[1:3]\n",
      "print l_view\n",
      "l_view[0] = 4242.4242\n",
      "print l, l_view\n",
      "m = l\n",
      "m[3] = 9999\n",
      "print m, l"
     ],
     "language": "python",
     "metadata": {},
     "outputs": [
      {
       "output_type": "stream",
       "stream": "stdout",
       "text": [
        "[2.2, 3.3]\n",
        "[1.1, 2.2, 3.3, 4.4] [4242.4242, 3.3]\n",
        "[1.1, 2.2, 3.3, 9999] [1.1, 2.2, 3.3, 9999]\n"
       ]
      }
     ],
     "prompt_number": 32
    },
    {
     "cell_type": "markdown",
     "metadata": {},
     "source": [
      "So if you didn't catch that, the slice (l_view) is **NOT** an alias, changing values of l_view does not effect the original l\n",
      "list.  However, simple assignment like m = l creates an alias, so modifying m also causes the original l to be changed.  (One correllary to the above, if you really do need a copy of a standard Python list, you will often see people do this m = l[:] in order to copy the whole l as a slice).\n",
      "\n",
      "This behavior for ndarrays is done again for efficiency.  Returing aliases or views is of course very fast, you don't need to copy the actual data, just create a new data structure that refers to the data block.  But this is different from the default behavior of built-in Python data structures, as shown.  So you need to be aware of this, and sometimes if you really do need to make a copy of an ndarray you need to perform some additional steps."
     ]
    },
    {
     "cell_type": "markdown",
     "metadata": {},
     "source": [
      "Vectorizing a Function/Algorithm\n",
      "--------------------------------\n",
      "\n",
      "One last topic, lets discuss the efficiency that vector operations on numpy arrays can give us, and how to vectorize a \n",
      "function.  We will use the stockholm temperature dataset again to illustrate this."
     ]
    },
    {
     "cell_type": "code",
     "collapsed": false,
     "input": [
      "data = np.genfromtxt('data/stockholm_td_adj.dat')\n",
      "\n",
      "print data.shape\n",
      "print data[0:3,:] # print first rows "
     ],
     "language": "python",
     "metadata": {},
     "outputs": [
      {
       "output_type": "stream",
       "stream": "stdout",
       "text": [
        "(77431, 7)\n",
        "[[ 1800.      1.      1.     -6.1    -6.1    -6.1     1. ]\n",
        " [ 1800.      1.      2.    -15.4   -15.4   -15.4     1. ]\n",
        " [ 1800.      1.      3.    -15.    -15.    -15.      1. ]]\n"
       ]
      }
     ],
     "prompt_number": 33
    },
    {
     "cell_type": "markdown",
     "metadata": {},
     "source": [
      "Recall from your lecture notebooks that the stockholm data has over 77 thousand items, loaded as 77,431 rows in the data \n",
      "ndarray.  Each row as 7 columns, of which the one at index 1 contains the month when the temperature was collected, and \n",
      "columns at index 3,4,5 which record a temperature in degrees celcius for that day (we will use the temperature recorded \n",
      "in column index 3 as the temperature we work with).\n",
      "\n",
      "Recall that in the lecture, a demonstration of calculating the mean monthly temperature was performed.  Lets \n",
      "recreate that calculation using this fairly large data set, using scalar looping operations that you may be more familiar with.\n",
      "\n",
      "To get the average temperature for January, we need to find all of the rows in the data where the column 1 is equal \n",
      "to 1 (indicating the month of January).  For each of these rows, we need to get the temperature for the day and average \n",
      "all of them.  For a single month, we might do the following:"
     ]
    },
    {
     "cell_type": "code",
     "collapsed": false,
     "input": [
      "# variables we will used to calculate the average temperature\n",
      "month_sum = 0.\n",
      "month_cnt = 0\n",
      "\n",
      "for row_i in range(data.shape[0]): # iterate over the row indexes\n",
      "    if data[row_i,1] == 1: # test if this row is data for the month of January\n",
      "        month_sum += data[row_i, 3] # keep track of running sum of temperature\n",
      "        month_cnt += 1  # and keep track of number of records we find in this month, so we can compute average\n",
      "        \n",
      "avg_tmp = month_sum / month_cnt\n",
      "print \"The average temperature for January was:\", avg_tmp"
     ],
     "language": "python",
     "metadata": {},
     "outputs": [
      {
       "output_type": "stream",
       "stream": "stdout",
       "text": [
        "The average temperature for January was: -3.04476567255\n"
       ]
      }
     ],
     "prompt_number": 34
    },
    {
     "cell_type": "markdown",
     "metadata": {},
     "source": [
      "Hopefully you can follow the logic of that loop.  Here we look at all rows for records that are in the month of \n",
      "January.  We compute the average temperature by calculating a running sum and count, from which we can compute the average.\n",
      "\n",
      "To extend this to a scalar implementation that calculates the average temperature for all months is fairly \n",
      "straightforward.  We need to perform the above code not just for month==1 (January), but also for month==2,3...etc.\n",
      "\n",
      "The following function implements this approach as nested for loops.  Because we are using *for* loops to iterate \n",
      "through the rows of the array, this implementation is scalar (it has no vector operations). This function takes a \n",
      "data array with the data in the expected 1 and 3 column, and returns a list of 12 monthly average temperatures."
     ]
    },
    {
     "cell_type": "code",
     "collapsed": false,
     "input": [
      "def calc_monthly_mean_scalar(data):\n",
      "    months = arange(1,13)  \n",
      "    monthly_mean = [] # actually a standard Python List, holds the values we will return\n",
      "    \n",
      "    for month in months:\n",
      "        month_sum = 0.0\n",
      "        month_cnt = 0\n",
      "        for i in range(data.shape[0]):\n",
      "            if data[i,1] == month:\n",
      "                month_sum += data[i, 3]\n",
      "                month_cnt += 1\n",
      "        m = month_sum / month_cnt\n",
      "        monthly_mean.append(m)\n",
      "            \n",
      "    return monthly_mean"
     ],
     "language": "python",
     "metadata": {},
     "outputs": [],
     "prompt_number": 35
    },
    {
     "cell_type": "markdown",
     "metadata": {},
     "source": [
      "Lets test out our implementation.  Here we will use what is known as an iPython magic function (%timeit) in order to \n",
      "assess the performance of this function.  The %timeit magic runs the piece of code in a loop (3 passes through loop), \n",
      "and performs the loop 10 times in our example.  The details aren't important, but the result is that %timeit will give \n",
      "us some indication of how long it takes to run our implemented function."
     ]
    },
    {
     "cell_type": "code",
     "collapsed": false,
     "input": [
      "months = np.arange(1,13)\n",
      "%timeit -n3 -r10 monthly_mean = calc_monthly_mean_scalar(data)\n",
      "monthly_mean = calc_monthly_mean_scalar(data)\n",
      "\n",
      "fig = plt.figure(figsize=(12,8))\n",
      "ax = plt.gca()\n",
      "ax.bar(months, monthly_mean)\n",
      "ax.set_xticks(months+0.4)\n",
      "ax.set_xticklabels(['Jan', 'Feb', 'Mar', 'Apr', 'May', 'Jun', 'Jul', 'Aug', 'Sep', 'Oct', 'Nov', 'Dec'])\n",
      "ax.set_xlabel(\"Month\")\n",
      "ax.set_ylabel(\"Monthly avg. temp $(C^o$\")"
     ],
     "language": "python",
     "metadata": {},
     "outputs": [
      {
       "output_type": "stream",
       "stream": "stdout",
       "text": [
        "3 loops, best of 10: 407 ms per loop\n"
       ]
      },
      {
       "metadata": {},
       "output_type": "pyout",
       "prompt_number": 36,
       "text": [
        "<matplotlib.text.Text at 0x573e510>"
       ]
      },
      {
       "metadata": {},
       "output_type": "display_data",
       "png": "[encoded data removed]",
       "text": [
        "<matplotlib.figure.Figure at 0x3ac6250>"
       ]
      }
     ],
     "prompt_number": 36
    },
    {
     "cell_type": "markdown",
     "metadata": {},
     "source": [
      "The results should be the same (correct) ones that we saw previously in our lecture.  On my machine, even with these 77thousand+ \n",
      "records, the function only takes about 500ms, approximately 1/2 of a second, to complete.  This is not bad, but lets try \n",
      "reimplementing this algorithm as a vectorized function.\n",
      "\n",
      "The equivalent of the first step we took before, finding all records that belong to a particular month, can be done using \n",
      "the fancy indexing / boolean indexing trick that was discussed in the NumPy lectures.  For example, to get all records for January:"
     ]
    },
    {
     "cell_type": "code",
     "collapsed": false,
     "input": [
      "jan_bi = data[:,1] == 1 # a boolean index, all indices where column 1 == 1 will be true, all others false\n",
      "print data[jan_bi]\n",
      "print data[jan_bi].shape\n",
      "\n",
      "print 77000. /12."
     ],
     "language": "python",
     "metadata": {},
     "outputs": [
      {
       "output_type": "stream",
       "stream": "stdout",
       "text": [
        "[[ 1800.      1.      1.  ...,    -6.1    -6.1     1. ]\n",
        " [ 1800.      1.      2.  ...,   -15.4   -15.4     1. ]\n",
        " [ 1800.      1.      3.  ...,   -15.    -15.      1. ]\n",
        " ..., \n",
        " [ 2011.      1.     29.  ...,     0.2     0.2     1. ]\n",
        " [ 2011.      1.     30.  ...,    -0.8    -0.8     1. ]\n",
        " [ 2011.      1.     31.  ...,    -1.     -1.      1. ]]\n",
        "(6572, 7)\n",
        "6416.66666667\n"
       ]
      }
     ],
     "prompt_number": 37
    },
    {
     "cell_type": "markdown",
     "metadata": {},
     "source": [
      "As you should see, the above only contains rows where the month column (column 1) is == to 1 (January).\n",
      "\n",
      "What we really need is the temperature data from these records, which we can easily get by using the boolean index we just\n",
      "created, but only getting data from the 3rd column that contains the temperatures only for those selected days in January:"
     ]
    },
    {
     "cell_type": "code",
     "collapsed": false,
     "input": [
      "data[jan_bi, 3]"
     ],
     "language": "python",
     "metadata": {},
     "outputs": [
      {
       "metadata": {},
       "output_type": "pyout",
       "prompt_number": 39,
       "text": [
        "array([ -6.1, -15.4, -15. , ...,   1. ,   0. ,  -0.2])"
       ]
      }
     ],
     "prompt_number": 39
    },
    {
     "cell_type": "markdown",
     "metadata": {},
     "source": [
      "The result now is simply all of the temperatures  (in degree celcius) recorded for records in the month of January.\n",
      "\n",
      "We could get the mean of these values as we did before (e.g. an explicit scalar loop to sum up the temperatures then\n",
      "calculate the average), but we will instead use NumPy's vectorized implementation of mean.  The mean() function in the NumPy\n",
      "library expects a vector as input, and it efficiently calculates the mean of all of the values in the vector:"
     ]
    },
    {
     "cell_type": "code",
     "collapsed": false,
     "input": [
      "print np.mean(data[jan_bi, 3])\n",
      "%timeit np.mean(data[jan_bi, 3])"
     ],
     "language": "python",
     "metadata": {},
     "outputs": [
      {
       "output_type": "stream",
       "stream": "stdout",
       "text": [
        "-3.04476567255\n",
        "1000 loops, best of 3: 729 \u00b5s per loop"
       ]
      },
      {
       "output_type": "stream",
       "stream": "stdout",
       "text": [
        "\n"
       ]
      }
     ],
     "prompt_number": 41
    },
    {
     "cell_type": "markdown",
     "metadata": {},
     "source": [
      "For my computer, it takes about 70 **micro** seconds to calculate the mean of these temperature values (a microsecond is .001 of a \n",
      "millisecond).\n",
      "\n",
      "Be aware that there are a lot of functions, like sum, abs, sin, cos, that have scalar implementations in the global Python \n",
      "namespace or in the Python math or other libraries, and have corresponding vector implementations in the NumPy library.  \n",
      "That is why, for this notebook, I explicitly imported numpy into the np namespace, so I could be sure of and demonstrate the \n",
      "difference of these standard function.  \n",
      "\n",
      "For example, if you calculate the sum using the scalar (not vectorized) implementation from the Python built-in namespace, \n",
      "you get much slower performance: (turns out that iPython imports numpy into the global namespace by default, so in order to access the builtin version of sum, I have to explicitly find it).  So here, we compare the time it takes to sum the data using the standard \n",
      "built in Python scalar sum() method, vs. the time of using the vectorized Numpy sum() method: "
     ]
    },
    {
     "cell_type": "code",
     "collapsed": false,
     "input": [
      "print __builtin__.sum(data[jan_bi, 3])\n",
      "%timeit __builtin__.sum(data[jan_bi, 3])\n",
      "\n",
      "print np.sum(data[jan_bi, 3])\n",
      "%timeit np.sum(data[jan_bi, 3])\n",
      "\n",
      "4030. / 633"
     ],
     "language": "python",
     "metadata": {},
     "outputs": [
      {
       "output_type": "stream",
       "stream": "stdout",
       "text": [
        "-20010.2\n",
        "100 loops, best of 3: 4.12 ms per loop"
       ]
      },
      {
       "output_type": "stream",
       "stream": "stdout",
       "text": [
        "\n",
        "-20010.2\n",
        "1000 loops, best of 3: 622 \u00b5s per loop"
       ]
      },
      {
       "output_type": "stream",
       "stream": "stdout",
       "text": [
        "\n"
       ]
      },
      {
       "metadata": {},
       "output_type": "pyout",
       "prompt_number": 42,
       "text": [
        "6.36650868878357"
       ]
      }
     ],
     "prompt_number": 42
    },
    {
     "cell_type": "markdown",
     "metadata": {},
     "source": [
      "On my machine, it takes 4.03 ms to do a sum using a scalar implementation, but only 663 micro seconds (1000 micro seconds = 1 ms) \n",
      "to perform the vectorized sum.  This is about a 6x speedup in performance.\n",
      "\n",
      "Lets go back now to our original task and put these vectorized implementations of calculating the mean together to implement \n",
      "a version of calculating all the monthly means using vectorized operations.  We still  need to perform 12 separate \n",
      "mean()s of the data, there is not (obvious straightforward) way to vectorize this.  In fact, in your lecture notebook \n",
      "a loop was actually used (in the form of a list comprehension).  I will show 2 versions of our previous function, but now\n",
      "vectorized.  First with a  more straight-forward loop implementation:"
     ]
    },
    {
     "cell_type": "code",
     "collapsed": false,
     "input": [
      "def calc_monthly_mean_vectorized_v1(data): # use a standard loop\n",
      "    months = arange(1,13)\n",
      "    monthly_means = []\n",
      "    for month in months:\n",
      "        monthly_means.append( np.mean(data[ data[:,1] == month, 3]) )\n",
      "    return monthly_means"
     ],
     "language": "python",
     "metadata": {},
     "outputs": [],
     "prompt_number": 43
    },
    {
     "cell_type": "markdown",
     "metadata": {},
     "source": [
      "The next implementation is equivalent, but a bit more consice because we use a list comprehension in order to populate\n",
      "the array of monthly_mean temperature values.  Using the list comprehension also negates the need for a temporary variable to hold the values to be returned, we can simply return the resulting list from the comprehension:"
     ]
    },
    {
     "cell_type": "code",
     "collapsed": false,
     "input": [
      "def calc_monthly_mean_vectorized_v2(data): # use a list comprehension\n",
      "    months = arange(1,13)\n",
      "    return [np.mean(data[data[:,1] == month, 3]) for month in months]"
     ],
     "language": "python",
     "metadata": {},
     "outputs": [],
     "prompt_number": 44
    },
    {
     "cell_type": "markdown",
     "metadata": {},
     "source": [
      "Which version you prefer is simply a matter of taste.  They will both run with equivalent performance, as they both fundamentally \n",
      "have a single scalar loop over the 12 months, but the mean for a month is calculated using vector operations.\n",
      "\n",
      "For readability, and especially for beginning programmers, you may prefer version 1, or even the scalar implementation, as \n",
      "they might be more readable and understandable to inexperienced developers.  However the vectorized version 2 is closer to \n",
      "what would be expected to be produced in a scientific/engineering shop, as such users will be comfortable with vector operations \n",
      "like these, and the version most concisely expresses the idea of generating the mean for all the months in the data.\n",
      "\n",
      "Lets test out the execution and check the performance."
     ]
    },
    {
     "cell_type": "code",
     "collapsed": false,
     "input": [
      "months = np.arange(1,13)\n",
      "%timeit -n3 -r10 monthly_mean = calc_monthly_mean_vectorized_v1(data)\n",
      "%timeit -n3 -r10 monthly_mean = calc_monthly_mean_vectorized_v2(data)\n",
      "monthly_mean = calc_monthly_mean_vectorized_v2(data)\n",
      "\n",
      "fig = plt.figure(figsize=(12,8))\n",
      "ax = plt.gca()\n",
      "ax.bar(months, monthly_mean)\n",
      "ax.set_xticks(months+0.4)\n",
      "ax.set_xticklabels(['Jan', 'Feb', 'Mar', 'Apr', 'May', 'Jun', 'Jul', 'Aug', 'Sep', 'Oct', 'Nov', 'Dec'])\n",
      "ax.set_xlabel(\"Month\")\n",
      "ax.set_ylabel(\"Monthly avg. temp $(C^o)$\")"
     ],
     "language": "python",
     "metadata": {},
     "outputs": [
      {
       "output_type": "stream",
       "stream": "stdout",
       "text": [
        "3 loops, best of 10: 15 ms per loop\n",
        "3 loops, best of 10: 14.6 ms per loop"
       ]
      },
      {
       "output_type": "stream",
       "stream": "stdout",
       "text": [
        "\n"
       ]
      },
      {
       "metadata": {},
       "output_type": "pyout",
       "prompt_number": 48,
       "text": [
        "<matplotlib.text.Text at 0x57d22d0>"
       ]
      },
      {
       "metadata": {},
       "output_type": "display_data",
       "png": "[encoded data removed]",
       "text": [
        "<matplotlib.figure.Figure at 0x5783150>"
       ]
      }
     ],
     "prompt_number": 48
    },
    {
     "cell_type": "markdown",
     "metadata": {},
     "source": [
      "You should see no real difference in performance between v1 and v2, they both take about 15 ms to complete.  Also notice that the \n",
      "results are correct (same as previous implementation, in any case).\n",
      "\n",
      "Finally compare the performance of the vector and scalar versions.  The vector versions take about 15ms, compared to 500ms we saw \n",
      "for the scalar implementation.  This is a speedup of over 20X.  This type of speedup is not atypical when correctly vectorizing a \n",
      "function or simulation.  The speedup is not really needed here, but a 20X increase in overall speed for big simulations often \n",
      "means the difference from running simulations and getting results fairly interactively (immediately) to having to wait hours \n",
      "or days to see the result."
     ]
    }
   ],
   "metadata": {}
  }
 ]
}