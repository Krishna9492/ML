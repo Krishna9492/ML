{
 "metadata": {
  "name": ""
 },
 "nbformat": 3,
 "nbformat_minor": 0,
 "worksheets": [
  {
   "cells": [
    {
     "cell_type": "code",
     "collapsed": false,
     "input": [
      "import numpy as np\n",
      "import matplotlib.pyplot as plt\n",
      "import pandas as pd\n",
      "%matplotlib inline\n",
      "matplotlib.rcParams['figure.figsize'] = (8, 6) # set default figure size, 8in by 6in"
     ],
     "language": "python",
     "metadata": {},
     "outputs": [],
     "prompt_number": 1
    },
    {
     "cell_type": "markdown",
     "metadata": {},
     "source": [
      "# Video W3 01: Classification\n",
      "\n",
      "[YouTube Video Link](https://www.youtube.com/watch?v=K5oZM1Izn3c&index=33&list=PLZ9qNFMHZ-A4rycgrgOYma6zxF4BZGGPW)\n",
      "\n",
      "In the past 2 weeks we were looking at what were known as regression problems, and trying to build a model\n",
      "using linear regression.  I always think of a regression problem as simply trying to find a function that\n",
      "maps a set of inputs, into a real valued, continuous output.  For example, for all practical purposes we\n",
      "could consider the price of a house that we were trying to predict as a real valued number.  The selling\n",
      "price of the house could take on any real value from 1000's of dollars to many millions of dollars, and\n",
      "any real value in between these 2 extremes.  The task of linear regression was to take 1 or more input\n",
      "values that we used as our input features, and determine a hypothesis, or model or map, that best fit\n",
      "any particular input to a predicted house price.\n",
      "\n",
      "This week we will be transitioning to a slightly different task, that of classification.  The main\n",
      "difference when we are trying to build a model for a classification problem, is that the thing we are\n",
      "trying to predict is no longer some real valued continuous property, but instead we are trying to predict\n",
      "which class among a small but discrete set of possible classes some thing will belong to given a set\n",
      "of input features.  Some examples of classification tasks that have been mentioned in this video and\n",
      "previously include:\n",
      "\n",
      "- Email: Spam / Not Spam?\n",
      "- Online Transactions: Fradulent / Valid?\n",
      "- Tumor: Malignant / Benign?\n",
      "\n",
      "In all of these problems, we can think of the variable that we are trying to predict as taking on one of\n",
      "two discrete possibilities:\n",
      "\n",
      "$$\n",
      "y \\in \\{0, 1\\} \\quad\n",
      "\\begin{cases}\n",
      "    0: & \\displaystyle \\text{\"Negative Class\" (e.g. benign tumor)} \\\\\n",
      "    1: & \\text{\"Positive Class\" (e.g. malignant tumor)} \\\\\n",
      "\\end{cases}\n",
      "$$\n",
      "\n",
      "The videos start with classification problems that only have 2 classes.  However, it is perfectly\n",
      "acceptable and easy to extend the basic algorithms we will work on to problems with 3 or more\n",
      "classes.\n",
      "\n",
      "## Linear Regression vs. Logistic Regression to Perform Classification\n",
      "\n",
      "You can make up examples where using linear regression would appear to work for a classification task.\n",
      "However, in general, except for special situations, linear regression is not going to work.\n",
      "\n",
      "Instead, logistic regression was developed to address classification problems. Logistic regression is\n",
      "probably badly named, but for historical reasons the term stuck.  A better name might be logistic \n",
      "classification.  One property of logistic regression is that the algorithm will be developed in such\n",
      "a way so that the hypothesis we get is always a value between 0 and 1:\n",
      "\n",
      "$$\n",
      "0 \\le h_{\\theta}(x) \\le 1\n",
      "$$\n",
      "\n",
      "As discussed in the video, we then usually choose some threshold, say $\\text{threshold} = 0.5$, and all\n",
      "values less than the threshold are classified as the 0 or \"Negative Class\" and all those above the\n",
      "threshold will be classified as 1 or the \"Positive Class\"."
     ]
    },
    {
     "cell_type": "markdown",
     "metadata": {},
     "source": [
      "# Video W3 02: Hypothesis Representation\n",
      "\n",
      "[YouTube Video Link](https://www.youtube.com/watch?v=WiDuvuM1JyI&index=34&list=PLZ9qNFMHZ-A4rycgrgOYma6zxF4BZGGPW)\n",
      "\n",
      "What is the function we are going to use to represent our hypothesis for a classification problem?  We \n",
      "would like our hypothesis to have the property that it is always constrained to be between 0 and 1.\n",
      "\n",
      "For logistic regression, we modify the linear regression hypothesis to pass it through what is known\n",
      "as the logistic function $g(z)$.  Thus our hypothesis function becomes:\n",
      "\n",
      "$$\n",
      "h_{\\theta}(x) = g(\\theta^T x)\n",
      "$$\n",
      "\n",
      "Where we define the logistic function to be:\n",
      "\n",
      "$$\n",
      "g(z) = \\frac{1}{1 + e^{-z}}\n",
      "$$\n",
      "\n",
      "This logistic function is also known as the sigmoid function, because of the shape the function makes \n",
      "looks like lazy s:"
     ]
    },
    {
     "cell_type": "code",
     "collapsed": false,
     "input": [
      "z = np.linspace(-5, 5, 50)\n",
      "\n",
      "def g(z):\n",
      "    return 1.0 / (1.0 + exp(-z))\n",
      "\n",
      "plt.plot(z, g(z))\n",
      "plt.xlabel('z')\n",
      "plt.ylabel('sigmoid or logistic function')"
     ],
     "language": "python",
     "metadata": {},
     "outputs": [
      {
       "metadata": {},
       "output_type": "pyout",
       "prompt_number": 6,
       "text": [
        "<matplotlib.text.Text at 0x7fad80c30c10>"
       ]
      },
      {
       "metadata": {},
       "output_type": "display_data",
       "png": "[encoded data removed]",
       "text": [
        "<matplotlib.figure.Figure at 0x7fad8357eb10>"
       ]
      }
     ],
     "prompt_number": 6
    },
    {
     "cell_type": "markdown",
     "metadata": {},
     "source": [
      "Notice that the output of the function is always between 0 and 1.  The more negative of a number you\n",
      "give to the function, the closer to 0 the output is, and the more positive, the closer the function\n",
      "approaches to 1.  The function has a value of 0.5 when $z = 0$.  Thus if we use 0.5 as a threshold, then\n",
      "an input that is less than 0 will be classified as 0, the negative class, and any input that is greater\n",
      "than 0 will be classified as 1, the positive class.  However, not that the actual output, before we\n",
      "threshold the result, is a real valued hypothesis such that $0 \\le h_{\\theta}(x) \\le 1$.\n",
      "\n",
      "**Interpretation of Hypothesis Output**\n",
      "\n",
      "One interpretation of the hypothesis is that it is a measure of the estimated probability that\n",
      "$y = 1$ given input x.  So for example if the hypothesis has an output of 0.7, you might interpret\n",
      "that as a 70% chance that the positive class is true.  If we want to state what the probability\n",
      "is for the negative class, we have to use $1 - h_{\\theta}(x)$, so the probability of the previous\n",
      "that it is the negative class is 30%."
     ]
    },
    {
     "cell_type": "markdown",
     "metadata": {},
     "source": [
      "# Video W3 03: Decision Boundary\n",
      "\n",
      "[YouTube Video Link](https://www.youtube.com/watch?v=ZB3jIH5Oms8&index=35&list=PLZ9qNFMHZ-A4rycgrgOYma6zxF4BZGGPW)\n",
      "\n"
     ]
    }
   ],
   "metadata": {}
  }
 ]
}