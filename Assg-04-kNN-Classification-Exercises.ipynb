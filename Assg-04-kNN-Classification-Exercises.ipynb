{
 "metadata": {
  "name": ""
 },
 "nbformat": 3,
 "nbformat_minor": 0,
 "worksheets": [
  {
   "cells": [
    {
     "cell_type": "markdown",
     "metadata": {},
     "source": [
      "**Please fill these in before submitting, just in case I accidentally mix up file names while grading**:\n",
      "\n",
      "Name: Joe Student\n",
      "\n",
      "CWID-5: (Last 5 digits of cwid)"
     ]
    },
    {
     "cell_type": "code",
     "collapsed": false,
     "input": [
      "import numpy as np\n",
      "import pandas as pd\n",
      "import matplotlib.pyplot as plt\n",
      "from sklearn.cluster import KMeans \n"
     ],
     "language": "python",
     "metadata": {},
     "outputs": [],
     "prompt_number": 1
    },
    {
     "cell_type": "markdown",
     "metadata": {},
     "source": [
      "Assignment 04 - Classification with $k$-Nearest Neighbors\n",
      "---------------------------------------------------------\n",
      "\n",
      "**Due: Friday 11/21/2014**\n"
     ]
    },
    {
     "cell_type": "markdown",
     "metadata": {},
     "source": [
      "In lecture notebook 09 at the bottom, we showed examples of using kNN on the MNIST data set from `sklearn`, in order to try and\n",
      "classify hand written digits.  In the example of the notebook, we broke the data into 3 sets, a train set, a test set and a \n",
      "validation set.    Recall, when trying to tune a model, you should use the validation set to tune your performance (e.g. while\n",
      "trying different values for $k$, or trying to tune other model parameters).  And you should only use the test set, once you believe\n",
      "you have tuned your model sufficiently, in order to evaluate expected performance of your final model.\n",
      "\n",
      "For this assignment, you are to find a good value for $k$, and try and improve the kNN performance as much as possible on\n",
      "the MNIST digit classification.  In addition to searching for good $k$ neighbor parameters, you should also try using\n",
      "uniform vs. distance weighting, and you can also try changing the `p` parameter to see if different methods of measuring \n",
      "similarity or distance have any effect.  Show several models you try below, with the performance of each model on the validation\n",
      "set.  In the final cell, show what your final performance was for the model you selected on the test set of data.  I may give some\n",
      "extra points to the student who finds the best kNN model parameters to get the highest performance on the test set for the\n",
      "MNIST data."
     ]
    },
    {
     "cell_type": "code",
     "collapsed": false,
     "input": [],
     "language": "python",
     "metadata": {},
     "outputs": [],
     "prompt_number": 2
    }
   ],
   "metadata": {}
  }
 ]
}