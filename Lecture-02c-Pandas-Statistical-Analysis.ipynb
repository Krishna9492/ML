{
 "metadata": {
  "name": "Lecture-02c-Pandas-Statistical-Analysis"
 },
 "nbformat": 3,
 "nbformat_minor": 0,
 "worksheets": [
  {
   "cells": [
    {
     "cell_type": "markdown",
     "metadata": {},
     "source": [
      "Pandas\n",
      "======\n",
      "\n",
      "Pandas (Python Data Analysis Library)is another a Python library whose purpose is to allow one to do statistical data analysis easily in Python.  Pandas adds a new fundamental data type, the DataFrame to the Python language.  The DataFrame is inspired by the same data type from the R statistical analysis programming envrionment.  DataFrames give us easy ways to load and massage a large data set of values.  The rest of the Pandas library adds methods to do various complex statistical analysis on the data.  Pandas is inspired by, and meant to replace functions\n",
      "one would do in R with pure Python.  Though a relatively new library, Pandas has quickly matured.  It still does not cover some of the more complex analysis you could do with R, but for many people it will have everything they need already.  Plus it is written in Python to boot, meaning one can avoid the somewhat unintuitive implementation that R provides.  Pandas is also being designed with an eye towards computational performance.  It is already as good, if not often better than R performance wise on very large data sets.\n",
      "\n",
      "References\n",
      "----------\n",
      "\n",
      "* [Pandas web site](http://pandas.pydata.org/)\n",
      "* [Python for Data Analysis](http://www.amazon.com/Python-Data-Analysis-Wes-McKinney/dp/1449319793/ref=sr_1_1?ie=UTF8&qid=1377800910&sr=8-1&keywords=python+for+data+analysis) by Wes McKinney, 2012. (developer of Pandas) "
     ]
    },
    {
     "cell_type": "code",
     "collapsed": false,
     "input": [
      "import numpy as np\n",
      "import pandas as pd"
     ],
     "language": "python",
     "metadata": {},
     "outputs": [],
     "prompt_number": 2
    },
    {
     "cell_type": "markdown",
     "metadata": {},
     "source": [
      "Important Features in pandas\n",
      "============================\n",
      "\n",
      "Loading Data from delimited text files\n",
      "--------------------------------------\n",
      "\n",
      "A simple yet very common data format used by scientists are plain text files, with a delimiter of some kind between each data item.  This basically arranges the data as a table.  By convention, each row of the table represents one observation, or data point.  And each column of the table represents a feature or dimension that was measured or observed.  A common delimiter between each feature is to use a comma ',', though you will see files that use a blank space ' ', a tab '\\\\t' or sometimes something else to delimit fields.  Pandas allows you to easily load even very large plain text delimited files for analysls.\n",
      "\n",
      "Here is an example of a comma separated data file (from [Luis Zaman's](http://research.luiszaman.com/) digital parasite data set):"
     ]
    },
    {
     "cell_type": "code",
     "collapsed": false,
     "input": [
      "!head data/parasite_data.csv"
     ],
     "language": "python",
     "metadata": {},
     "outputs": [
      {
       "output_type": "stream",
       "stream": "stdout",
       "text": [
        "Virulence,Replicate,ShannonDiversity\r\n",
        "0.5,1,0.0592619\r\n",
        "0.5,2,1.0936\r\n",
        "0.5,3,1.13939\r\n",
        "0.5,4,0.547651\r\n",
        "0.5,5,0.0659277\r\n",
        "0.5,6,1.34433\r\n",
        "0.5,7,1.68048\r\n",
        "0.5,8,0\r\n",
        "0.5,9,2.04768\r\n"
       ]
      }
     ],
     "prompt_number": 3
    },
    {
     "cell_type": "code",
     "collapsed": false,
     "input": [
      "!tail data/parasite_data.csv"
     ],
     "language": "python",
     "metadata": {},
     "outputs": [
      {
       "output_type": "stream",
       "stream": "stdout",
       "text": [
        " ,41,0\r\n",
        " ,42,0\r\n",
        " ,43,0\r\n",
        " ,44,0\r\n",
        " ,45,0.391061\r\n",
        " ,46,0.00166884\r\n",
        " ,47,0\r\n",
        " ,48,0.444463\r\n",
        " ,49,0.383512\r\n",
        " ,50,0.511329"
       ]
      }
     ],
     "prompt_number": 4
    },
    {
     "cell_type": "markdown",
     "metadata": {},
     "source": [
      "Notice that some of the rows at the end have a blank space in the first column.  We will pass pandas a parameter to tell it how to treat these values."
     ]
    },
    {
     "cell_type": "code",
     "collapsed": false,
     "input": [
      "exp_df = pd.read_csv(\"data/parasite_data.csv\", na_values=[\" \"])"
     ],
     "language": "python",
     "metadata": {},
     "outputs": [],
     "prompt_number": 5
    },
    {
     "cell_type": "code",
     "collapsed": false,
     "input": [
      "print exp_df"
     ],
     "language": "python",
     "metadata": {},
     "outputs": [
      {
       "output_type": "stream",
       "stream": "stdout",
       "text": [
        "<class 'pandas.core.frame.DataFrame'>\n",
        "Int64Index: 350 entries, 0 to 349\n",
        "Data columns:\n",
        "Virulence           300  non-null values\n",
        "Replicate           350  non-null values\n",
        "ShannonDiversity    350  non-null values\n",
        "dtypes: float64(2), int64(1)\n"
       ]
      }
     ],
     "prompt_number": 6
    },
    {
     "cell_type": "markdown",
     "metadata": {},
     "source": [
      "Notice that pandas automatically names the column features, using the 1st line from the data file (known as the header).  Notice also that the first feature, Virulance, is missing 50 values (it had 300 non-null values, while the other features had 350 values."
     ]
    },
    {
     "cell_type": "markdown",
     "metadata": {},
     "source": [
      "Accessing data in pandas DataFrames\n",
      "-----------------------------------\n",
      "\n",
      "We can directly access any column and row by indexing the DataFrame (kinda like a dictionary):"
     ]
    },
    {
     "cell_type": "code",
     "collapsed": false,
     "input": [
      "print exp_df['Virulence']"
     ],
     "language": "python",
     "metadata": {},
     "outputs": [
      {
       "output_type": "stream",
       "stream": "stdout",
       "text": [
        "0     0.5\n",
        "1     0.5\n",
        "2     0.5\n",
        "3     0.5\n",
        "4     0.5\n",
        "5     0.5\n",
        "6     0.5\n",
        "7     0.5\n",
        "8     0.5\n",
        "9     0.5\n",
        "10    0.5\n",
        "11    0.5\n",
        "12    0.5\n",
        "13    0.5\n",
        "14    0.5\n",
        "...\n",
        "335   NaN\n",
        "336   NaN\n",
        "337   NaN\n",
        "338   NaN\n",
        "339   NaN\n",
        "340   NaN\n",
        "341   NaN\n",
        "342   NaN\n",
        "343   NaN\n",
        "344   NaN\n",
        "345   NaN\n",
        "346   NaN\n",
        "347   NaN\n",
        "348   NaN\n",
        "349   NaN\n",
        "Name: Virulence, Length: 350\n"
       ]
      }
     ],
     "prompt_number": 7
    },
    {
     "cell_type": "code",
     "collapsed": false,
     "input": [
      "print exp_df['ShannonDiversity'][12]"
     ],
     "language": "python",
     "metadata": {},
     "outputs": [
      {
       "output_type": "stream",
       "stream": "stdout",
       "text": [
        "1.58981\n"
       ]
      }
     ],
     "prompt_number": 8
    },
    {
     "cell_type": "markdown",
     "metadata": {},
     "source": [
      "We can also access all of the values in a column meeting a certain criteria:"
     ]
    },
    {
     "cell_type": "code",
     "collapsed": false,
     "input": [
      "print exp_df[exp_df['ShannonDiversity'] > 2.0]"
     ],
     "language": "python",
     "metadata": {},
     "outputs": [
      {
       "output_type": "stream",
       "stream": "stdout",
       "text": [
        "     Virulence  Replicate  ShannonDiversity\n",
        "8          0.5          9           2.04768\n",
        "89         0.6         40           2.01066\n",
        "92         0.6         43           2.90081\n",
        "96         0.6         47           2.02915\n",
        "105        0.7          6           2.23427\n",
        "117        0.7         18           2.14296\n",
        "127        0.7         28           2.23599\n",
        "129        0.7         30           2.48422\n",
        "133        0.7         34           2.18506\n",
        "134        0.7         35           2.42177\n",
        "139        0.7         40           2.25737\n",
        "142        0.7         43           2.07258\n",
        "148        0.7         49           2.38326\n",
        "151        0.8          2           2.07970\n",
        "153        0.8          4           2.38474\n",
        "163        0.8         14           2.03252\n",
        "165        0.8         16           2.38415\n",
        "170        0.8         21           2.02297\n",
        "172        0.8         23           2.13882\n",
        "173        0.8         24           2.53339\n",
        "182        0.8         33           2.17865\n",
        "196        0.8         47           2.07718\n",
        "208        0.9          9           2.12240\n",
        "209        0.9         10           2.46144\n",
        "212        0.9         13           2.20476\n",
        "229        0.9         30           2.28026\n",
        "235        0.9         36           2.19565\n",
        "237        0.9         38           2.16535\n",
        "243        0.9         44           2.17578\n",
        "251        1.0          2           2.16044\n"
       ]
      }
     ],
     "prompt_number": 9
    },
    {
     "cell_type": "markdown",
     "metadata": {},
     "source": [
      "NumPy use of pandas DataFrame data\n",
      "----------------------------------\n",
      "\n",
      "Another powerful feature of the pandas DataFrame is that they are fully integrated with NumPy.  "
     ]
    },
    {
     "cell_type": "code",
     "collapsed": false,
     "input": [
      "np.sort(exp_df['ShannonDiversity'])"
     ],
     "language": "python",
     "metadata": {},
     "outputs": [
      {
       "output_type": "pyout",
       "prompt_number": 10,
       "text": [
        "7     0\n",
        "9     0\n",
        "11    0\n",
        "15    0\n",
        "21    0\n",
        "33    0\n",
        "37    0\n",
        "40    0\n",
        "48    0\n",
        "49    0\n",
        "50    0\n",
        "52    0\n",
        "53    0\n",
        "56    0\n",
        "60    0\n",
        "...\n",
        "133    2.18506\n",
        "235    2.19565\n",
        "212    2.20476\n",
        "105    2.23427\n",
        "127    2.23599\n",
        "139    2.25737\n",
        "229    2.28026\n",
        "148    2.38326\n",
        "165    2.38415\n",
        "153    2.38474\n",
        "134    2.42177\n",
        "209    2.46144\n",
        "129    2.48422\n",
        "173    2.53339\n",
        "92     2.90081\n",
        "Name: ShannonDiversity, Length: 350"
       ]
      }
     ],
     "prompt_number": 10
    },
    {
     "cell_type": "markdown",
     "metadata": {},
     "source": [
      "Blank/Omitted data\n",
      "==================\n",
      "\n",
      "One of the toughest preprocessing steps that is needed in analyzing a real data step is trying to identify and figure out how to handle missing data.  Pandas gives great support for identifying and specifying how to handle these missing values."
     ]
    },
    {
     "cell_type": "code",
     "collapsed": false,
     "input": [
      "print exp_df[np.isnan(exp_df['Virulence'])]"
     ],
     "language": "python",
     "metadata": {},
     "outputs": [
      {
       "output_type": "stream",
       "stream": "stdout",
       "text": [
        "     Virulence  Replicate  ShannonDiversity\n",
        "300        NaN          1          0.000000\n",
        "301        NaN          2          0.000000\n",
        "302        NaN          3          0.833645\n",
        "303        NaN          4          0.000000\n",
        "304        NaN          5          0.990309\n",
        "305        NaN          6          0.000000\n",
        "306        NaN          7          0.000000\n",
        "307        NaN          8          0.000000\n",
        "308        NaN          9          0.061414\n",
        "309        NaN         10          0.316439\n",
        "310        NaN         11          0.904773\n",
        "311        NaN         12          0.884122\n",
        "312        NaN         13          0.000000\n",
        "313        NaN         14          0.000000\n",
        "314        NaN         15          0.000000\n",
        "315        NaN         16          0.000000\n",
        "316        NaN         17          0.013495\n",
        "317        NaN         18          0.882519\n",
        "318        NaN         19          0.000000\n",
        "319        NaN         20          0.986830\n",
        "320        NaN         21          0.000000\n",
        "321        NaN         22          0.000000\n",
        "322        NaN         23          0.000000\n",
        "323        NaN         24          0.000000\n",
        "324        NaN         25          0.000000\n",
        "325        NaN         26          0.000000\n",
        "326        NaN         27          1.702720\n",
        "327        NaN         28          0.169556\n",
        "328        NaN         29          0.949750\n",
        "329        NaN         30          0.240084\n",
        "330        NaN         31          0.925913\n",
        "331        NaN         32          0.000000\n",
        "332        NaN         33          0.693356\n",
        "333        NaN         34          0.000000\n",
        "334        NaN         35          0.310170\n",
        "335        NaN         36          0.000000\n",
        "336        NaN         37          0.000000\n",
        "337        NaN         38          0.000000\n",
        "338        NaN         39          0.000000\n",
        "339        NaN         40          0.000000\n",
        "340        NaN         41          0.000000\n",
        "341        NaN         42          0.000000\n",
        "342        NaN         43          0.000000\n",
        "343        NaN         44          0.000000\n",
        "344        NaN         45          0.391061\n",
        "345        NaN         46          0.001669\n",
        "346        NaN         47          0.000000\n",
        "347        NaN         48          0.444463\n",
        "348        NaN         49          0.383512\n",
        "349        NaN         50          0.511329\n"
       ]
      }
     ],
     "prompt_number": 11
    },
    {
     "cell_type": "markdown",
     "metadata": {},
     "source": [
      "DataFrame methods automatically ignore NA/NaN values (which is usually the right thing to do)."
     ]
    },
    {
     "cell_type": "code",
     "collapsed": false,
     "input": [
      "print \"Mean virulence across all treatments:\", exp_df['Virulence'].mean()"
     ],
     "language": "python",
     "metadata": {},
     "outputs": [
      {
       "output_type": "stream",
       "stream": "stdout",
       "text": [
        "Mean virulence across all treatments: 0.75\n"
       ]
      }
     ],
     "prompt_number": 12
    },
    {
     "cell_type": "markdown",
     "metadata": {},
     "source": [
      "Although we can filter out NA/NaN values if we need to, to for example pass to other libraries that don't handle these so well.  Notice that the following has dropped those 50 rows that had null Virulence values."
     ]
    },
    {
     "cell_type": "code",
     "collapsed": false,
     "input": [
      "print exp_df.dropna()"
     ],
     "language": "python",
     "metadata": {},
     "outputs": [
      {
       "output_type": "stream",
       "stream": "stdout",
       "text": [
        "<class 'pandas.core.frame.DataFrame'>\n",
        "Int64Index: 300 entries, 0 to 299\n",
        "Data columns:\n",
        "Virulence           300  non-null values\n",
        "Replicate           300  non-null values\n",
        "ShannonDiversity    300  non-null values\n",
        "dtypes: float64(2), int64(1)\n"
       ]
      }
     ],
     "prompt_number": 13
    },
    {
     "cell_type": "markdown",
     "metadata": {},
     "source": [
      "Or if needed, we can instead replace all NA/NaN entries with a valid (default) value."
     ]
    },
    {
     "cell_type": "code",
     "collapsed": false,
     "input": [
      "print exp_df.fillna(0.0)['Virulence']"
     ],
     "language": "python",
     "metadata": {},
     "outputs": [
      {
       "output_type": "stream",
       "stream": "stdout",
       "text": [
        "0     0.5\n",
        "1     0.5\n",
        "2     0.5\n",
        "3     0.5\n",
        "4     0.5\n",
        "5     0.5\n",
        "6     0.5\n",
        "7     0.5\n",
        "8     0.5\n",
        "9     0.5\n",
        "10    0.5\n",
        "11    0.5\n",
        "12    0.5\n",
        "13    0.5\n",
        "14    0.5\n",
        "...\n",
        "335    0\n",
        "336    0\n",
        "337    0\n",
        "338    0\n",
        "339    0\n",
        "340    0\n",
        "341    0\n",
        "342    0\n",
        "343    0\n",
        "344    0\n",
        "345    0\n",
        "346    0\n",
        "347    0\n",
        "348    0\n",
        "349    0\n",
        "Name: Virulence, Length: 350\n"
       ]
      }
     ],
     "prompt_number": 14
    },
    {
     "cell_type": "markdown",
     "metadata": {},
     "source": [
      "Some Simple Summary Statistics with Pandas\n",
      "------------------------------------------\n",
      "\n",
      "Lets look at some very simple summary statistics with pandas.  Conveniently DataFrames have all kinds of built-in functions to perform standard operations on them en masse: add() sub() mul() div() mean() std() etc."
     ]
    },
    {
     "cell_type": "code",
     "collapsed": false,
     "input": [
      "print \"Mean Shannon Diversity w/ 0.8 Parasite Virulence = \", exp_df[exp_df['Virulence'] == 0.8]['ShannonDiversity'].mean()\n",
      "print \"Variance Shannon Diversity w/ 0.8 Parasite Virulence = \", exp_df[exp_df['Virulence'] == 0.8]['ShannonDiversity'].var()"
     ],
     "language": "python",
     "metadata": {},
     "outputs": [
      {
       "output_type": "stream",
       "stream": "stdout",
       "text": [
        "Mean Shannon Diversity w/ 0.8 Parasite Virulence =  1.2691338188\n",
        "Variance Shannon Diversity w/ 0.8 Parasite Virulence =  0.611038433313\n"
       ]
      }
     ],
     "prompt_number": 18
    },
    {
     "cell_type": "markdown",
     "metadata": {},
     "source": [
      "Some More Examples\n",
      "------------------\n",
      "\n",
      "The following are more examples of how you can manipulate pandas DataFrames (taken from the pandas [10-minute tutorial](http://pandas.pydata.org/pandas-docs/stable/10min.html))"
     ]
    },
    {
     "cell_type": "code",
     "collapsed": false,
     "input": [
      "dates = pd.date_range('20130101', periods=6)\n",
      "print dates\n",
      "df = pd.DataFrame(np.random.randn(6,4), index=dates, columns=list('ABCD'))\n",
      "print df"
     ],
     "language": "python",
     "metadata": {},
     "outputs": [
      {
       "output_type": "stream",
       "stream": "stdout",
       "text": [
        "<class 'pandas.tseries.index.DatetimeIndex'>\n",
        "[2013-01-01 00:00:00, ..., 2013-01-06 00:00:00]\n",
        "Length: 6, Freq: D, Timezone: None\n",
        "                   A         B         C         D\n",
        "2013-01-01 -0.090605 -0.639278  0.115615 -1.215353\n",
        "2013-01-02  0.481719 -1.482552 -0.510865 -0.615172\n",
        "2013-01-03 -0.202500  1.806664 -0.292151 -0.418087\n",
        "2013-01-04 -0.043212 -0.337547  1.312042 -0.254353\n",
        "2013-01-05  1.549645 -0.913009  1.213480  0.574437\n",
        "2013-01-06 -0.358258 -0.245355  0.283050  2.079611\n"
       ]
      }
     ],
     "prompt_number": 21
    },
    {
     "cell_type": "code",
     "collapsed": false,
     "input": [
      "df2 = pd.DataFrame({'A': 1.0,\n",
      "                    'B': pd.Timestamp('20130102'),\n",
      "                    'C': pd.Series(1, index=range(4), dtype='float32'),\n",
      "                    'D': np.array([3] * 4, dtype='int32'),\n",
      "                    'E': 'foo'})\n",
      "df2"
     ],
     "language": "python",
     "metadata": {},
     "outputs": [
      {
       "html": [
        "<div style=\"max-height:1000px;max-width:1500px;overflow:auto;\">\n",
        "<table border=\"1\" class=\"dataframe\">\n",
        "  <thead>\n",
        "    <tr style=\"text-align: right;\">\n",
        "      <th></th>\n",
        "      <th>A</th>\n",
        "      <th>B</th>\n",
        "      <th>C</th>\n",
        "      <th>D</th>\n",
        "      <th>E</th>\n",
        "    </tr>\n",
        "  </thead>\n",
        "  <tbody>\n",
        "    <tr>\n",
        "      <th>0</th>\n",
        "      <td> 1</td>\n",
        "      <td> 2013-01-02 00:00:00</td>\n",
        "      <td> 1</td>\n",
        "      <td> 3</td>\n",
        "      <td> foo</td>\n",
        "    </tr>\n",
        "    <tr>\n",
        "      <th>1</th>\n",
        "      <td> 1</td>\n",
        "      <td> 2013-01-02 00:00:00</td>\n",
        "      <td> 1</td>\n",
        "      <td> 3</td>\n",
        "      <td> foo</td>\n",
        "    </tr>\n",
        "    <tr>\n",
        "      <th>2</th>\n",
        "      <td> 1</td>\n",
        "      <td> 2013-01-02 00:00:00</td>\n",
        "      <td> 1</td>\n",
        "      <td> 3</td>\n",
        "      <td> foo</td>\n",
        "    </tr>\n",
        "    <tr>\n",
        "      <th>3</th>\n",
        "      <td> 1</td>\n",
        "      <td> 2013-01-02 00:00:00</td>\n",
        "      <td> 1</td>\n",
        "      <td> 3</td>\n",
        "      <td> foo</td>\n",
        "    </tr>\n",
        "  </tbody>\n",
        "</table>\n",
        "</div>"
       ],
       "output_type": "pyout",
       "prompt_number": 25,
       "text": [
        "   A                    B  C  D    E\n",
        "0  1  2013-01-02 00:00:00  1  3  foo\n",
        "1  1  2013-01-02 00:00:00  1  3  foo\n",
        "2  1  2013-01-02 00:00:00  1  3  foo\n",
        "3  1  2013-01-02 00:00:00  1  3  foo"
       ]
      }
     ],
     "prompt_number": 25
    },
    {
     "cell_type": "code",
     "collapsed": false,
     "input": [
      "df2.dtypes"
     ],
     "language": "python",
     "metadata": {},
     "outputs": [
      {
       "output_type": "pyout",
       "prompt_number": 26,
       "text": [
        "A    float64\n",
        "B     object\n",
        "C    float64\n",
        "D      int64\n",
        "E     object"
       ]
      }
     ],
     "prompt_number": 26
    },
    {
     "cell_type": "code",
     "collapsed": false,
     "input": [
      "df.head()"
     ],
     "language": "python",
     "metadata": {},
     "outputs": [
      {
       "html": [
        "<div style=\"max-height:1000px;max-width:1500px;overflow:auto;\">\n",
        "<table border=\"1\" class=\"dataframe\">\n",
        "  <thead>\n",
        "    <tr style=\"text-align: right;\">\n",
        "      <th></th>\n",
        "      <th>A</th>\n",
        "      <th>B</th>\n",
        "      <th>C</th>\n",
        "      <th>D</th>\n",
        "    </tr>\n",
        "  </thead>\n",
        "  <tbody>\n",
        "    <tr>\n",
        "      <th>2013-01-01</th>\n",
        "      <td>-0.090605</td>\n",
        "      <td>-0.639278</td>\n",
        "      <td> 0.115615</td>\n",
        "      <td>-1.215353</td>\n",
        "    </tr>\n",
        "    <tr>\n",
        "      <th>2013-01-02</th>\n",
        "      <td> 0.481719</td>\n",
        "      <td>-1.482552</td>\n",
        "      <td>-0.510865</td>\n",
        "      <td>-0.615172</td>\n",
        "    </tr>\n",
        "    <tr>\n",
        "      <th>2013-01-03</th>\n",
        "      <td>-0.202500</td>\n",
        "      <td> 1.806664</td>\n",
        "      <td>-0.292151</td>\n",
        "      <td>-0.418087</td>\n",
        "    </tr>\n",
        "    <tr>\n",
        "      <th>2013-01-04</th>\n",
        "      <td>-0.043212</td>\n",
        "      <td>-0.337547</td>\n",
        "      <td> 1.312042</td>\n",
        "      <td>-0.254353</td>\n",
        "    </tr>\n",
        "    <tr>\n",
        "      <th>2013-01-05</th>\n",
        "      <td> 1.549645</td>\n",
        "      <td>-0.913009</td>\n",
        "      <td> 1.213480</td>\n",
        "      <td> 0.574437</td>\n",
        "    </tr>\n",
        "  </tbody>\n",
        "</table>\n",
        "</div>"
       ],
       "output_type": "pyout",
       "prompt_number": 27,
       "text": [
        "                   A         B         C         D\n",
        "2013-01-01 -0.090605 -0.639278  0.115615 -1.215353\n",
        "2013-01-02  0.481719 -1.482552 -0.510865 -0.615172\n",
        "2013-01-03 -0.202500  1.806664 -0.292151 -0.418087\n",
        "2013-01-04 -0.043212 -0.337547  1.312042 -0.254353\n",
        "2013-01-05  1.549645 -0.913009  1.213480  0.574437"
       ]
      }
     ],
     "prompt_number": 27
    },
    {
     "cell_type": "code",
     "collapsed": false,
     "input": [
      "df.tail(3)"
     ],
     "language": "python",
     "metadata": {},
     "outputs": [
      {
       "html": [
        "<div style=\"max-height:1000px;max-width:1500px;overflow:auto;\">\n",
        "<table border=\"1\" class=\"dataframe\">\n",
        "  <thead>\n",
        "    <tr style=\"text-align: right;\">\n",
        "      <th></th>\n",
        "      <th>A</th>\n",
        "      <th>B</th>\n",
        "      <th>C</th>\n",
        "      <th>D</th>\n",
        "    </tr>\n",
        "  </thead>\n",
        "  <tbody>\n",
        "    <tr>\n",
        "      <th>2013-01-04</th>\n",
        "      <td>-0.043212</td>\n",
        "      <td>-0.337547</td>\n",
        "      <td> 1.312042</td>\n",
        "      <td>-0.254353</td>\n",
        "    </tr>\n",
        "    <tr>\n",
        "      <th>2013-01-05</th>\n",
        "      <td> 1.549645</td>\n",
        "      <td>-0.913009</td>\n",
        "      <td> 1.213480</td>\n",
        "      <td> 0.574437</td>\n",
        "    </tr>\n",
        "    <tr>\n",
        "      <th>2013-01-06</th>\n",
        "      <td>-0.358258</td>\n",
        "      <td>-0.245355</td>\n",
        "      <td> 0.283050</td>\n",
        "      <td> 2.079611</td>\n",
        "    </tr>\n",
        "  </tbody>\n",
        "</table>\n",
        "</div>"
       ],
       "output_type": "pyout",
       "prompt_number": 28,
       "text": [
        "                   A         B         C         D\n",
        "2013-01-04 -0.043212 -0.337547  1.312042 -0.254353\n",
        "2013-01-05  1.549645 -0.913009  1.213480  0.574437\n",
        "2013-01-06 -0.358258 -0.245355  0.283050  2.079611"
       ]
      }
     ],
     "prompt_number": 28
    },
    {
     "cell_type": "code",
     "collapsed": false,
     "input": [
      "df.columns"
     ],
     "language": "python",
     "metadata": {},
     "outputs": [
      {
       "output_type": "pyout",
       "prompt_number": 30,
       "text": [
        "Index([A, B, C, D], dtype=object)"
       ]
      }
     ],
     "prompt_number": 30
    },
    {
     "cell_type": "code",
     "collapsed": false,
     "input": [
      "df.values # notice, the easiest way to turn whole pandas DataFrame into a NumPy array with same rows/columns"
     ],
     "language": "python",
     "metadata": {},
     "outputs": [
      {
       "output_type": "pyout",
       "prompt_number": 33,
       "text": [
        "array([[-0.0906047 , -0.63927835,  0.11561511, -1.21535286],\n",
        "       [ 0.481719  , -1.48255238, -0.51086463, -0.61517153],\n",
        "       [-0.20249997,  1.80666436, -0.29215064, -0.41808717],\n",
        "       [-0.0432116 , -0.33754704,  1.31204233, -0.2543531 ],\n",
        "       [ 1.54964541, -0.91300918,  1.21348004,  0.57443717],\n",
        "       [-0.35825783, -0.24535473,  0.28304992,  2.07961057]])"
       ]
      }
     ],
     "prompt_number": 33
    },
    {
     "cell_type": "markdown",
     "metadata": {},
     "source": [
      "Describe shows a quick statistics summary of your data:"
     ]
    },
    {
     "cell_type": "code",
     "collapsed": false,
     "input": [
      "df.describe()"
     ],
     "language": "python",
     "metadata": {},
     "outputs": [
      {
       "html": [
        "<div style=\"max-height:1000px;max-width:1500px;overflow:auto;\">\n",
        "<table border=\"1\" class=\"dataframe\">\n",
        "  <thead>\n",
        "    <tr style=\"text-align: right;\">\n",
        "      <th></th>\n",
        "      <th>A</th>\n",
        "      <th>B</th>\n",
        "      <th>C</th>\n",
        "      <th>D</th>\n",
        "    </tr>\n",
        "  </thead>\n",
        "  <tbody>\n",
        "    <tr>\n",
        "      <th>count</th>\n",
        "      <td> 6.000000</td>\n",
        "      <td> 6.000000</td>\n",
        "      <td> 6.000000</td>\n",
        "      <td> 6.000000</td>\n",
        "    </tr>\n",
        "    <tr>\n",
        "      <th>mean</th>\n",
        "      <td> 0.222798</td>\n",
        "      <td>-0.301846</td>\n",
        "      <td> 0.353529</td>\n",
        "      <td> 0.025181</td>\n",
        "    </tr>\n",
        "    <tr>\n",
        "      <th>std</th>\n",
        "      <td> 0.709232</td>\n",
        "      <td> 1.125320</td>\n",
        "      <td> 0.759462</td>\n",
        "      <td> 1.161548</td>\n",
        "    </tr>\n",
        "    <tr>\n",
        "      <th>min</th>\n",
        "      <td>-0.358258</td>\n",
        "      <td>-1.482552</td>\n",
        "      <td>-0.510865</td>\n",
        "      <td>-1.215353</td>\n",
        "    </tr>\n",
        "    <tr>\n",
        "      <th>25%</th>\n",
        "      <td>-0.174526</td>\n",
        "      <td>-0.844576</td>\n",
        "      <td>-0.190209</td>\n",
        "      <td>-0.565900</td>\n",
        "    </tr>\n",
        "    <tr>\n",
        "      <th>50%</th>\n",
        "      <td>-0.066908</td>\n",
        "      <td>-0.488413</td>\n",
        "      <td> 0.199333</td>\n",
        "      <td>-0.336220</td>\n",
        "    </tr>\n",
        "    <tr>\n",
        "      <th>75%</th>\n",
        "      <td> 0.350486</td>\n",
        "      <td>-0.268403</td>\n",
        "      <td> 0.980873</td>\n",
        "      <td> 0.367240</td>\n",
        "    </tr>\n",
        "    <tr>\n",
        "      <th>max</th>\n",
        "      <td> 1.549645</td>\n",
        "      <td> 1.806664</td>\n",
        "      <td> 1.312042</td>\n",
        "      <td> 2.079611</td>\n",
        "    </tr>\n",
        "  </tbody>\n",
        "</table>\n",
        "</div>"
       ],
       "output_type": "pyout",
       "prompt_number": 34,
       "text": [
        "              A         B         C         D\n",
        "count  6.000000  6.000000  6.000000  6.000000\n",
        "mean   0.222798 -0.301846  0.353529  0.025181\n",
        "std    0.709232  1.125320  0.759462  1.161548\n",
        "min   -0.358258 -1.482552 -0.510865 -1.215353\n",
        "25%   -0.174526 -0.844576 -0.190209 -0.565900\n",
        "50%   -0.066908 -0.488413  0.199333 -0.336220\n",
        "75%    0.350486 -0.268403  0.980873  0.367240\n",
        "max    1.549645  1.806664  1.312042  2.079611"
       ]
      }
     ],
     "prompt_number": 34
    },
    {
     "cell_type": "markdown",
     "metadata": {},
     "source": [
      "Sort data by values of some column"
     ]
    },
    {
     "cell_type": "code",
     "collapsed": false,
     "input": [
      "df.sort(columns='B')"
     ],
     "language": "python",
     "metadata": {},
     "outputs": [
      {
       "html": [
        "<div style=\"max-height:1000px;max-width:1500px;overflow:auto;\">\n",
        "<table border=\"1\" class=\"dataframe\">\n",
        "  <thead>\n",
        "    <tr style=\"text-align: right;\">\n",
        "      <th></th>\n",
        "      <th>A</th>\n",
        "      <th>B</th>\n",
        "      <th>C</th>\n",
        "      <th>D</th>\n",
        "    </tr>\n",
        "  </thead>\n",
        "  <tbody>\n",
        "    <tr>\n",
        "      <th>2013-01-02</th>\n",
        "      <td> 0.481719</td>\n",
        "      <td>-1.482552</td>\n",
        "      <td>-0.510865</td>\n",
        "      <td>-0.615172</td>\n",
        "    </tr>\n",
        "    <tr>\n",
        "      <th>2013-01-05</th>\n",
        "      <td> 1.549645</td>\n",
        "      <td>-0.913009</td>\n",
        "      <td> 1.213480</td>\n",
        "      <td> 0.574437</td>\n",
        "    </tr>\n",
        "    <tr>\n",
        "      <th>2013-01-01</th>\n",
        "      <td>-0.090605</td>\n",
        "      <td>-0.639278</td>\n",
        "      <td> 0.115615</td>\n",
        "      <td>-1.215353</td>\n",
        "    </tr>\n",
        "    <tr>\n",
        "      <th>2013-01-04</th>\n",
        "      <td>-0.043212</td>\n",
        "      <td>-0.337547</td>\n",
        "      <td> 1.312042</td>\n",
        "      <td>-0.254353</td>\n",
        "    </tr>\n",
        "    <tr>\n",
        "      <th>2013-01-06</th>\n",
        "      <td>-0.358258</td>\n",
        "      <td>-0.245355</td>\n",
        "      <td> 0.283050</td>\n",
        "      <td> 2.079611</td>\n",
        "    </tr>\n",
        "    <tr>\n",
        "      <th>2013-01-03</th>\n",
        "      <td>-0.202500</td>\n",
        "      <td> 1.806664</td>\n",
        "      <td>-0.292151</td>\n",
        "      <td>-0.418087</td>\n",
        "    </tr>\n",
        "  </tbody>\n",
        "</table>\n",
        "</div>"
       ],
       "output_type": "pyout",
       "prompt_number": 35,
       "text": [
        "                   A         B         C         D\n",
        "2013-01-02  0.481719 -1.482552 -0.510865 -0.615172\n",
        "2013-01-05  1.549645 -0.913009  1.213480  0.574437\n",
        "2013-01-01 -0.090605 -0.639278  0.115615 -1.215353\n",
        "2013-01-04 -0.043212 -0.337547  1.312042 -0.254353\n",
        "2013-01-06 -0.358258 -0.245355  0.283050  2.079611\n",
        "2013-01-03 -0.202500  1.806664 -0.292151 -0.418087"
       ]
      }
     ],
     "prompt_number": 35
    },
    {
     "cell_type": "markdown",
     "metadata": {},
     "source": [
      "Select a single column, which yields a Series, equivalent to df.A"
     ]
    },
    {
     "cell_type": "code",
     "collapsed": false,
     "input": [
      "df['A']"
     ],
     "language": "python",
     "metadata": {},
     "outputs": [
      {
       "output_type": "pyout",
       "prompt_number": 36,
       "text": [
        "2013-01-01   -0.090605\n",
        "2013-01-02    0.481719\n",
        "2013-01-03   -0.202500\n",
        "2013-01-04   -0.043212\n",
        "2013-01-05    1.549645\n",
        "2013-01-06   -0.358258\n",
        "Freq: D, Name: A"
       ]
      }
     ],
     "prompt_number": 36
    },
    {
     "cell_type": "markdown",
     "metadata": {},
     "source": [
      "Copy a column values into a NumPy array, for passing to a library for example:\n"
     ]
    },
    {
     "cell_type": "code",
     "collapsed": false,
     "input": [
      "col_A = df['A'].values\n",
      "print col_A\n",
      "print type(col_A)"
     ],
     "language": "python",
     "metadata": {},
     "outputs": [
      {
       "output_type": "stream",
       "stream": "stdout",
       "text": [
        "[-0.0906047   0.481719   -0.20249997 -0.0432116   1.54964541 -0.35825783]\n",
        "<type 'numpy.ndarray'>\n"
       ]
      }
     ],
     "prompt_number": 39
    },
    {
     "cell_type": "markdown",
     "metadata": {},
     "source": [
      "Select rows of a DataFrame using slices."
     ]
    },
    {
     "cell_type": "code",
     "collapsed": false,
     "input": [
      "print df[1:3]\n",
      "print df['20130103':'20130105']"
     ],
     "language": "python",
     "metadata": {},
     "outputs": [
      {
       "output_type": "stream",
       "stream": "stdout",
       "text": [
        "                   A         B         C         D\n",
        "2013-01-02  0.481719 -1.482552 -0.510865 -0.615172\n",
        "2013-01-03 -0.202500  1.806664 -0.292151 -0.418087\n",
        "                   A         B         C         D\n",
        "2013-01-03 -0.202500  1.806664 -0.292151 -0.418087\n",
        "2013-01-04 -0.043212 -0.337547  1.312042 -0.254353\n",
        "2013-01-05  1.549645 -0.913009  1.213480  0.574437\n"
       ]
      }
     ],
     "prompt_number": 41
    },
    {
     "cell_type": "markdown",
     "metadata": {},
     "source": [
      "Selecting multiple columns.  Unfortunately"
     ]
    },
    {
     "cell_type": "code",
     "collapsed": false,
     "input": [
      "df.ix[:,['A','B']]"
     ],
     "language": "python",
     "metadata": {},
     "outputs": [
      {
       "html": [
        "<div style=\"max-height:1000px;max-width:1500px;overflow:auto;\">\n",
        "<table border=\"1\" class=\"dataframe\">\n",
        "  <thead>\n",
        "    <tr style=\"text-align: right;\">\n",
        "      <th></th>\n",
        "      <th>A</th>\n",
        "      <th>B</th>\n",
        "    </tr>\n",
        "  </thead>\n",
        "  <tbody>\n",
        "    <tr>\n",
        "      <th>2013-01-01</th>\n",
        "      <td>-0.090605</td>\n",
        "      <td>-0.639278</td>\n",
        "    </tr>\n",
        "    <tr>\n",
        "      <th>2013-01-02</th>\n",
        "      <td> 0.481719</td>\n",
        "      <td>-1.482552</td>\n",
        "    </tr>\n",
        "    <tr>\n",
        "      <th>2013-01-03</th>\n",
        "      <td>-0.202500</td>\n",
        "      <td> 1.806664</td>\n",
        "    </tr>\n",
        "    <tr>\n",
        "      <th>2013-01-04</th>\n",
        "      <td>-0.043212</td>\n",
        "      <td>-0.337547</td>\n",
        "    </tr>\n",
        "    <tr>\n",
        "      <th>2013-01-05</th>\n",
        "      <td> 1.549645</td>\n",
        "      <td>-0.913009</td>\n",
        "    </tr>\n",
        "    <tr>\n",
        "      <th>2013-01-06</th>\n",
        "      <td>-0.358258</td>\n",
        "      <td>-0.245355</td>\n",
        "    </tr>\n",
        "  </tbody>\n",
        "</table>\n",
        "</div>"
       ],
       "output_type": "pyout",
       "prompt_number": 45,
       "text": [
        "                   A         B\n",
        "2013-01-01 -0.090605 -0.639278\n",
        "2013-01-02  0.481719 -1.482552\n",
        "2013-01-03 -0.202500  1.806664\n",
        "2013-01-04 -0.043212 -0.337547\n",
        "2013-01-05  1.549645 -0.913009\n",
        "2013-01-06 -0.358258 -0.245355"
       ]
      }
     ],
     "prompt_number": 45
    },
    {
     "cell_type": "markdown",
     "metadata": {},
     "source": [
      "Getting particular columns and particular rows"
     ]
    },
    {
     "cell_type": "code",
     "collapsed": false,
     "input": [
      "df.ix['20130104':'20130106', ['C', 'A']]"
     ],
     "language": "python",
     "metadata": {},
     "outputs": [
      {
       "html": [
        "<div style=\"max-height:1000px;max-width:1500px;overflow:auto;\">\n",
        "<table border=\"1\" class=\"dataframe\">\n",
        "  <thead>\n",
        "    <tr style=\"text-align: right;\">\n",
        "      <th></th>\n",
        "      <th>C</th>\n",
        "      <th>A</th>\n",
        "    </tr>\n",
        "  </thead>\n",
        "  <tbody>\n",
        "    <tr>\n",
        "      <th>2013-01-04</th>\n",
        "      <td> 1.312042</td>\n",
        "      <td>-0.043212</td>\n",
        "    </tr>\n",
        "    <tr>\n",
        "      <th>2013-01-05</th>\n",
        "      <td> 1.213480</td>\n",
        "      <td> 1.549645</td>\n",
        "    </tr>\n",
        "    <tr>\n",
        "      <th>2013-01-06</th>\n",
        "      <td> 0.283050</td>\n",
        "      <td>-0.358258</td>\n",
        "    </tr>\n",
        "  </tbody>\n",
        "</table>\n",
        "</div>"
       ],
       "output_type": "pyout",
       "prompt_number": 47,
       "text": [
        "                   C         A\n",
        "2013-01-04  1.312042 -0.043212\n",
        "2013-01-05  1.213480  1.549645\n",
        "2013-01-06  0.283050 -0.358258"
       ]
      }
     ],
     "prompt_number": 47
    },
    {
     "cell_type": "markdown",
     "metadata": {},
     "source": [
      "Selecting only particular rows by some condition."
     ]
    },
    {
     "cell_type": "code",
     "collapsed": false,
     "input": [
      "df[df.A > 0]"
     ],
     "language": "python",
     "metadata": {},
     "outputs": [
      {
       "html": [
        "<div style=\"max-height:1000px;max-width:1500px;overflow:auto;\">\n",
        "<table border=\"1\" class=\"dataframe\">\n",
        "  <thead>\n",
        "    <tr style=\"text-align: right;\">\n",
        "      <th></th>\n",
        "      <th>A</th>\n",
        "      <th>B</th>\n",
        "      <th>C</th>\n",
        "      <th>D</th>\n",
        "    </tr>\n",
        "  </thead>\n",
        "  <tbody>\n",
        "    <tr>\n",
        "      <th>2013-01-02</th>\n",
        "      <td> 0.481719</td>\n",
        "      <td>-1.482552</td>\n",
        "      <td>-0.510865</td>\n",
        "      <td>-0.615172</td>\n",
        "    </tr>\n",
        "    <tr>\n",
        "      <th>2013-01-05</th>\n",
        "      <td> 1.549645</td>\n",
        "      <td>-0.913009</td>\n",
        "      <td> 1.213480</td>\n",
        "      <td> 0.574437</td>\n",
        "    </tr>\n",
        "  </tbody>\n",
        "</table>\n",
        "</div>"
       ],
       "output_type": "pyout",
       "prompt_number": 50,
       "text": [
        "                   A         B         C         D\n",
        "2013-01-02  0.481719 -1.482552 -0.510865 -0.615172\n",
        "2013-01-05  1.549645 -0.913009  1.213480  0.574437"
       ]
      }
     ],
     "prompt_number": 50
    },
    {
     "cell_type": "code",
     "collapsed": false,
     "input": [],
     "language": "python",
     "metadata": {},
     "outputs": []
    }
   ],
   "metadata": {}
  }
 ]
}