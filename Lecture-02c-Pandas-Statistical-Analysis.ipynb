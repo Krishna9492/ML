{
 "cells": [
  {
   "cell_type": "markdown",
   "metadata": {},
   "source": [
    "Pandas\n",
    "======\n",
    "\n",
    "Pandas (Python Data Analysis Library)is another a Python library whose purpose is to allow one to do statistical data analysis easily in Python.  Pandas adds a new fundamental data type, the DataFrame to the Python language.  The DataFrame is inspired by the same data type from the R statistical analysis programming envrionment.  DataFrames give us easy ways to load and massage a large data set of values.  The rest of the Pandas library adds methods to do various complex statistical analysis on the data.  Pandas is inspired by, and meant to replace functions\n",
    "one would do in R with pure Python.  Though a relatively new library, Pandas has quickly matured.  It still does not cover some of the more complex analysis you could do with R, but for many people it will have everything they need already.  Plus it is written in Python to boot, meaning one can avoid the somewhat unintuitive implementation that R provides.  Pandas is also being designed with an eye towards computational performance.  It is already as good, if not often better than R performance wise on very large data sets.\n",
    "\n",
    "References\n",
    "----------\n",
    "\n",
    "* [Pandas web site](http://pandas.pydata.org/)\n",
    "* [Python for Data Analysis](http://www.amazon.com/Python-Data-Analysis-Wes-McKinney/dp/1449319793/ref=sr_1_1?ie=UTF8&qid=1377800910&sr=8-1&keywords=python+for+data+analysis) by Wes McKinney, 2012. (developer of Pandas) "
   ]
  },
  {
   "cell_type": "code",
   "execution_count": 1,
   "metadata": {
    "collapsed": false
   },
   "outputs": [],
   "source": [
    "import numpy as np\n",
    "import pandas as pd"
   ]
  },
  {
   "cell_type": "markdown",
   "metadata": {},
   "source": [
    "Important Features in pandas\n",
    "============================\n",
    "\n",
    "Loading Data from delimited text files\n",
    "--------------------------------------\n",
    "\n",
    "A simple yet very common data format used by scientists are plain text files, with a delimiter of some kind between each data item.  This basically arranges the data as a table.  By convention, each row of the table represents one observation, or data point.  And each column of the table represents a feature or dimension that was measured or observed.  A common delimiter between each feature is to use a comma ',', though you will see files that use a blank space ' ', a tab '\\\\t' or sometimes something else to delimit fields.  Pandas allows you to easily load even very large plain text delimited files for analysls.\n",
    "\n",
    "Here is an example of a comma separated data file (from [Luis Zaman's](http://research.luiszaman.com/) digital parasite data set):"
   ]
  },
  {
   "cell_type": "code",
   "execution_count": 2,
   "metadata": {
    "collapsed": false
   },
   "outputs": [
    {
     "name": "stdout",
     "output_type": "stream",
     "text": [
      "Virulence,Replicate,ShannonDiversity\r\n",
      "0.5,1,0.0592619\r\n",
      "0.5,2,1.0936\r\n",
      "0.5,3,1.13939\r\n",
      "0.5,4,0.547651\r\n",
      "0.5,5,0.0659277\r\n",
      "0.5,6,1.34433\r\n",
      "0.5,7,1.68048\r\n",
      "0.5,8,0\r\n",
      "0.5,9,2.04768\r\n"
     ]
    }
   ],
   "source": [
    "!head data/parasite_data.csv"
   ]
  },
  {
   "cell_type": "code",
   "execution_count": 3,
   "metadata": {
    "collapsed": false
   },
   "outputs": [
    {
     "name": "stdout",
     "output_type": "stream",
     "text": [
      " ,41,0\r\n",
      " ,42,0\r\n",
      " ,43,0\r\n",
      " ,44,0\r\n",
      " ,45,0.391061\r\n",
      " ,46,0.00166884\r\n",
      " ,47,0\r\n",
      " ,48,0.444463\r\n",
      " ,49,0.383512\r\n",
      " ,50,0.511329"
     ]
    }
   ],
   "source": [
    "!tail data/parasite_data.csv"
   ]
  },
  {
   "cell_type": "markdown",
   "metadata": {},
   "source": [
    "Notice that some of the rows at the end have a blank space in the first column.  We will pass pandas a parameter to tell it how to treat these values."
   ]
  },
  {
   "cell_type": "code",
   "execution_count": 4,
   "metadata": {
    "collapsed": false
   },
   "outputs": [],
   "source": [
    "exp_df = pd.read_csv(\"data/parasite_data.csv\", na_values=[\" \"])"
   ]
  },
  {
   "cell_type": "code",
   "execution_count": 5,
   "metadata": {
    "collapsed": false
   },
   "outputs": [
    {
     "name": "stdout",
     "output_type": "stream",
     "text": [
      "     Virulence  Replicate  ShannonDiversity\n",
      "0          0.5          1          0.059262\n",
      "1          0.5          2          1.093600\n",
      "2          0.5          3          1.139390\n",
      "3          0.5          4          0.547651\n",
      "4          0.5          5          0.065928\n",
      "5          0.5          6          1.344330\n",
      "6          0.5          7          1.680480\n",
      "7          0.5          8          0.000000\n",
      "8          0.5          9          2.047680\n",
      "9          0.5         10          0.000000\n",
      "10         0.5         11          1.507140\n",
      "11         0.5         12          0.000000\n",
      "12         0.5         13          1.589810\n",
      "13         0.5         14          1.144800\n",
      "14         0.5         15          1.011190\n",
      "15         0.5         16          0.000000\n",
      "16         0.5         17          0.776665\n",
      "17         0.5         18          0.001749\n",
      "18         0.5         19          1.761200\n",
      "19         0.5         20          0.021091\n",
      "20         0.5         21          0.790915\n",
      "21         0.5         22          0.000000\n",
      "22         0.5         23          0.018866\n",
      "23         0.5         24          0.994268\n",
      "24         0.5         25          1.729620\n",
      "25         0.5         26          0.967537\n",
      "26         0.5         27          0.457318\n",
      "27         0.5         28          0.992525\n",
      "28         0.5         29          1.506640\n",
      "29         0.5         30          0.697241\n",
      "..         ...        ...               ...\n",
      "320        NaN         21          0.000000\n",
      "321        NaN         22          0.000000\n",
      "322        NaN         23          0.000000\n",
      "323        NaN         24          0.000000\n",
      "324        NaN         25          0.000000\n",
      "325        NaN         26          0.000000\n",
      "326        NaN         27          1.702720\n",
      "327        NaN         28          0.169556\n",
      "328        NaN         29          0.949750\n",
      "329        NaN         30          0.240084\n",
      "330        NaN         31          0.925913\n",
      "331        NaN         32          0.000000\n",
      "332        NaN         33          0.693356\n",
      "333        NaN         34          0.000000\n",
      "334        NaN         35          0.310170\n",
      "335        NaN         36          0.000000\n",
      "336        NaN         37          0.000000\n",
      "337        NaN         38          0.000000\n",
      "338        NaN         39          0.000000\n",
      "339        NaN         40          0.000000\n",
      "340        NaN         41          0.000000\n",
      "341        NaN         42          0.000000\n",
      "342        NaN         43          0.000000\n",
      "343        NaN         44          0.000000\n",
      "344        NaN         45          0.391061\n",
      "345        NaN         46          0.001669\n",
      "346        NaN         47          0.000000\n",
      "347        NaN         48          0.444463\n",
      "348        NaN         49          0.383512\n",
      "349        NaN         50          0.511329\n",
      "\n",
      "[350 rows x 3 columns]\n"
     ]
    }
   ],
   "source": [
    "print exp_df"
   ]
  },
  {
   "cell_type": "markdown",
   "metadata": {},
   "source": [
    "Notice that pandas automatically names the column features, using the 1st line from the data file (known as the header).  Notice also that the first feature, Virulance, is missing 50 values (it had 300 non-null values, while the other features had 350 values."
   ]
  },
  {
   "cell_type": "markdown",
   "metadata": {},
   "source": [
    "Accessing data in pandas DataFrames\n",
    "-----------------------------------\n",
    "\n",
    "We can directly access any column and row by indexing the DataFrame (kinda like a dictionary):"
   ]
  },
  {
   "cell_type": "code",
   "execution_count": 6,
   "metadata": {
    "collapsed": false
   },
   "outputs": [
    {
     "name": "stdout",
     "output_type": "stream",
     "text": [
      "0     0.5\n",
      "1     0.5\n",
      "2     0.5\n",
      "3     0.5\n",
      "4     0.5\n",
      "5     0.5\n",
      "6     0.5\n",
      "7     0.5\n",
      "8     0.5\n",
      "9     0.5\n",
      "10    0.5\n",
      "11    0.5\n",
      "12    0.5\n",
      "13    0.5\n",
      "14    0.5\n",
      "...\n",
      "335   NaN\n",
      "336   NaN\n",
      "337   NaN\n",
      "338   NaN\n",
      "339   NaN\n",
      "340   NaN\n",
      "341   NaN\n",
      "342   NaN\n",
      "343   NaN\n",
      "344   NaN\n",
      "345   NaN\n",
      "346   NaN\n",
      "347   NaN\n",
      "348   NaN\n",
      "349   NaN\n",
      "Name: Virulence, Length: 350, dtype: float64\n"
     ]
    }
   ],
   "source": [
    "print exp_df['Virulence']"
   ]
  },
  {
   "cell_type": "code",
   "execution_count": 7,
   "metadata": {
    "collapsed": false
   },
   "outputs": [
    {
     "name": "stdout",
     "output_type": "stream",
     "text": [
      "1.58981\n"
     ]
    }
   ],
   "source": [
    "print exp_df['ShannonDiversity'][12]"
   ]
  },
  {
   "cell_type": "markdown",
   "metadata": {},
   "source": [
    "We can also access all of the values in a column meeting a certain criteria:"
   ]
  },
  {
   "cell_type": "code",
   "execution_count": 8,
   "metadata": {
    "collapsed": false
   },
   "outputs": [
    {
     "name": "stdout",
     "output_type": "stream",
     "text": [
      "     Virulence  Replicate  ShannonDiversity\n",
      "8          0.5          9           2.04768\n",
      "89         0.6         40           2.01066\n",
      "92         0.6         43           2.90081\n",
      "96         0.6         47           2.02915\n",
      "105        0.7          6           2.23427\n",
      "117        0.7         18           2.14296\n",
      "127        0.7         28           2.23599\n",
      "129        0.7         30           2.48422\n",
      "133        0.7         34           2.18506\n",
      "134        0.7         35           2.42177\n",
      "139        0.7         40           2.25737\n",
      "142        0.7         43           2.07258\n",
      "148        0.7         49           2.38326\n",
      "151        0.8          2           2.07970\n",
      "153        0.8          4           2.38474\n",
      "163        0.8         14           2.03252\n",
      "165        0.8         16           2.38415\n",
      "170        0.8         21           2.02297\n",
      "172        0.8         23           2.13882\n",
      "173        0.8         24           2.53339\n",
      "182        0.8         33           2.17865\n",
      "196        0.8         47           2.07718\n",
      "208        0.9          9           2.12240\n",
      "209        0.9         10           2.46144\n",
      "212        0.9         13           2.20476\n",
      "229        0.9         30           2.28026\n",
      "235        0.9         36           2.19565\n",
      "237        0.9         38           2.16535\n",
      "243        0.9         44           2.17578\n",
      "251        1.0          2           2.16044\n"
     ]
    }
   ],
   "source": [
    "print exp_df[exp_df['ShannonDiversity'] > 2.0]"
   ]
  },
  {
   "cell_type": "markdown",
   "metadata": {},
   "source": [
    "NumPy use of pandas DataFrame data\n",
    "----------------------------------\n",
    "\n",
    "Another powerful feature of the pandas DataFrame is that they are fully integrated with NumPy.  "
   ]
  },
  {
   "cell_type": "code",
   "execution_count": 9,
   "metadata": {
    "collapsed": false
   },
   "outputs": [
    {
     "data": {
      "text/plain": [
       "array([  0.00000000e+00,   0.00000000e+00,   0.00000000e+00,\n",
       "         0.00000000e+00,   0.00000000e+00,   0.00000000e+00,\n",
       "         0.00000000e+00,   0.00000000e+00,   0.00000000e+00,\n",
       "         0.00000000e+00,   0.00000000e+00,   0.00000000e+00,\n",
       "         0.00000000e+00,   0.00000000e+00,   0.00000000e+00,\n",
       "         0.00000000e+00,   0.00000000e+00,   0.00000000e+00,\n",
       "         0.00000000e+00,   0.00000000e+00,   0.00000000e+00,\n",
       "         0.00000000e+00,   0.00000000e+00,   0.00000000e+00,\n",
       "         0.00000000e+00,   0.00000000e+00,   0.00000000e+00,\n",
       "         0.00000000e+00,   0.00000000e+00,   0.00000000e+00,\n",
       "         0.00000000e+00,   0.00000000e+00,   0.00000000e+00,\n",
       "         0.00000000e+00,   0.00000000e+00,   0.00000000e+00,\n",
       "         0.00000000e+00,   0.00000000e+00,   0.00000000e+00,\n",
       "         0.00000000e+00,   0.00000000e+00,   0.00000000e+00,\n",
       "         0.00000000e+00,   0.00000000e+00,   0.00000000e+00,\n",
       "         0.00000000e+00,   0.00000000e+00,   0.00000000e+00,\n",
       "         0.00000000e+00,   0.00000000e+00,   0.00000000e+00,\n",
       "         0.00000000e+00,   0.00000000e+00,   0.00000000e+00,\n",
       "         0.00000000e+00,   0.00000000e+00,   0.00000000e+00,\n",
       "         0.00000000e+00,   0.00000000e+00,   0.00000000e+00,\n",
       "         0.00000000e+00,   0.00000000e+00,   0.00000000e+00,\n",
       "         0.00000000e+00,   0.00000000e+00,   0.00000000e+00,\n",
       "         0.00000000e+00,   0.00000000e+00,   0.00000000e+00,\n",
       "         0.00000000e+00,   0.00000000e+00,   0.00000000e+00,\n",
       "         0.00000000e+00,   0.00000000e+00,   0.00000000e+00,\n",
       "         0.00000000e+00,   0.00000000e+00,   0.00000000e+00,\n",
       "         0.00000000e+00,   0.00000000e+00,   0.00000000e+00,\n",
       "         0.00000000e+00,   0.00000000e+00,   0.00000000e+00,\n",
       "         0.00000000e+00,   0.00000000e+00,   0.00000000e+00,\n",
       "         0.00000000e+00,   0.00000000e+00,   0.00000000e+00,\n",
       "         0.00000000e+00,   0.00000000e+00,   0.00000000e+00,\n",
       "         0.00000000e+00,   0.00000000e+00,   0.00000000e+00,\n",
       "         0.00000000e+00,   0.00000000e+00,   0.00000000e+00,\n",
       "         1.66884000e-03,   1.74899000e-03,   3.48978000e-03,\n",
       "         5.80162000e-03,   5.96288000e-03,   6.37735000e-03,\n",
       "         6.98024000e-03,   8.29361000e-03,   1.34949000e-02,\n",
       "         1.88665000e-02,   2.10908000e-02,   4.54712000e-02,\n",
       "         5.23720000e-02,   5.68192000e-02,   5.91347000e-02,\n",
       "         5.92619000e-02,   6.14139000e-02,   6.59277000e-02,\n",
       "         1.15830000e-01,   1.24755000e-01,   1.34478000e-01,\n",
       "         1.59017000e-01,   1.69556000e-01,   1.86966000e-01,\n",
       "         2.40084000e-01,   2.69136000e-01,   2.71429000e-01,\n",
       "         2.88455000e-01,   2.93153000e-01,   2.96054000e-01,\n",
       "         3.10170000e-01,   3.16439000e-01,   3.21375000e-01,\n",
       "         3.41714000e-01,   3.43235000e-01,   3.45177000e-01,\n",
       "         3.48283000e-01,   3.74074000e-01,   3.83512000e-01,\n",
       "         3.91061000e-01,   3.92939000e-01,   4.16046000e-01,\n",
       "         4.21927000e-01,   4.44463000e-01,   4.45267000e-01,\n",
       "         4.57318000e-01,   4.60192000e-01,   5.11329000e-01,\n",
       "         5.19065000e-01,   5.47157000e-01,   5.47651000e-01,\n",
       "         5.51367000e-01,   5.68674000e-01,   5.84252000e-01,\n",
       "         5.97295000e-01,   6.14147000e-01,   6.17618000e-01,\n",
       "         6.44337000e-01,   6.55764000e-01,   6.69810000e-01,\n",
       "         6.87150000e-01,   6.93356000e-01,   6.97241000e-01,\n",
       "         7.13224000e-01,   7.16393000e-01,   7.19755000e-01,\n",
       "         7.21134000e-01,   7.38403000e-01,   7.57638000e-01,\n",
       "         7.64003000e-01,   7.76665000e-01,   7.87591000e-01,\n",
       "         7.90915000e-01,   8.12238000e-01,   8.20405000e-01,\n",
       "         8.33645000e-01,   8.57742000e-01,   8.75816000e-01,\n",
       "         8.82519000e-01,   8.84122000e-01,   8.87569000e-01,\n",
       "         8.90169000e-01,   8.92139000e-01,   8.92717000e-01,\n",
       "         9.04773000e-01,   9.09254000e-01,   9.25913000e-01,\n",
       "         9.32470000e-01,   9.35883000e-01,   9.38018000e-01,\n",
       "         9.48393000e-01,   9.49750000e-01,   9.54747000e-01,\n",
       "         9.57757000e-01,   9.58280000e-01,   9.60891000e-01,\n",
       "         9.60912000e-01,   9.67537000e-01,   9.68258000e-01,\n",
       "         9.69003000e-01,   9.71351000e-01,   9.79254000e-01,\n",
       "         9.80076000e-01,   9.80876000e-01,   9.86830000e-01,\n",
       "         9.90309000e-01,   9.90460000e-01,   9.92335000e-01,\n",
       "         9.92525000e-01,   9.94268000e-01,   9.95956000e-01,\n",
       "         9.97556000e-01,   9.98377000e-01,   9.98564000e-01,\n",
       "         9.99456000e-01,   9.99556000e-01,   9.99703000e-01,\n",
       "         9.99802000e-01,   1.00134000e+00,   1.00348000e+00,\n",
       "         1.00485000e+00,   1.00513000e+00,   1.00697000e+00,\n",
       "         1.01119000e+00,   1.01170000e+00,   1.02233000e+00,\n",
       "         1.03500000e+00,   1.03693000e+00,   1.04260000e+00,\n",
       "         1.07258000e+00,   1.08938000e+00,   1.09360000e+00,\n",
       "         1.09448000e+00,   1.11849000e+00,   1.12732000e+00,\n",
       "         1.13910000e+00,   1.13939000e+00,   1.14480000e+00,\n",
       "         1.15291000e+00,   1.15410000e+00,   1.15516000e+00,\n",
       "         1.17992000e+00,   1.18013000e+00,   1.19045000e+00,\n",
       "         1.21234000e+00,   1.23889000e+00,   1.26228000e+00,\n",
       "         1.27023000e+00,   1.28415000e+00,   1.29282000e+00,\n",
       "         1.32344000e+00,   1.32732000e+00,   1.34433000e+00,\n",
       "         1.35093000e+00,   1.39485000e+00,   1.41973000e+00,\n",
       "         1.42847000e+00,   1.43380000e+00,   1.49551000e+00,\n",
       "         1.50664000e+00,   1.50714000e+00,   1.51456000e+00,\n",
       "         1.52632000e+00,   1.53615000e+00,   1.55725000e+00,\n",
       "         1.56022000e+00,   1.56433000e+00,   1.56641000e+00,\n",
       "         1.56984000e+00,   1.57031000e+00,   1.57826000e+00,\n",
       "         1.58125000e+00,   1.58325000e+00,   1.58390000e+00,\n",
       "         1.58430000e+00,   1.58458000e+00,   1.58981000e+00,\n",
       "         1.59544000e+00,   1.63300000e+00,   1.65168000e+00,\n",
       "         1.66055000e+00,   1.68048000e+00,   1.69960000e+00,\n",
       "         1.70044000e+00,   1.70272000e+00,   1.71120000e+00,\n",
       "         1.71595000e+00,   1.72521000e+00,   1.72962000e+00,\n",
       "         1.73888000e+00,   1.74604000e+00,   1.76120000e+00,\n",
       "         1.76133000e+00,   1.78104000e+00,   1.78771000e+00,\n",
       "         1.79058000e+00,   1.79258000e+00,   1.81450000e+00,\n",
       "         1.82014000e+00,   1.82487000e+00,   1.83399000e+00,\n",
       "         1.83625000e+00,   1.85485000e+00,   1.85963000e+00,\n",
       "         1.87038000e+00,   1.87913000e+00,   1.88554000e+00,\n",
       "         1.89840000e+00,   1.90202000e+00,   1.92080000e+00,\n",
       "         1.92279000e+00,   1.93562000e+00,   1.93793000e+00,\n",
       "         1.95026000e+00,   1.95902000e+00,   1.96167000e+00,\n",
       "         1.97176000e+00,   1.97185000e+00,   1.98001000e+00,\n",
       "         1.98161000e+00,   1.99090000e+00,   2.01066000e+00,\n",
       "         2.02297000e+00,   2.02915000e+00,   2.03252000e+00,\n",
       "         2.04768000e+00,   2.07258000e+00,   2.07718000e+00,\n",
       "         2.07970000e+00,   2.12240000e+00,   2.13882000e+00,\n",
       "         2.14296000e+00,   2.16044000e+00,   2.16535000e+00,\n",
       "         2.17578000e+00,   2.17865000e+00,   2.18506000e+00,\n",
       "         2.19565000e+00,   2.20476000e+00,   2.23427000e+00,\n",
       "         2.23599000e+00,   2.25737000e+00,   2.28026000e+00,\n",
       "         2.38326000e+00,   2.38415000e+00,   2.38474000e+00,\n",
       "         2.42177000e+00,   2.46144000e+00,   2.48422000e+00,\n",
       "         2.53339000e+00,   2.90081000e+00])"
      ]
     },
     "execution_count": 9,
     "metadata": {},
     "output_type": "execute_result"
    }
   ],
   "source": [
    "np.sort(exp_df['ShannonDiversity'])"
   ]
  },
  {
   "cell_type": "markdown",
   "metadata": {},
   "source": [
    "Blank/Omitted data\n",
    "==================\n",
    "\n",
    "One of the toughest preprocessing steps that is needed in analyzing a real data step is trying to identify and figure out how to handle missing data.  Pandas gives great support for identifying and specifying how to handle these missing values."
   ]
  },
  {
   "cell_type": "code",
   "execution_count": 10,
   "metadata": {
    "collapsed": false
   },
   "outputs": [
    {
     "name": "stdout",
     "output_type": "stream",
     "text": [
      "     Virulence  Replicate  ShannonDiversity\n",
      "300        NaN          1          0.000000\n",
      "301        NaN          2          0.000000\n",
      "302        NaN          3          0.833645\n",
      "303        NaN          4          0.000000\n",
      "304        NaN          5          0.990309\n",
      "305        NaN          6          0.000000\n",
      "306        NaN          7          0.000000\n",
      "307        NaN          8          0.000000\n",
      "308        NaN          9          0.061414\n",
      "309        NaN         10          0.316439\n",
      "310        NaN         11          0.904773\n",
      "311        NaN         12          0.884122\n",
      "312        NaN         13          0.000000\n",
      "313        NaN         14          0.000000\n",
      "314        NaN         15          0.000000\n",
      "315        NaN         16          0.000000\n",
      "316        NaN         17          0.013495\n",
      "317        NaN         18          0.882519\n",
      "318        NaN         19          0.000000\n",
      "319        NaN         20          0.986830\n",
      "320        NaN         21          0.000000\n",
      "321        NaN         22          0.000000\n",
      "322        NaN         23          0.000000\n",
      "323        NaN         24          0.000000\n",
      "324        NaN         25          0.000000\n",
      "325        NaN         26          0.000000\n",
      "326        NaN         27          1.702720\n",
      "327        NaN         28          0.169556\n",
      "328        NaN         29          0.949750\n",
      "329        NaN         30          0.240084\n",
      "330        NaN         31          0.925913\n",
      "331        NaN         32          0.000000\n",
      "332        NaN         33          0.693356\n",
      "333        NaN         34          0.000000\n",
      "334        NaN         35          0.310170\n",
      "335        NaN         36          0.000000\n",
      "336        NaN         37          0.000000\n",
      "337        NaN         38          0.000000\n",
      "338        NaN         39          0.000000\n",
      "339        NaN         40          0.000000\n",
      "340        NaN         41          0.000000\n",
      "341        NaN         42          0.000000\n",
      "342        NaN         43          0.000000\n",
      "343        NaN         44          0.000000\n",
      "344        NaN         45          0.391061\n",
      "345        NaN         46          0.001669\n",
      "346        NaN         47          0.000000\n",
      "347        NaN         48          0.444463\n",
      "348        NaN         49          0.383512\n",
      "349        NaN         50          0.511329\n"
     ]
    }
   ],
   "source": [
    "print exp_df[np.isnan(exp_df['Virulence'])]"
   ]
  },
  {
   "cell_type": "markdown",
   "metadata": {},
   "source": [
    "DataFrame methods automatically ignore NA/NaN values (which is usually the right thing to do)."
   ]
  },
  {
   "cell_type": "code",
   "execution_count": 11,
   "metadata": {
    "collapsed": false
   },
   "outputs": [
    {
     "name": "stdout",
     "output_type": "stream",
     "text": [
      "Mean virulence across all treatments: 0.75\n"
     ]
    }
   ],
   "source": [
    "print \"Mean virulence across all treatments:\", exp_df['Virulence'].mean()"
   ]
  },
  {
   "cell_type": "markdown",
   "metadata": {},
   "source": [
    "Although we can filter out NA/NaN values if we need to, to for example pass to other libraries that don't handle these so well.  Notice that the following has dropped those 50 rows that had null Virulence values."
   ]
  },
  {
   "cell_type": "code",
   "execution_count": 12,
   "metadata": {
    "collapsed": false
   },
   "outputs": [
    {
     "name": "stdout",
     "output_type": "stream",
     "text": [
      "     Virulence  Replicate  ShannonDiversity\n",
      "0          0.5          1          0.059262\n",
      "1          0.5          2          1.093600\n",
      "2          0.5          3          1.139390\n",
      "3          0.5          4          0.547651\n",
      "4          0.5          5          0.065928\n",
      "5          0.5          6          1.344330\n",
      "6          0.5          7          1.680480\n",
      "7          0.5          8          0.000000\n",
      "8          0.5          9          2.047680\n",
      "9          0.5         10          0.000000\n",
      "10         0.5         11          1.507140\n",
      "11         0.5         12          0.000000\n",
      "12         0.5         13          1.589810\n",
      "13         0.5         14          1.144800\n",
      "14         0.5         15          1.011190\n",
      "15         0.5         16          0.000000\n",
      "16         0.5         17          0.776665\n",
      "17         0.5         18          0.001749\n",
      "18         0.5         19          1.761200\n",
      "19         0.5         20          0.021091\n",
      "20         0.5         21          0.790915\n",
      "21         0.5         22          0.000000\n",
      "22         0.5         23          0.018866\n",
      "23         0.5         24          0.994268\n",
      "24         0.5         25          1.729620\n",
      "25         0.5         26          0.967537\n",
      "26         0.5         27          0.457318\n",
      "27         0.5         28          0.992525\n",
      "28         0.5         29          1.506640\n",
      "29         0.5         30          0.697241\n",
      "..         ...        ...               ...\n",
      "270        1.0         21          0.000000\n",
      "271        1.0         22          0.000000\n",
      "272        1.0         23          0.000000\n",
      "273        1.0         24          0.000000\n",
      "274        1.0         25          0.000000\n",
      "275        1.0         26          0.000000\n",
      "276        1.0         27          0.000000\n",
      "277        1.0         28          0.000000\n",
      "278        1.0         29          0.460192\n",
      "279        1.0         30          0.909254\n",
      "280        1.0         31          0.971351\n",
      "281        1.0         32          0.000000\n",
      "282        1.0         33          0.887569\n",
      "283        1.0         34          0.000000\n",
      "284        1.0         35          0.000000\n",
      "285        1.0         36          0.000000\n",
      "286        1.0         37          0.000000\n",
      "287        1.0         38          0.000000\n",
      "288        1.0         39          0.000000\n",
      "289        1.0         40          1.514560\n",
      "290        1.0         41          0.000000\n",
      "291        1.0         42          0.000000\n",
      "292        1.0         43          0.000000\n",
      "293        1.0         44          0.716393\n",
      "294        1.0         45          0.000000\n",
      "295        1.0         46          0.644337\n",
      "296        1.0         47          0.875816\n",
      "297        1.0         48          0.000000\n",
      "298        1.0         49          0.000000\n",
      "299        1.0         50          0.000000\n",
      "\n",
      "[300 rows x 3 columns]\n"
     ]
    }
   ],
   "source": [
    "print exp_df.dropna()"
   ]
  },
  {
   "cell_type": "markdown",
   "metadata": {},
   "source": [
    "Or if needed, we can instead replace all NA/NaN entries with a valid (default) value."
   ]
  },
  {
   "cell_type": "code",
   "execution_count": 13,
   "metadata": {
    "collapsed": false
   },
   "outputs": [
    {
     "name": "stdout",
     "output_type": "stream",
     "text": [
      "0     0.5\n",
      "1     0.5\n",
      "2     0.5\n",
      "3     0.5\n",
      "4     0.5\n",
      "5     0.5\n",
      "6     0.5\n",
      "7     0.5\n",
      "8     0.5\n",
      "9     0.5\n",
      "10    0.5\n",
      "11    0.5\n",
      "12    0.5\n",
      "13    0.5\n",
      "14    0.5\n",
      "...\n",
      "335    0\n",
      "336    0\n",
      "337    0\n",
      "338    0\n",
      "339    0\n",
      "340    0\n",
      "341    0\n",
      "342    0\n",
      "343    0\n",
      "344    0\n",
      "345    0\n",
      "346    0\n",
      "347    0\n",
      "348    0\n",
      "349    0\n",
      "Name: Virulence, Length: 350, dtype: float64\n"
     ]
    }
   ],
   "source": [
    "print exp_df.fillna(0.0)['Virulence']"
   ]
  },
  {
   "cell_type": "markdown",
   "metadata": {},
   "source": [
    "Some Simple Summary Statistics with Pandas\n",
    "------------------------------------------\n",
    "\n",
    "Lets look at some very simple summary statistics with pandas.  Conveniently DataFrames have all kinds of built-in functions to perform standard operations on them en masse: add() sub() mul() div() mean() std() etc."
   ]
  },
  {
   "cell_type": "code",
   "execution_count": 14,
   "metadata": {
    "collapsed": false
   },
   "outputs": [
    {
     "name": "stdout",
     "output_type": "stream",
     "text": [
      "Mean Shannon Diversity w/ 0.8 Parasite Virulence =  1.2691338188\n",
      "Variance Shannon Diversity w/ 0.8 Parasite Virulence =  0.611038433313\n"
     ]
    }
   ],
   "source": [
    "print \"Mean Shannon Diversity w/ 0.8 Parasite Virulence = \", exp_df[exp_df['Virulence'] == 0.8]['ShannonDiversity'].mean()\n",
    "print \"Variance Shannon Diversity w/ 0.8 Parasite Virulence = \", exp_df[exp_df['Virulence'] == 0.8]['ShannonDiversity'].var()"
   ]
  },
  {
   "cell_type": "markdown",
   "metadata": {},
   "source": [
    "Some More Examples\n",
    "------------------\n",
    "\n",
    "The following are more examples of how you can manipulate pandas DataFrames (taken from the pandas [10-minute tutorial](http://pandas.pydata.org/pandas-docs/stable/10min.html))"
   ]
  },
  {
   "cell_type": "code",
   "execution_count": 15,
   "metadata": {
    "collapsed": false
   },
   "outputs": [
    {
     "name": "stdout",
     "output_type": "stream",
     "text": [
      "<class 'pandas.tseries.index.DatetimeIndex'>\n",
      "[2013-01-01, ..., 2013-01-06]\n",
      "Length: 6, Freq: D, Timezone: None\n",
      "                   A         B         C         D\n",
      "2013-01-01  0.653970 -0.431394  0.465382  1.210464\n",
      "2013-01-02  0.100715 -0.792675  0.019335  0.740310\n",
      "2013-01-03  0.127276  0.918789  0.973470  0.290542\n",
      "2013-01-04  0.429348  1.774377 -1.444243  0.085166\n",
      "2013-01-05  0.407218 -3.158361  0.819417  0.229513\n",
      "2013-01-06  0.241493  0.484988  0.097427 -0.353847\n"
     ]
    }
   ],
   "source": [
    "dates = pd.date_range('20130101', periods=6)\n",
    "print dates\n",
    "df = pd.DataFrame(np.random.randn(6,4), index=dates, columns=list('ABCD'))\n",
    "print df"
   ]
  },
  {
   "cell_type": "code",
   "execution_count": 16,
   "metadata": {
    "collapsed": false
   },
   "outputs": [
    {
     "data": {
      "text/html": [
       "<div style=\"max-height:1000px;max-width:1500px;overflow:auto;\">\n",
       "<table border=\"1\" class=\"dataframe\">\n",
       "  <thead>\n",
       "    <tr style=\"text-align: right;\">\n",
       "      <th></th>\n",
       "      <th>A</th>\n",
       "      <th>B</th>\n",
       "      <th>C</th>\n",
       "      <th>D</th>\n",
       "      <th>E</th>\n",
       "    </tr>\n",
       "  </thead>\n",
       "  <tbody>\n",
       "    <tr>\n",
       "      <th>0</th>\n",
       "      <td> 1</td>\n",
       "      <td>2013-01-02</td>\n",
       "      <td> 1</td>\n",
       "      <td> 3</td>\n",
       "      <td> foo</td>\n",
       "    </tr>\n",
       "    <tr>\n",
       "      <th>1</th>\n",
       "      <td> 1</td>\n",
       "      <td>2013-01-02</td>\n",
       "      <td> 1</td>\n",
       "      <td> 3</td>\n",
       "      <td> foo</td>\n",
       "    </tr>\n",
       "    <tr>\n",
       "      <th>2</th>\n",
       "      <td> 1</td>\n",
       "      <td>2013-01-02</td>\n",
       "      <td> 1</td>\n",
       "      <td> 3</td>\n",
       "      <td> foo</td>\n",
       "    </tr>\n",
       "    <tr>\n",
       "      <th>3</th>\n",
       "      <td> 1</td>\n",
       "      <td>2013-01-02</td>\n",
       "      <td> 1</td>\n",
       "      <td> 3</td>\n",
       "      <td> foo</td>\n",
       "    </tr>\n",
       "  </tbody>\n",
       "</table>\n",
       "</div>"
      ],
      "text/plain": [
       "   A          B  C  D    E\n",
       "0  1 2013-01-02  1  3  foo\n",
       "1  1 2013-01-02  1  3  foo\n",
       "2  1 2013-01-02  1  3  foo\n",
       "3  1 2013-01-02  1  3  foo"
      ]
     },
     "execution_count": 16,
     "metadata": {},
     "output_type": "execute_result"
    }
   ],
   "source": [
    "df2 = pd.DataFrame({'A': 1.0,\n",
    "                    'B': pd.Timestamp('20130102'),\n",
    "                    'C': pd.Series(1, index=range(4), dtype='float32'),\n",
    "                    'D': np.array([3] * 4, dtype='int32'),\n",
    "                    'E': 'foo'})\n",
    "df2"
   ]
  },
  {
   "cell_type": "code",
   "execution_count": 17,
   "metadata": {
    "collapsed": false
   },
   "outputs": [
    {
     "data": {
      "text/plain": [
       "A           float64\n",
       "B    datetime64[ns]\n",
       "C           float32\n",
       "D             int32\n",
       "E            object\n",
       "dtype: object"
      ]
     },
     "execution_count": 17,
     "metadata": {},
     "output_type": "execute_result"
    }
   ],
   "source": [
    "df2.dtypes"
   ]
  },
  {
   "cell_type": "code",
   "execution_count": 18,
   "metadata": {
    "collapsed": false
   },
   "outputs": [
    {
     "data": {
      "text/html": [
       "<div style=\"max-height:1000px;max-width:1500px;overflow:auto;\">\n",
       "<table border=\"1\" class=\"dataframe\">\n",
       "  <thead>\n",
       "    <tr style=\"text-align: right;\">\n",
       "      <th></th>\n",
       "      <th>A</th>\n",
       "      <th>B</th>\n",
       "      <th>C</th>\n",
       "      <th>D</th>\n",
       "    </tr>\n",
       "  </thead>\n",
       "  <tbody>\n",
       "    <tr>\n",
       "      <th>2013-01-01</th>\n",
       "      <td> 0.653970</td>\n",
       "      <td>-0.431394</td>\n",
       "      <td> 0.465382</td>\n",
       "      <td> 1.210464</td>\n",
       "    </tr>\n",
       "    <tr>\n",
       "      <th>2013-01-02</th>\n",
       "      <td> 0.100715</td>\n",
       "      <td>-0.792675</td>\n",
       "      <td> 0.019335</td>\n",
       "      <td> 0.740310</td>\n",
       "    </tr>\n",
       "    <tr>\n",
       "      <th>2013-01-03</th>\n",
       "      <td> 0.127276</td>\n",
       "      <td> 0.918789</td>\n",
       "      <td> 0.973470</td>\n",
       "      <td> 0.290542</td>\n",
       "    </tr>\n",
       "    <tr>\n",
       "      <th>2013-01-04</th>\n",
       "      <td> 0.429348</td>\n",
       "      <td> 1.774377</td>\n",
       "      <td>-1.444243</td>\n",
       "      <td> 0.085166</td>\n",
       "    </tr>\n",
       "    <tr>\n",
       "      <th>2013-01-05</th>\n",
       "      <td> 0.407218</td>\n",
       "      <td>-3.158361</td>\n",
       "      <td> 0.819417</td>\n",
       "      <td> 0.229513</td>\n",
       "    </tr>\n",
       "  </tbody>\n",
       "</table>\n",
       "</div>"
      ],
      "text/plain": [
       "                   A         B         C         D\n",
       "2013-01-01  0.653970 -0.431394  0.465382  1.210464\n",
       "2013-01-02  0.100715 -0.792675  0.019335  0.740310\n",
       "2013-01-03  0.127276  0.918789  0.973470  0.290542\n",
       "2013-01-04  0.429348  1.774377 -1.444243  0.085166\n",
       "2013-01-05  0.407218 -3.158361  0.819417  0.229513"
      ]
     },
     "execution_count": 18,
     "metadata": {},
     "output_type": "execute_result"
    }
   ],
   "source": [
    "df.head()"
   ]
  },
  {
   "cell_type": "code",
   "execution_count": 19,
   "metadata": {
    "collapsed": false
   },
   "outputs": [
    {
     "data": {
      "text/html": [
       "<div style=\"max-height:1000px;max-width:1500px;overflow:auto;\">\n",
       "<table border=\"1\" class=\"dataframe\">\n",
       "  <thead>\n",
       "    <tr style=\"text-align: right;\">\n",
       "      <th></th>\n",
       "      <th>A</th>\n",
       "      <th>B</th>\n",
       "      <th>C</th>\n",
       "      <th>D</th>\n",
       "    </tr>\n",
       "  </thead>\n",
       "  <tbody>\n",
       "    <tr>\n",
       "      <th>2013-01-04</th>\n",
       "      <td> 0.429348</td>\n",
       "      <td> 1.774377</td>\n",
       "      <td>-1.444243</td>\n",
       "      <td> 0.085166</td>\n",
       "    </tr>\n",
       "    <tr>\n",
       "      <th>2013-01-05</th>\n",
       "      <td> 0.407218</td>\n",
       "      <td>-3.158361</td>\n",
       "      <td> 0.819417</td>\n",
       "      <td> 0.229513</td>\n",
       "    </tr>\n",
       "    <tr>\n",
       "      <th>2013-01-06</th>\n",
       "      <td> 0.241493</td>\n",
       "      <td> 0.484988</td>\n",
       "      <td> 0.097427</td>\n",
       "      <td>-0.353847</td>\n",
       "    </tr>\n",
       "  </tbody>\n",
       "</table>\n",
       "</div>"
      ],
      "text/plain": [
       "                   A         B         C         D\n",
       "2013-01-04  0.429348  1.774377 -1.444243  0.085166\n",
       "2013-01-05  0.407218 -3.158361  0.819417  0.229513\n",
       "2013-01-06  0.241493  0.484988  0.097427 -0.353847"
      ]
     },
     "execution_count": 19,
     "metadata": {},
     "output_type": "execute_result"
    }
   ],
   "source": [
    "df.tail(3)"
   ]
  },
  {
   "cell_type": "code",
   "execution_count": 20,
   "metadata": {
    "collapsed": false
   },
   "outputs": [
    {
     "data": {
      "text/plain": [
       "Index([u'A', u'B', u'C', u'D'], dtype='object')"
      ]
     },
     "execution_count": 20,
     "metadata": {},
     "output_type": "execute_result"
    }
   ],
   "source": [
    "df.columns"
   ]
  },
  {
   "cell_type": "code",
   "execution_count": 21,
   "metadata": {
    "collapsed": false
   },
   "outputs": [
    {
     "data": {
      "text/plain": [
       "array([[ 0.65397003, -0.43139399,  0.46538219,  1.21046425],\n",
       "       [ 0.10071495, -0.79267463,  0.01933488,  0.74030998],\n",
       "       [ 0.12727617,  0.9187893 ,  0.97346997,  0.29054155],\n",
       "       [ 0.42934838,  1.77437729, -1.44424274,  0.08516607],\n",
       "       [ 0.40721815, -3.15836113,  0.81941718,  0.22951265],\n",
       "       [ 0.24149279,  0.48498807,  0.09742745, -0.353847  ]])"
      ]
     },
     "execution_count": 21,
     "metadata": {},
     "output_type": "execute_result"
    }
   ],
   "source": [
    "df.values # notice, the easiest way to turn whole pandas DataFrame into a NumPy array with same rows/columns"
   ]
  },
  {
   "cell_type": "markdown",
   "metadata": {},
   "source": [
    "Describe shows a quick statistics summary of your data:"
   ]
  },
  {
   "cell_type": "code",
   "execution_count": 22,
   "metadata": {
    "collapsed": false
   },
   "outputs": [
    {
     "data": {
      "text/html": [
       "<div style=\"max-height:1000px;max-width:1500px;overflow:auto;\">\n",
       "<table border=\"1\" class=\"dataframe\">\n",
       "  <thead>\n",
       "    <tr style=\"text-align: right;\">\n",
       "      <th></th>\n",
       "      <th>A</th>\n",
       "      <th>B</th>\n",
       "      <th>C</th>\n",
       "      <th>D</th>\n",
       "    </tr>\n",
       "  </thead>\n",
       "  <tbody>\n",
       "    <tr>\n",
       "      <th>count</th>\n",
       "      <td> 6.000000</td>\n",
       "      <td> 6.000000</td>\n",
       "      <td> 6.000000</td>\n",
       "      <td> 6.000000</td>\n",
       "    </tr>\n",
       "    <tr>\n",
       "      <th>mean</th>\n",
       "      <td> 0.326670</td>\n",
       "      <td>-0.200713</td>\n",
       "      <td> 0.155131</td>\n",
       "      <td> 0.367025</td>\n",
       "    </tr>\n",
       "    <tr>\n",
       "      <th>std</th>\n",
       "      <td> 0.210820</td>\n",
       "      <td> 1.719056</td>\n",
       "      <td> 0.870285</td>\n",
       "      <td> 0.543064</td>\n",
       "    </tr>\n",
       "    <tr>\n",
       "      <th>min</th>\n",
       "      <td> 0.100715</td>\n",
       "      <td>-3.158361</td>\n",
       "      <td>-1.444243</td>\n",
       "      <td>-0.353847</td>\n",
       "    </tr>\n",
       "    <tr>\n",
       "      <th>25%</th>\n",
       "      <td> 0.155830</td>\n",
       "      <td>-0.702354</td>\n",
       "      <td> 0.038858</td>\n",
       "      <td> 0.121253</td>\n",
       "    </tr>\n",
       "    <tr>\n",
       "      <th>50%</th>\n",
       "      <td> 0.324355</td>\n",
       "      <td> 0.026797</td>\n",
       "      <td> 0.281405</td>\n",
       "      <td> 0.260027</td>\n",
       "    </tr>\n",
       "    <tr>\n",
       "      <th>75%</th>\n",
       "      <td> 0.423816</td>\n",
       "      <td> 0.810339</td>\n",
       "      <td> 0.730908</td>\n",
       "      <td> 0.627868</td>\n",
       "    </tr>\n",
       "    <tr>\n",
       "      <th>max</th>\n",
       "      <td> 0.653970</td>\n",
       "      <td> 1.774377</td>\n",
       "      <td> 0.973470</td>\n",
       "      <td> 1.210464</td>\n",
       "    </tr>\n",
       "  </tbody>\n",
       "</table>\n",
       "</div>"
      ],
      "text/plain": [
       "              A         B         C         D\n",
       "count  6.000000  6.000000  6.000000  6.000000\n",
       "mean   0.326670 -0.200713  0.155131  0.367025\n",
       "std    0.210820  1.719056  0.870285  0.543064\n",
       "min    0.100715 -3.158361 -1.444243 -0.353847\n",
       "25%    0.155830 -0.702354  0.038858  0.121253\n",
       "50%    0.324355  0.026797  0.281405  0.260027\n",
       "75%    0.423816  0.810339  0.730908  0.627868\n",
       "max    0.653970  1.774377  0.973470  1.210464"
      ]
     },
     "execution_count": 22,
     "metadata": {},
     "output_type": "execute_result"
    }
   ],
   "source": [
    "df.describe()"
   ]
  },
  {
   "cell_type": "markdown",
   "metadata": {},
   "source": [
    "Sort data by values of some column"
   ]
  },
  {
   "cell_type": "code",
   "execution_count": 23,
   "metadata": {
    "collapsed": false
   },
   "outputs": [
    {
     "data": {
      "text/html": [
       "<div style=\"max-height:1000px;max-width:1500px;overflow:auto;\">\n",
       "<table border=\"1\" class=\"dataframe\">\n",
       "  <thead>\n",
       "    <tr style=\"text-align: right;\">\n",
       "      <th></th>\n",
       "      <th>A</th>\n",
       "      <th>B</th>\n",
       "      <th>C</th>\n",
       "      <th>D</th>\n",
       "    </tr>\n",
       "  </thead>\n",
       "  <tbody>\n",
       "    <tr>\n",
       "      <th>2013-01-05</th>\n",
       "      <td> 0.407218</td>\n",
       "      <td>-3.158361</td>\n",
       "      <td> 0.819417</td>\n",
       "      <td> 0.229513</td>\n",
       "    </tr>\n",
       "    <tr>\n",
       "      <th>2013-01-02</th>\n",
       "      <td> 0.100715</td>\n",
       "      <td>-0.792675</td>\n",
       "      <td> 0.019335</td>\n",
       "      <td> 0.740310</td>\n",
       "    </tr>\n",
       "    <tr>\n",
       "      <th>2013-01-01</th>\n",
       "      <td> 0.653970</td>\n",
       "      <td>-0.431394</td>\n",
       "      <td> 0.465382</td>\n",
       "      <td> 1.210464</td>\n",
       "    </tr>\n",
       "    <tr>\n",
       "      <th>2013-01-06</th>\n",
       "      <td> 0.241493</td>\n",
       "      <td> 0.484988</td>\n",
       "      <td> 0.097427</td>\n",
       "      <td>-0.353847</td>\n",
       "    </tr>\n",
       "    <tr>\n",
       "      <th>2013-01-03</th>\n",
       "      <td> 0.127276</td>\n",
       "      <td> 0.918789</td>\n",
       "      <td> 0.973470</td>\n",
       "      <td> 0.290542</td>\n",
       "    </tr>\n",
       "    <tr>\n",
       "      <th>2013-01-04</th>\n",
       "      <td> 0.429348</td>\n",
       "      <td> 1.774377</td>\n",
       "      <td>-1.444243</td>\n",
       "      <td> 0.085166</td>\n",
       "    </tr>\n",
       "  </tbody>\n",
       "</table>\n",
       "</div>"
      ],
      "text/plain": [
       "                   A         B         C         D\n",
       "2013-01-05  0.407218 -3.158361  0.819417  0.229513\n",
       "2013-01-02  0.100715 -0.792675  0.019335  0.740310\n",
       "2013-01-01  0.653970 -0.431394  0.465382  1.210464\n",
       "2013-01-06  0.241493  0.484988  0.097427 -0.353847\n",
       "2013-01-03  0.127276  0.918789  0.973470  0.290542\n",
       "2013-01-04  0.429348  1.774377 -1.444243  0.085166"
      ]
     },
     "execution_count": 23,
     "metadata": {},
     "output_type": "execute_result"
    }
   ],
   "source": [
    "df.sort(columns='B')"
   ]
  },
  {
   "cell_type": "markdown",
   "metadata": {},
   "source": [
    "Select a single column, which yields a Series, equivalent to df.A"
   ]
  },
  {
   "cell_type": "code",
   "execution_count": 24,
   "metadata": {
    "collapsed": false
   },
   "outputs": [
    {
     "data": {
      "text/plain": [
       "2013-01-01    0.653970\n",
       "2013-01-02    0.100715\n",
       "2013-01-03    0.127276\n",
       "2013-01-04    0.429348\n",
       "2013-01-05    0.407218\n",
       "2013-01-06    0.241493\n",
       "Freq: D, Name: A, dtype: float64"
      ]
     },
     "execution_count": 24,
     "metadata": {},
     "output_type": "execute_result"
    }
   ],
   "source": [
    "df['A']"
   ]
  },
  {
   "cell_type": "markdown",
   "metadata": {},
   "source": [
    "Copy a column values into a NumPy array, for passing to a library for example:\n"
   ]
  },
  {
   "cell_type": "code",
   "execution_count": 25,
   "metadata": {
    "collapsed": false
   },
   "outputs": [
    {
     "name": "stdout",
     "output_type": "stream",
     "text": [
      "[ 0.65397003  0.10071495  0.12727617  0.42934838  0.40721815  0.24149279]\n",
      "<type 'numpy.ndarray'>\n"
     ]
    }
   ],
   "source": [
    "col_A = df['A'].values\n",
    "print col_A\n",
    "print type(col_A)"
   ]
  },
  {
   "cell_type": "markdown",
   "metadata": {},
   "source": [
    "Select rows of a DataFrame using slices."
   ]
  },
  {
   "cell_type": "code",
   "execution_count": 26,
   "metadata": {
    "collapsed": false
   },
   "outputs": [
    {
     "name": "stdout",
     "output_type": "stream",
     "text": [
      "                   A         B         C         D\n",
      "2013-01-02  0.100715 -0.792675  0.019335  0.740310\n",
      "2013-01-03  0.127276  0.918789  0.973470  0.290542\n",
      "                   A         B         C         D\n",
      "2013-01-03  0.127276  0.918789  0.973470  0.290542\n",
      "2013-01-04  0.429348  1.774377 -1.444243  0.085166\n",
      "2013-01-05  0.407218 -3.158361  0.819417  0.229513\n"
     ]
    }
   ],
   "source": [
    "print df[1:3]\n",
    "print df['20130103':'20130105']"
   ]
  },
  {
   "cell_type": "markdown",
   "metadata": {},
   "source": [
    "Selecting multiple columns.  Unfortunately"
   ]
  },
  {
   "cell_type": "code",
   "execution_count": 27,
   "metadata": {
    "collapsed": false
   },
   "outputs": [
    {
     "data": {
      "text/html": [
       "<div style=\"max-height:1000px;max-width:1500px;overflow:auto;\">\n",
       "<table border=\"1\" class=\"dataframe\">\n",
       "  <thead>\n",
       "    <tr style=\"text-align: right;\">\n",
       "      <th></th>\n",
       "      <th>A</th>\n",
       "      <th>B</th>\n",
       "    </tr>\n",
       "  </thead>\n",
       "  <tbody>\n",
       "    <tr>\n",
       "      <th>2013-01-01</th>\n",
       "      <td> 0.653970</td>\n",
       "      <td>-0.431394</td>\n",
       "    </tr>\n",
       "    <tr>\n",
       "      <th>2013-01-02</th>\n",
       "      <td> 0.100715</td>\n",
       "      <td>-0.792675</td>\n",
       "    </tr>\n",
       "    <tr>\n",
       "      <th>2013-01-03</th>\n",
       "      <td> 0.127276</td>\n",
       "      <td> 0.918789</td>\n",
       "    </tr>\n",
       "    <tr>\n",
       "      <th>2013-01-04</th>\n",
       "      <td> 0.429348</td>\n",
       "      <td> 1.774377</td>\n",
       "    </tr>\n",
       "    <tr>\n",
       "      <th>2013-01-05</th>\n",
       "      <td> 0.407218</td>\n",
       "      <td>-3.158361</td>\n",
       "    </tr>\n",
       "    <tr>\n",
       "      <th>2013-01-06</th>\n",
       "      <td> 0.241493</td>\n",
       "      <td> 0.484988</td>\n",
       "    </tr>\n",
       "  </tbody>\n",
       "</table>\n",
       "</div>"
      ],
      "text/plain": [
       "                   A         B\n",
       "2013-01-01  0.653970 -0.431394\n",
       "2013-01-02  0.100715 -0.792675\n",
       "2013-01-03  0.127276  0.918789\n",
       "2013-01-04  0.429348  1.774377\n",
       "2013-01-05  0.407218 -3.158361\n",
       "2013-01-06  0.241493  0.484988"
      ]
     },
     "execution_count": 27,
     "metadata": {},
     "output_type": "execute_result"
    }
   ],
   "source": [
    "df.ix[:,['A','B']]"
   ]
  },
  {
   "cell_type": "markdown",
   "metadata": {},
   "source": [
    "Getting particular columns and particular rows"
   ]
  },
  {
   "cell_type": "code",
   "execution_count": 28,
   "metadata": {
    "collapsed": false
   },
   "outputs": [
    {
     "data": {
      "text/html": [
       "<div style=\"max-height:1000px;max-width:1500px;overflow:auto;\">\n",
       "<table border=\"1\" class=\"dataframe\">\n",
       "  <thead>\n",
       "    <tr style=\"text-align: right;\">\n",
       "      <th></th>\n",
       "      <th>C</th>\n",
       "      <th>A</th>\n",
       "    </tr>\n",
       "  </thead>\n",
       "  <tbody>\n",
       "    <tr>\n",
       "      <th>2013-01-04</th>\n",
       "      <td>-1.444243</td>\n",
       "      <td> 0.429348</td>\n",
       "    </tr>\n",
       "    <tr>\n",
       "      <th>2013-01-05</th>\n",
       "      <td> 0.819417</td>\n",
       "      <td> 0.407218</td>\n",
       "    </tr>\n",
       "    <tr>\n",
       "      <th>2013-01-06</th>\n",
       "      <td> 0.097427</td>\n",
       "      <td> 0.241493</td>\n",
       "    </tr>\n",
       "  </tbody>\n",
       "</table>\n",
       "</div>"
      ],
      "text/plain": [
       "                   C         A\n",
       "2013-01-04 -1.444243  0.429348\n",
       "2013-01-05  0.819417  0.407218\n",
       "2013-01-06  0.097427  0.241493"
      ]
     },
     "execution_count": 28,
     "metadata": {},
     "output_type": "execute_result"
    }
   ],
   "source": [
    "df.ix['20130104':'20130106', ['C', 'A']]"
   ]
  },
  {
   "cell_type": "markdown",
   "metadata": {},
   "source": [
    "Selecting only particular rows by some condition."
   ]
  },
  {
   "cell_type": "code",
   "execution_count": 29,
   "metadata": {
    "collapsed": false
   },
   "outputs": [
    {
     "data": {
      "text/html": [
       "<div style=\"max-height:1000px;max-width:1500px;overflow:auto;\">\n",
       "<table border=\"1\" class=\"dataframe\">\n",
       "  <thead>\n",
       "    <tr style=\"text-align: right;\">\n",
       "      <th></th>\n",
       "      <th>A</th>\n",
       "      <th>B</th>\n",
       "      <th>C</th>\n",
       "      <th>D</th>\n",
       "    </tr>\n",
       "  </thead>\n",
       "  <tbody>\n",
       "    <tr>\n",
       "      <th>2013-01-01</th>\n",
       "      <td> 0.653970</td>\n",
       "      <td>-0.431394</td>\n",
       "      <td> 0.465382</td>\n",
       "      <td> 1.210464</td>\n",
       "    </tr>\n",
       "    <tr>\n",
       "      <th>2013-01-02</th>\n",
       "      <td> 0.100715</td>\n",
       "      <td>-0.792675</td>\n",
       "      <td> 0.019335</td>\n",
       "      <td> 0.740310</td>\n",
       "    </tr>\n",
       "    <tr>\n",
       "      <th>2013-01-03</th>\n",
       "      <td> 0.127276</td>\n",
       "      <td> 0.918789</td>\n",
       "      <td> 0.973470</td>\n",
       "      <td> 0.290542</td>\n",
       "    </tr>\n",
       "    <tr>\n",
       "      <th>2013-01-04</th>\n",
       "      <td> 0.429348</td>\n",
       "      <td> 1.774377</td>\n",
       "      <td>-1.444243</td>\n",
       "      <td> 0.085166</td>\n",
       "    </tr>\n",
       "    <tr>\n",
       "      <th>2013-01-05</th>\n",
       "      <td> 0.407218</td>\n",
       "      <td>-3.158361</td>\n",
       "      <td> 0.819417</td>\n",
       "      <td> 0.229513</td>\n",
       "    </tr>\n",
       "    <tr>\n",
       "      <th>2013-01-06</th>\n",
       "      <td> 0.241493</td>\n",
       "      <td> 0.484988</td>\n",
       "      <td> 0.097427</td>\n",
       "      <td>-0.353847</td>\n",
       "    </tr>\n",
       "  </tbody>\n",
       "</table>\n",
       "</div>"
      ],
      "text/plain": [
       "                   A         B         C         D\n",
       "2013-01-01  0.653970 -0.431394  0.465382  1.210464\n",
       "2013-01-02  0.100715 -0.792675  0.019335  0.740310\n",
       "2013-01-03  0.127276  0.918789  0.973470  0.290542\n",
       "2013-01-04  0.429348  1.774377 -1.444243  0.085166\n",
       "2013-01-05  0.407218 -3.158361  0.819417  0.229513\n",
       "2013-01-06  0.241493  0.484988  0.097427 -0.353847"
      ]
     },
     "execution_count": 29,
     "metadata": {},
     "output_type": "execute_result"
    }
   ],
   "source": [
    "df[df.A > 0]"
   ]
  },
  {
   "cell_type": "markdown",
   "metadata": {},
   "source": [
    "# Versions"
   ]
  },
  {
   "cell_type": "code",
   "execution_count": 30,
   "metadata": {
    "collapsed": false
   },
   "outputs": [
    {
     "data": {
      "application/json": {
       "Software versions": [
        {
         "module": "Python",
         "version": "2.7.10 64bit [GCC 5.2.1 20151010]"
        },
        {
         "module": "IPython",
         "version": "4.0.3"
        },
        {
         "module": "OS",
         "version": "Linux 4.2.0 36 generic x86_64 with Ubuntu 15.10 wily"
        },
        {
         "module": "numpy",
         "version": "1.10.4"
        },
        {
         "module": "scipy",
         "version": "0.14.1"
        },
        {
         "module": "matplotlib",
         "version": "1.4.2"
        }
       ]
      },
      "text/html": [
       "<table><tr><th>Software</th><th>Version</th></tr><tr><td>Python</td><td>2.7.10 64bit [GCC 5.2.1 20151010]</td></tr><tr><td>IPython</td><td>4.0.3</td></tr><tr><td>OS</td><td>Linux 4.2.0 36 generic x86_64 with Ubuntu 15.10 wily</td></tr><tr><td>numpy</td><td>1.10.4</td></tr><tr><td>scipy</td><td>0.14.1</td></tr><tr><td>matplotlib</td><td>1.4.2</td></tr><tr><td colspan='2'>Mon Aug 29 10:46:46 2016 CDT</td></tr></table>"
      ],
      "text/latex": [
       "\\begin{tabular}{|l|l|}\\hline\n",
       "{\\bf Software} & {\\bf Version} \\\\ \\hline\\hline\n",
       "Python & 2.7.10 64bit [GCC 5.2.1 20151010] \\\\ \\hline\n",
       "IPython & 4.0.3 \\\\ \\hline\n",
       "OS & Linux 4.2.0 36 generic x86\\_64 with Ubuntu 15.10 wily \\\\ \\hline\n",
       "numpy & 1.10.4 \\\\ \\hline\n",
       "scipy & 0.14.1 \\\\ \\hline\n",
       "matplotlib & 1.4.2 \\\\ \\hline\n",
       "\\hline \\multicolumn{2}{|l|}{Mon Aug 29 10:46:46 2016 CDT} \\\\ \\hline\n",
       "\\end{tabular}\n"
      ],
      "text/plain": [
       "Software versions\n",
       "Python 2.7.10 64bit [GCC 5.2.1 20151010]\n",
       "IPython 4.0.3\n",
       "OS Linux 4.2.0 36 generic x86_64 with Ubuntu 15.10 wily\n",
       "numpy 1.10.4\n",
       "scipy 0.14.1\n",
       "matplotlib 1.4.2\n",
       "Mon Aug 29 10:46:46 2016 CDT"
      ]
     },
     "execution_count": 30,
     "metadata": {},
     "output_type": "execute_result"
    }
   ],
   "source": [
    "%reload_ext version_information\n",
    "\n",
    "%version_information numpy, scipy, matplotlib"
   ]
  }
 ],
 "metadata": {
  "kernelspec": {
   "display_name": "Python 2",
   "language": "python",
   "name": "python2"
  },
  "language_info": {
   "codemirror_mode": {
    "name": "ipython",
    "version": 2
   },
   "file_extension": ".py",
   "mimetype": "text/x-python",
   "name": "python",
   "nbconvert_exporter": "python",
   "pygments_lexer": "ipython2",
   "version": "2.7.10"
  }
 },
 "nbformat": 4,
 "nbformat_minor": 0
}
