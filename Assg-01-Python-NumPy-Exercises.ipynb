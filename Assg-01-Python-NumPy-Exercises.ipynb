{
 "cells": [
  {
   "cell_type": "markdown",
   "metadata": {},
   "source": [
    "Assignment 01 - Python, NumPy, Matplotlib and Pandas\n",
    "----------------------------\n",
    "\n",
    "**Due: Fri 09/09/2016**\n"
   ]
  },
  {
   "cell_type": "markdown",
   "metadata": {},
   "source": [
    "**Please fill these in before submitting, just in case I accidentally mix up file names while grading**:\n",
    "\n",
    "Name: Joe Student\n",
    "\n",
    "CWID-5: (Last 5 digits of cwid)"
   ]
  },
  {
   "cell_type": "code",
   "execution_count": 1,
   "metadata": {
    "collapsed": false
   },
   "outputs": [],
   "source": [
    "import numpy as np\n",
    "import scipy as sp\n",
    "import matplotlib.pyplot as plt\n",
    "import pandas as pd\n",
    "%matplotlib inline"
   ]
  },
  {
   "cell_type": "markdown",
   "metadata": {},
   "source": [
    "Problem 1: Python Function\n",
    "--------------------------\n",
    "\n",
    "Euclid showed that the greatest common divisor `gcd(m, n)` of two nonnegative integers $m$ and\n",
    "$n$ satisfies the following mathematical (recursive) definition:\n",
    "\n",
    "$$\n",
    "gcd(m, n) = \\begin{cases}\n",
    "    m & \\displaystyle \\text{if} \\quad n = 0 \\\\\n",
    "    gcd(n, m \\; \\text{mod} \\; n) & \\text{if} \\quad n > 0 \\\\\n",
    "\\end{cases}\n",
    "$$\n",
    "\n",
    "Write a Python function, named `gcd`, that implements this mathematical expression to find the\n",
    "greatest common divisor.  Your function should take two parameters as input, `m` and `n`.\n",
    "These parameters are assumed to positive (or 0) integers. The `gcd`\n",
    "function should be a recursive function, it will call itself for cases where $n > 0$  Your \n",
    "function will return a single integer value as its result.\n",
    " \n",
    "\n",
    "Here is an example of using the function, and the correct results you should get for several invocations.\n",
    "\n",
    "    print gcd(108, 192)\n",
    "    >>> 12\n",
    "    print gcd(9, 3)\n",
    "    >>> 3\n",
    "    print gcd(107, 192) # 107 is prime, so...\n",
    "    >>> 1"
   ]
  },
  {
   "cell_type": "code",
   "execution_count": null,
   "metadata": {
    "collapsed": false
   },
   "outputs": [],
   "source": []
  },
  {
   "cell_type": "markdown",
   "metadata": {},
   "source": [
    "Problem 2: NumPy Operations\n",
    "---------------------------\n",
    "\n",
    "For all of the tasks for this problem you are required to use NumPy array operations and library functions exclusively to solve them.  It is\n",
    "incorrect to use any Python loops or if condition statements to solve these tasks.\n",
    "\n",
    "Create a (36,) shaped vector called `v`, containing floating point values $1.0, 2.0, 3.0, ..., 36.0$\n",
    "Using `v` and the `reshape` NymPy function, create arrays called `a` and `b` that are (6,6) two dimensional, and (3, 4, 3) three\n",
    "dimensional views into v."
   ]
  },
  {
   "cell_type": "code",
   "execution_count": null,
   "metadata": {
    "collapsed": false
   },
   "outputs": [],
   "source": []
  },
  {
   "cell_type": "markdown",
   "metadata": {},
   "source": [
    "Using fancy indexing (no loops, must use NumPy functions/operations), change all odd values of your a array to their negative (e.g. 1 should\n",
    "be -1, 3, should be -3, etc, but even values are left unchanged), and assign the results back into a.  You might want to, for example,\n",
    "use the modulus operator (%) to  create an index mask to perform this using fancy indexing."
   ]
  },
  {
   "cell_type": "code",
   "execution_count": null,
   "metadata": {
    "collapsed": false
   },
   "outputs": [],
   "source": []
  },
  {
   "cell_type": "markdown",
   "metadata": {},
   "source": [
    "Now multiply all values in array `a` where $a >= 0$ by $2.5$ and assign the results back into a.\n",
    "\n",
    "After performing the previous 2 steps on a, the values in a should now be:\n",
    "\n",
    "    print a\n",
    "    >>>\n",
    "    [[ -1.   5.  -3.  10.  -5.  15.]\n",
    "     [ -7.  20.  -9.  25. -11.  30.]\n",
    "     [-13.  35. -15.  40. -17.  45.]\n",
    "     [-19.  50. -21.  55. -23.  60.]\n",
    "     [-25.  65. -27.  70. -29.  75.]\n",
    "     [-31.  80. -33.  85. -35.  90.]] \n",
    "     \n",
    "    print a.shape\n",
    "    >>> (6, 6)"
   ]
  },
  {
   "cell_type": "code",
   "execution_count": null,
   "metadata": {
    "collapsed": false
   },
   "outputs": [],
   "source": []
  },
  {
   "cell_type": "markdown",
   "metadata": {},
   "source": [
    "Create a new array, called, c, of random floating point values in the range $0.0 .. 1.0$.  The c array should have 25 rows and 8 columns.\n",
    "Create a vector called row_min that contains the minimum value for each of the 25 rows (this implies the shape of this vector will be (25,))\n",
    "Create a vector called col_max that contains the maximum value for each of the 8 columns (col_max will be a vector of shape (8,))"
   ]
  },
  {
   "cell_type": "code",
   "execution_count": null,
   "metadata": {
    "collapsed": false
   },
   "outputs": [],
   "source": []
  },
  {
   "cell_type": "markdown",
   "metadata": {},
   "source": [
    "Problem 3: Vectorized Functions and Plotting\n",
    "--------------------------------------------\n",
    "\n",
    "The following equations are known as the *deltoid* curve:\n",
    "\n",
    "\n",
    "$x = 2 \\; \\text{cos} \\; \\theta + \\text{cos} \\; 2 \\theta$\n",
    "\n",
    "$y = 2 \\; \\text{sin} \\; \\theta - \\text{sin} \\; 2 \\theta$\n",
    "\n",
    "Where $0 \\le \\theta \\le 2 \\pi$.  Take a set of values of $\\theta$ ranging from $0$ to $2\\pi$\n",
    "and calculate $x$ and $y$ from each of the equations above.  Then plot $y$ as a function of $x$.\n"
   ]
  },
  {
   "cell_type": "code",
   "execution_count": null,
   "metadata": {
    "collapsed": false
   },
   "outputs": [],
   "source": []
  },
  {
   "cell_type": "markdown",
   "metadata": {},
   "source": [
    "Problem 4: Pandas\n",
    "-----------------\n",
    "\n",
    "There is a file in your repository directory, under the data subdirectory,\n",
    "called `assg-01-data.csv` formatted using comma separated values.  This file\n",
    "contains 15 lines of sales data.  Read the data into a `Pandas` data frame simply named `d`, and display the \n",
    "first 5 lines of data using the `head()`\n",
    "member function.  Display the last 5 lines of the data using the `tail()` member function."
   ]
  },
  {
   "cell_type": "code",
   "execution_count": null,
   "metadata": {
    "collapsed": false
   },
   "outputs": [],
   "source": []
  },
  {
   "cell_type": "markdown",
   "metadata": {},
   "source": [
    "As you should be able to see, the data consists of some customer sales' information, along with the customer address.  \n",
    "The data contains sales information for 3 months.\n",
    "\n",
    "In the next cell, create a new column in your `Pandas` data frame named `total`.  This column should contain the total\n",
    "sales for each row for the 3 months of data present."
   ]
  },
  {
   "cell_type": "code",
   "execution_count": null,
   "metadata": {
    "collapsed": false
   },
   "outputs": [],
   "source": []
  },
  {
   "cell_type": "markdown",
   "metadata": {},
   "source": [
    "Using pandas data frame operations only, find out the following information:\n",
    "\n",
    "- The total sum of sales in the month of Jan\n",
    "- The minimum sales amount in the month of Feb\n",
    "- The average (mean) sales for the month of Mar"
   ]
  },
  {
   "cell_type": "code",
   "execution_count": null,
   "metadata": {
    "collapsed": false
   },
   "outputs": [],
   "source": []
  },
  {
   "cell_type": "markdown",
   "metadata": {},
   "source": [
    "In the next cell, create a dataframe called `d2` that only contains rows of data in d that don't have any missing (`NaN`) values."
   ]
  },
  {
   "cell_type": "code",
   "execution_count": null,
   "metadata": {
    "collapsed": false
   },
   "outputs": [],
   "source": []
  },
  {
   "cell_type": "markdown",
   "metadata": {},
   "source": [
    "Determine which rows in `d` contain missing data.  There are several ways to do this using `Pandas` operations.  You can find\n",
    "the missing rows in the differences between d and d2.  Or you can use the `isnull()` and `any()` member functions in combination\n",
    "to create an index filter of those indexes that have any value that is missing.  Do this in the next cell, and remember to only\n",
    "use valid `Pandas` operations to find out the answer."
   ]
  },
  {
   "cell_type": "code",
   "execution_count": null,
   "metadata": {
    "collapsed": false
   },
   "outputs": [],
   "source": []
  }
 ],
 "metadata": {
  "kernelspec": {
   "display_name": "Python 2",
   "language": "python",
   "name": "python2"
  },
  "language_info": {
   "codemirror_mode": {
    "name": "ipython",
    "version": 2
   },
   "file_extension": ".py",
   "mimetype": "text/x-python",
   "name": "python",
   "nbconvert_exporter": "python",
   "pygments_lexer": "ipython2",
   "version": "2.7.10"
  }
 },
 "nbformat": 4,
 "nbformat_minor": 0
}
